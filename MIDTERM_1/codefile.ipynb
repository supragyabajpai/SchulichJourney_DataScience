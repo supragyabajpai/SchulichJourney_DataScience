{
 "cells": [
  {
   "cell_type": "code",
   "execution_count": 1,
   "metadata": {},
   "outputs": [],
   "source": [
    "#importing all the necessary libraries\n",
    "import pandas as pd\n",
    "import matplotlib.pyplot as plt\n",
    "import seaborn as sns\n",
    "from scipy import stats"
   ]
  },
  {
   "cell_type": "code",
   "execution_count": 2,
   "metadata": {},
   "outputs": [],
   "source": [
    "#importing dataset\n",
    "df = pd.read_csv(\"https://raw.githubusercontent.com/supragyabajpai/SchulichJourney_DataScience/main/midterm_data.csv\")"
   ]
  },
  {
   "cell_type": "code",
   "execution_count": 3,
   "metadata": {},
   "outputs": [
    {
     "data": {
      "text/html": [
       "<div>\n",
       "<style scoped>\n",
       "    .dataframe tbody tr th:only-of-type {\n",
       "        vertical-align: middle;\n",
       "    }\n",
       "\n",
       "    .dataframe tbody tr th {\n",
       "        vertical-align: top;\n",
       "    }\n",
       "\n",
       "    .dataframe thead th {\n",
       "        text-align: right;\n",
       "    }\n",
       "</style>\n",
       "<table border=\"1\" class=\"dataframe\">\n",
       "  <thead>\n",
       "    <tr style=\"text-align: right;\">\n",
       "      <th></th>\n",
       "      <th>userID</th>\n",
       "      <th>age</th>\n",
       "      <th>sessions</th>\n",
       "      <th>time_spent</th>\n",
       "      <th>pages_visited</th>\n",
       "      <th>cart_items</th>\n",
       "      <th>cart_value</th>\n",
       "      <th>checkout_status</th>\n",
       "      <th>device</th>\n",
       "      <th>location</th>\n",
       "    </tr>\n",
       "  </thead>\n",
       "  <tbody>\n",
       "    <tr>\n",
       "      <th>0</th>\n",
       "      <td>1</td>\n",
       "      <td>62</td>\n",
       "      <td>3</td>\n",
       "      <td>13.295129</td>\n",
       "      <td>2</td>\n",
       "      <td>20</td>\n",
       "      <td>199.21</td>\n",
       "      <td>0</td>\n",
       "      <td>Desktop</td>\n",
       "      <td>Location 1</td>\n",
       "    </tr>\n",
       "    <tr>\n",
       "      <th>1</th>\n",
       "      <td>2</td>\n",
       "      <td>65</td>\n",
       "      <td>2</td>\n",
       "      <td>21.686405</td>\n",
       "      <td>3</td>\n",
       "      <td>21</td>\n",
       "      <td>294.82</td>\n",
       "      <td>0</td>\n",
       "      <td>Desktop</td>\n",
       "      <td>Location 3</td>\n",
       "    </tr>\n",
       "    <tr>\n",
       "      <th>2</th>\n",
       "      <td>3</td>\n",
       "      <td>18</td>\n",
       "      <td>7</td>\n",
       "      <td>17.135220</td>\n",
       "      <td>4</td>\n",
       "      <td>23</td>\n",
       "      <td>240.87</td>\n",
       "      <td>0</td>\n",
       "      <td>Desktop</td>\n",
       "      <td>Location 4</td>\n",
       "    </tr>\n",
       "    <tr>\n",
       "      <th>3</th>\n",
       "      <td>4</td>\n",
       "      <td>21</td>\n",
       "      <td>9</td>\n",
       "      <td>29.589311</td>\n",
       "      <td>8</td>\n",
       "      <td>16</td>\n",
       "      <td>183.78</td>\n",
       "      <td>1</td>\n",
       "      <td>Desktop</td>\n",
       "      <td>Location 2</td>\n",
       "    </tr>\n",
       "    <tr>\n",
       "      <th>4</th>\n",
       "      <td>5</td>\n",
       "      <td>21</td>\n",
       "      <td>3</td>\n",
       "      <td>25.948584</td>\n",
       "      <td>4</td>\n",
       "      <td>10</td>\n",
       "      <td>59.51</td>\n",
       "      <td>1</td>\n",
       "      <td>Tablet</td>\n",
       "      <td>Location 4</td>\n",
       "    </tr>\n",
       "  </tbody>\n",
       "</table>\n",
       "</div>"
      ],
      "text/plain": [
       "   userID  age  sessions  time_spent  pages_visited  cart_items  cart_value   \n",
       "0       1   62         3   13.295129              2          20      199.21  \\\n",
       "1       2   65         2   21.686405              3          21      294.82   \n",
       "2       3   18         7   17.135220              4          23      240.87   \n",
       "3       4   21         9   29.589311              8          16      183.78   \n",
       "4       5   21         3   25.948584              4          10       59.51   \n",
       "\n",
       "   checkout_status   device    location  \n",
       "0                0  Desktop  Location 1  \n",
       "1                0  Desktop  Location 3  \n",
       "2                0  Desktop  Location 4  \n",
       "3                1  Desktop  Location 2  \n",
       "4                1   Tablet  Location 4  "
      ]
     },
     "execution_count": 3,
     "metadata": {},
     "output_type": "execute_result"
    }
   ],
   "source": [
    "df.head() # taking an overview of the data"
   ]
  },
  {
   "cell_type": "code",
   "execution_count": 4,
   "metadata": {},
   "outputs": [
    {
     "name": "stdout",
     "output_type": "stream",
     "text": [
      "<class 'pandas.core.frame.DataFrame'>\n",
      "RangeIndex: 5000 entries, 0 to 4999\n",
      "Data columns (total 10 columns):\n",
      " #   Column           Non-Null Count  Dtype  \n",
      "---  ------           --------------  -----  \n",
      " 0   userID           5000 non-null   int64  \n",
      " 1   age              5000 non-null   int64  \n",
      " 2   sessions         5000 non-null   int64  \n",
      " 3   time_spent       5000 non-null   float64\n",
      " 4   pages_visited    5000 non-null   int64  \n",
      " 5   cart_items       5000 non-null   int64  \n",
      " 6   cart_value       5000 non-null   float64\n",
      " 7   checkout_status  5000 non-null   int64  \n",
      " 8   device           4900 non-null   object \n",
      " 9   location         4970 non-null   object \n",
      "dtypes: float64(2), int64(6), object(2)\n",
      "memory usage: 390.8+ KB\n"
     ]
    }
   ],
   "source": [
    "df.info()"
   ]
  },
  {
   "attachments": {},
   "cell_type": "markdown",
   "metadata": {},
   "source": [
    "From the above data we can conclude that: The percentage of missing values in each column:\n",
    "\n",
    "    -Column \"userID\": 0% missing values\n",
    "    -Column \"age\": 0% missing values\n",
    "    -Column \"sessions\": 0% missing values\n",
    "    -Column \"time_spent\": 0% missing values\n",
    "    -Column \"pages_visited\": 0% missing values\n",
    "    -Column \"cart_items\": 0% missing values\n",
    "    -Column \"cart_value\": 0% missing values\n",
    "    -Column \"checkout_status\": 0% missing values\n",
    "    -Column \"device\": 2% missing values\n",
    "    -Column \"location\": 0.6% missing values"
   ]
  },
  {
   "cell_type": "code",
   "execution_count": 5,
   "metadata": {},
   "outputs": [
    {
     "data": {
      "text/html": [
       "<div>\n",
       "<style scoped>\n",
       "    .dataframe tbody tr th:only-of-type {\n",
       "        vertical-align: middle;\n",
       "    }\n",
       "\n",
       "    .dataframe tbody tr th {\n",
       "        vertical-align: top;\n",
       "    }\n",
       "\n",
       "    .dataframe thead th {\n",
       "        text-align: right;\n",
       "    }\n",
       "</style>\n",
       "<table border=\"1\" class=\"dataframe\">\n",
       "  <thead>\n",
       "    <tr style=\"text-align: right;\">\n",
       "      <th></th>\n",
       "      <th>userID</th>\n",
       "      <th>age</th>\n",
       "      <th>sessions</th>\n",
       "      <th>time_spent</th>\n",
       "      <th>pages_visited</th>\n",
       "      <th>cart_items</th>\n",
       "      <th>cart_value</th>\n",
       "      <th>checkout_status</th>\n",
       "      <th>device</th>\n",
       "      <th>location</th>\n",
       "    </tr>\n",
       "  </thead>\n",
       "  <tbody>\n",
       "    <tr>\n",
       "      <th>count</th>\n",
       "      <td>5000.000000</td>\n",
       "      <td>5000.000000</td>\n",
       "      <td>5000.000000</td>\n",
       "      <td>5000.000000</td>\n",
       "      <td>5000.000000</td>\n",
       "      <td>5000.000000</td>\n",
       "      <td>5000.000000</td>\n",
       "      <td>5000.000000</td>\n",
       "      <td>4900</td>\n",
       "      <td>4970</td>\n",
       "    </tr>\n",
       "    <tr>\n",
       "      <th>unique</th>\n",
       "      <td>NaN</td>\n",
       "      <td>NaN</td>\n",
       "      <td>NaN</td>\n",
       "      <td>NaN</td>\n",
       "      <td>NaN</td>\n",
       "      <td>NaN</td>\n",
       "      <td>NaN</td>\n",
       "      <td>NaN</td>\n",
       "      <td>3</td>\n",
       "      <td>5</td>\n",
       "    </tr>\n",
       "    <tr>\n",
       "      <th>top</th>\n",
       "      <td>NaN</td>\n",
       "      <td>NaN</td>\n",
       "      <td>NaN</td>\n",
       "      <td>NaN</td>\n",
       "      <td>NaN</td>\n",
       "      <td>NaN</td>\n",
       "      <td>NaN</td>\n",
       "      <td>NaN</td>\n",
       "      <td>Desktop</td>\n",
       "      <td>Location 4</td>\n",
       "    </tr>\n",
       "    <tr>\n",
       "      <th>freq</th>\n",
       "      <td>NaN</td>\n",
       "      <td>NaN</td>\n",
       "      <td>NaN</td>\n",
       "      <td>NaN</td>\n",
       "      <td>NaN</td>\n",
       "      <td>NaN</td>\n",
       "      <td>NaN</td>\n",
       "      <td>NaN</td>\n",
       "      <td>2538</td>\n",
       "      <td>1056</td>\n",
       "    </tr>\n",
       "    <tr>\n",
       "      <th>mean</th>\n",
       "      <td>2500.500000</td>\n",
       "      <td>41.538200</td>\n",
       "      <td>5.027200</td>\n",
       "      <td>25.158496</td>\n",
       "      <td>5.774400</td>\n",
       "      <td>14.966400</td>\n",
       "      <td>149.443146</td>\n",
       "      <td>0.272400</td>\n",
       "      <td>NaN</td>\n",
       "      <td>NaN</td>\n",
       "    </tr>\n",
       "    <tr>\n",
       "      <th>std</th>\n",
       "      <td>1443.520003</td>\n",
       "      <td>14.042734</td>\n",
       "      <td>2.594958</td>\n",
       "      <td>9.825536</td>\n",
       "      <td>2.570842</td>\n",
       "      <td>6.046336</td>\n",
       "      <td>68.711683</td>\n",
       "      <td>0.445239</td>\n",
       "      <td>NaN</td>\n",
       "      <td>NaN</td>\n",
       "    </tr>\n",
       "    <tr>\n",
       "      <th>min</th>\n",
       "      <td>1.000000</td>\n",
       "      <td>18.000000</td>\n",
       "      <td>1.000000</td>\n",
       "      <td>1.000000</td>\n",
       "      <td>1.000000</td>\n",
       "      <td>5.000000</td>\n",
       "      <td>20.410000</td>\n",
       "      <td>0.000000</td>\n",
       "      <td>NaN</td>\n",
       "      <td>NaN</td>\n",
       "    </tr>\n",
       "    <tr>\n",
       "      <th>25%</th>\n",
       "      <td>1250.750000</td>\n",
       "      <td>29.000000</td>\n",
       "      <td>3.000000</td>\n",
       "      <td>18.268862</td>\n",
       "      <td>4.000000</td>\n",
       "      <td>10.000000</td>\n",
       "      <td>92.482500</td>\n",
       "      <td>0.000000</td>\n",
       "      <td>NaN</td>\n",
       "      <td>NaN</td>\n",
       "    </tr>\n",
       "    <tr>\n",
       "      <th>50%</th>\n",
       "      <td>2500.500000</td>\n",
       "      <td>42.000000</td>\n",
       "      <td>5.000000</td>\n",
       "      <td>25.035361</td>\n",
       "      <td>6.000000</td>\n",
       "      <td>15.000000</td>\n",
       "      <td>143.440000</td>\n",
       "      <td>0.000000</td>\n",
       "      <td>NaN</td>\n",
       "      <td>NaN</td>\n",
       "    </tr>\n",
       "    <tr>\n",
       "      <th>75%</th>\n",
       "      <td>3750.250000</td>\n",
       "      <td>54.000000</td>\n",
       "      <td>7.000000</td>\n",
       "      <td>32.000361</td>\n",
       "      <td>8.000000</td>\n",
       "      <td>20.000000</td>\n",
       "      <td>198.380000</td>\n",
       "      <td>1.000000</td>\n",
       "      <td>NaN</td>\n",
       "      <td>NaN</td>\n",
       "    </tr>\n",
       "    <tr>\n",
       "      <th>max</th>\n",
       "      <td>5000.000000</td>\n",
       "      <td>65.000000</td>\n",
       "      <td>9.000000</td>\n",
       "      <td>90.000000</td>\n",
       "      <td>12.000000</td>\n",
       "      <td>25.000000</td>\n",
       "      <td>427.400000</td>\n",
       "      <td>1.000000</td>\n",
       "      <td>NaN</td>\n",
       "      <td>NaN</td>\n",
       "    </tr>\n",
       "  </tbody>\n",
       "</table>\n",
       "</div>"
      ],
      "text/plain": [
       "             userID          age     sessions   time_spent  pages_visited   \n",
       "count   5000.000000  5000.000000  5000.000000  5000.000000    5000.000000  \\\n",
       "unique          NaN          NaN          NaN          NaN            NaN   \n",
       "top             NaN          NaN          NaN          NaN            NaN   \n",
       "freq            NaN          NaN          NaN          NaN            NaN   \n",
       "mean    2500.500000    41.538200     5.027200    25.158496       5.774400   \n",
       "std     1443.520003    14.042734     2.594958     9.825536       2.570842   \n",
       "min        1.000000    18.000000     1.000000     1.000000       1.000000   \n",
       "25%     1250.750000    29.000000     3.000000    18.268862       4.000000   \n",
       "50%     2500.500000    42.000000     5.000000    25.035361       6.000000   \n",
       "75%     3750.250000    54.000000     7.000000    32.000361       8.000000   \n",
       "max     5000.000000    65.000000     9.000000    90.000000      12.000000   \n",
       "\n",
       "         cart_items   cart_value  checkout_status   device    location  \n",
       "count   5000.000000  5000.000000      5000.000000     4900        4970  \n",
       "unique          NaN          NaN              NaN        3           5  \n",
       "top             NaN          NaN              NaN  Desktop  Location 4  \n",
       "freq            NaN          NaN              NaN     2538        1056  \n",
       "mean      14.966400   149.443146         0.272400      NaN         NaN  \n",
       "std        6.046336    68.711683         0.445239      NaN         NaN  \n",
       "min        5.000000    20.410000         0.000000      NaN         NaN  \n",
       "25%       10.000000    92.482500         0.000000      NaN         NaN  \n",
       "50%       15.000000   143.440000         0.000000      NaN         NaN  \n",
       "75%       20.000000   198.380000         1.000000      NaN         NaN  \n",
       "max       25.000000   427.400000         1.000000      NaN         NaN  "
      ]
     },
     "execution_count": 5,
     "metadata": {},
     "output_type": "execute_result"
    }
   ],
   "source": [
    "# taking an overview of the data\n",
    "df.describe(include=\"all\")"
   ]
  },
  {
   "attachments": {},
   "cell_type": "markdown",
   "metadata": {},
   "source": [
    "    -User Age: The average age of the users is 41.54 years, with a median age of 42 years.\n",
    "    -Sessions: Users have an average of 5.03 sessions, with a median of 5 sessions.\n",
    "    -Time Spent: Users spend an average of approximately 25.16 units of time, with a median of 25.04 units.\n",
    "    -Pages Visited: On average, users visit around 5.77 pages, with a median of 6 pages.\n",
    "    -Cart Items: Users have an average of 14.97 items in their cart, with a median of 15 items.\n",
    "    -Cart Value: The average cart value is approximately 149.44 units, with a median of 143.44 units.\n",
    "    -Checkout Status: About 27.24% of the users have a checkout status of 1 (successful checkout)."
   ]
  },
  {
   "cell_type": "code",
   "execution_count": 6,
   "metadata": {},
   "outputs": [],
   "source": [
    "df.dropna(inplace=True)"
   ]
  },
  {
   "cell_type": "code",
   "execution_count": 7,
   "metadata": {},
   "outputs": [],
   "source": [
    "df.drop_duplicates(inplace=True)\n"
   ]
  },
  {
   "cell_type": "code",
   "execution_count": 8,
   "metadata": {},
   "outputs": [
    {
     "name": "stdout",
     "output_type": "stream",
     "text": [
      "<class 'pandas.core.frame.DataFrame'>\n",
      "Index: 4871 entries, 0 to 4999\n",
      "Data columns (total 10 columns):\n",
      " #   Column           Non-Null Count  Dtype  \n",
      "---  ------           --------------  -----  \n",
      " 0   userID           4871 non-null   int64  \n",
      " 1   age              4871 non-null   int64  \n",
      " 2   sessions         4871 non-null   int64  \n",
      " 3   time_spent       4871 non-null   float64\n",
      " 4   pages_visited    4871 non-null   int64  \n",
      " 5   cart_items       4871 non-null   int64  \n",
      " 6   cart_value       4871 non-null   float64\n",
      " 7   checkout_status  4871 non-null   int64  \n",
      " 8   device           4871 non-null   object \n",
      " 9   location         4871 non-null   object \n",
      "dtypes: float64(2), int64(6), object(2)\n",
      "memory usage: 418.6+ KB\n"
     ]
    }
   ],
   "source": [
    "df.info()"
   ]
  },
  {
   "attachments": {},
   "cell_type": "markdown",
   "metadata": {},
   "source": [
    "Lets do some visualization of the data "
   ]
  },
  {
   "cell_type": "code",
   "execution_count": 9,
   "metadata": {},
   "outputs": [
    {
     "data": {
      "image/png": "[encoded data removed]",
      "text/plain": [
       "<Figure size 800x600 with 1 Axes>"
      ]
     },
     "metadata": {},
     "output_type": "display_data"
    }
   ],
   "source": [
    "# Visualize the 'age' column using a histogram\n",
    "plt.figure(figsize=(8, 6))\n",
    "plt.hist(df['age'], bins=10, edgecolor='black')\n",
    "plt.xlabel('Age')\n",
    "plt.ylabel('Frequency')\n",
    "plt.title('Distribution of Age')\n",
    "plt.show()"
   ]
  },
  {
   "cell_type": "code",
   "execution_count": 10,
   "metadata": {},
   "outputs": [
    {
     "data": {
      "image/png": "[encoded data removed]",
      "text/plain": [
       "<Figure size 800x600 with 1 Axes>"
      ]
     },
     "metadata": {},
     "output_type": "display_data"
    }
   ],
   "source": [
    "# Visualize the 'time_spent' column using a box plot\n",
    "plt.figure(figsize=(8, 6))\n",
    "sns.boxplot(x=df['time_spent'])\n",
    "plt.xlabel('Time Spent')\n",
    "plt.title('Box Plot of Time Spent')\n",
    "plt.show()"
   ]
  },
  {
   "attachments": {},
   "cell_type": "markdown",
   "metadata": {},
   "source": [
    "WE see outliers so we will handel it now"
   ]
  },
  {
   "cell_type": "code",
   "execution_count": 11,
   "metadata": {},
   "outputs": [
    {
     "data": {
      "text/html": [
       "<div>\n",
       "<style scoped>\n",
       "    .dataframe tbody tr th:only-of-type {\n",
       "        vertical-align: middle;\n",
       "    }\n",
       "\n",
       "    .dataframe tbody tr th {\n",
       "        vertical-align: top;\n",
       "    }\n",
       "\n",
       "    .dataframe thead th {\n",
       "        text-align: right;\n",
       "    }\n",
       "</style>\n",
       "<table border=\"1\" class=\"dataframe\">\n",
       "  <thead>\n",
       "    <tr style=\"text-align: right;\">\n",
       "      <th></th>\n",
       "      <th>userID</th>\n",
       "      <th>age</th>\n",
       "      <th>sessions</th>\n",
       "      <th>time_spent</th>\n",
       "      <th>pages_visited</th>\n",
       "      <th>cart_items</th>\n",
       "      <th>cart_value</th>\n",
       "      <th>checkout_status</th>\n",
       "      <th>device</th>\n",
       "      <th>location</th>\n",
       "    </tr>\n",
       "  </thead>\n",
       "  <tbody>\n",
       "    <tr>\n",
       "      <th>284</th>\n",
       "      <td>285</td>\n",
       "      <td>47</td>\n",
       "      <td>5</td>\n",
       "      <td>90.0</td>\n",
       "      <td>12</td>\n",
       "      <td>14</td>\n",
       "      <td>148.45</td>\n",
       "      <td>0</td>\n",
       "      <td>Desktop</td>\n",
       "      <td>Location 4</td>\n",
       "    </tr>\n",
       "    <tr>\n",
       "      <th>2494</th>\n",
       "      <td>2495</td>\n",
       "      <td>28</td>\n",
       "      <td>2</td>\n",
       "      <td>90.0</td>\n",
       "      <td>12</td>\n",
       "      <td>18</td>\n",
       "      <td>151.35</td>\n",
       "      <td>0</td>\n",
       "      <td>Desktop</td>\n",
       "      <td>Location 1</td>\n",
       "    </tr>\n",
       "    <tr>\n",
       "      <th>2833</th>\n",
       "      <td>2834</td>\n",
       "      <td>30</td>\n",
       "      <td>8</td>\n",
       "      <td>90.0</td>\n",
       "      <td>12</td>\n",
       "      <td>7</td>\n",
       "      <td>88.32</td>\n",
       "      <td>0</td>\n",
       "      <td>Desktop</td>\n",
       "      <td>Location 1</td>\n",
       "    </tr>\n",
       "    <tr>\n",
       "      <th>3957</th>\n",
       "      <td>3958</td>\n",
       "      <td>19</td>\n",
       "      <td>1</td>\n",
       "      <td>90.0</td>\n",
       "      <td>12</td>\n",
       "      <td>20</td>\n",
       "      <td>228.70</td>\n",
       "      <td>0</td>\n",
       "      <td>Desktop</td>\n",
       "      <td>Location 4</td>\n",
       "    </tr>\n",
       "  </tbody>\n",
       "</table>\n",
       "</div>"
      ],
      "text/plain": [
       "      userID  age  sessions  time_spent  pages_visited  cart_items   \n",
       "284      285   47         5        90.0             12          14  \\\n",
       "2494    2495   28         2        90.0             12          18   \n",
       "2833    2834   30         8        90.0             12           7   \n",
       "3957    3958   19         1        90.0             12          20   \n",
       "\n",
       "      cart_value  checkout_status   device    location  \n",
       "284       148.45                0  Desktop  Location 4  \n",
       "2494      151.35                0  Desktop  Location 1  \n",
       "2833       88.32                0  Desktop  Location 1  \n",
       "3957      228.70                0  Desktop  Location 4  "
      ]
     },
     "execution_count": 11,
     "metadata": {},
     "output_type": "execute_result"
    }
   ],
   "source": [
    "df[df['time_spent']>80] "
   ]
  },
  {
   "cell_type": "code",
   "execution_count": 12,
   "metadata": {},
   "outputs": [],
   "source": [
    "df.drop([284,2494,2833,3957],axis=0,inplace=True)"
   ]
  },
  {
   "cell_type": "code",
   "execution_count": 13,
   "metadata": {},
   "outputs": [
    {
     "data": {
      "image/png": "[encoded data removed]",
      "text/plain": [
       "<Figure size 800x600 with 1 Axes>"
      ]
     },
     "metadata": {},
     "output_type": "display_data"
    }
   ],
   "source": [
    "# Visualize the 'time_spent' column using a box plot\n",
    "plt.figure(figsize=(8, 6))\n",
    "sns.boxplot(x=df['time_spent'])\n",
    "plt.xlabel('Time Spent')\n",
    "plt.title('Box Plot of Time Spent')\n",
    "plt.show()"
   ]
  },
  {
   "cell_type": "code",
   "execution_count": 14,
   "metadata": {},
   "outputs": [
    {
     "data": {
      "image/png": "[encoded data removed]",
      "text/plain": [
       "<Figure size 800x600 with 1 Axes>"
      ]
     },
     "metadata": {},
     "output_type": "display_data"
    }
   ],
   "source": [
    "# Visualize the 'pages_visited' column using a bar plot\n",
    "plt.figure(figsize=(8, 6))\n",
    "sns.countplot(x=df['pages_visited'])\n",
    "plt.xlabel('Pages Visited')\n",
    "plt.ylabel('Count')\n",
    "plt.title('Number of Pages Visited')\n",
    "plt.show()"
   ]
  },
  {
   "cell_type": "code",
   "execution_count": 15,
   "metadata": {},
   "outputs": [
    {
     "data": {
      "image/png": "[encoded data removed]",
      "text/plain": [
       "<Figure size 800x600 with 1 Axes>"
      ]
     },
     "metadata": {},
     "output_type": "display_data"
    }
   ],
   "source": [
    "# Visualize the 'cart_items' column using a scatter plot\n",
    "plt.figure(figsize=(8, 6))\n",
    "plt.scatter(df['cart_items'], df['cart_value'])\n",
    "plt.xlabel('Cart Items')\n",
    "plt.ylabel('Cart Value')\n",
    "plt.title('Cart Items vs Cart Value')\n",
    "plt.show()"
   ]
  },
  {
   "cell_type": "code",
   "execution_count": 16,
   "metadata": {},
   "outputs": [
    {
     "data": {
      "image/png": "[encoded data removed]",
      "text/plain": [
       "<Figure size 800x600 with 1 Axes>"
      ]
     },
     "metadata": {},
     "output_type": "display_data"
    }
   ],
   "source": [
    "# Visualize the 'checkout_status' column using a pie chart\n",
    "plt.figure(figsize=(8, 6))\n",
    "checkout_labels = ['Not Checked Out', 'Checked Out']\n",
    "checkout_counts = df['checkout_status'].value_counts()\n",
    "plt.pie(checkout_counts, labels=checkout_labels, autopct='%1.1f%%')\n",
    "plt.title('Checkout Status')\n",
    "plt.show()"
   ]
  },
  {
   "cell_type": "code",
   "execution_count": 17,
   "metadata": {},
   "outputs": [
    {
     "data": {
      "image/png": "[encoded data removed]",
      "text/plain": [
       "<Figure size 800x600 with 1 Axes>"
      ]
     },
     "metadata": {},
     "output_type": "display_data"
    }
   ],
   "source": [
    "# Visualize the 'device' column using a bar plot\n",
    "plt.figure(figsize=(8, 6))\n",
    "sns.countplot(x=df['device'])\n",
    "plt.xlabel('Device')\n",
    "plt.ylabel('Count')\n",
    "plt.title('Device Usage')\n",
    "plt.show()"
   ]
  },
  {
   "cell_type": "code",
   "execution_count": 18,
   "metadata": {},
   "outputs": [
    {
     "data": {
      "image/png": "[encoded data removed]",
      "text/plain": [
       "<Figure size 1000x600 with 1 Axes>"
      ]
     },
     "metadata": {},
     "output_type": "display_data"
    }
   ],
   "source": [
    "# Visualize the 'location' column using a bar plot\n",
    "plt.figure(figsize=(10, 6))\n",
    "sns.countplot(x=df['location'])\n",
    "plt.xlabel('Location')\n",
    "plt.ylabel('Count')\n",
    "plt.title('User Locations')\n",
    "plt.show()"
   ]
  },
  {
   "attachments": {},
   "cell_type": "markdown",
   "metadata": {},
   "source": [
    "Apart from time spent the entire data set seems to be normally distributed"
   ]
  },
  {
   "attachments": {},
   "cell_type": "markdown",
   "metadata": {},
   "source": [
    "Let's perform some descriptive analysis to measures things such as average time spent, pages visited, cart value. By comparing these statistics between the two groups, we can try identifing any notable differences."
   ]
  },
  {
   "cell_type": "code",
   "execution_count": 19,
   "metadata": {},
   "outputs": [
    {
     "name": "stdout",
     "output_type": "stream",
     "text": [
      "Behavior and Characteristics of Users who completed checkout:Average time spent: 31.32 minutes\n",
      "Behavior and Characteristics of Users who did not complete checkout:Average time spent: 22.78 minutes\n"
     ]
    }
   ],
   "source": [
    "avg_time_spent_checkout = df[df['checkout_status'] == 1]['time_spent'].mean()\n",
    "avg_time_spent_no_checkout = df[df['checkout_status'] == 0]['time_spent'].mean()\n",
    "print(\"Behavior and Characteristics of Users who completed checkout:Average time spent: {:.2f} minutes\".format(avg_time_spent_checkout))\n",
    "print(\"Behavior and Characteristics of Users who did not complete checkout:Average time spent: {:.2f} minutes\".format(avg_time_spent_no_checkout))"
   ]
  },
  {
   "attachments": {},
   "cell_type": "markdown",
   "metadata": {},
   "source": [
    "From this we can conclude :\n",
    "\n",
    "1. Users who completed checkout: Average time spent - 31.32 minutes, indicating higher engagement and thorough exploration.\n",
    "2. Users who did not complete checkout: Average time spent - 22.78 minutes, suggesting potential obstacles or loss of interest during the checkout process."
   ]
  },
  {
   "cell_type": "code",
   "execution_count": 20,
   "metadata": {},
   "outputs": [
    {
     "name": "stdout",
     "output_type": "stream",
     "text": [
      "Behavior and Characteristics of Users who completed checkout:Average pages visited: 7.29\n",
      "Behavior and Characteristics of Users who did not complete checkout:Average pages visited: 5.20\n"
     ]
    }
   ],
   "source": [
    "avg_pages_visited_checkout = df[df['checkout_status'] == 1]['pages_visited'].mean()\n",
    "avg_pages_visited_no_checkout = df[df['checkout_status'] == 0]['pages_visited'].mean()\n",
    "print(\"Behavior and Characteristics of Users who completed checkout:Average pages visited: {:.2f}\".format(avg_pages_visited_checkout))\n",
    "print(\"Behavior and Characteristics of Users who did not complete checkout:Average pages visited: {:.2f}\".format(avg_pages_visited_no_checkout))\n"
   ]
  },
  {
   "attachments": {},
   "cell_type": "markdown",
   "metadata": {},
   "source": [
    "From this we can conclude :\n",
    "\n",
    "1. Users who completed checkout: Average pages visited - 7.29, indicating thorough exploration and active information-seeking.\n",
    "2. Users who did not complete checkout: Average pages visited - 5.20, suggesting lower engagement or potential difficulties during browsing."
   ]
  },
  {
   "cell_type": "code",
   "execution_count": 21,
   "metadata": {},
   "outputs": [
    {
     "name": "stdout",
     "output_type": "stream",
     "text": [
      "Behavior and Characteristics of Users who completed checkout:Average cart value: $140.51\n",
      "Behavior and Characteristics of Users who did not complete checkout:Average cart value: $152.83\n"
     ]
    }
   ],
   "source": [
    "avg_cart_value_checkout = df[df['checkout_status'] == 1]['cart_value'].mean()\n",
    "avg_cart_value_no_checkout = df[df['checkout_status'] == 0]['cart_value'].mean()\n",
    "print(\"Behavior and Characteristics of Users who completed checkout:Average cart value: ${:.2f}\".format(avg_cart_value_checkout))\n",
    "print(\"Behavior and Characteristics of Users who did not complete checkout:Average cart value: ${:.2f}\".format(avg_cart_value_no_checkout))\n"
   ]
  },
  {
   "attachments": {},
   "cell_type": "markdown",
   "metadata": {},
   "source": [
    "From this we can conclude :\n",
    "\n",
    "1. Users who completed checkout: Average cart value - $140.82, indicating a focus on lower-priced items.\n",
    "2. aUsers who did not complete checkout: Average cart value - $152.67, suggesting an interest in more expensive items or higher purchasing intentions."
   ]
  },
  {
   "attachments": {},
   "cell_type": "markdown",
   "metadata": {},
   "source": [
    "Lets do some hypothesis testing"
   ]
  },
  {
   "cell_type": "code",
   "execution_count": 22,
   "metadata": {},
   "outputs": [
    {
     "name": "stdout",
     "output_type": "stream",
     "text": [
      "T-Statistic: -0.927407887169937\n",
      "P-Value: 0.3538097389111504\n"
     ]
    }
   ],
   "source": [
    "import scipy.stats as stats\n",
    "\n",
    "checkout_complete = df[df['checkout_status'] == 1]\n",
    "checkout_incomplete = df[df['checkout_status'] == 0]\n",
    "t_statistic, p_value = stats.ttest_ind(checkout_complete['age'], checkout_incomplete['age'], equal_var=False)\n",
    "print(\"T-Statistic:\", t_statistic)\n",
    "print(\"P-Value:\", p_value)\n"
   ]
  },
  {
   "attachments": {},
   "cell_type": "markdown",
   "metadata": {},
   "source": [
    "For H0 : There is no significant difference in the average age between users who complete checkout and those who do not.\n",
    "- The p-value of 0.36 indicates that there is no strong evidence to reject the null hypothesis. This means that the observed difference in average age between the two groups could reasonably occur by random chance alone. Therefore, based on this analysis, there is no significant difference in age between users who complete checkout and those who do not."
   ]
  },
  {
   "attachments": {},
   "cell_type": "markdown",
   "metadata": {},
   "source": [
    "Similarly for other variables"
   ]
  },
  {
   "cell_type": "code",
   "execution_count": 23,
   "metadata": {},
   "outputs": [
    {
     "name": "stdout",
     "output_type": "stream",
     "text": [
      "T-Statistic: 41.71557065302319\n",
      "P-Value: 0.0\n"
     ]
    }
   ],
   "source": [
    "checkout_complete = df[df['checkout_status'] == 1]\n",
    "checkout_incomplete = df[df['checkout_status'] == 0]\n",
    "t_statistic, p_value = stats.ttest_ind(checkout_complete['time_spent'], checkout_incomplete['time_spent'], equal_var=False)\n",
    "print(\"T-Statistic:\", t_statistic)\n",
    "print(\"P-Value:\", p_value)\n"
   ]
  },
  {
   "attachments": {},
   "cell_type": "markdown",
   "metadata": {},
   "source": [
    "It is observed that customers who completed the checkout process spent significantly more time than those who did not complete the checkout. But this is assumed also"
   ]
  },
  {
   "cell_type": "code",
   "execution_count": 24,
   "metadata": {},
   "outputs": [
    {
     "name": "stdout",
     "output_type": "stream",
     "text": [
      "T-Statistic: 34.433317109610016\n",
      "P-Value: 1.4687539551126368e-228\n"
     ]
    }
   ],
   "source": [
    "checkout_complete = df[df['checkout_status'] == 1]\n",
    "checkout_incomplete = df[df['checkout_status'] == 0]\n",
    "t_statistic, p_value = stats.ttest_ind(checkout_complete['pages_visited'], checkout_incomplete['pages_visited'], equal_var=False)\n",
    "print(\"T-Statistic:\", t_statistic)\n",
    "print(\"P-Value:\", p_value)\n"
   ]
  },
  {
   "attachments": {},
   "cell_type": "markdown",
   "metadata": {},
   "source": [
    "there is a substantial difference in the number of pages visited between customers who completed the checkout and those who did not."
   ]
  },
  {
   "cell_type": "code",
   "execution_count": 25,
   "metadata": {},
   "outputs": [
    {
     "name": "stdout",
     "output_type": "stream",
     "text": [
      "T-Statistic: -7.911940462529666\n",
      "P-Value: 3.217614760627984e-15\n"
     ]
    }
   ],
   "source": [
    "checkout_complete = df[df['checkout_status'] == 1]\n",
    "checkout_incomplete = df[df['checkout_status'] == 0]\n",
    "t_statistic, p_value = stats.ttest_ind(checkout_complete['cart_items'], checkout_incomplete['cart_items'], equal_var=False)\n",
    "print(\"T-Statistic:\", t_statistic)\n",
    "print(\"P-Value:\", p_value)\n"
   ]
  },
  {
   "attachments": {},
   "cell_type": "markdown",
   "metadata": {},
   "source": [
    "there is a notable difference in the number of cart items between customers who completed the checkout and those who did not. But again it is assumed"
   ]
  },
  {
   "cell_type": "code",
   "execution_count": 26,
   "metadata": {},
   "outputs": [
    {
     "name": "stdout",
     "output_type": "stream",
     "text": [
      "T-Statistic: -6.781195178059388\n",
      "P-Value: 1.3793731567213474e-11\n"
     ]
    }
   ],
   "source": [
    "checkout_complete = df[df['checkout_status'] == 1]\n",
    "checkout_incomplete = df[df['checkout_status'] == 0]\n",
    "t_statistic, p_value = stats.ttest_ind(checkout_complete['cart_value'], checkout_incomplete['cart_value'], equal_var=False)\n",
    "print(\"T-Statistic:\", t_statistic)\n",
    "print(\"P-Value:\", p_value)\n"
   ]
  },
  {
   "attachments": {},
   "cell_type": "markdown",
   "metadata": {},
   "source": [
    "Again there is a significant difference in the total cart value between customers who completed the checkout and those who did not."
   ]
  },
  {
   "attachments": {},
   "cell_type": "markdown",
   "metadata": {},
   "source": [
    "Lets try with location and device type we will conduct ANOVA test "
   ]
  },
  {
   "cell_type": "code",
   "execution_count": 27,
   "metadata": {},
   "outputs": [
    {
     "data": {
      "text/html": [
       "<div>\n",
       "<style scoped>\n",
       "    .dataframe tbody tr th:only-of-type {\n",
       "        vertical-align: middle;\n",
       "    }\n",
       "\n",
       "    .dataframe tbody tr th {\n",
       "        vertical-align: top;\n",
       "    }\n",
       "\n",
       "    .dataframe thead th {\n",
       "        text-align: right;\n",
       "    }\n",
       "</style>\n",
       "<table border=\"1\" class=\"dataframe\">\n",
       "  <thead>\n",
       "    <tr style=\"text-align: right;\">\n",
       "      <th></th>\n",
       "      <th>checkout_status</th>\n",
       "      <th>cart_value</th>\n",
       "    </tr>\n",
       "    <tr>\n",
       "      <th>location</th>\n",
       "      <th></th>\n",
       "      <th></th>\n",
       "    </tr>\n",
       "  </thead>\n",
       "  <tbody>\n",
       "    <tr>\n",
       "      <th>Location 1</th>\n",
       "      <td>0.281120</td>\n",
       "      <td>152.941048</td>\n",
       "    </tr>\n",
       "    <tr>\n",
       "      <th>Location 2</th>\n",
       "      <td>0.267094</td>\n",
       "      <td>149.232628</td>\n",
       "    </tr>\n",
       "    <tr>\n",
       "      <th>Location 3</th>\n",
       "      <td>0.265531</td>\n",
       "      <td>147.684780</td>\n",
       "    </tr>\n",
       "    <tr>\n",
       "      <th>Location 4</th>\n",
       "      <td>0.283626</td>\n",
       "      <td>147.488489</td>\n",
       "    </tr>\n",
       "    <tr>\n",
       "      <th>Location 5</th>\n",
       "      <td>0.270414</td>\n",
       "      <td>150.127911</td>\n",
       "    </tr>\n",
       "  </tbody>\n",
       "</table>\n",
       "</div>"
      ],
      "text/plain": [
       "            checkout_status  cart_value\n",
       "location                               \n",
       "Location 1         0.281120  152.941048\n",
       "Location 2         0.267094  149.232628\n",
       "Location 3         0.265531  147.684780\n",
       "Location 4         0.283626  147.488489\n",
       "Location 5         0.270414  150.127911"
      ]
     },
     "execution_count": 27,
     "metadata": {},
     "output_type": "execute_result"
    }
   ],
   "source": [
    "df.groupby('location')[['checkout_status', 'cart_value']].mean()"
   ]
  },
  {
   "cell_type": "code",
   "execution_count": 28,
   "metadata": {},
   "outputs": [
    {
     "name": "stdout",
     "output_type": "stream",
     "text": [
      "F_onewayResult(statistic=0.3607430961803649, pvalue=0.6971894120739283)\n"
     ]
    }
   ],
   "source": [
    "# This looks mostly the same. \n",
    "#Let's use an ANOVA test to validate each metric. If they are statistically the same, they should have a HIGH p-value\n",
    "loc_1 = df[df['location'] == 'Location 1']['checkout_status']\n",
    "loc_2 = df[df['location'] == 'Location 2']['checkout_status']\n",
    "loc_3 = df[df['location'] == 'Location 3']['checkout_status']\n",
    "loc_4 = df[df['location'] == 'Location 4']['checkout_status']\n",
    "loc_5 = df[df['location'] == 'Location 5']['checkout_status']\n",
    "\n",
    "p_val = stats.f_oneway(loc_1, loc_2, loc_3)\n",
    "print(p_val)"
   ]
  },
  {
   "cell_type": "code",
   "execution_count": 29,
   "metadata": {},
   "outputs": [
    {
     "data": {
      "text/plain": [
       "array(['Desktop', 'Tablet', 'Mobile'], dtype=object)"
      ]
     },
     "execution_count": 29,
     "metadata": {},
     "output_type": "execute_result"
    }
   ],
   "source": [
    "df['device'].unique()"
   ]
  },
  {
   "cell_type": "code",
   "execution_count": 30,
   "metadata": {},
   "outputs": [
    {
     "name": "stdout",
     "output_type": "stream",
     "text": [
      "F_onewayResult(statistic=2.0773484522645553, pvalue=0.12537302948396561)\n"
     ]
    }
   ],
   "source": [
    "#Let's check the same for device type.\n",
    "\n",
    "loc_1 = df[df['device'] == 'Desktop']['checkout_status']\n",
    "loc_2 = df[df['device'] == 'Tablet']['checkout_status']\n",
    "loc_3 = df[df['device'] == 'Mobile']['checkout_status']\n",
    "\n",
    "p_val = stats.f_oneway(loc_1, loc_2, loc_3)\n",
    "print(p_val)"
   ]
  },
  {
   "attachments": {},
   "cell_type": "markdown",
   "metadata": {},
   "source": [
    "#### Q1) Based on your analysis, what can you conclude about the behaviour or characteristics of users who complete check out vs those who do not?"
   ]
  },
  {
   "attachments": {},
   "cell_type": "markdown",
   "metadata": {},
   "source": [
    "We can draw the following conclusions about the behaviour and traits of users who complete checkout as opposed to those who do not based on the analysis provided:\n",
    "\n",
    "Time Spent: Users who finish the checkout process typically spend more time (31.32 minutes) than users who don't finish the checkout process (22.78 minutes). This suggests that customers who finish the checkout process are more engaged and have explored the website thoroughly.\n",
    "\n",
    "\n",
    "Pages Visited: Users who complete checkout visit more pages (7.29 on average), showing that they have done their research and are actively looking for information. Users who abandon the checkout process, on the other hand, visit fewer pages (5.20), which may indicate lower engagement or potential difficulties while browsing.\n",
    "\n",
    "Surprisingly, users who abandon their carts have a higher average cart value ($152.67) than those who finish their checkouts ($140.82). This implies that, despite not completing the transaction, users who abandon the checkout process might be more interested in pricey items or have higher purchasing intentions.\n",
    "\n",
    "Age Disparity: According to the analysis, there is no appreciable difference in age between users who complete checkout and those who do not. The p-value of 0.36 suggests that any age difference could possibly be the result of chance.\n",
    "\n",
    "In conclusion, customers who finish the checkout process are more engaged, spend longer browsing the site, and view more pages. Users who abandon the checkout process, however, can have a larger cart value, indicating a preference for more expensive products or more determined buying intents. There was no discernible age difference between the two groups, according to the data."
   ]
  },
  {
   "attachments": {},
   "cell_type": "markdown",
   "metadata": {},
   "source": [
    "#### Q2) How did you prepare your data for analysis? Describe your data cleaning and preparation approaches, and why these were the best choices."
   ]
  },
  {
   "attachments": {},
   "cell_type": "markdown",
   "metadata": {},
   "source": [
    "Only 2% of devices and 0.6 percent of locations had missing data, therefore we decided to delete the rows.\n",
    "- I then deleted all potential duplicates.\n",
    "- The outlier was eliminated from the time spent.\n"
   ]
  },
  {
   "attachments": {},
   "cell_type": "markdown",
   "metadata": {},
   "source": [
    "#### Q3) What recommendations do you have for the product team? What should they do next? Be specific (i.e., who should they target, why and how)."
   ]
  },
  {
   "attachments": {},
   "cell_type": "markdown",
   "metadata": {},
   "source": [
    "The product team can make the checkout process better and increase the number of people who buy things by making some changes. They can simplify the steps in the checkout process. They should also look for any problems or things that might be making people give up on buying things and fix them.\n",
    "\n",
    "They can try to encourage people who have a lot of things in their cart to buy them by offering them special deals or discounts. They can also give them free shipping or other special offers to make them more likely to buy things.\n",
    "\n",
    "They should make sure that people have all the information they need about the products they want to buy. This means giving them good descriptions, pictures, and reviews from other customers. They can also use technology to suggest other things that people might like based on what they have looked at before.\n",
    "\n",
    "They should keep track of when people put things in their cart but then don't buy them. They can try to find out why this happens and fix the problems. They can ask people why they didn't buy things and use that information to make things better. They should also look for things that lots of people have trouble with and try to fix them.\n",
    "\n",
    "They should test different ideas to see if they make the checkout process better. They can try different designs or layouts to see what works best. They can compare how well different things work by testing them on some users and seeing what happens."
   ]
  }
 ],
 "metadata": {
  "kernelspec": {
   "display_name": "Python 3",
   "language": "python",
   "name": "python3"
  },
  "language_info": {
   "codemirror_mode": {
    "name": "ipython",
    "version": 3
   },
   "file_extension": ".py",
   "mimetype": "text/x-python",
   "name": "python",
   "nbconvert_exporter": "python",
   "pygments_lexer": "ipython3",
   "version": "3.11.3"
  },
  "orig_nbformat": 4
 },
 "nbformat": 4,
 "nbformat_minor": 2
}
