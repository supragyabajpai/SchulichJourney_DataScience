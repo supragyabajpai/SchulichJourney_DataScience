{
 "cells": [
  {
   "cell_type": "code",
   "execution_count": 71,
   "metadata": {},
   "outputs": [],
   "source": [
    "import sqlalchemy\n",
    "import requests\n",
    "import nest_asyncio\n",
    "from requests_html import AsyncHTMLSession"
   ]
  },
  {
   "cell_type": "code",
   "execution_count": 72,
   "metadata": {},
   "outputs": [],
   "source": [
    "nest_asyncio.apply()\n",
    "asession = AsyncHTMLSession()"
   ]
  },
  {
   "cell_type": "code",
   "execution_count": 73,
   "metadata": {},
   "outputs": [],
   "source": [
    "async def fetch_website(weburl):\n",
    "    url = weburl\n",
    "    r = await asession.get(url)\n",
    "    \n",
    "    if r.status_code == 200:\n",
    "        print(f\"Successfully fetched data from {url}\")\n",
    "    else:\n",
    "        print(f\"Failed to fetch data from {url}, status code: {r.status_code}\")\n",
    "\n",
    "    await r.html.arender(sleep=1)\n",
    "    \n",
    "    href_list = r.html.find('pre a[href]')\n",
    "    href_values = [link.attrs['href'] for link in href_list]\n",
    "\n",
    "    return href_values\n"
   ]
  },
  {
   "cell_type": "code",
   "execution_count": 74,
   "metadata": {},
   "outputs": [
    {
     "name": "stdout",
     "output_type": "stream",
     "text": [
      "Successfully fetched data from https://dd.weather.gc.ca/alerts/cap/\n"
     ]
    }
   ],
   "source": [
    "weburl = 'https://dd.weather.gc.ca/alerts/cap/'\n",
    "href_values_list = asession.loop.run_until_complete(fetch_website(weburl))\n",
    "latest_date = href_values_list[-1]"
   ]
  },
  {
   "cell_type": "code",
   "execution_count": 75,
   "metadata": {},
   "outputs": [
    {
     "name": "stdout",
     "output_type": "stream",
     "text": [
      "----------------------\n",
      "Today's Date :  2023 - 08 - 10\n",
      "----------------------\n",
      "https://dd.weather.gc.ca/alerts/cap/20230810/CWTO/\n"
     ]
    }
   ],
   "source": [
    "print(\"----------------------\")\n",
    "print(\"Today's Date : \",latest_date[0:4],\"-\",latest_date[4:6],\"-\",latest_date[6:8])\n",
    "print(\"----------------------\")\n",
    "new_url = weburl+latest_date+'CWTO/'\n",
    "print(new_url)"
   ]
  },
  {
   "cell_type": "code",
   "execution_count": 76,
   "metadata": {},
   "outputs": [
    {
     "name": "stdout",
     "output_type": "stream",
     "text": [
      "Successfully fetched data from https://dd.weather.gc.ca/alerts/cap/20230810/CWTO/\n"
     ]
    }
   ],
   "source": [
    "new_href_values_list = asession.loop.run_until_complete(fetch_website(new_url))\n",
    "latest_file = new_href_values_list[-1]\n"
   ]
  },
  {
   "cell_type": "code",
   "execution_count": 77,
   "metadata": {},
   "outputs": [
    {
     "name": "stdout",
     "output_type": "stream",
     "text": [
      "18/\n"
     ]
    }
   ],
   "source": [
    "latest_file = new_href_values_list[-1]\n",
    "print(latest_file)"
   ]
  },
  {
   "cell_type": "code",
   "execution_count": 78,
   "metadata": {},
   "outputs": [
    {
     "name": "stdout",
     "output_type": "stream",
     "text": [
      "https://dd.weather.gc.ca/alerts/cap/20230810/CWTO/18/\n"
     ]
    }
   ],
   "source": [
    "newz_url = new_url+latest_file\n",
    "print(newz_url)"
   ]
  },
  {
   "cell_type": "code",
   "execution_count": 79,
   "metadata": {},
   "outputs": [
    {
     "name": "stdout",
     "output_type": "stream",
     "text": [
      "Successfully fetched data from https://dd.weather.gc.ca/alerts/cap/20230810/CWTO/18/\n"
     ]
    }
   ],
   "source": [
    "new_href_values_list = asession.loop.run_until_complete(fetch_website(newz_url))\n",
    "latest_datz = new_href_values_list[-1]"
   ]
  },
  {
   "cell_type": "code",
   "execution_count": 80,
   "metadata": {},
   "outputs": [
    {
     "name": "stdout",
     "output_type": "stream",
     "text": [
      "T_WZCN90_C_CWTO_202308101831_3331409854.cap\n"
     ]
    }
   ],
   "source": [
    "latest_datz = new_href_values_list[-1]\n",
    "print(latest_datz)"
   ]
  },
  {
   "cell_type": "code",
   "execution_count": 81,
   "metadata": {},
   "outputs": [],
   "source": [
    "latest_file = newz_url+latest_datz"
   ]
  },
  {
   "cell_type": "code",
   "execution_count": 82,
   "metadata": {},
   "outputs": [
    {
     "name": "stdout",
     "output_type": "stream",
     "text": [
      "https://dd.weather.gc.ca/alerts/cap/20230810/CWTO/18/T_WZCN90_C_CWTO_202308101831_3331409854.cap\n"
     ]
    }
   ],
   "source": [
    "print(latest_file)"
   ]
  },
  {
   "cell_type": "code",
   "execution_count": 83,
   "metadata": {},
   "outputs": [],
   "source": [
    "req = requests.get(latest_file)"
   ]
  },
  {
   "cell_type": "code",
   "execution_count": 84,
   "metadata": {},
   "outputs": [
    {
     "data": {
      "text/plain": [
       "'https://dd.weather.gc.ca/alerts/cap/20230810/CWTO/18/T_WZCN90_C_CWTO_202308101831_3331409854.cap'"
      ]
     },
     "execution_count": 84,
     "metadata": {},
     "output_type": "execute_result"
    }
   ],
   "source": [
    "req.url"
   ]
  },
  {
   "cell_type": "code",
   "execution_count": 85,
   "metadata": {},
   "outputs": [],
   "source": [
    "import os\n",
    "\n",
    "directory_path = r\"C:\\Users\\supra\\OneDrive\\Desktop\\Schulich MBAN\\Sem- 1\\Database fundamentals\\WeatherAPI_file\"\n",
    "latest_datz = \"example_file.txt\" \n",
    "\n",
    "full_path = os.path.join(directory_path, latest_datz)"
   ]
  },
  {
   "cell_type": "code",
   "execution_count": 86,
   "metadata": {},
   "outputs": [],
   "source": [
    "with open(full_path, 'wb') as f:\n",
    "    for chunk in req.iter_content(chunk_size=8192):\n",
    "        if chunk:\n",
    "            f.write(chunk)"
   ]
  },
  {
   "cell_type": "code",
   "execution_count": null,
   "metadata": {},
   "outputs": [],
   "source": []
  }
 ],
 "metadata": {
  "kernelspec": {
   "display_name": "Python 3",
   "language": "python",
   "name": "python3"
  },
  "language_info": {
   "codemirror_mode": {
    "name": "ipython",
    "version": 3
   },
   "file_extension": ".py",
   "mimetype": "text/x-python",
   "name": "python",
   "nbconvert_exporter": "python",
   "pygments_lexer": "ipython3",
   "version": "3.11.3"
  },
  "orig_nbformat": 4
 },
 "nbformat": 4,
 "nbformat_minor": 2
}
