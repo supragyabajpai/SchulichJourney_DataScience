{
 "cells": [
  {
   "cell_type": "code",
   "execution_count": 71,
   "metadata": {},
   "outputs": [],
   "source": [
    "import sqlalchemy\n",
    "import requests\n",
    "import nest_asyncio\n",
    "from requests_html import AsyncHTMLSession"
   ]
  },
  {
   "cell_type": "code",
   "execution_count": 72,
   "metadata": {},
   "outputs": [],
   "source": [
    "nest_asyncio.apply()\n",
    "asession = AsyncHTMLSession()"
   ]
  },
  {
   "cell_type": "code",
   "execution_count": 73,
   "metadata": {},
   "outputs": [],
   "source": [
    "async def fetch_website(weburl):\n",
    "    url = weburl\n",
    "    r = await asession.get(url)\n",
    "    \n",
    "    if r.status_code == 200:\n",
    "        print(f\"Successfully fetched data from {url}\")\n",
    "    else:\n",
    "        print(f\"Failed to fetch data from {url}, status code: {r.status_code}\")\n",
    "\n",
    "    await r.html.arender(sleep=1)\n",
    "    \n",
    "    href_list = r.html.find('pre a[href]')\n",
    "    href_values = [link.attrs['href'] for link in href_list]\n",
    "\n",
    "    return href_values\n"
   ]
  },
  {
   "cell_type": "code",
   "execution_count": 74,
   "metadata": {},
   "outputs": [
    {
     "name": "stdout",
     "output_type": "stream",
     "text": [
      "Successfully fetched data from https://dd.weather.gc.ca/alerts/cap/\n"
     ]
    }
   ],
   "source": [
    "weburl = 'https://dd.weather.gc.ca/alerts/cap/'\n",
    "href_values_list = asession.loop.run_until_complete(fetch_website(weburl))\n",
    "latest_date = href_values_list[-1]"
   ]
  },
  {
   "cell_type": "code",
   "execution_count": 75,
   "metadata": {},
   "outputs": [
    {
     "name": "stdout",
     "output_type": "stream",
     "text": [
      "----------------------\n",
      "Today's Date :  2023 - 08 - 10\n",
      "----------------------\n",
      "https://dd.weather.gc.ca/alerts/cap/20230810/CWTO/\n"
     ]
    }
   ],
   "source": [
    "print(\"----------------------\")\n",
    "print(\"Today's Date : \",latest_date[0:4],\"-\",latest_date[4:6],\"-\",latest_date[6:8])\n",
    "print(\"----------------------\")\n",
    "new_url = weburl+latest_date+'CWTO/'\n",
    "print(new_url)"
   ]
  },
  {
   "cell_type": "code",
   "execution_count": 76,
   "metadata": {},
   "outputs": [
    {
     "name": "stdout",
     "output_type": "stream",
     "text": [
      "Successfully fetched data from https://dd.weather.gc.ca/alerts/cap/20230810/CWTO/\n"
     ]
    }
   ],
   "source": [
    "new_href_values_list = asession.loop.run_until_complete(fetch_website(new_url))\n",
    "latest_file = new_href_values_list[-1]\n"
   ]
  },
  {
   "cell_type": "code",
   "execution_count": 77,
   "metadata": {},
   "outputs": [
    {
     "name": "stdout",
     "output_type": "stream",
     "text": [
      "18/\n"
     ]
    }
   ],
   "source": [
    "latest_file = new_href_values_list[-1]\n",
    "print(latest_file)"
   ]
  },
  {
   "cell_type": "code",
   "execution_count": 78,
   "metadata": {},
   "outputs": [
    {
     "name": "stdout",
     "output_type": "stream",
     "text": [
      "https://dd.weather.gc.ca/alerts/cap/20230810/CWTO/18/\n"
     ]
    }
   ],
   "source": [
    "newz_url = new_url+latest_file\n",
    "print(newz_url)"
   ]
  },
  {
   "cell_type": "code",
   "execution_count": 79,
   "metadata": {},
   "outputs": [
    {
     "name": "stdout",
     "output_type": "stream",
     "text": [
      "Successfully fetched data from https://dd.weather.gc.ca/alerts/cap/20230810/CWTO/18/\n"
     ]
    }
   ],
   "source": [
    "new_href_values_list = asession.loop.run_until_complete(fetch_website(newz_url))\n",
    "latest_datz = new_href_values_list[-1]"
   ]
  },
  {
   "cell_type": "code",
   "execution_count": 80,
   "metadata": {},
   "outputs": [
    {
     "name": "stdout",
     "output_type": "stream",
     "text": [
      "T_WZCN90_C_CWTO_202308101831_3331409854.cap\n"
     ]
    }
   ],
   "source": [
    "latest_datz = new_href_values_list[-1]\n",
    "print(latest_datz)"
   ]
  },
  {
   "cell_type": "code",
   "execution_count": 81,
   "metadata": {},
   "outputs": [],
   "source": [
    "latest_file = newz_url+latest_datz"
   ]
  },
  {
   "cell_type": "code",
   "execution_count": 82,
   "metadata": {},
   "outputs": [
    {
     "name": "stdout",
     "output_type": "stream",
     "text": [
      "https://dd.weather.gc.ca/alerts/cap/20230810/CWTO/18/T_WZCN90_C_CWTO_202308101831_3331409854.cap\n"
     ]
    }
   ],
   "source": [
    "print(latest_file)"
   ]
  },
  {
   "cell_type": "code",
   "execution_count": 83,
   "metadata": {},
   "outputs": [],
   "source": [
    "req = requests.get(latest_file)"
   ]
  },
  {
   "cell_type": "code",
   "execution_count": 84,
   "metadata": {},
   "outputs": [
    {
     "data": {
      "text/plain": [
       "'https://dd.weather.gc.ca/alerts/cap/20230810/CWTO/18/T_WZCN90_C_CWTO_202308101831_3331409854.cap'"
      ]
     },
     "execution_count": 84,
     "metadata": {},
     "output_type": "execute_result"
    }
   ],
   "source": [
    "req.url"
   ]
  },
  {
   "cell_type": "code",
   "execution_count": 85,
   "metadata": {},
   "outputs": [],
   "source": [
    "import os\n",
    "\n",
    "directory_path = r\"C:\\Users\\supra\\OneDrive\\Desktop\\Schulich MBAN\\Sem- 1\\Database fundamentals\\WeatherAPI_file\"\n",
    "latest_datz = \"example_file.txt\" \n",
    "\n",
    "full_path = os.path.join(directory_path, latest_datz)"
   ]
  },
  {
   "cell_type": "code",
   "execution_count": 86,
   "metadata": {},
   "outputs": [],
   "source": [
    "with open(full_path, 'wb') as f:\n",
    "    for chunk in req.iter_content(chunk_size=8192):\n",
    "        if chunk:\n",
    "            f.write(chunk)"
   ]
  },
  {
   "cell_type": "code",
   "execution_count": 87,
   "metadata": {},
   "outputs": [
    {
     "name": "stdout",
     "output_type": "stream",
     "text": [
      "<?xml version='1.0' encoding='UTF-8' standalone='no'?>\n",
      "<alert xmlns=\"urn:oasis:names:tc:emergency:cap:1.2\">\n",
      "    <identifier>urn:oid:2.49.0.1.124.3331409854.2023</identifier>\n",
      "    <sender>cap-pac@canada.ca</sender>\n",
      "    <sent>2023-08-10T18:33:46-00:00</sent>\n",
      "    <status>Actual</status>\n",
      "    <msgType>Update</msgType>\n",
      "    <source>Env. Can. - Can. Met. Ctr. â€“ MontrÃ©al</source>\n",
      "    <scope>Public</scope>\n",
      "    <code>profile:CAP-CP:0.4</code>\n",
      "    <code>layer:SOREM:1.0</code>\n",
      "    <code>layer:EC-MSC-SMC:1.0</code>\n",
      "    <code>layer:EC-MSC-SMC:1.1</code>\n",
      "    <code>layer:SOREM:2.0</code>\n",
      "    <note>Service Notice - February 2023: The Environment and Climate Change Canada (ECCC) CAP Service undergoes changes from time to time as the business of alerting evolves. For 2023, changes will include... 1) modifications, or even removal, of the Wireless Public Alerting Message (WPAM) layer due to the successful pilot of the UpdateX feature recently deployed in the Canadian Cell Broadcasting Environment, and 2) other minor improvements and corrections. For more information on these changes, you are invited to subscribe to the following mailing list: http://lists.cmc.ec.gc.ca/mailman/listinfo/dd_info | Notification de service - fÃ©vrier 2023: Le service du PAC dâ€™Environnement et Changement climatique Canada (ECCC) subit pÃ©riodiquement des changements et ajouts Ã  mesure que le systÃ¨me dâ€™alerte Ã©volue. Pour 2023, ces changements incluent... 1) des modifications, voire la suppression, de la couche du Service dâ€™alertes sans fil au public (WPAM) en raison du succÃ¨s du projet pilote de la fonctionnalitÃ© UpdateX rÃ©cemment dÃ©ployÃ©e dans lâ€™environnement de diffusion sans fil canadien, et 2) dâ€™autres amÃ©liorations et corrections mineures. Pour plus dâ€™informations sur ces changements, vous Ãªtes invitÃ©s Ã  vous inscrire Ã  la liste de diffusion suivante: http://lists.cmc.ec.gc.ca/mailman/listinfo/dd_info</note>\n",
      "    <references>cap-pac@canada.ca,urn:oid:2.49.0.1.124.3710166595.2023,2023-08-10T13:49:06-00:00 cap-pac@canada.ca,urn:oid:2.49.0.1.124.3577289545.2023,2023-08-10T16:50:49-00:00</references>\n",
      "    <info>\n",
      "        <language>en-CA</language>\n",
      "        <category>Met</category>\n",
      "        <event>thunderstorm</event>\n",
      "        <responseType>Monitor</responseType>\n",
      "        <urgency>Expected</urgency>\n",
      "        <severity>Moderate</severity>\n",
      "        <certainty>Likely</certainty>\n",
      "        <audience>general public</audience>\n",
      "        <eventCode>\n",
      "            <valueName>profile:CAP-CP:Event:0.4</valueName>\n",
      "            <value>thunderstorm</value>\n",
      "        </eventCode>\n",
      "        <eventCode>\n",
      "            <valueName>SAME</valueName>\n",
      "            <value>SVA</value>\n",
      "        </eventCode>\n",
      "        <effective>2023-08-10T18:33:46-00:00</effective>\n",
      "        <expires>2023-08-10T22:59:57-00:00</expires>\n",
      "        <senderName>Environment Canada</senderName>\n",
      "        <headline>severe thunderstorm watch in effect</headline>\n",
      "        <description>\n",
      "Conditions are favourable for the development of severe thunderstorms that may be capable of producing strong wind gusts, large hail and heavy rain.\n",
      "\n",
      "Hazards:\n",
      "Heavy rain with amounts up to 75 mm locally.\n",
      "Wind gusts up to 90 km/h.\n",
      "\n",
      "Timing: \n",
      "Continuing into this evening. \n",
      "\n",
      "Discussion:\n",
      "A line of thunderstorms is expected to continue tracking east through the afternoon.\n",
      "\n",
      "###\n",
      "\n",
      "Large hail can damage property and cause injury. Strong wind gusts can toss loose objects, damage weak buildings, break branches off trees and overturn large vehicles. Heavy downpours can cause flash floods and water pooling on roads.\n",
      "\n",
      "Severe thunderstorm watches are issued when atmospheric conditions are favourable for the development of thunderstorms that could produce one or more of the following: large hail, damaging winds, torrential rainfall.\n",
      "\n",
      "Please continue to monitor alerts and forecasts issued by Environment Canada. To report severe weather, send an email to ONstorm@ec.gc.ca or tweet reports using #QCStorm.\n",
      "</description>\n",
      "        <instruction>\n",
      "Lightning kills and injures Canadians every year. Remember, when thunder roars, go indoors!\n",
      "</instruction>\n",
      "        <web>http://weather.gc.ca/warnings/index_e.html?prov=sqc</web>\n",
      "        <parameter>\n",
      "            <valueName>layer:EC-MSC-SMC:1.0:Alert_Type</valueName>\n",
      "            <value>watch</value>\n",
      "        </parameter>\n",
      "        <parameter>\n",
      "            <valueName>layer:EC-MSC-SMC:1.0:Broadcast_Intrusive</valueName>\n",
      "            <value>no</value>\n",
      "        </parameter>\n",
      "        <parameter>\n",
      "            <valueName>layer:SOREM:1.0:Broadcast_Immediately</valueName>\n",
      "            <value>No</value>\n",
      "        </parameter>\n",
      "        <parameter>\n",
      "            <valueName>layer:EC-MSC-SMC:1.1:Parent_URI</valueName>\n",
      "            <value>msc/alert/environment/hazard/alert-3.0-ascii/consolidated-xml-2.0/20230810183157761/WZ_90_91_CWTO/STV/1237115481517664980202308100503_WZ_90_91_CWTO/actual/en_proper_complete_c-fr_proper_complete_c/NinJo</value>\n",
      "        </parameter>\n",
      "        <parameter>\n",
      "            <valueName>layer:EC-MSC-SMC:1.1:CAP_count</valueName>\n",
      "            <value>A:8077 M:44472 C:53919</value>\n",
      "        </parameter>\n",
      "        <parameter>\n",
      "            <valueName>layer:EC-MSC-SMC:1.0:Alert_Location_Status</valueName>\n",
      "            <value>active</value>\n",
      "        </parameter>\n",
      "        <parameter>\n",
      "            <valueName>layer:EC-MSC-SMC:1.0:Alert_Name</valueName>\n",
      "            <value>severe thunderstorm watch</value>\n",
      "        </parameter>\n",
      "        <parameter>\n",
      "            <valueName>layer:EC-MSC-SMC:1.0:Alert_Coverage</valueName>\n",
      "            <value>Gatineau</value>\n",
      "        </parameter>\n",
      "        <parameter>\n",
      "            <valueName>layer:EC-MSC-SMC:1.1:Designation_Code</valueName>\n",
      "            <value>WZ_90_91_CWTO</value>\n",
      "        </parameter>\n",
      "        <parameter>\n",
      "            <valueName>layer:SOREM:2.0:WirelessImmediate</valueName>\n",
      "            <value>No</value>\n",
      "        </parameter>\n",
      "        <parameter>\n",
      "            <valueName>layer:EC-MSC-SMC:1.1:Alert_Location_Status</valueName>\n",
      "            <value>active</value>\n",
      "        </parameter>\n",
      "        <parameter>\n",
      "            <valueName>layer:EC-MSC-SMC:1.1:Newly_Active_Areas</valueName>\n",
      "            <value/>\n",
      "        </parameter>\n",
      "        <area>\n",
      "            <areaDesc>Gatineau</areaDesc>\n",
      "            <polygon>45.5974,-75.3543 45.5797,-75.3524 45.5595,-75.349 45.541,-75.3458 45.5364,-75.345 45.5152,-75.3433 45.4751,-75.34 45.4095,-75.6332 45.3106,-75.7547 45.3062,-75.8797 45.3657,-75.9713 45.3911,-75.9357 45.4179,-75.8982 45.4547,-75.9044 45.4803,-75.9087 45.483,-75.8747 45.4858,-75.8392 45.4704,-75.8372 45.4733,-75.7961 45.4587,-75.794 45.46,-75.7804 45.4732,-75.7819 45.4806,-75.8011 45.4905,-75.7944 45.4864,-75.7641 45.5176,-75.7679 45.5212,-75.7657 45.5235,-75.7199 45.5365,-75.7218 45.5466,-75.7232 45.5527,-75.6541 45.5539,-75.6413 45.5625,-75.5416 45.5766,-75.5441 45.577,-75.5372 45.5636,-75.5352 45.5397,-75.5317 45.5421,-75.4941 45.5457,-75.4388 45.561,-75.4419 45.5606,-75.4491 45.5724,-75.4511 45.5727,-75.445 45.5911,-75.4463 45.5922,-75.4256 45.5988,-75.427 45.5993,-75.4149 45.5962,-75.4147 45.5967,-75.4075 45.5938,-75.4072 45.5974,-75.3543</polygon>\n",
      "            <geocode>\n",
      "                <valueName>layer:EC-MSC-SMC:1.0:CLC</valueName>\n",
      "                <value>031100</value>\n",
      "            </geocode>\n",
      "            <geocode>\n",
      "                <valueName>profile:CAP-CP:Location:0.3</valueName>\n",
      "                <value>2481</value>\n",
      "            </geocode>\n",
      "        </area>\n",
      "    </info>\n",
      "    <info>\n",
      "        <language>fr-CA</language>\n",
      "        <category>Met</category>\n",
      "        <event>orages</event>\n",
      "        <responseType>Monitor</responseType>\n",
      "        <urgency>Expected</urgency>\n",
      "        <severity>Moderate</severity>\n",
      "        <certainty>Likely</certainty>\n",
      "        <audience>grand public</audience>\n",
      "        <eventCode>\n",
      "            <valueName>profile:CAP-CP:Event:0.4</valueName>\n",
      "            <value>thunderstorm</value>\n",
      "        </eventCode>\n",
      "        <eventCode>\n",
      "            <valueName>SAME</valueName>\n",
      "            <value>SVA</value>\n",
      "        </eventCode>\n",
      "        <effective>2023-08-10T18:33:46-00:00</effective>\n",
      "        <expires>2023-08-10T22:59:57-00:00</expires>\n",
      "        <senderName>Environnement Canada</senderName>\n",
      "        <headline>veille d'orages violents en vigueur</headline>\n",
      "        <description>\n",
      "Les conditions sont propices Ã  la formation d'orages violents pouvant produire des rafales fortes, de la grÃªle de grosse taille et de la pluie forte.\n",
      "\n",
      "Dangers :\n",
      "De la pluie forte dÃ©versant jusqu'Ã  75 mm par endroits.\n",
      "Des rafales jusqu'Ã  90 km/h.\n",
      "\n",
      "PÃ©riode :\n",
      "Continuant jusqu'Ã  ce soir.\n",
      "\n",
      "Description :\n",
      "Une ligne d'orages devrait continuer de se dÃ©placer vers l'est au cours de l'aprÃ¨s-midi.\n",
      "\n",
      "###\n",
      "\n",
      "De la grosse grÃªle peut endommager des biens et causer des blessures. De fortes rafales peuvent projeter des objets non fixÃ©s, endommager des bÃ¢timents peu solides, arracher des branches d'arbres et renverser de gros vÃ©hicules. Les pluies torrentielles peuvent causer des crues soudaines et une accumulation d'eau sur les routes.\n",
      "\n",
      "Une veille d'orages violents est Ã©mise lorsque les conditions atmosphÃ©riques sont propices Ã  la formation d'orages qui pourraient s'accompagner d'au moins un des Ã©lÃ©ments suivants : grosse grÃªle, vents destructeurs ou pluies torrentielles.\n",
      "\n",
      "Veuillez continuer Ã  surveiller les alertes et les prÃ©visions Ã©mises par Environnement Canada. Pour signaler du temps violent, envoyez un courriel Ã  meteoON@ec.gc.ca ou publiez un gazouillis en utilisant le mot-clic #meteoqc.\n",
      "</description>\n",
      "        <instruction>\n",
      "La foudre tue et blesse des Canadiens chaque annÃ©e. N'oubliez pas : quand le tonnerre gronde, rentrez vite Ã  l'intÃ©rieur!\n",
      "</instruction>\n",
      "        <web>http://meteo.gc.ca/warnings/index_f.html?prov=sqc</web>\n",
      "        <parameter>\n",
      "            <valueName>layer:EC-MSC-SMC:1.0:Alert_Type</valueName>\n",
      "            <value>watch</value>\n",
      "        </parameter>\n",
      "        <parameter>\n",
      "            <valueName>layer:EC-MSC-SMC:1.0:Broadcast_Intrusive</valueName>\n",
      "            <value>no</value>\n",
      "        </parameter>\n",
      "        <parameter>\n",
      "            <valueName>layer:SOREM:1.0:Broadcast_Immediately</valueName>\n",
      "            <value>No</value>\n",
      "        </parameter>\n",
      "        <parameter>\n",
      "            <valueName>layer:EC-MSC-SMC:1.1:Parent_URI</valueName>\n",
      "            <value>msc/alert/environment/hazard/alert-3.0-ascii/consolidated-xml-2.0/20230810183157761/WZ_90_91_CWTO/STV/1237115481517664980202308100503_WZ_90_91_CWTO/actual/en_proper_complete_c-fr_proper_complete_c/NinJo</value>\n",
      "        </parameter>\n",
      "        <parameter>\n",
      "            <valueName>layer:EC-MSC-SMC:1.1:CAP_count</valueName>\n",
      "            <value>A:8077 M:44472 C:53919</value>\n",
      "        </parameter>\n",
      "        <parameter>\n",
      "            <valueName>layer:EC-MSC-SMC:1.0:Alert_Location_Status</valueName>\n",
      "            <value>active</value>\n",
      "        </parameter>\n",
      "        <parameter>\n",
      "            <valueName>layer:EC-MSC-SMC:1.0:Alert_Name</valueName>\n",
      "            <value>veille d'orages violents</value>\n",
      "        </parameter>\n",
      "        <parameter>\n",
      "            <valueName>layer:EC-MSC-SMC:1.0:Alert_Coverage</valueName>\n",
      "            <value>Gatineau</value>\n",
      "        </parameter>\n",
      "        <parameter>\n",
      "            <valueName>layer:EC-MSC-SMC:1.1:Designation_Code</valueName>\n",
      "            <value>WZ_90_91_CWTO</value>\n",
      "        </parameter>\n",
      "        <parameter>\n",
      "            <valueName>layer:SOREM:2.0:WirelessImmediate</valueName>\n",
      "            <value>No</value>\n",
      "        </parameter>\n",
      "        <parameter>\n",
      "            <valueName>layer:EC-MSC-SMC:1.1:Alert_Location_Status</valueName>\n",
      "            <value>active</value>\n",
      "        </parameter>\n",
      "        <parameter>\n",
      "            <valueName>layer:EC-MSC-SMC:1.1:Newly_Active_Areas</valueName>\n",
      "            <value/>\n",
      "        </parameter>\n",
      "        <area>\n",
      "            <areaDesc>Gatineau</areaDesc>\n",
      "            <polygon>45.5974,-75.3543 45.5797,-75.3524 45.5595,-75.349 45.541,-75.3458 45.5364,-75.345 45.5152,-75.3433 45.4751,-75.34 45.4095,-75.6332 45.3106,-75.7547 45.3062,-75.8797 45.3657,-75.9713 45.3911,-75.9357 45.4179,-75.8982 45.4547,-75.9044 45.4803,-75.9087 45.483,-75.8747 45.4858,-75.8392 45.4704,-75.8372 45.4733,-75.7961 45.4587,-75.794 45.46,-75.7804 45.4732,-75.7819 45.4806,-75.8011 45.4905,-75.7944 45.4864,-75.7641 45.5176,-75.7679 45.5212,-75.7657 45.5235,-75.7199 45.5365,-75.7218 45.5466,-75.7232 45.5527,-75.6541 45.5539,-75.6413 45.5625,-75.5416 45.5766,-75.5441 45.577,-75.5372 45.5636,-75.5352 45.5397,-75.5317 45.5421,-75.4941 45.5457,-75.4388 45.561,-75.4419 45.5606,-75.4491 45.5724,-75.4511 45.5727,-75.445 45.5911,-75.4463 45.5922,-75.4256 45.5988,-75.427 45.5993,-75.4149 45.5962,-75.4147 45.5967,-75.4075 45.5938,-75.4072 45.5974,-75.3543</polygon>\n",
      "            <geocode>\n",
      "                <valueName>layer:EC-MSC-SMC:1.0:CLC</valueName>\n",
      "                <value>031100</value>\n",
      "            </geocode>\n",
      "            <geocode>\n",
      "                <valueName>profile:CAP-CP:Location:0.3</valueName>\n",
      "                <value>2481</value>\n",
      "            </geocode>\n",
      "        </area>\n",
      "    </info>\n",
      "<Signature xmlns=\"http://www.w3.org/2000/09/xmldsig#\" Id=\"Environment Canada\">\n",
      "<SignedInfo>\n",
      "<CanonicalizationMethod Algorithm=\"http://www.w3.org/2001/10/xml-exc-c14n#\"/>\n",
      "<SignatureMethod Algorithm=\"http://www.w3.org/2001/04/xmldsig-more#rsa-sha256\"/>\n",
      "<Reference URI=\"\">\n",
      "<Transforms>\n",
      "<Transform Algorithm=\"http://www.w3.org/2000/09/xmldsig#enveloped-signature\"/>\n",
      "</Transforms>\n",
      "<DigestMethod Algorithm=\"http://www.w3.org/2001/04/xmlenc#sha256\"/>\n",
      "<DigestValue>E6KorX4Gq901y0WL+5wcTJKH0GvFLDritt63ihiWGws=</DigestValue>\n",
      "</Reference>\n",
      "</SignedInfo>\n",
      "<SignatureValue>tjZLCLe8p+pJMtjRSyHepoftEAzu06EpFdIKGwH4udO8kM0lXEGUvNUIzuQxWN+p\n",
      "mKtMKMzbppY+K8ipH3ymmerAW5iBFWdVrWq/Rj1H9WoipdlXWCIbG0qjMZrni2r/\n",
      "GYRZXEOiYZGC/DbFxbE1+DBMpFVgw+72saA8fYLbyoXqynNq1Owg774Cdb6c26SL\n",
      "7u8UVE0k3rqns5iz95iit9kRl58twASlAcVhBbdWctIGhyRne8s2q+fSRZ03YlJE\n",
      "1HVHVmnLMhWTFrT8L1ISiyu8XdlA93BIbFNEfRTAagDuFM7mA8ipPakSV7WNd4bv\n",
      "blLOrSkP5Zt1JzSjwx1F3Q==</SignatureValue>\n",
      "<KeyInfo>\n",
      "<X509Data>\n",
      "<X509Certificate>MIIHQDCCBiigAwIBAgIQauIRkpOPcGViI+LoZHWDFzANBgkqhkiG9w0BAQsFADCB\n",
      "ujELMAkGA1UEBhMCVVMxFjAUBgNVBAoTDUVudHJ1c3QsIEluYy4xKDAmBgNVBAsT\n",
      "H1NlZSB3d3cuZW50cnVzdC5uZXQvbGVnYWwtdGVybXMxOTA3BgNVBAsTMChjKSAy\n",
      "MDEyIEVudHJ1c3QsIEluYy4gLSBmb3IgYXV0aG9yaXplZCB1c2Ugb25seTEuMCwG\n",
      "A1UEAxMlRW50cnVzdCBDZXJ0aWZpY2F0aW9uIEF1dGhvcml0eSAtIEwxSzAeFw0y\n",
      "MzA0MjcxNDEyNDVaFw0yNDA1MDcxNDEyNDVaMGwxCzAJBgNVBAYTAkNBMQ8wDQYD\n",
      "VQQIEwZRdWViZWMxETAPBgNVBAcTCEdhdGluZWF1MR8wHQYDVQQKExZTaGFyZWQg\n",
      "U2VydmljZXMgQ2FuYWRhMRgwFgYDVQQDDA8qLndlYXRoZXIuZ2MuY2EwggEiMA0G\n",
      "CSqGSIb3DQEBAQUAA4IBDwAwggEKAoIBAQDOSYFvWlJgQgD5twPwuMqUXQB8Raj6\n",
      "enUh60KlOqYi2Moja8qBMhANS848XjHd+OlTNKv5J9YT6OoxTqcRe60e3nWYF6/u\n",
      "Plu+O4KWOO8x6jWbttEn5G7j7V35yaWXqP0LObVrQLDMYX3D4xsm+MJK7eyGJz8k\n",
      "AJAJYONS/+dp7/0jlrzlTjyuT4Uk50zVDvTGxiYpgjPfuXG9Bke5q8Cju4EEgAfW\n",
      "1I2+67Is7ae2fTjhvPH+w+L4iujk1ucmkrZqd2Norr8eeLebvDiSNxV4FkdzUZKQ\n",
      "TTycHQb1u/79WGgRKCH+nPYTzW/l/muRz59V0LKTQOlFmq8H45fmSYWZAgMBAAGj\n",
      "ggONMIIDiTAMBgNVHRMBAf8EAjAAMB0GA1UdDgQWBBRlq9u/A7i58xA3Eb4DmYis\n",
      "FzYwKTAfBgNVHSMEGDAWgBSConB03bxTP8971PfNf6dgxgpMvzBoBggrBgEFBQcB\n",
      "AQRcMFowIwYIKwYBBQUHMAGGF2h0dHA6Ly9vY3NwLmVudHJ1c3QubmV0MDMGCCsG\n",
      "AQUFBzAChidodHRwOi8vYWlhLmVudHJ1c3QubmV0L2wxay1jaGFpbjI1Ni5jZXIw\n",
      "MwYDVR0fBCwwKjAooCagJIYiaHR0cDovL2NybC5lbnRydXN0Lm5ldC9sZXZlbDFr\n",
      "LmNybDCBnQYDVR0RBIGVMIGSgg8qLndlYXRoZXIuZ2MuY2GCDXdlYXRoZXIuZ2Mu\n",
      "Y2GCC21ldGVvLmdjLmNhgg0qLm1ldGVvLmdjLmNhghUqLmFscGhhLndlYXRoZXIu\n",
      "Z2MuY2GCEyouYWxwaGEubWV0ZW8uZ2MuY2GCFCouYmV0YS53ZWF0aGVyLmdjLmNh\n",
      "ghIqLmJldGEubWV0ZW8uZ2MuY2EwDgYDVR0PAQH/BAQDAgWgMB0GA1UdJQQWMBQG\n",
      "CCsGAQUFBwMBBggrBgEFBQcDAjBMBgNVHSAERTBDMDcGCmCGSAGG+mwKAQUwKTAn\n",
      "BggrBgEFBQcCARYbaHR0cHM6Ly93d3cuZW50cnVzdC5uZXQvcnBhMAgGBmeBDAEC\n",
      "AjCCAXsGCisGAQQB1nkCBAIEggFrBIIBZwFlAHUAc9meiRtMlnigIH1HneayxhzQ\n",
      "UV5xGSqMa4AQesF3crUAAAGHww80IQAABAMARjBEAiAkpowR7bbTYLp4v/tw0Fav\n",
      "HHP8mm2i6/ecg03yasJkkgIga1hmg5g/Gq97+HOCDwjsy77aS8+PirSarIO6/X1H\n",
      "EfkAdQA7U3d1Pi25gE6LMFsG/kA7Z9hPw/THvQANLXJv4frUFwAAAYfDDzQcAAAE\n",
      "AwBGMEQCIBKVCiUTam6W9Y+5TiuhpsxVVx2TYVz9SebYPuB4XyHUAiB4Y9ZXnkOt\n",
      "rJJAaw4im3kY7OWZG40xPUL1ygK8trUsIAB1AO7N0GTV2xrOxVy3nbTNE6Iyh0Z8\n",
      "vOzew1FIWUZxH7WbAAABh8MPNF0AAAQDAEYwRAIgYbZkNJlz8a4d35p4+wLg0h5P\n",
      "WtFyyBEqy06IoSV7UWICIH65mirJoLVsZFK7kXW3IJF4+xlgATBcr/n2ImBLSWug\n",
      "MA0GCSqGSIb3DQEBCwUAA4IBAQCcp2dfEDsCzJHpMsTF1hlEyYPTgmfrSbgegWT3\n",
      "76r0r7XGY7qIym53HE6Pk3Q7BgsegpV+pS8UMWx1m9x0ZcUQX11gMBlNLv0WCSBe\n",
      "4/9BOaGc2deYrXsRAmmFJwqvgegcBSQhg4zZSoSSVqJPhaJ1WYWqDbJW+doY15xy\n",
      "JPm7UbZqCAbzm3/c36N9j/Zu6h+LA9rhltfwYoWCyqlBtJCRrs7K7KEP+dLtsoby\n",
      "+AhyY+3dK2IB4G7v5Qbxa88WKV9EsXXMpvl0v/kXSDjIHJwRPyOf1OKU9x2Mc3Mx\n",
      "KEgzSJ0GUUW0RqqCVWZ14TBoxUq1jJw4m12zSF+PYFpSH6g5</X509Certificate>\n",
      "</X509Data>\n",
      "</KeyInfo>\n",
      "</Signature></alert>\n",
      "\n"
     ]
    }
   ],
   "source": [
    "try:\n",
    "    with open (full_path) as file:\n",
    "        print(file.read())\n",
    "except FileNotFoundError:\n",
    "    print(\"I need help John!!\")\n"
   ]
  }
 ],
 "metadata": {
  "kernelspec": {
   "display_name": "Python 3",
   "language": "python",
   "name": "python3"
  },
  "language_info": {
   "codemirror_mode": {
    "name": "ipython",
    "version": 3
   },
   "file_extension": ".py",
   "mimetype": "text/x-python",
   "name": "python",
   "nbconvert_exporter": "python",
   "pygments_lexer": "ipython3",
   "version": "3.11.3"
  },
  "orig_nbformat": 4
 },
 "nbformat": 4,
 "nbformat_minor": 2
}
