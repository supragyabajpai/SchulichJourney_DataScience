{
 "cells": [
  {
   "cell_type": "code",
   "execution_count": 1,
   "metadata": {},
   "outputs": [],
   "source": [
    "import sqlalchemy\n",
    "import requests\n",
    "import nest_asyncio\n",
    "from requests_html import AsyncHTMLSession"
   ]
  },
  {
   "cell_type": "code",
   "execution_count": 2,
   "metadata": {},
   "outputs": [],
   "source": [
    "nest_asyncio.apply()\n",
    "asession = AsyncHTMLSession()"
   ]
  },
  {
   "cell_type": "code",
   "execution_count": 3,
   "metadata": {},
   "outputs": [],
   "source": [
    "async def fetch_website(weburl):\n",
    "    url = weburl\n",
    "    r = await asession.get(url)\n",
    "    \n",
    "    if r.status_code == 200:\n",
    "        print(f\"Successfully fetched data from {url}\")\n",
    "    else:\n",
    "        print(f\"Failed to fetch data from {url}, status code: {r.status_code}\")\n",
    "\n",
    "    await r.html.arender(sleep=1)\n",
    "    \n",
    "    href_list = r.html.find('pre a[href]')\n",
    "    href_values = [link.attrs['href'] for link in href_list]\n",
    "\n",
    "    return href_values\n"
   ]
  },
  {
   "cell_type": "code",
   "execution_count": 4,
   "metadata": {},
   "outputs": [
    {
     "name": "stdout",
     "output_type": "stream",
     "text": [
      "Successfully fetched data from https://dd.weather.gc.ca/alerts/cap/\n"
     ]
    }
   ],
   "source": [
    "weburl = 'https://dd.weather.gc.ca/alerts/cap/'\n",
    "href_values_list = asession.loop.run_until_complete(fetch_website(weburl))\n",
    "latest_date = href_values_list[-1]"
   ]
  },
  {
   "cell_type": "code",
   "execution_count": 5,
   "metadata": {},
   "outputs": [
    {
     "name": "stdout",
     "output_type": "stream",
     "text": [
      "----------------------\n",
      "Today's Date :  2023 - 08 - 11\n",
      "----------------------\n",
      "https://dd.weather.gc.ca/alerts/cap/20230811/CWTO/\n"
     ]
    }
   ],
   "source": [
    "print(\"----------------------\")\n",
    "print(\"Today's Date : \",latest_date[0:4],\"-\",latest_date[4:6],\"-\",latest_date[6:8])\n",
    "print(\"----------------------\")\n",
    "new_url = weburl+latest_date+'CWTO/'\n",
    "print(new_url)"
   ]
  },
  {
   "cell_type": "code",
   "execution_count": 6,
   "metadata": {},
   "outputs": [
    {
     "name": "stdout",
     "output_type": "stream",
     "text": [
      "Successfully fetched data from https://dd.weather.gc.ca/alerts/cap/20230811/CWTO/\n"
     ]
    }
   ],
   "source": [
    "new_href_values_list = asession.loop.run_until_complete(fetch_website(new_url))\n",
    "latest_file = new_href_values_list[-1]\n"
   ]
  },
  {
   "cell_type": "code",
   "execution_count": 7,
   "metadata": {},
   "outputs": [
    {
     "name": "stdout",
     "output_type": "stream",
     "text": [
      "00/\n"
     ]
    }
   ],
   "source": [
    "latest_file = new_href_values_list[-1]\n",
    "print(latest_file)"
   ]
  },
  {
   "cell_type": "code",
   "execution_count": 8,
   "metadata": {},
   "outputs": [
    {
     "name": "stdout",
     "output_type": "stream",
     "text": [
      "https://dd.weather.gc.ca/alerts/cap/20230811/CWTO/00/\n"
     ]
    }
   ],
   "source": [
    "newz_url = new_url+latest_file\n",
    "print(newz_url)"
   ]
  },
  {
   "cell_type": "code",
   "execution_count": 9,
   "metadata": {},
   "outputs": [
    {
     "name": "stdout",
     "output_type": "stream",
     "text": [
      "Successfully fetched data from https://dd.weather.gc.ca/alerts/cap/20230811/CWTO/00/\n"
     ]
    }
   ],
   "source": [
    "new_href_values_list = asession.loop.run_until_complete(fetch_website(newz_url))\n",
    "latest_datz = new_href_values_list[-1]"
   ]
  },
  {
   "cell_type": "code",
   "execution_count": 10,
   "metadata": {},
   "outputs": [
    {
     "name": "stdout",
     "output_type": "stream",
     "text": [
      "T_WHCN13_C_CWTO_202308110039_4240567180.cap\n"
     ]
    }
   ],
   "source": [
    "latest_datz = new_href_values_list[-1]\n",
    "print(latest_datz)"
   ]
  },
  {
   "cell_type": "code",
   "execution_count": 11,
   "metadata": {},
   "outputs": [],
   "source": [
    "latest_file = newz_url+latest_datz"
   ]
  },
  {
   "cell_type": "code",
   "execution_count": 12,
   "metadata": {},
   "outputs": [
    {
     "name": "stdout",
     "output_type": "stream",
     "text": [
      "https://dd.weather.gc.ca/alerts/cap/20230811/CWTO/00/T_WHCN13_C_CWTO_202308110039_4240567180.cap\n"
     ]
    }
   ],
   "source": [
    "print(latest_file)"
   ]
  },
  {
   "cell_type": "code",
   "execution_count": 13,
   "metadata": {},
   "outputs": [],
   "source": [
    "req = requests.get(latest_file)"
   ]
  },
  {
   "cell_type": "code",
   "execution_count": 14,
   "metadata": {},
   "outputs": [
    {
     "data": {
      "text/plain": [
       "'https://dd.weather.gc.ca/alerts/cap/20230811/CWTO/00/T_WHCN13_C_CWTO_202308110039_4240567180.cap'"
      ]
     },
     "execution_count": 14,
     "metadata": {},
     "output_type": "execute_result"
    }
   ],
   "source": [
    "req.url"
   ]
  },
  {
   "cell_type": "code",
   "execution_count": 15,
   "metadata": {},
   "outputs": [],
   "source": [
    "import os\n",
    "\n",
    "directory_path = r\"C:\\Users\\supra\\OneDrive\\Desktop\\Schulich MBAN\\Sem- 1\\Database fundamentals\\WeatherAPI_file\" # replace the file path\n",
    "latest_datz = \"example_file.txt\" # need a loop\n",
    "\n",
    "full_path = os.path.join(directory_path, latest_datz)"
   ]
  },
  {
   "cell_type": "code",
   "execution_count": 16,
   "metadata": {},
   "outputs": [],
   "source": [
    "with open(full_path, 'wb') as f:\n",
    "    for chunk in req.iter_content(chunk_size=8192):\n",
    "        if chunk:\n",
    "            f.write(chunk)"
   ]
  },
  {
   "cell_type": "code",
   "execution_count": 17,
   "metadata": {},
   "outputs": [
    {
     "name": "stdout",
     "output_type": "stream",
     "text": [
      "<?xml version='1.0' encoding='UTF-8' standalone='no'?>\n",
      "<alert xmlns=\"urn:oasis:names:tc:emergency:cap:1.2\">\n",
      "    <identifier>urn:oid:2.49.0.1.124.4240567180.2023</identifier>\n",
      "    <sender>cap-pac@canada.ca</sender>\n",
      "    <sent>2023-08-11T00:39:30-00:00</sent>\n",
      "    <status>Actual</status>\n",
      "    <msgType>Update</msgType>\n",
      "    <source>Env. Can. - Can. Met. Ctr. â€“ MontrÃ©al</source>\n",
      "    <scope>Public</scope>\n",
      "    <code>profile:CAP-CP:0.4</code>\n",
      "    <code>layer:SOREM:1.0</code>\n",
      "    <code>layer:EC-MSC-SMC:1.0</code>\n",
      "    <code>layer:EC-MSC-SMC:1.1</code>\n",
      "    <code>layer:SOREM:2.0</code>\n",
      "    <note>Service Notice - February 2023: The Environment and Climate Change Canada (ECCC) CAP Service undergoes changes from time to time as the business of alerting evolves. For 2023, changes will include... 1) modifications, or even removal, of the Wireless Public Alerting Message (WPAM) layer due to the successful pilot of the UpdateX feature recently deployed in the Canadian Cell Broadcasting Environment, and 2) other minor improvements and corrections. For more information on these changes, you are invited to subscribe to the following mailing list: http://lists.cmc.ec.gc.ca/mailman/listinfo/dd_info | Notification de service - fÃ©vrier 2023: Le service du PAC dâ€™Environnement et Changement climatique Canada (ECCC) subit pÃ©riodiquement des changements et ajouts Ã  mesure que le systÃ¨me dâ€™alerte Ã©volue. Pour 2023, ces changements incluent... 1) des modifications, voire la suppression, de la couche du Service dâ€™alertes sans fil au public (WPAM) en raison du succÃ¨s du projet pilote de la fonctionnalitÃ© UpdateX rÃ©cemment dÃ©ployÃ©e dans lâ€™environnement de diffusion sans fil canadien, et 2) dâ€™autres amÃ©liorations et corrections mineures. Pour plus dâ€™informations sur ces changements, vous Ãªtes invitÃ©s Ã  vous inscrire Ã  la liste de diffusion suivante: http://lists.cmc.ec.gc.ca/mailman/listinfo/dd_info</note>\n",
      "    <references>cap-pac@canada.ca,urn:oid:2.49.0.1.124.0708395361.2023,2023-08-10T23:13:01-00:00 cap-pac@canada.ca,urn:oid:2.49.0.1.124.2758028880.2023,2023-08-10T23:13:58-00:00 cap-pac@canada.ca,urn:oid:2.49.0.1.124.3967654273.2023,2023-08-10T23:39:12-00:00 cap-pac@canada.ca,urn:oid:2.49.0.1.124.2145209213.2023,2023-08-10T23:41:04-00:00 cap-pac@canada.ca,urn:oid:2.49.0.1.124.4142364390.2023,2023-08-10T23:41:57-00:00 cap-pac@canada.ca,urn:oid:2.49.0.1.124.2421992812.2023,2023-08-10T23:43:37-00:00 cap-pac@canada.ca,urn:oid:2.49.0.1.124.0580892883.2023,2023-08-11T00:14:46-00:00 cap-pac@canada.ca,urn:oid:2.49.0.1.124.0575372934.2023,2023-08-11T00:16:19-00:00</references>\n",
      "    <info>\n",
      "        <language>en-CA</language>\n",
      "        <category>Met</category>\n",
      "        <event>squall</event>\n",
      "        <responseType>AllClear</responseType>\n",
      "        <urgency>Past</urgency>\n",
      "        <severity>Minor</severity>\n",
      "        <certainty>Observed</certainty>\n",
      "        <audience>general public</audience>\n",
      "        <eventCode>\n",
      "            <valueName>profile:CAP-CP:Event:0.4</valueName>\n",
      "            <value>squall</value>\n",
      "        </eventCode>\n",
      "        <effective>2023-08-11T00:39:30-00:00</effective>\n",
      "        <expires>2023-08-11T01:39:30-00:00</expires>\n",
      "        <senderName>Environment Canada</senderName>\n",
      "        <headline>squall warning ended</headline>\n",
      "        <description>\n",
      "Squalls have weakened or moved out of the area.\n",
      "\n",
      "\n",
      "###\n",
      "</description>\n",
      "        <instruction/>\n",
      "        <web>http://weather.gc.ca/marine/index_e.html</web>\n",
      "        <parameter>\n",
      "            <valueName>layer:EC-MSC-SMC:1.0:Alert_Type</valueName>\n",
      "            <value>warning</value>\n",
      "        </parameter>\n",
      "        <parameter>\n",
      "            <valueName>layer:EC-MSC-SMC:1.0:Broadcast_Intrusive</valueName>\n",
      "            <value>no</value>\n",
      "        </parameter>\n",
      "        <parameter>\n",
      "            <valueName>layer:SOREM:1.0:Broadcast_Immediately</valueName>\n",
      "            <value>No</value>\n",
      "        </parameter>\n",
      "        <parameter>\n",
      "            <valueName>layer:EC-MSC-SMC:1.1:Parent_URI</valueName>\n",
      "            <value>msc/alert/environment/hazard/alert-3.0-ascii/consolidated-xml-2.0/20230811003930980/WH_13_73_CWTO/SQW/2313014351806206363202308100503_WH_13_73_CWTO/actual/en_proper_complete_c-fr_proper_complete_c/NinJo</value>\n",
      "        </parameter>\n",
      "        <parameter>\n",
      "            <valueName>layer:EC-MSC-SMC:1.1:CAP_count</valueName>\n",
      "            <value>A:8104 M:44671 C:54182</value>\n",
      "        </parameter>\n",
      "        <parameter>\n",
      "            <valueName>layer:EC-MSC-SMC:1.0:Alert_Location_Status</valueName>\n",
      "            <value>ended</value>\n",
      "        </parameter>\n",
      "        <parameter>\n",
      "            <valueName>layer:EC-MSC-SMC:1.0:Alert_Name</valueName>\n",
      "            <value>squall warning</value>\n",
      "        </parameter>\n",
      "        <parameter>\n",
      "            <valueName>layer:EC-MSC-SMC:1.0:Alert_Coverage</valueName>\n",
      "            <value>Canadian portion of the Great Lakes and the Ontario portion of the St. Lawrence River</value>\n",
      "        </parameter>\n",
      "        <parameter>\n",
      "            <valueName>layer:EC-MSC-SMC:1.1:Designation_Code</valueName>\n",
      "            <value>WH_13_73_CWTO</value>\n",
      "        </parameter>\n",
      "        <parameter>\n",
      "            <valueName>layer:SOREM:2.0:WirelessImmediate</valueName>\n",
      "            <value>No</value>\n",
      "        </parameter>\n",
      "        <parameter>\n",
      "            <valueName>layer:EC-MSC-SMC:1.1:Alert_Location_Status</valueName>\n",
      "            <value>ended</value>\n",
      "        </parameter>\n",
      "        <area>\n",
      "            <areaDesc>Eastern Lake Erie</areaDesc>\n",
      "            <polygon>42.3935,-80.0799 42.2591,-80.9327 42.66,-81.1553 42.784,-81.2109 42.7293,-80.5966 42.9012,-80.3291 42.9814,-79.6261 42.9623,-79.0529 42.9389,-78.8933 42.9052,-78.9059 42.8283,-78.9353 42.3935,-80.0799</polygon>\n",
      "            <geocode>\n",
      "                <valueName>layer:EC-MSC-SMC:1.0:CLC</valueName>\n",
      "                <value>002211</value>\n",
      "            </geocode>\n",
      "            <geocode>\n",
      "                <valueName>profile:CAP-CP:Location:0.3</valueName>\n",
      "                <value>3526003</value>\n",
      "            </geocode>\n",
      "            <geocode>\n",
      "                <valueName>profile:CAP-CP:Location:0.3</valueName>\n",
      "                <value>3526011</value>\n",
      "            </geocode>\n",
      "            <geocode>\n",
      "                <valueName>profile:CAP-CP:Location:0.3</valueName>\n",
      "                <value>3526014</value>\n",
      "            </geocode>\n",
      "            <geocode>\n",
      "                <valueName>profile:CAP-CP:Location:0.3</valueName>\n",
      "                <value>3528018</value>\n",
      "            </geocode>\n",
      "            <geocode>\n",
      "                <valueName>profile:CAP-CP:Location:0.3</valueName>\n",
      "                <value>3528052</value>\n",
      "            </geocode>\n",
      "            <geocode>\n",
      "                <valueName>profile:CAP-CP:Location:0.3</valueName>\n",
      "                <value>3534005</value>\n",
      "            </geocode>\n",
      "            <geocode>\n",
      "                <valueName>profile:CAP-CP:Location:0.3</valueName>\n",
      "                <value>3534010</value>\n",
      "            </geocode>\n",
      "            <geocode>\n",
      "                <valueName>profile:CAP-CP:Location:0.3</valueName>\n",
      "                <value>3534020</value>\n",
      "            </geocode>\n",
      "        </area>\n",
      "    </info>\n",
      "    <info>\n",
      "        <language>fr-CA</language>\n",
      "        <category>Met</category>\n",
      "        <event>grains</event>\n",
      "        <responseType>AllClear</responseType>\n",
      "        <urgency>Past</urgency>\n",
      "        <severity>Minor</severity>\n",
      "        <certainty>Observed</certainty>\n",
      "        <audience>grand public</audience>\n",
      "        <eventCode>\n",
      "            <valueName>profile:CAP-CP:Event:0.4</valueName>\n",
      "            <value>squall</value>\n",
      "        </eventCode>\n",
      "        <effective>2023-08-11T00:39:30-00:00</effective>\n",
      "        <expires>2023-08-11T01:39:30-00:00</expires>\n",
      "        <senderName>Environnement Canada</senderName>\n",
      "        <headline>avertissement de grains annulÃ©</headline>\n",
      "        <description>\n",
      "Les grains ont faibli ou ont quittÃ© le secteur.\n",
      "\n",
      "###\n",
      "</description>\n",
      "        <instruction/>\n",
      "        <web>http://meteo.gc.ca/marine/index_f.html</web>\n",
      "        <parameter>\n",
      "            <valueName>layer:EC-MSC-SMC:1.0:Alert_Type</valueName>\n",
      "            <value>warning</value>\n",
      "        </parameter>\n",
      "        <parameter>\n",
      "            <valueName>layer:EC-MSC-SMC:1.0:Broadcast_Intrusive</valueName>\n",
      "            <value>no</value>\n",
      "        </parameter>\n",
      "        <parameter>\n",
      "            <valueName>layer:SOREM:1.0:Broadcast_Immediately</valueName>\n",
      "            <value>No</value>\n",
      "        </parameter>\n",
      "        <parameter>\n",
      "            <valueName>layer:EC-MSC-SMC:1.1:Parent_URI</valueName>\n",
      "            <value>msc/alert/environment/hazard/alert-3.0-ascii/consolidated-xml-2.0/20230811003930980/WH_13_73_CWTO/SQW/2313014351806206363202308100503_WH_13_73_CWTO/actual/en_proper_complete_c-fr_proper_complete_c/NinJo</value>\n",
      "        </parameter>\n",
      "        <parameter>\n",
      "            <valueName>layer:EC-MSC-SMC:1.1:CAP_count</valueName>\n",
      "            <value>A:8104 M:44671 C:54182</value>\n",
      "        </parameter>\n",
      "        <parameter>\n",
      "            <valueName>layer:EC-MSC-SMC:1.0:Alert_Location_Status</valueName>\n",
      "            <value>ended</value>\n",
      "        </parameter>\n",
      "        <parameter>\n",
      "            <valueName>layer:EC-MSC-SMC:1.0:Alert_Name</valueName>\n",
      "            <value>avertissement de grains</value>\n",
      "        </parameter>\n",
      "        <parameter>\n",
      "            <valueName>layer:EC-MSC-SMC:1.0:Alert_Coverage</valueName>\n",
      "            <value>secteur canadien des Grands Lacs et le secteur ontarien du fleuve Saint-Laurent</value>\n",
      "        </parameter>\n",
      "        <parameter>\n",
      "            <valueName>layer:EC-MSC-SMC:1.1:Designation_Code</valueName>\n",
      "            <value>WH_13_73_CWTO</value>\n",
      "        </parameter>\n",
      "        <parameter>\n",
      "            <valueName>layer:SOREM:2.0:WirelessImmediate</valueName>\n",
      "            <value>No</value>\n",
      "        </parameter>\n",
      "        <parameter>\n",
      "            <valueName>layer:EC-MSC-SMC:1.1:Alert_Location_Status</valueName>\n",
      "            <value>ended</value>\n",
      "        </parameter>\n",
      "        <area>\n",
      "            <areaDesc>lac Ã‰riÃ© Est</areaDesc>\n",
      "            <polygon>42.3935,-80.0799 42.2591,-80.9327 42.66,-81.1553 42.784,-81.2109 42.7293,-80.5966 42.9012,-80.3291 42.9814,-79.6261 42.9623,-79.0529 42.9389,-78.8933 42.9052,-78.9059 42.8283,-78.9353 42.3935,-80.0799</polygon>\n",
      "            <geocode>\n",
      "                <valueName>layer:EC-MSC-SMC:1.0:CLC</valueName>\n",
      "                <value>002211</value>\n",
      "            </geocode>\n",
      "            <geocode>\n",
      "                <valueName>profile:CAP-CP:Location:0.3</valueName>\n",
      "                <value>3526003</value>\n",
      "            </geocode>\n",
      "            <geocode>\n",
      "                <valueName>profile:CAP-CP:Location:0.3</valueName>\n",
      "                <value>3526011</value>\n",
      "            </geocode>\n",
      "            <geocode>\n",
      "                <valueName>profile:CAP-CP:Location:0.3</valueName>\n",
      "                <value>3526014</value>\n",
      "            </geocode>\n",
      "            <geocode>\n",
      "                <valueName>profile:CAP-CP:Location:0.3</valueName>\n",
      "                <value>3528018</value>\n",
      "            </geocode>\n",
      "            <geocode>\n",
      "                <valueName>profile:CAP-CP:Location:0.3</valueName>\n",
      "                <value>3528052</value>\n",
      "            </geocode>\n",
      "            <geocode>\n",
      "                <valueName>profile:CAP-CP:Location:0.3</valueName>\n",
      "                <value>3534005</value>\n",
      "            </geocode>\n",
      "            <geocode>\n",
      "                <valueName>profile:CAP-CP:Location:0.3</valueName>\n",
      "                <value>3534010</value>\n",
      "            </geocode>\n",
      "            <geocode>\n",
      "                <valueName>profile:CAP-CP:Location:0.3</valueName>\n",
      "                <value>3534020</value>\n",
      "            </geocode>\n",
      "        </area>\n",
      "    </info>\n",
      "<Signature xmlns=\"http://www.w3.org/2000/09/xmldsig#\" Id=\"Environment Canada\">\n",
      "<SignedInfo>\n",
      "<CanonicalizationMethod Algorithm=\"http://www.w3.org/2001/10/xml-exc-c14n#\"/>\n",
      "<SignatureMethod Algorithm=\"http://www.w3.org/2001/04/xmldsig-more#rsa-sha256\"/>\n",
      "<Reference URI=\"\">\n",
      "<Transforms>\n",
      "<Transform Algorithm=\"http://www.w3.org/2000/09/xmldsig#enveloped-signature\"/>\n",
      "</Transforms>\n",
      "<DigestMethod Algorithm=\"http://www.w3.org/2001/04/xmlenc#sha256\"/>\n",
      "<DigestValue>+KLYh7Tn2vfdrjPOipFhpV3m4I4ZhSxKxdd+coCh6+A=</DigestValue>\n",
      "</Reference>\n",
      "</SignedInfo>\n",
      "<SignatureValue>x5uFukiUYZ0tEwpBz8ch8czmrMRhYJK99u0p0BlHKrGZr9bxwchxQf9ZdSIw8PoF\n",
      "2gDuewCZxoM2DuKthDPHfYcBn7ELzoE1UG39Vki0yz8231VIVtQh86CxYqhOyNP4\n",
      "5H0KD4Vx/1y9KDcPLLXVUny7N/QvUtn8MMBoriXKl1IXvweTGEiUoGlimH9B48TJ\n",
      "3Z+JDhxRcHkj5PYlRGkEWZm4d08s8Ww5H8tgt13eVpOjddEmLhCVn7UVX7dPPBfn\n",
      "Pp9xVlH93vuAsVmxLR50OHyZuBqH4k7kyMpMUWyBWYkg0t0/WXuU7Py3w2ai2UPl\n",
      "MV++aMFLhAymuv/V1wcEOg==</SignatureValue>\n",
      "<KeyInfo>\n",
      "<X509Data>\n",
      "<X509Certificate>MIIHQDCCBiigAwIBAgIQauIRkpOPcGViI+LoZHWDFzANBgkqhkiG9w0BAQsFADCB\n",
      "ujELMAkGA1UEBhMCVVMxFjAUBgNVBAoTDUVudHJ1c3QsIEluYy4xKDAmBgNVBAsT\n",
      "H1NlZSB3d3cuZW50cnVzdC5uZXQvbGVnYWwtdGVybXMxOTA3BgNVBAsTMChjKSAy\n",
      "MDEyIEVudHJ1c3QsIEluYy4gLSBmb3IgYXV0aG9yaXplZCB1c2Ugb25seTEuMCwG\n",
      "A1UEAxMlRW50cnVzdCBDZXJ0aWZpY2F0aW9uIEF1dGhvcml0eSAtIEwxSzAeFw0y\n",
      "MzA0MjcxNDEyNDVaFw0yNDA1MDcxNDEyNDVaMGwxCzAJBgNVBAYTAkNBMQ8wDQYD\n",
      "VQQIEwZRdWViZWMxETAPBgNVBAcTCEdhdGluZWF1MR8wHQYDVQQKExZTaGFyZWQg\n",
      "U2VydmljZXMgQ2FuYWRhMRgwFgYDVQQDDA8qLndlYXRoZXIuZ2MuY2EwggEiMA0G\n",
      "CSqGSIb3DQEBAQUAA4IBDwAwggEKAoIBAQDOSYFvWlJgQgD5twPwuMqUXQB8Raj6\n",
      "enUh60KlOqYi2Moja8qBMhANS848XjHd+OlTNKv5J9YT6OoxTqcRe60e3nWYF6/u\n",
      "Plu+O4KWOO8x6jWbttEn5G7j7V35yaWXqP0LObVrQLDMYX3D4xsm+MJK7eyGJz8k\n",
      "AJAJYONS/+dp7/0jlrzlTjyuT4Uk50zVDvTGxiYpgjPfuXG9Bke5q8Cju4EEgAfW\n",
      "1I2+67Is7ae2fTjhvPH+w+L4iujk1ucmkrZqd2Norr8eeLebvDiSNxV4FkdzUZKQ\n",
      "TTycHQb1u/79WGgRKCH+nPYTzW/l/muRz59V0LKTQOlFmq8H45fmSYWZAgMBAAGj\n",
      "ggONMIIDiTAMBgNVHRMBAf8EAjAAMB0GA1UdDgQWBBRlq9u/A7i58xA3Eb4DmYis\n",
      "FzYwKTAfBgNVHSMEGDAWgBSConB03bxTP8971PfNf6dgxgpMvzBoBggrBgEFBQcB\n",
      "AQRcMFowIwYIKwYBBQUHMAGGF2h0dHA6Ly9vY3NwLmVudHJ1c3QubmV0MDMGCCsG\n",
      "AQUFBzAChidodHRwOi8vYWlhLmVudHJ1c3QubmV0L2wxay1jaGFpbjI1Ni5jZXIw\n",
      "MwYDVR0fBCwwKjAooCagJIYiaHR0cDovL2NybC5lbnRydXN0Lm5ldC9sZXZlbDFr\n",
      "LmNybDCBnQYDVR0RBIGVMIGSgg8qLndlYXRoZXIuZ2MuY2GCDXdlYXRoZXIuZ2Mu\n",
      "Y2GCC21ldGVvLmdjLmNhgg0qLm1ldGVvLmdjLmNhghUqLmFscGhhLndlYXRoZXIu\n",
      "Z2MuY2GCEyouYWxwaGEubWV0ZW8uZ2MuY2GCFCouYmV0YS53ZWF0aGVyLmdjLmNh\n",
      "ghIqLmJldGEubWV0ZW8uZ2MuY2EwDgYDVR0PAQH/BAQDAgWgMB0GA1UdJQQWMBQG\n",
      "CCsGAQUFBwMBBggrBgEFBQcDAjBMBgNVHSAERTBDMDcGCmCGSAGG+mwKAQUwKTAn\n",
      "BggrBgEFBQcCARYbaHR0cHM6Ly93d3cuZW50cnVzdC5uZXQvcnBhMAgGBmeBDAEC\n",
      "AjCCAXsGCisGAQQB1nkCBAIEggFrBIIBZwFlAHUAc9meiRtMlnigIH1HneayxhzQ\n",
      "UV5xGSqMa4AQesF3crUAAAGHww80IQAABAMARjBEAiAkpowR7bbTYLp4v/tw0Fav\n",
      "HHP8mm2i6/ecg03yasJkkgIga1hmg5g/Gq97+HOCDwjsy77aS8+PirSarIO6/X1H\n",
      "EfkAdQA7U3d1Pi25gE6LMFsG/kA7Z9hPw/THvQANLXJv4frUFwAAAYfDDzQcAAAE\n",
      "AwBGMEQCIBKVCiUTam6W9Y+5TiuhpsxVVx2TYVz9SebYPuB4XyHUAiB4Y9ZXnkOt\n",
      "rJJAaw4im3kY7OWZG40xPUL1ygK8trUsIAB1AO7N0GTV2xrOxVy3nbTNE6Iyh0Z8\n",
      "vOzew1FIWUZxH7WbAAABh8MPNF0AAAQDAEYwRAIgYbZkNJlz8a4d35p4+wLg0h5P\n",
      "WtFyyBEqy06IoSV7UWICIH65mirJoLVsZFK7kXW3IJF4+xlgATBcr/n2ImBLSWug\n",
      "MA0GCSqGSIb3DQEBCwUAA4IBAQCcp2dfEDsCzJHpMsTF1hlEyYPTgmfrSbgegWT3\n",
      "76r0r7XGY7qIym53HE6Pk3Q7BgsegpV+pS8UMWx1m9x0ZcUQX11gMBlNLv0WCSBe\n",
      "4/9BOaGc2deYrXsRAmmFJwqvgegcBSQhg4zZSoSSVqJPhaJ1WYWqDbJW+doY15xy\n",
      "JPm7UbZqCAbzm3/c36N9j/Zu6h+LA9rhltfwYoWCyqlBtJCRrs7K7KEP+dLtsoby\n",
      "+AhyY+3dK2IB4G7v5Qbxa88WKV9EsXXMpvl0v/kXSDjIHJwRPyOf1OKU9x2Mc3Mx\n",
      "KEgzSJ0GUUW0RqqCVWZ14TBoxUq1jJw4m12zSF+PYFpSH6g5</X509Certificate>\n",
      "</X509Data>\n",
      "</KeyInfo>\n",
      "</Signature></alert>\n",
      "\n"
     ]
    }
   ],
   "source": [
    "try:\n",
    "    with open (full_path) as file:\n",
    "        print(file.read())\n",
    "except FileNotFoundError:\n",
    "    print(\"I need help!!\")\n"
   ]
  },
  {
   "cell_type": "code",
   "execution_count": null,
   "metadata": {},
   "outputs": [],
   "source": []
  },
  {
   "cell_type": "code",
   "execution_count": null,
   "metadata": {},
   "outputs": [],
   "source": []
  },
  {
   "cell_type": "code",
   "execution_count": null,
   "metadata": {},
   "outputs": [],
   "source": []
  },
  {
   "cell_type": "code",
   "execution_count": null,
   "metadata": {},
   "outputs": [],
   "source": []
  },
  {
   "cell_type": "code",
   "execution_count": null,
   "metadata": {},
   "outputs": [],
   "source": []
  },
  {
   "cell_type": "code",
   "execution_count": null,
   "metadata": {},
   "outputs": [],
   "source": []
  },
  {
   "cell_type": "code",
   "execution_count": null,
   "metadata": {},
   "outputs": [],
   "source": []
  }
 ],
 "metadata": {
  "kernelspec": {
   "display_name": "Python 3",
   "language": "python",
   "name": "python3"
  },
  "language_info": {
   "codemirror_mode": {
    "name": "ipython",
    "version": 3
   },
   "file_extension": ".py",
   "mimetype": "text/x-python",
   "name": "python",
   "nbconvert_exporter": "python",
   "pygments_lexer": "ipython3",
   "version": "3.11.3"
  },
  "orig_nbformat": 4
 },
 "nbformat": 4,
 "nbformat_minor": 2
}
