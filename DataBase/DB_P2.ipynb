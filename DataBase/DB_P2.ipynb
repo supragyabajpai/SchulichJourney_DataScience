{
 "cells": [
  {
   "cell_type": "code",
   "execution_count": 485,
   "metadata": {},
   "outputs": [],
   "source": [
    "import sqlalchemy\n",
    "import requests\n",
    "import nest_asyncio\n",
    "from requests_html import AsyncHTMLSession"
   ]
  },
  {
   "cell_type": "code",
   "execution_count": 486,
   "metadata": {},
   "outputs": [],
   "source": [
    "nest_asyncio.apply()\n",
    "asession = AsyncHTMLSession()"
   ]
  },
  {
   "cell_type": "code",
   "execution_count": 487,
   "metadata": {},
   "outputs": [],
   "source": [
    "async def fetch_website(weburl):\n",
    "    url = weburl\n",
    "    r = await asession.get(url)\n",
    "    \n",
    "    if r.status_code == 200:\n",
    "        print(f\"Successfully fetched data from {url}\")\n",
    "    else:\n",
    "        print(f\"Failed to fetch data from {url}, status code: {r.status_code}\")\n",
    "\n",
    "    await r.html.arender(sleep=1)\n",
    "    \n",
    "    href_list = r.html.find('pre a[href]')\n",
    "    href_values = [link.attrs['href'] for link in href_list]\n",
    "\n",
    "    return href_values\n"
   ]
  },
  {
   "cell_type": "code",
   "execution_count": 488,
   "metadata": {},
   "outputs": [
    {
     "name": "stdout",
     "output_type": "stream",
     "text": [
      "Successfully fetched data from https://dd.weather.gc.ca/alerts/cap/\n"
     ]
    }
   ],
   "source": [
    "weburl = 'https://dd.weather.gc.ca/alerts/cap/'\n",
    "href_values_list = asession.loop.run_until_complete(fetch_website(weburl))\n",
    "latest_date = href_values_list[-1]"
   ]
  },
  {
   "cell_type": "code",
   "execution_count": 489,
   "metadata": {},
   "outputs": [
    {
     "name": "stdout",
     "output_type": "stream",
     "text": [
      "----------------------\n",
      "Today's Date :  2023 - 08 - 12\n",
      "----------------------\n",
      "https://dd.weather.gc.ca/alerts/cap/20230812/CWTO/\n"
     ]
    }
   ],
   "source": [
    "print(\"----------------------\")\n",
    "print(\"Today's Date : \",latest_date[0:4],\"-\",latest_date[4:6],\"-\",latest_date[6:8])\n",
    "print(\"----------------------\")\n",
    "new_url = weburl+latest_date+'CWTO/'\n",
    "print(new_url)"
   ]
  },
  {
   "cell_type": "code",
   "execution_count": 490,
   "metadata": {},
   "outputs": [
    {
     "name": "stdout",
     "output_type": "stream",
     "text": [
      "Successfully fetched data from https://dd.weather.gc.ca/alerts/cap/20230812/CWTO/\n"
     ]
    }
   ],
   "source": [
    "new_href_values_list = asession.loop.run_until_complete(fetch_website(new_url))\n",
    "latest_file = new_href_values_list[-1]\n"
   ]
  },
  {
   "cell_type": "code",
   "execution_count": 491,
   "metadata": {},
   "outputs": [
    {
     "name": "stdout",
     "output_type": "stream",
     "text": [
      "17/\n"
     ]
    }
   ],
   "source": [
    "latest_file = new_href_values_list[-1]\n",
    "print(latest_file)"
   ]
  },
  {
   "cell_type": "code",
   "execution_count": 492,
   "metadata": {},
   "outputs": [
    {
     "name": "stdout",
     "output_type": "stream",
     "text": [
      "https://dd.weather.gc.ca/alerts/cap/20230812/CWTO/17/\n"
     ]
    }
   ],
   "source": [
    "newz_url = new_url+latest_file\n",
    "print(newz_url)"
   ]
  },
  {
   "cell_type": "code",
   "execution_count": 493,
   "metadata": {},
   "outputs": [
    {
     "name": "stdout",
     "output_type": "stream",
     "text": [
      "Successfully fetched data from https://dd.weather.gc.ca/alerts/cap/20230812/CWTO/17/\n"
     ]
    }
   ],
   "source": [
    "new_href_values_list = asession.loop.run_until_complete(fetch_website(newz_url))\n",
    "latest_datz = new_href_values_list[-1]"
   ]
  },
  {
   "cell_type": "code",
   "execution_count": 494,
   "metadata": {},
   "outputs": [
    {
     "name": "stdout",
     "output_type": "stream",
     "text": [
      "T_WZCN80_C_CWTO_202308121714_3211400693.cap\n"
     ]
    }
   ],
   "source": [
    "latest_datz = new_href_values_list[-1]\n",
    "print(latest_datz)"
   ]
  },
  {
   "cell_type": "code",
   "execution_count": 495,
   "metadata": {},
   "outputs": [],
   "source": [
    "latest_file = newz_url+latest_datz"
   ]
  },
  {
   "cell_type": "code",
   "execution_count": 496,
   "metadata": {},
   "outputs": [
    {
     "name": "stdout",
     "output_type": "stream",
     "text": [
      "https://dd.weather.gc.ca/alerts/cap/20230812/CWTO/17/T_WZCN80_C_CWTO_202308121714_3211400693.cap\n"
     ]
    }
   ],
   "source": [
    "print(latest_file)"
   ]
  },
  {
   "cell_type": "code",
   "execution_count": 497,
   "metadata": {},
   "outputs": [],
   "source": [
    "req = requests.get(latest_file)"
   ]
  },
  {
   "cell_type": "code",
   "execution_count": 498,
   "metadata": {},
   "outputs": [],
   "source": [
    "import os\n",
    "\n",
    "directory_path = r\"C:\\Users\\supra\\OneDrive\\Desktop\\Schulich MBAN\\Sem- 1\\Database fundamentals\\WeatherAPI_file\" # replace the file path\n",
    "alert = \"alert_file.xml\" \n",
    "full_path = os.path.join(directory_path, alert)"
   ]
  },
  {
   "cell_type": "code",
   "execution_count": 499,
   "metadata": {},
   "outputs": [],
   "source": [
    "with open(full_path, 'wb') as f:\n",
    "    for chunk in req.iter_content(chunk_size=8192):\n",
    "        if chunk:\n",
    "            f.write(chunk)"
   ]
  },
  {
   "cell_type": "code",
   "execution_count": 500,
   "metadata": {},
   "outputs": [
    {
     "name": "stdout",
     "output_type": "stream",
     "text": [
      "We can read the file John, Mike, Gabe, and Rahul\n"
     ]
    }
   ],
   "source": [
    "try:\n",
    "    with open (full_path) as file:\n",
    "        print(\"We can read the file John, Mike, Gabe, and Rahul\")\n",
    "except FileNotFoundError:\n",
    "    print(\"I need help Boys!!\")\n"
   ]
  },
  {
   "cell_type": "markdown",
   "metadata": {},
   "source": [
    "https://www.askpython.com/python-modules/xmltodict-module"
   ]
  },
  {
   "cell_type": "code",
   "execution_count": 501,
   "metadata": {},
   "outputs": [],
   "source": [
    "import xmltodict\n",
    "\n",
    "with open(full_path, 'r') as xml_file:\n",
    "    xml_data = xml_file.read()\n"
   ]
  },
  {
   "cell_type": "code",
   "execution_count": 502,
   "metadata": {},
   "outputs": [],
   "source": [
    "data_dict = xmltodict.parse(xml_data)"
   ]
  },
  {
   "cell_type": "code",
   "execution_count": 527,
   "metadata": {},
   "outputs": [
    {
     "name": "stdout",
     "output_type": "stream",
     "text": [
      "Language: en-CA\n",
      "Category: Met\n",
      "Event: thunderstorm\n",
      "Response Type: Monitor\n",
      "Urgency: Expected\n",
      "Severity: Severe\n",
      "Certainty: Likely\n",
      "Audience: general public\n",
      "Effective: 2023-08-12T17:19:38-00:00\n",
      "Expires: 2023-08-13T03:14:56-00:00\n",
      "Sender Name: Environment Canada\n",
      "Headline: severe thunderstorm watch in effect\n",
      "Description: Conditions are favourable for the development of dangerous thunderstorms that may be capable of producing damaging wind gusts, damaging hail and heavy rain.\n",
      "\n",
      "Hazards:\n",
      "Toonie size hail.\n",
      "Wind gusts up to 100 km/h.\n",
      "Heavy rain.\n",
      "\n",
      "Timing: \n",
      "This afternoon. \n",
      "\n",
      "Discussion:\n",
      "Thunderstorms are expected to develop ahead of an approaching cold front this afternoon. The primary threat with these thunderstorms is hail and wind but heavy rain is also a threat. An isolated tornado also cannot be ruled out.\n",
      "\n",
      "###\n",
      "\n",
      "Very large hail can damage property, break windows, dent vehicles and cause serious injury. Very strong wind gusts can damage buildings, down trees and blow large vehicles off the road.\n",
      "\n",
      "Severe thunderstorm watches are issued when atmospheric conditions are favourable for the development of thunderstorms that could produce one or more of the following: large hail, damaging winds, torrential rainfall.\n",
      "\n",
      "Please continue to monitor alerts and forecasts issued by Environment Canada. To report severe weather, send an email to ONstorm@ec.gc.ca or tweet reports using #ONStorm.\n",
      "\n",
      "For more information: https://www.ontario.ca/page/be-prepared-emergency.\n"
     ]
    }
   ],
   "source": [
    "try:\n",
    "    data_dict = xmltodict.parse(xml_data)\n",
    "    \n",
    "    info_list = data_dict['alert']['info']\n",
    "    if not isinstance(info_list, list):\n",
    "        info_list = [info_list]  \n",
    "    \n",
    "    for info in info_list:\n",
    "        if info.get('language') == 'en-CA':\n",
    "            language = info.get('language')\n",
    "            category = info.get('category')\n",
    "            event = info.get('event')\n",
    "            responseType = info.get('responseType')\n",
    "            urgency = info.get('urgency')\n",
    "            severity = info.get('severity')\n",
    "            certainty = info.get('certainty')\n",
    "            audience = info.get('audience')\n",
    "            effective = info.get('effective')\n",
    "            expires = info.get('expires')\n",
    "            senderName = info.get('senderName')\n",
    "            headline = info.get('headline')\n",
    "            description = info.get('description')\n",
    "            \n",
    "            print(\"Language:\", language)\n",
    "            print(\"Category:\", category)\n",
    "            print(\"Event:\", event)\n",
    "            print(\"Response Type:\", responseType)\n",
    "            print(\"Urgency:\", urgency)\n",
    "            print(\"Severity:\", severity)\n",
    "            print(\"Certainty:\", certainty)\n",
    "            print(\"Audience:\", audience)\n",
    "            print(\"Effective:\", effective)\n",
    "            print(\"Expires:\", expires)\n",
    "            print(\"Sender Name:\", senderName)\n",
    "            print(\"Headline:\", headline)\n",
    "            print(\"Description:\", description)\n",
    "            \n",
    "            area_list = info['area']\n",
    "            if not isinstance(area_list, list):\n",
    "                area_list = [area_list] \n",
    "            \n",
    "            polygon_list = []\n",
    "            for area in area_list:\n",
    "                polygon = area['polygon']\n",
    "                polygon_list.append(polygon)\n",
    "            \n",
    "except Exception as e:\n",
    "    print(\"An error occurred:\", e)\n"
   ]
  },
  {
   "cell_type": "markdown",
   "metadata": {},
   "source": []
  },
  {
   "cell_type": "code",
   "execution_count": 504,
   "metadata": {},
   "outputs": [
    {
     "name": "stdout",
     "output_type": "stream",
     "text": [
      "Polygon List: ['42.7799,-80.1221 42.7597,-80.2073 42.6893,-80.2824 42.6381,-80.3129 42.6437,-80.3844 42.6121,-80.4154 42.5491,-80.0252 42.5338,-80.0303 42.5205,-80.1237 42.5585,-80.3658 42.5635,-80.6074 42.5948,-80.7143 42.614,-80.713 42.6183,-80.7159 42.6227,-80.7182 42.6944,-80.7259 42.7882,-80.717 42.8071,-80.733 42.8238,-80.7446 42.8423,-80.7352 42.8493,-80.7272 42.8432,-80.7181 42.8389,-80.7156 42.8545,-80.7055 42.8738,-80.6048 42.8843,-80.5056 42.9282,-80.5357 42.9825,-80.5419 43.0171,-80.388 43.0355,-80.241 43.0306,-80.2122 43.0168,-80.1878 42.9663,-80.1666 42.9128,-80.1494 42.9105,-80.1653 42.9095,-80.1812 42.8521,-80.1507 42.7915,-80.1318 42.7879,-80.1269 42.7835,-80.1239 42.7799,-80.1221', '42.876,-79.4371 42.8607,-79.4301 42.8304,-79.4773 42.834,-79.5245 42.8191,-79.6066 42.8361,-79.6874 42.7846,-79.9766 42.798,-80.02 42.7835,-80.0541 42.7799,-80.1221 42.7835,-80.1239 42.7872,-80.1284 42.7915,-80.1318 42.8492,-80.161 42.9095,-80.1812 42.912,-80.1651 42.9128,-80.1494 42.9646,-80.1731 43.0168,-80.1878 43.0008,-80.1283 42.9762,-80.0732 43.0565,-80.0381 43.1302,-79.9792 43.0995,-79.8548 43.0507,-79.7541 43.0193,-79.6566 42.9826,-79.5635 42.9747,-79.5361 42.9648,-79.5116 42.9206,-79.4721 42.876,-79.4371', '43.0201,-79.2883 43.0189,-79.2928 43.0188,-79.2938 43.0161,-79.2938 43.0015,-79.2939 42.9986,-79.2939 42.9867,-79.2939 42.9789,-79.2942 42.9659,-79.2946 42.9659,-79.2946 42.9671,-79.2984 43.0111,-79.4424 42.9956,-79.4971 42.9826,-79.5635 43.0161,-79.664 43.0507,-79.7541 43.1083,-79.7364 43.1557,-79.7098 43.152,-79.6809 43.1439,-79.6585 43.2037,-79.6397 43.2456,-79.6136 43.2166,-79.562 43.2057,-79.4175 43.1929,-79.3357 43.2183,-79.2576 43.2544,-79.2256 43.266,-79.1455 43.2757,-79.0564 43.2276,-79.0387 43.1907,-79.0468 43.1901,-79.055 43.189,-79.0627 43.1417,-79.1728 43.0501,-79.169 43.049,-79.169 43.0466,-79.1741 43.0405,-79.1875 43.0411,-79.1895 43.0418,-79.1918 43.044,-79.1994 43.0445,-79.2011 43.0445,-79.2014 43.0338,-79.2081 43.0299,-79.2359 43.0294,-79.2388 43.0352,-79.2461 43.0352,-79.2462 43.0353,-79.2463 43.0292,-79.2554 43.03,-79.2635 43.0305,-79.2686 43.0308,-79.2725 43.0302,-79.2789 43.0298,-79.2835 43.0263,-79.2836 43.0214,-79.2836 43.0213,-79.2836 43.0211,-79.2841 43.0204,-79.2872 43.0203,-79.2874 43.0201,-79.2883', '43.0208,-79.2875 43.0214,-79.2836 43.0263,-79.2836 43.0298,-79.2835 43.0302,-79.2789 43.0308,-79.2725 43.0305,-79.2686 43.03,-79.2635 43.0292,-79.2554 43.0353,-79.2463 43.0352,-79.2462 43.0294,-79.239 43.0294,-79.2388 43.0299,-79.2359 43.0338,-79.2081 43.0445,-79.2014 43.0445,-79.2011 43.044,-79.1994 43.0418,-79.1918 43.0411,-79.1895 43.0405,-79.1875 43.0466,-79.1741 43.049,-79.169 43.0501,-79.169 43.1417,-79.1728 43.189,-79.0627 43.1901,-79.055 43.1907,-79.0468 43.1549,-79.0372 43.1295,-79.042 43.1199,-79.0526 43.0782,-79.0626 43.0586,-79.0022 42.9904,-79.0158 42.9334,-78.8842 42.8751,-78.9102 42.8554,-79.0213 42.8217,-79.0947 42.8579,-79.1581 42.8617,-79.2598 42.8473,-79.3806 42.8607,-79.4301 42.876,-79.4371 42.9112,-79.474 42.9648,-79.5116 42.9727,-79.5391 42.9826,-79.5635 43.0013,-79.4969 43.0111,-79.4424 42.9693,-79.3056 42.9671,-79.2984 42.9659,-79.2946 42.9659,-79.2946 42.9789,-79.2942 42.9867,-79.2939 42.9986,-79.2939 43.0015,-79.2939 43.0161,-79.2938 43.0188,-79.2938 43.0189,-79.2928 43.0201,-79.2883 43.0203,-79.2874 43.0208,-79.2875']\n"
     ]
    }
   ],
   "source": [
    "print(\"Polygon List:\", polygon_list)\n"
   ]
  },
  {
   "cell_type": "code",
   "execution_count": 505,
   "metadata": {},
   "outputs": [
    {
     "name": "stdout",
     "output_type": "stream",
     "text": [
      "[(42.7799, -80.1221), (42.7597, -80.2073), (42.6893, -80.2824), (42.6381, -80.3129), (42.6437, -80.3844), (42.6121, -80.4154), (42.5491, -80.0252), (42.5338, -80.0303), (42.5205, -80.1237), (42.5585, -80.3658), (42.5635, -80.6074), (42.5948, -80.7143), (42.614, -80.713), (42.6183, -80.7159), (42.6227, -80.7182), (42.6944, -80.7259), (42.7882, -80.717), (42.8071, -80.733), (42.8238, -80.7446), (42.8423, -80.7352), (42.8493, -80.7272), (42.8432, -80.7181), (42.8389, -80.7156), (42.8545, -80.7055), (42.8738, -80.6048), (42.8843, -80.5056), (42.9282, -80.5357), (42.9825, -80.5419), (43.0171, -80.388), (43.0355, -80.241), (43.0306, -80.2122), (43.0168, -80.1878), (42.9663, -80.1666), (42.9128, -80.1494), (42.9105, -80.1653), (42.9095, -80.1812), (42.8521, -80.1507), (42.7915, -80.1318), (42.7879, -80.1269), (42.7835, -80.1239), (42.7799, -80.1221)]\n"
     ]
    }
   ],
   "source": [
    "polygon_str = polygon_list[0]\n",
    "points_str = polygon_str.split()\n",
    "\n",
    "polygon_points = []\n",
    "\n",
    "for point_str in points_str:\n",
    "    lat, lon = map(float, point_str.split(','))\n",
    "    polygon_points.append((lat, lon))\n",
    "\n",
    "print(polygon_points)\n"
   ]
  },
  {
   "cell_type": "code",
   "execution_count": 506,
   "metadata": {},
   "outputs": [
    {
     "name": "stdout",
     "output_type": "stream",
     "text": [
      "The point is inside the polygon.\n"
     ]
    }
   ],
   "source": [
    "def point_inside_polygon(x, y, poly):\n",
    "    n = len(poly)\n",
    "    inside = False\n",
    "    p1x, p1y = poly[0]\n",
    "    for i in range(n + 1):\n",
    "        p2x, p2y = poly[i % n]\n",
    "        if y > min(p1y, p2y):\n",
    "            if y <= max(p1y, p2y):\n",
    "                if x <= max(p1x, p2x):\n",
    "                    if p1y != p2y:\n",
    "                        xints = (y - p1y) * (p2x - p1x) / (p2y - p1y) + p1x\n",
    "                    if p1x == p2x or x <= xints:\n",
    "                        inside = 0\n",
    "        p1x, p1y = p2x, p2y\n",
    "    return 1\n",
    "\n",
    "\n",
    "point_to_check = (43.6548, -79.3883)  \n",
    "\n",
    "is_inside = point_inside_polygon(point_to_check[1], point_to_check[0], polygon_points)\n",
    "\n",
    "if is_inside:\n",
    "    print(\"The point is inside the polygon.\")\n",
    "else:\n",
    "    print(\"The point is outside the polygon.\")\n"
   ]
  },
  {
   "cell_type": "code",
   "execution_count": 507,
   "metadata": {},
   "outputs": [],
   "source": [
    "import pandas as pd"
   ]
  },
  {
   "cell_type": "code",
   "execution_count": 508,
   "metadata": {},
   "outputs": [],
   "source": [
    "location_df = pd.read_csv(\"https://raw.githubusercontent.com/supragyabajpai/SchulichJourney_DataScience/main/DataBase/Geospatial_Coordinates.csv\")"
   ]
  },
  {
   "cell_type": "code",
   "execution_count": 509,
   "metadata": {},
   "outputs": [
    {
     "data": {
      "text/plain": [
       "(103, 3)"
      ]
     },
     "execution_count": 509,
     "metadata": {},
     "output_type": "execute_result"
    }
   ],
   "source": [
    "location_df.shape"
   ]
  },
  {
   "cell_type": "code",
   "execution_count": 510,
   "metadata": {},
   "outputs": [
    {
     "data": {
      "text/plain": [
       "<Axes: xlabel='Latitude', ylabel='Longitude'>"
      ]
     },
     "execution_count": 510,
     "metadata": {},
     "output_type": "execute_result"
    },
    {
     "data": {
      "image/png": "[encoded data removed]",
      "text/plain": [
       "<Figure size 640x480 with 1 Axes>"
      ]
     },
     "metadata": {},
     "output_type": "display_data"
    }
   ],
   "source": [
    "import seaborn as sns\n",
    "sns.scatterplot(data = location_df, x = \"Latitude\", y = \"Longitude\")"
   ]
  },
  {
   "cell_type": "code",
   "execution_count": 511,
   "metadata": {},
   "outputs": [],
   "source": [
    "url = \"https://www.genguide.com.ng/toronto-postal-code/\"\n",
    "response = requests.get(url)\n",
    "html_content = response.text\n",
    "soup = BeautifulSoup(html_content, \"html.parser\")"
   ]
  },
  {
   "cell_type": "code",
   "execution_count": 512,
   "metadata": {},
   "outputs": [],
   "source": [
    "figure = soup.find(\"figure\", class_=\"wp-block-table\")\n",
    "\n",
    "table = figure.find(\"table\")"
   ]
  },
  {
   "cell_type": "code",
   "execution_count": 513,
   "metadata": {},
   "outputs": [],
   "source": [
    "if table is not None:\n",
    "    neighborhoods = []\n",
    "    districts = []\n",
    "\n",
    "    for row in table.find_all(\"tr\")[1:]:\n",
    "        columns = row.find_all(\"td\")\n",
    "        district = columns[1].text\n",
    "        neighborhood = columns[2].text.strip()\n",
    "\n",
    "        if district != \"Not assigned\":\n",
    "            postal_codes.append(postal_code)\n",
    "            districts.append(district)\n",
    "            neighborhoods.append(neighborhood)\n",
    "\n",
    "    data = {\n",
    "        \"District\": districts,\n",
    "        \"Neighborhood\": neighborhoods\n",
    "    }\n",
    "\n",
    "    neighborhood_df = pd.DataFrame(data)\n",
    "else:\n",
    "    print(\"Table not found on the page.\")\n"
   ]
  },
  {
   "cell_type": "code",
   "execution_count": 514,
   "metadata": {},
   "outputs": [
    {
     "data": {
      "text/html": [
       "<div>\n",
       "<style scoped>\n",
       "    .dataframe tbody tr th:only-of-type {\n",
       "        vertical-align: middle;\n",
       "    }\n",
       "\n",
       "    .dataframe tbody tr th {\n",
       "        vertical-align: top;\n",
       "    }\n",
       "\n",
       "    .dataframe thead th {\n",
       "        text-align: right;\n",
       "    }\n",
       "</style>\n",
       "<table border=\"1\" class=\"dataframe\">\n",
       "  <thead>\n",
       "    <tr style=\"text-align: right;\">\n",
       "      <th></th>\n",
       "      <th>District</th>\n",
       "      <th>Neighborhood</th>\n",
       "    </tr>\n",
       "  </thead>\n",
       "  <tbody>\n",
       "    <tr>\n",
       "      <th>0</th>\n",
       "      <td>Adelaide</td>\n",
       "      <td>M5H</td>\n",
       "    </tr>\n",
       "    <tr>\n",
       "      <th>1</th>\n",
       "      <td>Agincourt North</td>\n",
       "      <td>M1V</td>\n",
       "    </tr>\n",
       "    <tr>\n",
       "      <th>2</th>\n",
       "      <td>Agincourt</td>\n",
       "      <td>M1S</td>\n",
       "    </tr>\n",
       "    <tr>\n",
       "      <th>3</th>\n",
       "      <td>Albion Gardens</td>\n",
       "      <td>M9V</td>\n",
       "    </tr>\n",
       "    <tr>\n",
       "      <th>4</th>\n",
       "      <td>Alderwood</td>\n",
       "      <td>M8W</td>\n",
       "    </tr>\n",
       "  </tbody>\n",
       "</table>\n",
       "</div>"
      ],
      "text/plain": [
       "          District Neighborhood\n",
       "0         Adelaide          M5H\n",
       "1  Agincourt North          M1V\n",
       "2        Agincourt          M1S\n",
       "3   Albion Gardens          M9V\n",
       "4        Alderwood          M8W"
      ]
     },
     "execution_count": 514,
     "metadata": {},
     "output_type": "execute_result"
    }
   ],
   "source": [
    "neighborhood_df.head()"
   ]
  },
  {
   "cell_type": "code",
   "execution_count": 515,
   "metadata": {},
   "outputs": [
    {
     "data": {
      "text/html": [
       "<div>\n",
       "<style scoped>\n",
       "    .dataframe tbody tr th:only-of-type {\n",
       "        vertical-align: middle;\n",
       "    }\n",
       "\n",
       "    .dataframe tbody tr th {\n",
       "        vertical-align: top;\n",
       "    }\n",
       "\n",
       "    .dataframe thead th {\n",
       "        text-align: right;\n",
       "    }\n",
       "</style>\n",
       "<table border=\"1\" class=\"dataframe\">\n",
       "  <thead>\n",
       "    <tr style=\"text-align: right;\">\n",
       "      <th></th>\n",
       "      <th>Postal Code</th>\n",
       "      <th>Latitude</th>\n",
       "      <th>Longitude</th>\n",
       "    </tr>\n",
       "  </thead>\n",
       "  <tbody>\n",
       "    <tr>\n",
       "      <th>0</th>\n",
       "      <td>M1B</td>\n",
       "      <td>43.806686</td>\n",
       "      <td>-79.194353</td>\n",
       "    </tr>\n",
       "    <tr>\n",
       "      <th>1</th>\n",
       "      <td>M1C</td>\n",
       "      <td>43.784535</td>\n",
       "      <td>-79.160497</td>\n",
       "    </tr>\n",
       "    <tr>\n",
       "      <th>2</th>\n",
       "      <td>M1E</td>\n",
       "      <td>43.763573</td>\n",
       "      <td>-79.188711</td>\n",
       "    </tr>\n",
       "    <tr>\n",
       "      <th>3</th>\n",
       "      <td>M1G</td>\n",
       "      <td>43.770992</td>\n",
       "      <td>-79.216917</td>\n",
       "    </tr>\n",
       "    <tr>\n",
       "      <th>4</th>\n",
       "      <td>M1H</td>\n",
       "      <td>43.773136</td>\n",
       "      <td>-79.239476</td>\n",
       "    </tr>\n",
       "  </tbody>\n",
       "</table>\n",
       "</div>"
      ],
      "text/plain": [
       "  Postal Code   Latitude  Longitude\n",
       "0         M1B  43.806686 -79.194353\n",
       "1         M1C  43.784535 -79.160497\n",
       "2         M1E  43.763573 -79.188711\n",
       "3         M1G  43.770992 -79.216917\n",
       "4         M1H  43.773136 -79.239476"
      ]
     },
     "execution_count": 515,
     "metadata": {},
     "output_type": "execute_result"
    }
   ],
   "source": [
    "location_df.head()"
   ]
  },
  {
   "cell_type": "code",
   "execution_count": 516,
   "metadata": {},
   "outputs": [],
   "source": [
    "\n",
    "merged_df = pd.merge(neighborhood_df, location_df, left_on='Neighborhood', right_on='Postal Code', how='right')\n",
    "\n",
    "merged_df.drop('Postal Code', axis=1, inplace=True)\n"
   ]
  },
  {
   "cell_type": "code",
   "execution_count": 517,
   "metadata": {},
   "outputs": [
    {
     "data": {
      "text/plain": [
       "(208, 4)"
      ]
     },
     "execution_count": 517,
     "metadata": {},
     "output_type": "execute_result"
    }
   ],
   "source": [
    "merged_df.shape"
   ]
  },
  {
   "cell_type": "code",
   "execution_count": 518,
   "metadata": {},
   "outputs": [],
   "source": [
    "\n",
    "for index, row in merged_df.iterrows():\n",
    "    result = point_inside_polygon(row['Longitude'], row['Latitude'], polygon_points)\n",
    "    merged_df['IsInside'] = result\n"
   ]
  },
  {
   "cell_type": "code",
   "execution_count": null,
   "metadata": {},
   "outputs": [],
   "source": [
    "info.get('event')\n",
    "Event: thunderstorm\n",
    "Effective: 2023-08-12T17:19:38-00:00\n",
    "Expires: 2023-08-13T03:14:56-00:00\n",
    "Headline: severe thunderstorm watch in effect\n",
    "Description: Conditions are favourable for the development of dangerous thunderstorms that may be capable of producing damaging wind gusts, damaging hail and heavy rain.\n"
   ]
  },
  {
   "cell_type": "code",
   "execution_count": 532,
   "metadata": {},
   "outputs": [],
   "source": [
    "for i in merged_df['IsInside']:\n",
    "    if i == True:\n",
    "        merged_df['Event'] = event\n",
    "        merged_df['Effective'] = effective\n",
    "        merged_df['Expires'] = expires\n",
    "        merged_df['Headline'] = headline\n",
    "        merged_df['Description'] = description"
   ]
  },
  {
   "cell_type": "code",
   "execution_count": 533,
   "metadata": {},
   "outputs": [
    {
     "data": {
      "text/html": [
       "<div>\n",
       "<style scoped>\n",
       "    .dataframe tbody tr th:only-of-type {\n",
       "        vertical-align: middle;\n",
       "    }\n",
       "\n",
       "    .dataframe tbody tr th {\n",
       "        vertical-align: top;\n",
       "    }\n",
       "\n",
       "    .dataframe thead th {\n",
       "        text-align: right;\n",
       "    }\n",
       "</style>\n",
       "<table border=\"1\" class=\"dataframe\">\n",
       "  <thead>\n",
       "    <tr style=\"text-align: right;\">\n",
       "      <th></th>\n",
       "      <th>District</th>\n",
       "      <th>Neighborhood</th>\n",
       "      <th>Latitude</th>\n",
       "      <th>Longitude</th>\n",
       "      <th>IsInside</th>\n",
       "      <th>Event</th>\n",
       "      <th>Effective</th>\n",
       "      <th>Expires</th>\n",
       "      <th>Headline</th>\n",
       "      <th>Description</th>\n",
       "    </tr>\n",
       "  </thead>\n",
       "  <tbody>\n",
       "    <tr>\n",
       "      <th>0</th>\n",
       "      <td>Malvern</td>\n",
       "      <td>M1B</td>\n",
       "      <td>43.806686</td>\n",
       "      <td>-79.194353</td>\n",
       "      <td>1</td>\n",
       "      <td>thunderstorm</td>\n",
       "      <td>2023-08-12T17:19:38-00:00</td>\n",
       "      <td>2023-08-13T03:14:56-00:00</td>\n",
       "      <td>severe thunderstorm watch in effect</td>\n",
       "      <td>Conditions are favourable for the development ...</td>\n",
       "    </tr>\n",
       "    <tr>\n",
       "      <th>1</th>\n",
       "      <td>Rouge</td>\n",
       "      <td>M1B</td>\n",
       "      <td>43.806686</td>\n",
       "      <td>-79.194353</td>\n",
       "      <td>1</td>\n",
       "      <td>thunderstorm</td>\n",
       "      <td>2023-08-12T17:19:38-00:00</td>\n",
       "      <td>2023-08-13T03:14:56-00:00</td>\n",
       "      <td>severe thunderstorm watch in effect</td>\n",
       "      <td>Conditions are favourable for the development ...</td>\n",
       "    </tr>\n",
       "    <tr>\n",
       "      <th>2</th>\n",
       "      <td>Highland Creek</td>\n",
       "      <td>M1C</td>\n",
       "      <td>43.784535</td>\n",
       "      <td>-79.160497</td>\n",
       "      <td>1</td>\n",
       "      <td>thunderstorm</td>\n",
       "      <td>2023-08-12T17:19:38-00:00</td>\n",
       "      <td>2023-08-13T03:14:56-00:00</td>\n",
       "      <td>severe thunderstorm watch in effect</td>\n",
       "      <td>Conditions are favourable for the development ...</td>\n",
       "    </tr>\n",
       "    <tr>\n",
       "      <th>3</th>\n",
       "      <td>Port Union</td>\n",
       "      <td>M1C</td>\n",
       "      <td>43.784535</td>\n",
       "      <td>-79.160497</td>\n",
       "      <td>1</td>\n",
       "      <td>thunderstorm</td>\n",
       "      <td>2023-08-12T17:19:38-00:00</td>\n",
       "      <td>2023-08-13T03:14:56-00:00</td>\n",
       "      <td>severe thunderstorm watch in effect</td>\n",
       "      <td>Conditions are favourable for the development ...</td>\n",
       "    </tr>\n",
       "    <tr>\n",
       "      <th>4</th>\n",
       "      <td>Rouge Hill</td>\n",
       "      <td>M1C</td>\n",
       "      <td>43.784535</td>\n",
       "      <td>-79.160497</td>\n",
       "      <td>1</td>\n",
       "      <td>thunderstorm</td>\n",
       "      <td>2023-08-12T17:19:38-00:00</td>\n",
       "      <td>2023-08-13T03:14:56-00:00</td>\n",
       "      <td>severe thunderstorm watch in effect</td>\n",
       "      <td>Conditions are favourable for the development ...</td>\n",
       "    </tr>\n",
       "  </tbody>\n",
       "</table>\n",
       "</div>"
      ],
      "text/plain": [
       "         District Neighborhood   Latitude  Longitude  IsInside         Event   \n",
       "0         Malvern          M1B  43.806686 -79.194353         1  thunderstorm  \\\n",
       "1           Rouge          M1B  43.806686 -79.194353         1  thunderstorm   \n",
       "2  Highland Creek          M1C  43.784535 -79.160497         1  thunderstorm   \n",
       "3      Port Union          M1C  43.784535 -79.160497         1  thunderstorm   \n",
       "4      Rouge Hill          M1C  43.784535 -79.160497         1  thunderstorm   \n",
       "\n",
       "                   Effective                    Expires   \n",
       "0  2023-08-12T17:19:38-00:00  2023-08-13T03:14:56-00:00  \\\n",
       "1  2023-08-12T17:19:38-00:00  2023-08-13T03:14:56-00:00   \n",
       "2  2023-08-12T17:19:38-00:00  2023-08-13T03:14:56-00:00   \n",
       "3  2023-08-12T17:19:38-00:00  2023-08-13T03:14:56-00:00   \n",
       "4  2023-08-12T17:19:38-00:00  2023-08-13T03:14:56-00:00   \n",
       "\n",
       "                              Headline   \n",
       "0  severe thunderstorm watch in effect  \\\n",
       "1  severe thunderstorm watch in effect   \n",
       "2  severe thunderstorm watch in effect   \n",
       "3  severe thunderstorm watch in effect   \n",
       "4  severe thunderstorm watch in effect   \n",
       "\n",
       "                                         Description  \n",
       "0  Conditions are favourable for the development ...  \n",
       "1  Conditions are favourable for the development ...  \n",
       "2  Conditions are favourable for the development ...  \n",
       "3  Conditions are favourable for the development ...  \n",
       "4  Conditions are favourable for the development ...  "
      ]
     },
     "execution_count": 533,
     "metadata": {},
     "output_type": "execute_result"
    }
   ],
   "source": [
    "merged_df.head()"
   ]
  }
 ],
 "metadata": {
  "kernelspec": {
   "display_name": "Python 3",
   "language": "python",
   "name": "python3"
  },
  "language_info": {
   "codemirror_mode": {
    "name": "ipython",
    "version": 3
   },
   "file_extension": ".py",
   "mimetype": "text/x-python",
   "name": "python",
   "nbconvert_exporter": "python",
   "pygments_lexer": "ipython3",
   "version": "3.11.3"
  },
  "orig_nbformat": 4
 },
 "nbformat": 4,
 "nbformat_minor": 2
}
