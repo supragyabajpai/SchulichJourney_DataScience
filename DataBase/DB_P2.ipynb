{
 "cells": [
  {
   "cell_type": "code",
   "execution_count": 22,
   "metadata": {},
   "outputs": [],
   "source": [
    "import sqlalchemy\n",
    "import requests\n",
    "import nest_asyncio\n",
    "from requests_html import AsyncHTMLSession"
   ]
  },
  {
   "cell_type": "code",
   "execution_count": 23,
   "metadata": {},
   "outputs": [],
   "source": [
    "nest_asyncio.apply()\n",
    "asession = AsyncHTMLSession()"
   ]
  },
  {
   "cell_type": "code",
   "execution_count": 24,
   "metadata": {},
   "outputs": [],
   "source": [
    "async def fetch_website(weburl):\n",
    "    url = weburl\n",
    "    r = await asession.get(url)\n",
    "    \n",
    "    if r.status_code == 200:\n",
    "        print(f\"Successfully fetched data from {url}\")\n",
    "    else:\n",
    "        print(f\"Failed to fetch data from {url}, status code: {r.status_code}\")\n",
    "\n",
    "    await r.html.arender(sleep=1)\n",
    "    \n",
    "    href_list = r.html.find('pre a[href]')\n",
    "    href_values = [link.attrs['href'] for link in href_list]\n",
    "\n",
    "    return href_values\n"
   ]
  },
  {
   "cell_type": "code",
   "execution_count": 25,
   "metadata": {},
   "outputs": [
    {
     "name": "stdout",
     "output_type": "stream",
     "text": [
      "Successfully fetched data from https://dd.weather.gc.ca/alerts/cap/\n"
     ]
    }
   ],
   "source": [
    "weburl = 'https://dd.weather.gc.ca/alerts/cap/'\n",
    "href_values_list = asession.loop.run_until_complete(fetch_website(weburl))\n",
    "latest_date = href_values_list[-1]"
   ]
  },
  {
   "cell_type": "code",
   "execution_count": 26,
   "metadata": {},
   "outputs": [
    {
     "name": "stdout",
     "output_type": "stream",
     "text": [
      "----------------------\n",
      "Today's Date :  2023 - 08 - 12\n",
      "----------------------\n",
      "https://dd.weather.gc.ca/alerts/cap/20230812/CWTO/\n"
     ]
    }
   ],
   "source": [
    "print(\"----------------------\")\n",
    "print(\"Today's Date : \",latest_date[0:4],\"-\",latest_date[4:6],\"-\",latest_date[6:8])\n",
    "print(\"----------------------\")\n",
    "new_url = weburl+latest_date+'CWTO/'\n",
    "print(new_url)"
   ]
  },
  {
   "cell_type": "code",
   "execution_count": 27,
   "metadata": {},
   "outputs": [
    {
     "name": "stdout",
     "output_type": "stream",
     "text": [
      "Successfully fetched data from https://dd.weather.gc.ca/alerts/cap/20230812/CWTO/\n"
     ]
    }
   ],
   "source": [
    "new_href_values_list = asession.loop.run_until_complete(fetch_website(new_url))\n",
    "latest_file = new_href_values_list[-1]\n"
   ]
  },
  {
   "cell_type": "code",
   "execution_count": 28,
   "metadata": {},
   "outputs": [
    {
     "name": "stdout",
     "output_type": "stream",
     "text": [
      "00/\n"
     ]
    }
   ],
   "source": [
    "latest_file = new_href_values_list[-1]\n",
    "print(latest_file)"
   ]
  },
  {
   "cell_type": "code",
   "execution_count": 29,
   "metadata": {},
   "outputs": [
    {
     "name": "stdout",
     "output_type": "stream",
     "text": [
      "https://dd.weather.gc.ca/alerts/cap/20230812/CWTO/00/\n"
     ]
    }
   ],
   "source": [
    "newz_url = new_url+latest_file\n",
    "print(newz_url)"
   ]
  },
  {
   "cell_type": "code",
   "execution_count": 30,
   "metadata": {},
   "outputs": [
    {
     "name": "stdout",
     "output_type": "stream",
     "text": [
      "Successfully fetched data from https://dd.weather.gc.ca/alerts/cap/20230812/CWTO/00/\n"
     ]
    }
   ],
   "source": [
    "new_href_values_list = asession.loop.run_until_complete(fetch_website(newz_url))\n",
    "latest_datz = new_href_values_list[-1]"
   ]
  },
  {
   "cell_type": "code",
   "execution_count": 31,
   "metadata": {},
   "outputs": [
    {
     "name": "stdout",
     "output_type": "stream",
     "text": [
      "T_WHCN13_C_CWTO_202308120005_1142592915.cap\n"
     ]
    }
   ],
   "source": [
    "latest_datz = new_href_values_list[-1]\n",
    "print(latest_datz)"
   ]
  },
  {
   "cell_type": "code",
   "execution_count": 32,
   "metadata": {},
   "outputs": [],
   "source": [
    "latest_file = newz_url+latest_datz"
   ]
  },
  {
   "cell_type": "code",
   "execution_count": 33,
   "metadata": {},
   "outputs": [
    {
     "name": "stdout",
     "output_type": "stream",
     "text": [
      "https://dd.weather.gc.ca/alerts/cap/20230812/CWTO/00/T_WHCN13_C_CWTO_202308120005_1142592915.cap\n"
     ]
    }
   ],
   "source": [
    "print(latest_file)"
   ]
  },
  {
   "cell_type": "code",
   "execution_count": 34,
   "metadata": {},
   "outputs": [],
   "source": [
    "req = requests.get(latest_file)"
   ]
  },
  {
   "cell_type": "code",
   "execution_count": 35,
   "metadata": {},
   "outputs": [
    {
     "data": {
      "text/plain": [
       "'https://dd.weather.gc.ca/alerts/cap/20230812/CWTO/00/T_WHCN13_C_CWTO_202308120005_1142592915.cap'"
      ]
     },
     "execution_count": 35,
     "metadata": {},
     "output_type": "execute_result"
    }
   ],
   "source": [
    "req.url"
   ]
  },
  {
   "cell_type": "code",
   "execution_count": 36,
   "metadata": {},
   "outputs": [],
   "source": [
    "import os\n",
    "\n",
    "directory_path = r\"C:\\Users\\supra\\OneDrive\\Desktop\\Schulich MBAN\\Sem- 1\\Database fundamentals\\WeatherAPI_file\" # replace the file path\n",
    "latest_datz = \"example_file.xml\" # need a loop\n",
    "\n",
    "full_path = os.path.join(directory_path, latest_datz)"
   ]
  },
  {
   "cell_type": "code",
   "execution_count": 37,
   "metadata": {},
   "outputs": [],
   "source": [
    "with open(full_path, 'wb') as f:\n",
    "    for chunk in req.iter_content(chunk_size=8192):\n",
    "        if chunk:\n",
    "            f.write(chunk)"
   ]
  },
  {
   "cell_type": "code",
   "execution_count": 38,
   "metadata": {},
   "outputs": [
    {
     "name": "stdout",
     "output_type": "stream",
     "text": [
      "<?xml version='1.0' encoding='UTF-8' standalone='no'?>\n",
      "<alert xmlns=\"urn:oasis:names:tc:emergency:cap:1.2\">\n",
      "    <identifier>urn:oid:2.49.0.1.124.1142592915.2023</identifier>\n",
      "    <sender>cap-pac@canada.ca</sender>\n",
      "    <sent>2023-08-12T00:06:43-00:00</sent>\n",
      "    <status>Actual</status>\n",
      "    <msgType>Update</msgType>\n",
      "    <source>Env. Can. - Can. Met. Ctr. â€“ MontrÃ©al</source>\n",
      "    <scope>Public</scope>\n",
      "    <code>profile:CAP-CP:0.4</code>\n",
      "    <code>layer:SOREM:1.0</code>\n",
      "    <code>layer:EC-MSC-SMC:1.0</code>\n",
      "    <code>layer:EC-MSC-SMC:1.1</code>\n",
      "    <code>layer:SOREM:2.0</code>\n",
      "    <note>Service Notice - February 2023: The Environment and Climate Change Canada (ECCC) CAP Service undergoes changes from time to time as the business of alerting evolves. For 2023, changes will include... 1) modifications, or even removal, of the Wireless Public Alerting Message (WPAM) layer due to the successful pilot of the UpdateX feature recently deployed in the Canadian Cell Broadcasting Environment, and 2) other minor improvements and corrections. For more information on these changes, you are invited to subscribe to the following mailing list: http://lists.cmc.ec.gc.ca/mailman/listinfo/dd_info | Notification de service - fÃ©vrier 2023: Le service du PAC dâ€™Environnement et Changement climatique Canada (ECCC) subit pÃ©riodiquement des changements et ajouts Ã  mesure que le systÃ¨me dâ€™alerte Ã©volue. Pour 2023, ces changements incluent... 1) des modifications, voire la suppression, de la couche du Service dâ€™alertes sans fil au public (WPAM) en raison du succÃ¨s du projet pilote de la fonctionnalitÃ© UpdateX rÃ©cemment dÃ©ployÃ©e dans lâ€™environnement de diffusion sans fil canadien, et 2) dâ€™autres amÃ©liorations et corrections mineures. Pour plus dâ€™informations sur ces changements, vous Ãªtes invitÃ©s Ã  vous inscrire Ã  la liste de diffusion suivante: http://lists.cmc.ec.gc.ca/mailman/listinfo/dd_info</note>\n",
      "    <references>cap-pac@canada.ca,urn:oid:2.49.0.1.124.1059595050.2023,2023-08-11T19:52:21-00:00 cap-pac@canada.ca,urn:oid:2.49.0.1.124.2669709228.2023,2023-08-11T19:53:48-00:00 cap-pac@canada.ca,urn:oid:2.49.0.1.124.3232740324.2023,2023-08-11T21:01:41-00:00 cap-pac@canada.ca,urn:oid:2.49.0.1.124.3551732389.2023,2023-08-11T21:05:54-00:00 cap-pac@canada.ca,urn:oid:2.49.0.1.124.2010902865.2023,2023-08-11T22:57:51-00:00 cap-pac@canada.ca,urn:oid:2.49.0.1.124.3052094533.2023,2023-08-11T22:58:56-00:00</references>\n",
      "    <info>\n",
      "        <language>en-CA</language>\n",
      "        <category>Met</category>\n",
      "        <event>squall</event>\n",
      "        <responseType>Monitor</responseType>\n",
      "        <urgency>Immediate</urgency>\n",
      "        <severity>Severe</severity>\n",
      "        <certainty>Unknown</certainty>\n",
      "        <audience>general public</audience>\n",
      "        <eventCode>\n",
      "            <valueName>profile:CAP-CP:Event:0.4</valueName>\n",
      "            <value>squall</value>\n",
      "        </eventCode>\n",
      "        <effective>2023-08-12T00:06:43-00:00</effective>\n",
      "        <expires>2023-08-12T00:05:43-00:00</expires>\n",
      "        <senderName>Environment Canada</senderName>\n",
      "        <headline/>\n",
      "        <description>\n",
      "###\n",
      "</description>\n",
      "        <instruction/>\n",
      "        <web>http://weather.gc.ca/marine/index_e.html</web>\n",
      "        <parameter>\n",
      "            <valueName>layer:EC-MSC-SMC:1.0:Alert_Type</valueName>\n",
      "            <value>warning</value>\n",
      "        </parameter>\n",
      "        <parameter>\n",
      "            <valueName>layer:EC-MSC-SMC:1.0:Broadcast_Intrusive</valueName>\n",
      "            <value>no</value>\n",
      "        </parameter>\n",
      "        <parameter>\n",
      "            <valueName>layer:SOREM:1.0:Broadcast_Immediately</valueName>\n",
      "            <value>No</value>\n",
      "        </parameter>\n",
      "        <parameter>\n",
      "            <valueName>layer:EC-MSC-SMC:1.1:Parent_URI</valueName>\n",
      "            <value>msc/alert/environment/hazard/alert-3.0-ascii/consolidated-xml-2.0/20230812000543354/WH_13_73_CWTO/SQW/194535965558308520202308110503_WH_13_73_CWTO/system/en_proper_complete_c-fr_proper_complete_c/NinJo</value>\n",
      "        </parameter>\n",
      "        <parameter>\n",
      "            <valueName>layer:EC-MSC-SMC:1.1:CAP_count</valueName>\n",
      "            <value>A:8134 M:44824 C:54368</value>\n",
      "        </parameter>\n",
      "        <parameter>\n",
      "            <valueName>layer:EC-MSC-SMC:1.0:Alert_Location_Status</valueName>\n",
      "            <value>transitioned_out</value>\n",
      "        </parameter>\n",
      "        <parameter>\n",
      "            <valueName>layer:EC-MSC-SMC:1.0:Alert_Name</valueName>\n",
      "            <value>squall warning</value>\n",
      "        </parameter>\n",
      "        <parameter>\n",
      "            <valueName>layer:EC-MSC-SMC:1.0:Alert_Coverage</valueName>\n",
      "            <value>Canadian portion of the Great Lakes and the Ontario portion of the St. Lawrence River</value>\n",
      "        </parameter>\n",
      "        <parameter>\n",
      "            <valueName>layer:EC-MSC-SMC:1.1:Designation_Code</valueName>\n",
      "            <value>WH_13_73_CWTO</value>\n",
      "        </parameter>\n",
      "        <parameter>\n",
      "            <valueName>layer:SOREM:2.0:WirelessImmediate</valueName>\n",
      "            <value>No</value>\n",
      "        </parameter>\n",
      "        <parameter>\n",
      "            <valueName>layer:EC-MSC-SMC:1.1:Alert_Location_Status</valueName>\n",
      "            <value>transitioned_out</value>\n",
      "        </parameter>\n",
      "        <parameter>\n",
      "            <valueName>layer:EC-MSC-SMC:1.1:Transitioned_Out_CAP_Reference</valueName>\n",
      "            <value>cap-pac@canada.ca,urn:oid:2.49.0.1.124.1323034949.2023,2023-08-12T00:06:43-00:00;002212</value>\n",
      "        </parameter>\n",
      "        <area>\n",
      "            <areaDesc>Western Lake Erie</areaDesc>\n",
      "            <polygon>42.0512,-83.1462 42.0537,-83.1109 42.0629,-83.0565 42.0167,-82.9069 42.0946,-82.6165 42.2319,-82.3391 42.5988,-81.7125 42.784,-81.2109 42.66,-81.1553 42.2591,-80.9327 42.2075,-81.2457 41.6765,-82.3974 41.6765,-82.6797 41.8635,-83.0691 42.0409,-83.1496 42.0512,-83.1462</polygon>\n",
      "            <geocode>\n",
      "                <valueName>layer:EC-MSC-SMC:1.0:CLC</valueName>\n",
      "                <value>002212</value>\n",
      "            </geocode>\n",
      "            <geocode>\n",
      "                <valueName>profile:CAP-CP:Location:0.3</valueName>\n",
      "                <value>3534020</value>\n",
      "            </geocode>\n",
      "            <geocode>\n",
      "                <valueName>profile:CAP-CP:Location:0.3</valueName>\n",
      "                <value>3534024</value>\n",
      "            </geocode>\n",
      "            <geocode>\n",
      "                <valueName>profile:CAP-CP:Location:0.3</valueName>\n",
      "                <value>3534030</value>\n",
      "            </geocode>\n",
      "            <geocode>\n",
      "                <valueName>profile:CAP-CP:Location:0.3</valueName>\n",
      "                <value>3534042</value>\n",
      "            </geocode>\n",
      "            <geocode>\n",
      "                <valueName>profile:CAP-CP:Location:0.3</valueName>\n",
      "                <value>3536020</value>\n",
      "            </geocode>\n",
      "            <geocode>\n",
      "                <valueName>profile:CAP-CP:Location:0.3</valueName>\n",
      "                <value>3537001</value>\n",
      "            </geocode>\n",
      "            <geocode>\n",
      "                <valueName>profile:CAP-CP:Location:0.3</valueName>\n",
      "                <value>3537003</value>\n",
      "            </geocode>\n",
      "            <geocode>\n",
      "                <valueName>profile:CAP-CP:Location:0.3</valueName>\n",
      "                <value>3537013</value>\n",
      "            </geocode>\n",
      "            <geocode>\n",
      "                <valueName>profile:CAP-CP:Location:0.3</valueName>\n",
      "                <value>3537016</value>\n",
      "            </geocode>\n",
      "            <geocode>\n",
      "                <valueName>profile:CAP-CP:Location:0.3</valueName>\n",
      "                <value>3537028</value>\n",
      "            </geocode>\n",
      "        </area>\n",
      "    </info>\n",
      "    <info>\n",
      "        <language>fr-CA</language>\n",
      "        <category>Met</category>\n",
      "        <event>grains</event>\n",
      "        <responseType>Monitor</responseType>\n",
      "        <urgency>Immediate</urgency>\n",
      "        <severity>Severe</severity>\n",
      "        <certainty>Unknown</certainty>\n",
      "        <audience>grand public</audience>\n",
      "        <eventCode>\n",
      "            <valueName>profile:CAP-CP:Event:0.4</valueName>\n",
      "            <value>squall</value>\n",
      "        </eventCode>\n",
      "        <effective>2023-08-12T00:06:43-00:00</effective>\n",
      "        <expires>2023-08-12T00:05:43-00:00</expires>\n",
      "        <senderName>Environnement Canada</senderName>\n",
      "        <headline/>\n",
      "        <description>\n",
      "###\n",
      "</description>\n",
      "        <instruction/>\n",
      "        <web>http://meteo.gc.ca/marine/index_f.html</web>\n",
      "        <parameter>\n",
      "            <valueName>layer:EC-MSC-SMC:1.0:Alert_Type</valueName>\n",
      "            <value>warning</value>\n",
      "        </parameter>\n",
      "        <parameter>\n",
      "            <valueName>layer:EC-MSC-SMC:1.0:Broadcast_Intrusive</valueName>\n",
      "            <value>no</value>\n",
      "        </parameter>\n",
      "        <parameter>\n",
      "            <valueName>layer:SOREM:1.0:Broadcast_Immediately</valueName>\n",
      "            <value>No</value>\n",
      "        </parameter>\n",
      "        <parameter>\n",
      "            <valueName>layer:EC-MSC-SMC:1.1:Parent_URI</valueName>\n",
      "            <value>msc/alert/environment/hazard/alert-3.0-ascii/consolidated-xml-2.0/20230812000543354/WH_13_73_CWTO/SQW/194535965558308520202308110503_WH_13_73_CWTO/system/en_proper_complete_c-fr_proper_complete_c/NinJo</value>\n",
      "        </parameter>\n",
      "        <parameter>\n",
      "            <valueName>layer:EC-MSC-SMC:1.1:CAP_count</valueName>\n",
      "            <value>A:8134 M:44824 C:54368</value>\n",
      "        </parameter>\n",
      "        <parameter>\n",
      "            <valueName>layer:EC-MSC-SMC:1.0:Alert_Location_Status</valueName>\n",
      "            <value>transitioned_out</value>\n",
      "        </parameter>\n",
      "        <parameter>\n",
      "            <valueName>layer:EC-MSC-SMC:1.0:Alert_Name</valueName>\n",
      "            <value>avertissement de grains</value>\n",
      "        </parameter>\n",
      "        <parameter>\n",
      "            <valueName>layer:EC-MSC-SMC:1.0:Alert_Coverage</valueName>\n",
      "            <value>secteur canadien des Grands Lacs et le secteur ontarien du fleuve Saint-Laurent</value>\n",
      "        </parameter>\n",
      "        <parameter>\n",
      "            <valueName>layer:EC-MSC-SMC:1.1:Designation_Code</valueName>\n",
      "            <value>WH_13_73_CWTO</value>\n",
      "        </parameter>\n",
      "        <parameter>\n",
      "            <valueName>layer:SOREM:2.0:WirelessImmediate</valueName>\n",
      "            <value>No</value>\n",
      "        </parameter>\n",
      "        <parameter>\n",
      "            <valueName>layer:EC-MSC-SMC:1.1:Alert_Location_Status</valueName>\n",
      "            <value>transitioned_out</value>\n",
      "        </parameter>\n",
      "        <parameter>\n",
      "            <valueName>layer:EC-MSC-SMC:1.1:Transitioned_Out_CAP_Reference</valueName>\n",
      "            <value>cap-pac@canada.ca,urn:oid:2.49.0.1.124.1323034949.2023,2023-08-12T00:06:43-00:00;002212</value>\n",
      "        </parameter>\n",
      "        <area>\n",
      "            <areaDesc>lac Ã‰riÃ© Ouest</areaDesc>\n",
      "            <polygon>42.0512,-83.1462 42.0537,-83.1109 42.0629,-83.0565 42.0167,-82.9069 42.0946,-82.6165 42.2319,-82.3391 42.5988,-81.7125 42.784,-81.2109 42.66,-81.1553 42.2591,-80.9327 42.2075,-81.2457 41.6765,-82.3974 41.6765,-82.6797 41.8635,-83.0691 42.0409,-83.1496 42.0512,-83.1462</polygon>\n",
      "            <geocode>\n",
      "                <valueName>layer:EC-MSC-SMC:1.0:CLC</valueName>\n",
      "                <value>002212</value>\n",
      "            </geocode>\n",
      "            <geocode>\n",
      "                <valueName>profile:CAP-CP:Location:0.3</valueName>\n",
      "                <value>3534020</value>\n",
      "            </geocode>\n",
      "            <geocode>\n",
      "                <valueName>profile:CAP-CP:Location:0.3</valueName>\n",
      "                <value>3534024</value>\n",
      "            </geocode>\n",
      "            <geocode>\n",
      "                <valueName>profile:CAP-CP:Location:0.3</valueName>\n",
      "                <value>3534030</value>\n",
      "            </geocode>\n",
      "            <geocode>\n",
      "                <valueName>profile:CAP-CP:Location:0.3</valueName>\n",
      "                <value>3534042</value>\n",
      "            </geocode>\n",
      "            <geocode>\n",
      "                <valueName>profile:CAP-CP:Location:0.3</valueName>\n",
      "                <value>3536020</value>\n",
      "            </geocode>\n",
      "            <geocode>\n",
      "                <valueName>profile:CAP-CP:Location:0.3</valueName>\n",
      "                <value>3537001</value>\n",
      "            </geocode>\n",
      "            <geocode>\n",
      "                <valueName>profile:CAP-CP:Location:0.3</valueName>\n",
      "                <value>3537003</value>\n",
      "            </geocode>\n",
      "            <geocode>\n",
      "                <valueName>profile:CAP-CP:Location:0.3</valueName>\n",
      "                <value>3537013</value>\n",
      "            </geocode>\n",
      "            <geocode>\n",
      "                <valueName>profile:CAP-CP:Location:0.3</valueName>\n",
      "                <value>3537016</value>\n",
      "            </geocode>\n",
      "            <geocode>\n",
      "                <valueName>profile:CAP-CP:Location:0.3</valueName>\n",
      "                <value>3537028</value>\n",
      "            </geocode>\n",
      "        </area>\n",
      "    </info>\n",
      "<Signature xmlns=\"http://www.w3.org/2000/09/xmldsig#\" Id=\"Environment Canada\">\n",
      "<SignedInfo>\n",
      "<CanonicalizationMethod Algorithm=\"http://www.w3.org/2001/10/xml-exc-c14n#\"/>\n",
      "<SignatureMethod Algorithm=\"http://www.w3.org/2001/04/xmldsig-more#rsa-sha256\"/>\n",
      "<Reference URI=\"\">\n",
      "<Transforms>\n",
      "<Transform Algorithm=\"http://www.w3.org/2000/09/xmldsig#enveloped-signature\"/>\n",
      "</Transforms>\n",
      "<DigestMethod Algorithm=\"http://www.w3.org/2001/04/xmlenc#sha256\"/>\n",
      "<DigestValue>b0OrP09+ofL1e35BrdUIMu5NMXubPmR1rJscJSk/53M=</DigestValue>\n",
      "</Reference>\n",
      "</SignedInfo>\n",
      "<SignatureValue>PEG5D9P8iQmfEkcWo9PVYpZ+LFEnUA4VK6+e+KfB6B/nH4tNGtXEVTD56FzYwZzl\n",
      "hVyiSXZ/im+8wmT3BrjXzcKMm7NTFp1VLV//SUE5BFGorS9L/2H9JlWuw0hdym1w\n",
      "l6+xP3Oi6sjBAdxAY3z3ZWiR6MBCJQoSHKuDhaTVEsgSUECsag1SZ6rLdsFMGUiP\n",
      "UhPlw1NFo612f8xnKs3b6mQ0Kwf4lhqYdn/Ipn1DRy6HHPMky7J1Jd7SP6L+8W7J\n",
      "qJpBWymoyeffhCboGezo8txBguZ8xGD0KxiRoH/c6TIU3IE1gG05Tz1g2tsicffH\n",
      "cCbvcHYeIyugp43lQtICUw==</SignatureValue>\n",
      "<KeyInfo>\n",
      "<X509Data>\n",
      "<X509Certificate>MIIHQDCCBiigAwIBAgIQauIRkpOPcGViI+LoZHWDFzANBgkqhkiG9w0BAQsFADCB\n",
      "ujELMAkGA1UEBhMCVVMxFjAUBgNVBAoTDUVudHJ1c3QsIEluYy4xKDAmBgNVBAsT\n",
      "H1NlZSB3d3cuZW50cnVzdC5uZXQvbGVnYWwtdGVybXMxOTA3BgNVBAsTMChjKSAy\n",
      "MDEyIEVudHJ1c3QsIEluYy4gLSBmb3IgYXV0aG9yaXplZCB1c2Ugb25seTEuMCwG\n",
      "A1UEAxMlRW50cnVzdCBDZXJ0aWZpY2F0aW9uIEF1dGhvcml0eSAtIEwxSzAeFw0y\n",
      "MzA0MjcxNDEyNDVaFw0yNDA1MDcxNDEyNDVaMGwxCzAJBgNVBAYTAkNBMQ8wDQYD\n",
      "VQQIEwZRdWViZWMxETAPBgNVBAcTCEdhdGluZWF1MR8wHQYDVQQKExZTaGFyZWQg\n",
      "U2VydmljZXMgQ2FuYWRhMRgwFgYDVQQDDA8qLndlYXRoZXIuZ2MuY2EwggEiMA0G\n",
      "CSqGSIb3DQEBAQUAA4IBDwAwggEKAoIBAQDOSYFvWlJgQgD5twPwuMqUXQB8Raj6\n",
      "enUh60KlOqYi2Moja8qBMhANS848XjHd+OlTNKv5J9YT6OoxTqcRe60e3nWYF6/u\n",
      "Plu+O4KWOO8x6jWbttEn5G7j7V35yaWXqP0LObVrQLDMYX3D4xsm+MJK7eyGJz8k\n",
      "AJAJYONS/+dp7/0jlrzlTjyuT4Uk50zVDvTGxiYpgjPfuXG9Bke5q8Cju4EEgAfW\n",
      "1I2+67Is7ae2fTjhvPH+w+L4iujk1ucmkrZqd2Norr8eeLebvDiSNxV4FkdzUZKQ\n",
      "TTycHQb1u/79WGgRKCH+nPYTzW/l/muRz59V0LKTQOlFmq8H45fmSYWZAgMBAAGj\n",
      "ggONMIIDiTAMBgNVHRMBAf8EAjAAMB0GA1UdDgQWBBRlq9u/A7i58xA3Eb4DmYis\n",
      "FzYwKTAfBgNVHSMEGDAWgBSConB03bxTP8971PfNf6dgxgpMvzBoBggrBgEFBQcB\n",
      "AQRcMFowIwYIKwYBBQUHMAGGF2h0dHA6Ly9vY3NwLmVudHJ1c3QubmV0MDMGCCsG\n",
      "AQUFBzAChidodHRwOi8vYWlhLmVudHJ1c3QubmV0L2wxay1jaGFpbjI1Ni5jZXIw\n",
      "MwYDVR0fBCwwKjAooCagJIYiaHR0cDovL2NybC5lbnRydXN0Lm5ldC9sZXZlbDFr\n",
      "LmNybDCBnQYDVR0RBIGVMIGSgg8qLndlYXRoZXIuZ2MuY2GCDXdlYXRoZXIuZ2Mu\n",
      "Y2GCC21ldGVvLmdjLmNhgg0qLm1ldGVvLmdjLmNhghUqLmFscGhhLndlYXRoZXIu\n",
      "Z2MuY2GCEyouYWxwaGEubWV0ZW8uZ2MuY2GCFCouYmV0YS53ZWF0aGVyLmdjLmNh\n",
      "ghIqLmJldGEubWV0ZW8uZ2MuY2EwDgYDVR0PAQH/BAQDAgWgMB0GA1UdJQQWMBQG\n",
      "CCsGAQUFBwMBBggrBgEFBQcDAjBMBgNVHSAERTBDMDcGCmCGSAGG+mwKAQUwKTAn\n",
      "BggrBgEFBQcCARYbaHR0cHM6Ly93d3cuZW50cnVzdC5uZXQvcnBhMAgGBmeBDAEC\n",
      "AjCCAXsGCisGAQQB1nkCBAIEggFrBIIBZwFlAHUAc9meiRtMlnigIH1HneayxhzQ\n",
      "UV5xGSqMa4AQesF3crUAAAGHww80IQAABAMARjBEAiAkpowR7bbTYLp4v/tw0Fav\n",
      "HHP8mm2i6/ecg03yasJkkgIga1hmg5g/Gq97+HOCDwjsy77aS8+PirSarIO6/X1H\n",
      "EfkAdQA7U3d1Pi25gE6LMFsG/kA7Z9hPw/THvQANLXJv4frUFwAAAYfDDzQcAAAE\n",
      "AwBGMEQCIBKVCiUTam6W9Y+5TiuhpsxVVx2TYVz9SebYPuB4XyHUAiB4Y9ZXnkOt\n",
      "rJJAaw4im3kY7OWZG40xPUL1ygK8trUsIAB1AO7N0GTV2xrOxVy3nbTNE6Iyh0Z8\n",
      "vOzew1FIWUZxH7WbAAABh8MPNF0AAAQDAEYwRAIgYbZkNJlz8a4d35p4+wLg0h5P\n",
      "WtFyyBEqy06IoSV7UWICIH65mirJoLVsZFK7kXW3IJF4+xlgATBcr/n2ImBLSWug\n",
      "MA0GCSqGSIb3DQEBCwUAA4IBAQCcp2dfEDsCzJHpMsTF1hlEyYPTgmfrSbgegWT3\n",
      "76r0r7XGY7qIym53HE6Pk3Q7BgsegpV+pS8UMWx1m9x0ZcUQX11gMBlNLv0WCSBe\n",
      "4/9BOaGc2deYrXsRAmmFJwqvgegcBSQhg4zZSoSSVqJPhaJ1WYWqDbJW+doY15xy\n",
      "JPm7UbZqCAbzm3/c36N9j/Zu6h+LA9rhltfwYoWCyqlBtJCRrs7K7KEP+dLtsoby\n",
      "+AhyY+3dK2IB4G7v5Qbxa88WKV9EsXXMpvl0v/kXSDjIHJwRPyOf1OKU9x2Mc3Mx\n",
      "KEgzSJ0GUUW0RqqCVWZ14TBoxUq1jJw4m12zSF+PYFpSH6g5</X509Certificate>\n",
      "</X509Data>\n",
      "</KeyInfo>\n",
      "</Signature></alert>\n",
      "\n"
     ]
    }
   ],
   "source": [
    "try:\n",
    "    with open (full_path) as file:\n",
    "        print(file.read())\n",
    "except FileNotFoundError:\n",
    "    print(\"I need help!!\")\n"
   ]
  },
  {
   "cell_type": "code",
   "execution_count": 39,
   "metadata": {},
   "outputs": [
    {
     "name": "stdout",
     "output_type": "stream",
     "text": [
      "Requirement already satisfied: xmltodict in c:\\python311\\lib\\site-packages (0.13.0)\n",
      "Note: you may need to restart the kernel to use updated packages.\n"
     ]
    }
   ],
   "source": [
    "pip install xmltodict"
   ]
  },
  {
   "cell_type": "markdown",
   "metadata": {},
   "source": [
    "https://www.askpython.com/python-modules/xmltodict-module"
   ]
  },
  {
   "cell_type": "code",
   "execution_count": 40,
   "metadata": {},
   "outputs": [],
   "source": [
    "import xmltodict\n",
    "\n",
    "with open(full_path, 'r') as xml_file:\n",
    "    xml_data = xml_file.read()\n"
   ]
  },
  {
   "cell_type": "code",
   "execution_count": 41,
   "metadata": {},
   "outputs": [],
   "source": [
    "data_dict = xmltodict.parse(xml_data)"
   ]
  },
  {
   "cell_type": "code",
   "execution_count": 42,
   "metadata": {},
   "outputs": [
    {
     "name": "stdout",
     "output_type": "stream",
     "text": [
      "Language: en-CA\n",
      "Category: Met\n",
      "Event: squall\n",
      "Response Type: Monitor\n",
      "Urgency: Immediate\n",
      "Severity: Severe\n",
      "Certainty: Unknown\n",
      "Audience: general public\n",
      "Effective: 2023-08-12T00:06:43-00:00\n",
      "Expires: 2023-08-12T00:05:43-00:00\n",
      "Sender Name: Environment Canada\n",
      "Headline: None\n",
      "Description: ###\n"
     ]
    }
   ],
   "source": [
    "polygon_list = []\n",
    "\n",
    "for info in data_dict['alert']['info']:\n",
    "    if info.get('language') == 'en-CA':\n",
    "        print(\"Language:\", info['language'])\n",
    "        print(\"Category:\", info['category'])\n",
    "        print(\"Event:\", info['event'])\n",
    "        print(\"Response Type:\", info['responseType'])\n",
    "        print(\"Urgency:\", info['urgency'])\n",
    "        print(\"Severity:\", info['severity'])\n",
    "        print(\"Certainty:\", info['certainty'])\n",
    "        print(\"Audience:\", info['audience'])\n",
    "        print(\"Effective:\", info['effective'])\n",
    "        print(\"Expires:\", info['expires'])\n",
    "        print(\"Sender Name:\", info['senderName'])\n",
    "        print(\"Headline:\", info['headline'])\n",
    "        print(\"Description:\", info['description'])\n",
    "        polygon = info['area']['polygon']\n",
    "        polygon_list.append(polygon)"
   ]
  },
  {
   "cell_type": "code",
   "execution_count": 43,
   "metadata": {},
   "outputs": [
    {
     "name": "stdout",
     "output_type": "stream",
     "text": [
      "Polygon List: ['42.0512,-83.1462 42.0537,-83.1109 42.0629,-83.0565 42.0167,-82.9069 42.0946,-82.6165 42.2319,-82.3391 42.5988,-81.7125 42.784,-81.2109 42.66,-81.1553 42.2591,-80.9327 42.2075,-81.2457 41.6765,-82.3974 41.6765,-82.6797 41.8635,-83.0691 42.0409,-83.1496 42.0512,-83.1462']\n"
     ]
    }
   ],
   "source": [
    "print(\"Polygon List:\", polygon_list)\n"
   ]
  },
  {
   "cell_type": "code",
   "execution_count": 44,
   "metadata": {},
   "outputs": [
    {
     "name": "stdout",
     "output_type": "stream",
     "text": [
      "[(42.0512, -83.1462), (42.0537, -83.1109), (42.0629, -83.0565), (42.0167, -82.9069), (42.0946, -82.6165), (42.2319, -82.3391), (42.5988, -81.7125), (42.784, -81.2109), (42.66, -81.1553), (42.2591, -80.9327), (42.2075, -81.2457), (41.6765, -82.3974), (41.6765, -82.6797), (41.8635, -83.0691), (42.0409, -83.1496), (42.0512, -83.1462)]\n"
     ]
    }
   ],
   "source": [
    "polygon_str = polygon_list[0]\n",
    "points_str = polygon_str.split()\n",
    "\n",
    "polygon_points = []\n",
    "\n",
    "for point_str in points_str:\n",
    "    lat, lon = map(float, point_str.split(','))\n",
    "    polygon_points.append((lat, lon))\n",
    "\n",
    "print(polygon_points)\n"
   ]
  },
  {
   "cell_type": "code",
   "execution_count": 45,
   "metadata": {},
   "outputs": [
    {
     "name": "stdout",
     "output_type": "stream",
     "text": [
      "The point is outside the polygon.\n"
     ]
    }
   ],
   "source": [
    "def point_inside_polygon(x, y, poly):\n",
    "    n = len(poly)\n",
    "    inside = False\n",
    "    p1x, p1y = poly[0]\n",
    "    for i in range(n + 1):\n",
    "        p2x, p2y = poly[i % n]\n",
    "        if y > min(p1y, p2y):\n",
    "            if y <= max(p1y, p2y):\n",
    "                if x <= max(p1x, p2x):\n",
    "                    if p1y != p2y:\n",
    "                        xints = (y - p1y) * (p2x - p1x) / (p2y - p1y) + p1x\n",
    "                    if p1x == p2x or x <= xints:\n",
    "                        inside = not inside\n",
    "        p1x, p1y = p2x, p2y\n",
    "    return inside\n",
    "\n",
    "\n",
    "point_to_check = (42.5, -80.1)  \n",
    "\n",
    "is_inside = point_inside_polygon(point_to_check[1], point_to_check[0], polygon_points)\n",
    "\n",
    "if is_inside:\n",
    "    print(\"The point is inside the polygon.\")\n",
    "else:\n",
    "    print(\"The point is outside the polygon.\")\n"
   ]
  },
  {
   "cell_type": "code",
   "execution_count": 46,
   "metadata": {},
   "outputs": [],
   "source": [
    "import pandas as pd"
   ]
  },
  {
   "cell_type": "code",
   "execution_count": 47,
   "metadata": {},
   "outputs": [],
   "source": [
    "location_df = pd.read_csv(\"https://raw.githubusercontent.com/supragyabajpai/SchulichJourney_DataScience/main/DataBase/Geospatial_Coordinates.csv\")"
   ]
  },
  {
   "cell_type": "code",
   "execution_count": 48,
   "metadata": {},
   "outputs": [
    {
     "data": {
      "text/html": [
       "<div>\n",
       "<style scoped>\n",
       "    .dataframe tbody tr th:only-of-type {\n",
       "        vertical-align: middle;\n",
       "    }\n",
       "\n",
       "    .dataframe tbody tr th {\n",
       "        vertical-align: top;\n",
       "    }\n",
       "\n",
       "    .dataframe thead th {\n",
       "        text-align: right;\n",
       "    }\n",
       "</style>\n",
       "<table border=\"1\" class=\"dataframe\">\n",
       "  <thead>\n",
       "    <tr style=\"text-align: right;\">\n",
       "      <th></th>\n",
       "      <th>Postal Code</th>\n",
       "      <th>Latitude</th>\n",
       "      <th>Longitude</th>\n",
       "    </tr>\n",
       "  </thead>\n",
       "  <tbody>\n",
       "    <tr>\n",
       "      <th>0</th>\n",
       "      <td>M1B</td>\n",
       "      <td>43.806686</td>\n",
       "      <td>-79.194353</td>\n",
       "    </tr>\n",
       "    <tr>\n",
       "      <th>1</th>\n",
       "      <td>M1C</td>\n",
       "      <td>43.784535</td>\n",
       "      <td>-79.160497</td>\n",
       "    </tr>\n",
       "    <tr>\n",
       "      <th>2</th>\n",
       "      <td>M1E</td>\n",
       "      <td>43.763573</td>\n",
       "      <td>-79.188711</td>\n",
       "    </tr>\n",
       "    <tr>\n",
       "      <th>3</th>\n",
       "      <td>M1G</td>\n",
       "      <td>43.770992</td>\n",
       "      <td>-79.216917</td>\n",
       "    </tr>\n",
       "    <tr>\n",
       "      <th>4</th>\n",
       "      <td>M1H</td>\n",
       "      <td>43.773136</td>\n",
       "      <td>-79.239476</td>\n",
       "    </tr>\n",
       "  </tbody>\n",
       "</table>\n",
       "</div>"
      ],
      "text/plain": [
       "  Postal Code   Latitude  Longitude\n",
       "0         M1B  43.806686 -79.194353\n",
       "1         M1C  43.784535 -79.160497\n",
       "2         M1E  43.763573 -79.188711\n",
       "3         M1G  43.770992 -79.216917\n",
       "4         M1H  43.773136 -79.239476"
      ]
     },
     "execution_count": 48,
     "metadata": {},
     "output_type": "execute_result"
    }
   ],
   "source": [
    "location_df.head()"
   ]
  },
  {
   "cell_type": "code",
   "execution_count": 50,
   "metadata": {},
   "outputs": [],
   "source": [
    "url = \"https://www.genguide.com.ng/toronto-postal-code/\"\n",
    "response = requests.get(url)\n",
    "html_content = response.text\n",
    "soup = BeautifulSoup(html_content, \"html.parser\")"
   ]
  },
  {
   "cell_type": "code",
   "execution_count": 51,
   "metadata": {},
   "outputs": [],
   "source": [
    "figure = soup.find(\"figure\", class_=\"wp-block-table\")\n",
    "\n",
    "table = figure.find(\"table\")"
   ]
  },
  {
   "cell_type": "code",
   "execution_count": 53,
   "metadata": {},
   "outputs": [],
   "source": [
    "if table is not None:\n",
    "    neighborhoods = []\n",
    "    postal_codes = []\n",
    "    districts = []\n",
    "\n",
    "    for row in table.find_all(\"tr\")[1:]:\n",
    "        columns = row.find_all(\"td\")\n",
    "        postal_code = columns[0].text\n",
    "        district = columns[1].text\n",
    "        neighborhood = columns[2].text.strip()\n",
    "\n",
    "        if district != \"Not assigned\":\n",
    "            postal_codes.append(postal_code)\n",
    "            districts.append(district)\n",
    "            neighborhoods.append(neighborhood)\n",
    "\n",
    "    data = {\n",
    "        \"PostalCode\": postal_codes,\n",
    "        \"District\": districts,\n",
    "        \"Neighborhood\": neighborhoods\n",
    "    }\n",
    "\n",
    "    neighborhood_df = pd.DataFrame(data)\n",
    "else:\n",
    "    print(\"Table not found on the page.\")\n"
   ]
  },
  {
   "cell_type": "code",
   "execution_count": null,
   "metadata": {},
   "outputs": [],
   "source": []
  }
 ],
 "metadata": {
  "kernelspec": {
   "display_name": "Python 3",
   "language": "python",
   "name": "python3"
  },
  "language_info": {
   "codemirror_mode": {
    "name": "ipython",
    "version": 3
   },
   "file_extension": ".py",
   "mimetype": "text/x-python",
   "name": "python",
   "nbconvert_exporter": "python",
   "pygments_lexer": "ipython3",
   "version": "3.11.3"
  },
  "orig_nbformat": 4
 },
 "nbformat": 4,
 "nbformat_minor": 2
}
