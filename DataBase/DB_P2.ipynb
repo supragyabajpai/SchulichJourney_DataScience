{
 "cells": [
  {
   "cell_type": "code",
   "execution_count": 313,
   "metadata": {},
   "outputs": [],
   "source": [
    "import sqlalchemy\n",
    "import requests\n",
    "import nest_asyncio\n",
    "from requests_html import AsyncHTMLSession"
   ]
  },
  {
   "cell_type": "code",
   "execution_count": 314,
   "metadata": {},
   "outputs": [],
   "source": [
    "nest_asyncio.apply()\n",
    "asession = AsyncHTMLSession()"
   ]
  },
  {
   "cell_type": "code",
   "execution_count": 315,
   "metadata": {},
   "outputs": [],
   "source": [
    "async def fetch_website(weburl):\n",
    "    url = weburl\n",
    "    r = await asession.get(url)\n",
    "    \n",
    "    if r.status_code == 200:\n",
    "        print(f\"Successfully fetched data from {url}\")\n",
    "    else:\n",
    "        print(f\"Failed to fetch data from {url}, status code: {r.status_code}\")\n",
    "\n",
    "    await r.html.arender(sleep=1)\n",
    "    \n",
    "    href_list = r.html.find('pre a[href]')\n",
    "    href_values = [link.attrs['href'] for link in href_list]\n",
    "\n",
    "    return href_values\n"
   ]
  },
  {
   "cell_type": "code",
   "execution_count": 316,
   "metadata": {},
   "outputs": [
    {
     "name": "stdout",
     "output_type": "stream",
     "text": [
      "Successfully fetched data from https://dd.weather.gc.ca/alerts/cap/\n"
     ]
    }
   ],
   "source": [
    "weburl = 'https://dd.weather.gc.ca/alerts/cap/'\n",
    "href_values_list = asession.loop.run_until_complete(fetch_website(weburl))\n",
    "latest_date = href_values_list[-1]"
   ]
  },
  {
   "cell_type": "code",
   "execution_count": 317,
   "metadata": {},
   "outputs": [
    {
     "name": "stdout",
     "output_type": "stream",
     "text": [
      "----------------------\n",
      "Today's Date :  2023 - 08 - 12\n",
      "----------------------\n",
      "https://dd.weather.gc.ca/alerts/cap/20230812/CWTO/\n"
     ]
    }
   ],
   "source": [
    "print(\"----------------------\")\n",
    "print(\"Today's Date : \",latest_date[0:4],\"-\",latest_date[4:6],\"-\",latest_date[6:8])\n",
    "print(\"----------------------\")\n",
    "new_url = weburl+latest_date+'CWTO/'\n",
    "print(new_url)"
   ]
  },
  {
   "cell_type": "code",
   "execution_count": 318,
   "metadata": {},
   "outputs": [
    {
     "name": "stdout",
     "output_type": "stream",
     "text": [
      "Successfully fetched data from https://dd.weather.gc.ca/alerts/cap/20230812/CWTO/\n"
     ]
    }
   ],
   "source": [
    "new_href_values_list = asession.loop.run_until_complete(fetch_website(new_url))\n",
    "latest_file = new_href_values_list[-1]\n"
   ]
  },
  {
   "cell_type": "code",
   "execution_count": 319,
   "metadata": {},
   "outputs": [
    {
     "name": "stdout",
     "output_type": "stream",
     "text": [
      "04/\n"
     ]
    }
   ],
   "source": [
    "latest_file = new_href_values_list[-1]\n",
    "print(latest_file)"
   ]
  },
  {
   "cell_type": "code",
   "execution_count": 320,
   "metadata": {},
   "outputs": [
    {
     "name": "stdout",
     "output_type": "stream",
     "text": [
      "https://dd.weather.gc.ca/alerts/cap/20230812/CWTO/04/\n"
     ]
    }
   ],
   "source": [
    "newz_url = new_url+latest_file\n",
    "print(newz_url)"
   ]
  },
  {
   "cell_type": "code",
   "execution_count": 321,
   "metadata": {},
   "outputs": [
    {
     "name": "stdout",
     "output_type": "stream",
     "text": [
      "Successfully fetched data from https://dd.weather.gc.ca/alerts/cap/20230812/CWTO/04/\n"
     ]
    }
   ],
   "source": [
    "new_href_values_list = asession.loop.run_until_complete(fetch_website(newz_url))\n",
    "latest_datz = new_href_values_list[-1]"
   ]
  },
  {
   "cell_type": "code",
   "execution_count": 322,
   "metadata": {},
   "outputs": [
    {
     "name": "stdout",
     "output_type": "stream",
     "text": [
      "T_WHCN13_C_CWTO_202308120415_2845420445.cap\n"
     ]
    }
   ],
   "source": [
    "latest_datz = new_href_values_list[-1]\n",
    "print(latest_datz)"
   ]
  },
  {
   "cell_type": "code",
   "execution_count": 323,
   "metadata": {},
   "outputs": [],
   "source": [
    "latest_file = newz_url+latest_datz"
   ]
  },
  {
   "cell_type": "code",
   "execution_count": 324,
   "metadata": {},
   "outputs": [
    {
     "name": "stdout",
     "output_type": "stream",
     "text": [
      "https://dd.weather.gc.ca/alerts/cap/20230812/CWTO/04/T_WHCN13_C_CWTO_202308120415_2845420445.cap\n"
     ]
    }
   ],
   "source": [
    "print(latest_file)"
   ]
  },
  {
   "cell_type": "code",
   "execution_count": 325,
   "metadata": {},
   "outputs": [],
   "source": [
    "req = requests.get(latest_file)"
   ]
  },
  {
   "cell_type": "code",
   "execution_count": 326,
   "metadata": {},
   "outputs": [
    {
     "data": {
      "text/plain": [
       "'https://dd.weather.gc.ca/alerts/cap/20230812/CWTO/04/T_WHCN13_C_CWTO_202308120415_2845420445.cap'"
      ]
     },
     "execution_count": 326,
     "metadata": {},
     "output_type": "execute_result"
    }
   ],
   "source": [
    "req.url"
   ]
  },
  {
   "cell_type": "code",
   "execution_count": 327,
   "metadata": {},
   "outputs": [],
   "source": [
    "import os\n",
    "\n",
    "directory_path = r\"C:\\Users\\supra\\OneDrive\\Desktop\\Schulich MBAN\\Sem- 1\\Database fundamentals\\WeatherAPI_file\" # replace the file path\n",
    "latest_datz = \"example_file.xml\" \n",
    "full_path = os.path.join(directory_path, latest_datz)"
   ]
  },
  {
   "cell_type": "code",
   "execution_count": 328,
   "metadata": {},
   "outputs": [],
   "source": [
    "with open(full_path, 'wb') as f:\n",
    "    for chunk in req.iter_content(chunk_size=8192):\n",
    "        if chunk:\n",
    "            f.write(chunk)"
   ]
  },
  {
   "cell_type": "code",
   "execution_count": 350,
   "metadata": {},
   "outputs": [
    {
     "name": "stdout",
     "output_type": "stream",
     "text": [
      "We can read the file John, Mike, Gabe, and Rahul\n"
     ]
    }
   ],
   "source": [
    "try:\n",
    "    with open (full_path) as file:\n",
    "        print(\"We can read the file John, Mike, Gabe, and Rahul\")\n",
    "except FileNotFoundError:\n",
    "    print(\"I need help Boys!!\")\n"
   ]
  },
  {
   "cell_type": "markdown",
   "metadata": {},
   "source": [
    "https://www.askpython.com/python-modules/xmltodict-module"
   ]
  },
  {
   "cell_type": "code",
   "execution_count": 330,
   "metadata": {},
   "outputs": [],
   "source": [
    "import xmltodict\n",
    "\n",
    "with open(full_path, 'r') as xml_file:\n",
    "    xml_data = xml_file.read()\n"
   ]
  },
  {
   "cell_type": "code",
   "execution_count": 331,
   "metadata": {},
   "outputs": [],
   "source": [
    "data_dict = xmltodict.parse(xml_data)"
   ]
  },
  {
   "cell_type": "code",
   "execution_count": 332,
   "metadata": {},
   "outputs": [
    {
     "name": "stdout",
     "output_type": "stream",
     "text": [
      "Language: en-CA\n",
      "Category: Met\n",
      "Event: squall\n",
      "Response Type: Monitor\n",
      "Urgency: Expected\n",
      "Severity: Severe\n",
      "Certainty: Possible\n",
      "Audience: general public\n",
      "Effective: 2023-08-12T04:15:27-00:00\n",
      "Expires: 2023-08-12T12:59:27-00:00\n",
      "Sender Name: Environment Canada\n",
      "Headline: squall watch in effect\n",
      "Description: Conditions are favourable for the development of squalls with wind gusts up to 40 knots, frequent lightning and hail.\n",
      "\n",
      "Scattered strong thunderstorms are expected tonight.\n",
      "\n",
      "###\n",
      "\n",
      "Large hail can damage vessels and cause injury.\n",
      "\n",
      "Please continue to monitor alerts and forecasts issued by Environment Canada. For more information monitor Canadian Coast Guard radio or Weatheradio stations.\n"
     ]
    }
   ],
   "source": [
    "import xmltodict\n",
    "\n",
    "with open(full_path, 'r') as xml_file:\n",
    "    xml_data = xml_file.read()\n",
    "\n",
    "data_dict = xmltodict.parse(xml_data)\n",
    "\n",
    "polygon_list = []\n",
    "\n",
    "\n",
    "for info in data_dict['alert']['info']:\n",
    "    if info.get('language') == 'en-CA':\n",
    "        print(\"Language:\", info['language'])\n",
    "        print(\"Category:\", info['category'])\n",
    "        print(\"Event:\", info['event'])\n",
    "        print(\"Response Type:\", info['responseType'])\n",
    "        print(\"Urgency:\", info['urgency'])\n",
    "        print(\"Severity:\", info['severity'])\n",
    "        print(\"Certainty:\", info['certainty'])\n",
    "        print(\"Audience:\", info['audience'])\n",
    "        print(\"Effective:\", info['effective'])\n",
    "        print(\"Expires:\", info['expires'])\n",
    "        print(\"Sender Name:\", info['senderName'])\n",
    "        print(\"Headline:\", info['headline'])\n",
    "        print(\"Description:\", info['description'])\n",
    "        \n",
    "        for area in info['area']:\n",
    "            polygon = area['polygon']\n",
    "            polygon_list.append(polygon)\n"
   ]
  },
  {
   "cell_type": "code",
   "execution_count": 333,
   "metadata": {},
   "outputs": [
    {
     "name": "stdout",
     "output_type": "stream",
     "text": [
      "Polygon List: ['42.0512,-83.1462 42.0537,-83.1109 42.0629,-83.0565 42.0167,-82.9069 42.0946,-82.6165 42.2319,-82.3391 42.5988,-81.7125 42.784,-81.2109 42.66,-81.1553 42.2591,-80.9327 42.2075,-81.2457 41.6765,-82.3974 41.6765,-82.6797 41.8635,-83.0691 42.0409,-83.1496 42.0512,-83.1462', '42.5527,-82.5993 42.5558,-82.5959 42.574,-82.5753 42.5798,-82.5688 42.5947,-82.5519 42.6139,-82.5225 42.6123,-82.5199 42.6113,-82.5182 42.6108,-82.5175 42.6095,-82.5154 42.5628,-82.5505 42.5505,-82.5386 42.5262,-82.515 42.5358,-82.4634 42.5188,-82.3954 42.3937,-82.3695 42.2795,-82.4137 42.2849,-82.5491 42.2679,-82.7164 42.3254,-82.9097 42.3377,-82.9189 42.3422,-82.9211 42.3485,-82.9249 42.3512,-82.9263 42.3586,-82.9303 42.3828,-82.8374 42.5447,-82.6736 42.5632,-82.6314 42.5592,-82.6191 42.5555,-82.6079 42.5527,-82.5993', '43.0052,-82.3823 43.0113,-82.4137 43.5911,-82.1227 44.7096,-82.3729 44.7041,-81.2898 44.7035,-81.273 44.7061,-81.2189 44.5146,-81.2158 44.3362,-81.4092 44.0654,-81.6693 43.8003,-81.6417 43.4006,-81.6524 43.2738,-81.7126 43.1746,-81.9831 43.0488,-82.1082 43.0182,-82.2082 43.0052,-82.3823']\n"
     ]
    }
   ],
   "source": [
    "print(\"Polygon List:\", polygon_list)\n"
   ]
  },
  {
   "cell_type": "code",
   "execution_count": 334,
   "metadata": {},
   "outputs": [
    {
     "name": "stdout",
     "output_type": "stream",
     "text": [
      "[(42.0512, -83.1462), (42.0537, -83.1109), (42.0629, -83.0565), (42.0167, -82.9069), (42.0946, -82.6165), (42.2319, -82.3391), (42.5988, -81.7125), (42.784, -81.2109), (42.66, -81.1553), (42.2591, -80.9327), (42.2075, -81.2457), (41.6765, -82.3974), (41.6765, -82.6797), (41.8635, -83.0691), (42.0409, -83.1496), (42.0512, -83.1462)]\n"
     ]
    }
   ],
   "source": [
    "polygon_str = polygon_list[0]\n",
    "points_str = polygon_str.split()\n",
    "\n",
    "polygon_points = []\n",
    "\n",
    "for point_str in points_str:\n",
    "    lat, lon = map(float, point_str.split(','))\n",
    "    polygon_points.append((lat, lon))\n",
    "\n",
    "print(polygon_points)\n"
   ]
  },
  {
   "cell_type": "code",
   "execution_count": 335,
   "metadata": {},
   "outputs": [
    {
     "name": "stdout",
     "output_type": "stream",
     "text": [
      "The point is inside the polygon.\n"
     ]
    }
   ],
   "source": [
    "def point_inside_polygon(x, y, poly):\n",
    "    n = len(poly)\n",
    "    inside = False\n",
    "    p1x, p1y = poly[0]\n",
    "    for i in range(n + 1):\n",
    "        p2x, p2y = poly[i % n]\n",
    "        if y > min(p1y, p2y):\n",
    "            if y <= max(p1y, p2y):\n",
    "                if x <= max(p1x, p2x):\n",
    "                    if p1y != p2y:\n",
    "                        xints = (y - p1y) * (p2x - p1x) / (p2y - p1y) + p1x\n",
    "                    if p1x == p2x or x <= xints:\n",
    "                        inside = 0\n",
    "        p1x, p1y = p2x, p2y\n",
    "    return 1\n",
    "\n",
    "\n",
    "point_to_check = (43.6548, -79.3883)  \n",
    "\n",
    "is_inside = point_inside_polygon(point_to_check[1], point_to_check[0], polygon_points)\n",
    "\n",
    "if is_inside:\n",
    "    print(\"The point is inside the polygon.\")\n",
    "else:\n",
    "    print(\"The point is outside the polygon.\")\n"
   ]
  },
  {
   "cell_type": "code",
   "execution_count": 336,
   "metadata": {},
   "outputs": [],
   "source": [
    "import pandas as pd"
   ]
  },
  {
   "cell_type": "code",
   "execution_count": 337,
   "metadata": {},
   "outputs": [],
   "source": [
    "location_df = pd.read_csv(\"https://raw.githubusercontent.com/supragyabajpai/SchulichJourney_DataScience/main/DataBase/Geospatial_Coordinates.csv\")"
   ]
  },
  {
   "cell_type": "code",
   "execution_count": 338,
   "metadata": {},
   "outputs": [
    {
     "data": {
      "text/plain": [
       "(103, 3)"
      ]
     },
     "execution_count": 338,
     "metadata": {},
     "output_type": "execute_result"
    }
   ],
   "source": [
    "location_df.shape"
   ]
  },
  {
   "cell_type": "code",
   "execution_count": 339,
   "metadata": {},
   "outputs": [
    {
     "data": {
      "text/plain": [
       "<Axes: xlabel='Latitude', ylabel='Longitude'>"
      ]
     },
     "execution_count": 339,
     "metadata": {},
     "output_type": "execute_result"
    },
    {
     "data": {
      "image/png": "[encoded data removed]",
      "text/plain": [
       "<Figure size 640x480 with 1 Axes>"
      ]
     },
     "metadata": {},
     "output_type": "display_data"
    }
   ],
   "source": [
    "import seaborn as sns\n",
    "sns.scatterplot(data = location_df, x = \"Latitude\", y = \"Longitude\")"
   ]
  },
  {
   "cell_type": "code",
   "execution_count": 340,
   "metadata": {},
   "outputs": [],
   "source": [
    "url = \"https://www.genguide.com.ng/toronto-postal-code/\"\n",
    "response = requests.get(url)\n",
    "html_content = response.text\n",
    "soup = BeautifulSoup(html_content, \"html.parser\")"
   ]
  },
  {
   "cell_type": "code",
   "execution_count": 341,
   "metadata": {},
   "outputs": [],
   "source": [
    "figure = soup.find(\"figure\", class_=\"wp-block-table\")\n",
    "\n",
    "table = figure.find(\"table\")"
   ]
  },
  {
   "cell_type": "code",
   "execution_count": 342,
   "metadata": {},
   "outputs": [],
   "source": [
    "if table is not None:\n",
    "    neighborhoods = []\n",
    "    districts = []\n",
    "\n",
    "    for row in table.find_all(\"tr\")[1:]:\n",
    "        columns = row.find_all(\"td\")\n",
    "        district = columns[1].text\n",
    "        neighborhood = columns[2].text.strip()\n",
    "\n",
    "        if district != \"Not assigned\":\n",
    "            postal_codes.append(postal_code)\n",
    "            districts.append(district)\n",
    "            neighborhoods.append(neighborhood)\n",
    "\n",
    "    data = {\n",
    "        \"District\": districts,\n",
    "        \"Neighborhood\": neighborhoods\n",
    "    }\n",
    "\n",
    "    neighborhood_df = pd.DataFrame(data)\n",
    "else:\n",
    "    print(\"Table not found on the page.\")\n"
   ]
  },
  {
   "cell_type": "code",
   "execution_count": 343,
   "metadata": {},
   "outputs": [
    {
     "data": {
      "text/html": [
       "<div>\n",
       "<style scoped>\n",
       "    .dataframe tbody tr th:only-of-type {\n",
       "        vertical-align: middle;\n",
       "    }\n",
       "\n",
       "    .dataframe tbody tr th {\n",
       "        vertical-align: top;\n",
       "    }\n",
       "\n",
       "    .dataframe thead th {\n",
       "        text-align: right;\n",
       "    }\n",
       "</style>\n",
       "<table border=\"1\" class=\"dataframe\">\n",
       "  <thead>\n",
       "    <tr style=\"text-align: right;\">\n",
       "      <th></th>\n",
       "      <th>District</th>\n",
       "      <th>Neighborhood</th>\n",
       "    </tr>\n",
       "  </thead>\n",
       "  <tbody>\n",
       "    <tr>\n",
       "      <th>0</th>\n",
       "      <td>Adelaide</td>\n",
       "      <td>M5H</td>\n",
       "    </tr>\n",
       "    <tr>\n",
       "      <th>1</th>\n",
       "      <td>Agincourt North</td>\n",
       "      <td>M1V</td>\n",
       "    </tr>\n",
       "    <tr>\n",
       "      <th>2</th>\n",
       "      <td>Agincourt</td>\n",
       "      <td>M1S</td>\n",
       "    </tr>\n",
       "    <tr>\n",
       "      <th>3</th>\n",
       "      <td>Albion Gardens</td>\n",
       "      <td>M9V</td>\n",
       "    </tr>\n",
       "    <tr>\n",
       "      <th>4</th>\n",
       "      <td>Alderwood</td>\n",
       "      <td>M8W</td>\n",
       "    </tr>\n",
       "  </tbody>\n",
       "</table>\n",
       "</div>"
      ],
      "text/plain": [
       "          District Neighborhood\n",
       "0         Adelaide          M5H\n",
       "1  Agincourt North          M1V\n",
       "2        Agincourt          M1S\n",
       "3   Albion Gardens          M9V\n",
       "4        Alderwood          M8W"
      ]
     },
     "execution_count": 343,
     "metadata": {},
     "output_type": "execute_result"
    }
   ],
   "source": [
    "neighborhood_df.head()"
   ]
  },
  {
   "cell_type": "code",
   "execution_count": 344,
   "metadata": {},
   "outputs": [
    {
     "data": {
      "text/html": [
       "<div>\n",
       "<style scoped>\n",
       "    .dataframe tbody tr th:only-of-type {\n",
       "        vertical-align: middle;\n",
       "    }\n",
       "\n",
       "    .dataframe tbody tr th {\n",
       "        vertical-align: top;\n",
       "    }\n",
       "\n",
       "    .dataframe thead th {\n",
       "        text-align: right;\n",
       "    }\n",
       "</style>\n",
       "<table border=\"1\" class=\"dataframe\">\n",
       "  <thead>\n",
       "    <tr style=\"text-align: right;\">\n",
       "      <th></th>\n",
       "      <th>Postal Code</th>\n",
       "      <th>Latitude</th>\n",
       "      <th>Longitude</th>\n",
       "    </tr>\n",
       "  </thead>\n",
       "  <tbody>\n",
       "    <tr>\n",
       "      <th>0</th>\n",
       "      <td>M1B</td>\n",
       "      <td>43.806686</td>\n",
       "      <td>-79.194353</td>\n",
       "    </tr>\n",
       "    <tr>\n",
       "      <th>1</th>\n",
       "      <td>M1C</td>\n",
       "      <td>43.784535</td>\n",
       "      <td>-79.160497</td>\n",
       "    </tr>\n",
       "    <tr>\n",
       "      <th>2</th>\n",
       "      <td>M1E</td>\n",
       "      <td>43.763573</td>\n",
       "      <td>-79.188711</td>\n",
       "    </tr>\n",
       "    <tr>\n",
       "      <th>3</th>\n",
       "      <td>M1G</td>\n",
       "      <td>43.770992</td>\n",
       "      <td>-79.216917</td>\n",
       "    </tr>\n",
       "    <tr>\n",
       "      <th>4</th>\n",
       "      <td>M1H</td>\n",
       "      <td>43.773136</td>\n",
       "      <td>-79.239476</td>\n",
       "    </tr>\n",
       "  </tbody>\n",
       "</table>\n",
       "</div>"
      ],
      "text/plain": [
       "  Postal Code   Latitude  Longitude\n",
       "0         M1B  43.806686 -79.194353\n",
       "1         M1C  43.784535 -79.160497\n",
       "2         M1E  43.763573 -79.188711\n",
       "3         M1G  43.770992 -79.216917\n",
       "4         M1H  43.773136 -79.239476"
      ]
     },
     "execution_count": 344,
     "metadata": {},
     "output_type": "execute_result"
    }
   ],
   "source": [
    "location_df.head()"
   ]
  },
  {
   "cell_type": "code",
   "execution_count": 345,
   "metadata": {},
   "outputs": [],
   "source": [
    "\n",
    "merged_df = pd.merge(neighborhood_df, location_df, left_on='Neighborhood', right_on='Postal Code', how='right')\n",
    "\n",
    "merged_df.drop('Postal Code', axis=1, inplace=True)\n"
   ]
  },
  {
   "cell_type": "code",
   "execution_count": 346,
   "metadata": {},
   "outputs": [
    {
     "data": {
      "text/html": [
       "<div>\n",
       "<style scoped>\n",
       "    .dataframe tbody tr th:only-of-type {\n",
       "        vertical-align: middle;\n",
       "    }\n",
       "\n",
       "    .dataframe tbody tr th {\n",
       "        vertical-align: top;\n",
       "    }\n",
       "\n",
       "    .dataframe thead th {\n",
       "        text-align: right;\n",
       "    }\n",
       "</style>\n",
       "<table border=\"1\" class=\"dataframe\">\n",
       "  <thead>\n",
       "    <tr style=\"text-align: right;\">\n",
       "      <th></th>\n",
       "      <th>District</th>\n",
       "      <th>Neighborhood</th>\n",
       "      <th>Latitude</th>\n",
       "      <th>Longitude</th>\n",
       "    </tr>\n",
       "  </thead>\n",
       "  <tbody>\n",
       "    <tr>\n",
       "      <th>0</th>\n",
       "      <td>Malvern</td>\n",
       "      <td>M1B</td>\n",
       "      <td>43.806686</td>\n",
       "      <td>-79.194353</td>\n",
       "    </tr>\n",
       "    <tr>\n",
       "      <th>1</th>\n",
       "      <td>Rouge</td>\n",
       "      <td>M1B</td>\n",
       "      <td>43.806686</td>\n",
       "      <td>-79.194353</td>\n",
       "    </tr>\n",
       "    <tr>\n",
       "      <th>2</th>\n",
       "      <td>Highland Creek</td>\n",
       "      <td>M1C</td>\n",
       "      <td>43.784535</td>\n",
       "      <td>-79.160497</td>\n",
       "    </tr>\n",
       "    <tr>\n",
       "      <th>3</th>\n",
       "      <td>Port Union</td>\n",
       "      <td>M1C</td>\n",
       "      <td>43.784535</td>\n",
       "      <td>-79.160497</td>\n",
       "    </tr>\n",
       "    <tr>\n",
       "      <th>4</th>\n",
       "      <td>Rouge Hill</td>\n",
       "      <td>M1C</td>\n",
       "      <td>43.784535</td>\n",
       "      <td>-79.160497</td>\n",
       "    </tr>\n",
       "    <tr>\n",
       "      <th>...</th>\n",
       "      <td>...</td>\n",
       "      <td>...</td>\n",
       "      <td>...</td>\n",
       "      <td>...</td>\n",
       "    </tr>\n",
       "    <tr>\n",
       "      <th>95</th>\n",
       "      <td>Central Bay Street</td>\n",
       "      <td>M5G</td>\n",
       "      <td>43.657952</td>\n",
       "      <td>-79.387383</td>\n",
       "    </tr>\n",
       "    <tr>\n",
       "      <th>96</th>\n",
       "      <td>Adelaide</td>\n",
       "      <td>M5H</td>\n",
       "      <td>43.650571</td>\n",
       "      <td>-79.384568</td>\n",
       "    </tr>\n",
       "    <tr>\n",
       "      <th>97</th>\n",
       "      <td>Richmond</td>\n",
       "      <td>M5H</td>\n",
       "      <td>43.650571</td>\n",
       "      <td>-79.384568</td>\n",
       "    </tr>\n",
       "    <tr>\n",
       "      <th>98</th>\n",
       "      <td>Harbourfront East</td>\n",
       "      <td>M5J</td>\n",
       "      <td>43.640816</td>\n",
       "      <td>-79.381752</td>\n",
       "    </tr>\n",
       "    <tr>\n",
       "      <th>99</th>\n",
       "      <td>Toronto Islands</td>\n",
       "      <td>M5J</td>\n",
       "      <td>43.640816</td>\n",
       "      <td>-79.381752</td>\n",
       "    </tr>\n",
       "  </tbody>\n",
       "</table>\n",
       "<p>100 rows × 4 columns</p>\n",
       "</div>"
      ],
      "text/plain": [
       "              District Neighborhood   Latitude  Longitude\n",
       "0              Malvern          M1B  43.806686 -79.194353\n",
       "1                Rouge          M1B  43.806686 -79.194353\n",
       "2       Highland Creek          M1C  43.784535 -79.160497\n",
       "3           Port Union          M1C  43.784535 -79.160497\n",
       "4           Rouge Hill          M1C  43.784535 -79.160497\n",
       "..                 ...          ...        ...        ...\n",
       "95  Central Bay Street          M5G  43.657952 -79.387383\n",
       "96            Adelaide          M5H  43.650571 -79.384568\n",
       "97            Richmond          M5H  43.650571 -79.384568\n",
       "98   Harbourfront East          M5J  43.640816 -79.381752\n",
       "99     Toronto Islands          M5J  43.640816 -79.381752\n",
       "\n",
       "[100 rows x 4 columns]"
      ]
     },
     "execution_count": 346,
     "metadata": {},
     "output_type": "execute_result"
    }
   ],
   "source": [
    "merged_df.head(100)"
   ]
  },
  {
   "cell_type": "code",
   "execution_count": 347,
   "metadata": {},
   "outputs": [],
   "source": [
    "results = []\n",
    "\n",
    "for index, row in merged_df.iterrows():\n",
    "    result = point_inside_polygon(row['Longitude'], row['Latitude'], polygon_points)\n",
    "    results.append(result)\n",
    "\n",
    "merged_df['IsInside'] = results"
   ]
  },
  {
   "cell_type": "code",
   "execution_count": 348,
   "metadata": {},
   "outputs": [],
   "source": [
    "filtered_df = merged_df[merged_df['IsInside']== True]\n"
   ]
  },
  {
   "cell_type": "code",
   "execution_count": 349,
   "metadata": {},
   "outputs": [
    {
     "data": {
      "text/html": [
       "<div>\n",
       "<style scoped>\n",
       "    .dataframe tbody tr th:only-of-type {\n",
       "        vertical-align: middle;\n",
       "    }\n",
       "\n",
       "    .dataframe tbody tr th {\n",
       "        vertical-align: top;\n",
       "    }\n",
       "\n",
       "    .dataframe thead th {\n",
       "        text-align: right;\n",
       "    }\n",
       "</style>\n",
       "<table border=\"1\" class=\"dataframe\">\n",
       "  <thead>\n",
       "    <tr style=\"text-align: right;\">\n",
       "      <th></th>\n",
       "      <th>District</th>\n",
       "      <th>Neighborhood</th>\n",
       "      <th>Latitude</th>\n",
       "      <th>Longitude</th>\n",
       "      <th>IsInside</th>\n",
       "    </tr>\n",
       "  </thead>\n",
       "  <tbody>\n",
       "    <tr>\n",
       "      <th>0</th>\n",
       "      <td>Malvern</td>\n",
       "      <td>M1B</td>\n",
       "      <td>43.806686</td>\n",
       "      <td>-79.194353</td>\n",
       "      <td>1</td>\n",
       "    </tr>\n",
       "    <tr>\n",
       "      <th>1</th>\n",
       "      <td>Rouge</td>\n",
       "      <td>M1B</td>\n",
       "      <td>43.806686</td>\n",
       "      <td>-79.194353</td>\n",
       "      <td>1</td>\n",
       "    </tr>\n",
       "    <tr>\n",
       "      <th>2</th>\n",
       "      <td>Highland Creek</td>\n",
       "      <td>M1C</td>\n",
       "      <td>43.784535</td>\n",
       "      <td>-79.160497</td>\n",
       "      <td>1</td>\n",
       "    </tr>\n",
       "    <tr>\n",
       "      <th>3</th>\n",
       "      <td>Port Union</td>\n",
       "      <td>M1C</td>\n",
       "      <td>43.784535</td>\n",
       "      <td>-79.160497</td>\n",
       "      <td>1</td>\n",
       "    </tr>\n",
       "    <tr>\n",
       "      <th>4</th>\n",
       "      <td>Rouge Hill</td>\n",
       "      <td>M1C</td>\n",
       "      <td>43.784535</td>\n",
       "      <td>-79.160497</td>\n",
       "      <td>1</td>\n",
       "    </tr>\n",
       "  </tbody>\n",
       "</table>\n",
       "</div>"
      ],
      "text/plain": [
       "         District Neighborhood   Latitude  Longitude  IsInside\n",
       "0         Malvern          M1B  43.806686 -79.194353         1\n",
       "1           Rouge          M1B  43.806686 -79.194353         1\n",
       "2  Highland Creek          M1C  43.784535 -79.160497         1\n",
       "3      Port Union          M1C  43.784535 -79.160497         1\n",
       "4      Rouge Hill          M1C  43.784535 -79.160497         1"
      ]
     },
     "execution_count": 349,
     "metadata": {},
     "output_type": "execute_result"
    }
   ],
   "source": [
    "filtered_df.head()"
   ]
  }
 ],
 "metadata": {
  "kernelspec": {
   "display_name": "Python 3",
   "language": "python",
   "name": "python3"
  },
  "language_info": {
   "codemirror_mode": {
    "name": "ipython",
    "version": 3
   },
   "file_extension": ".py",
   "mimetype": "text/x-python",
   "name": "python",
   "nbconvert_exporter": "python",
   "pygments_lexer": "ipython3",
   "version": "3.11.3"
  },
  "orig_nbformat": 4
 },
 "nbformat": 4,
 "nbformat_minor": 2
}
