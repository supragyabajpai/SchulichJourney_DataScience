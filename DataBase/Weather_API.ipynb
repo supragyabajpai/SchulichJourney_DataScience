{
 "cells": [
  {
   "cell_type": "markdown",
   "metadata": {},
   "source": [
    "Importing all the essential libraries."
   ]
  },
  {
   "cell_type": "code",
   "execution_count": 72,
   "metadata": {},
   "outputs": [],
   "source": [
    "import sqlalchemy as sa\n",
    "import requests\n",
    "import nest_asyncio\n",
    "from requests_html import AsyncHTMLSession\n",
    "import os\n",
    "import xmltodict\n",
    "import pandas as pd\n",
    "import seaborn as sns\n",
    "from bs4 import BeautifulSoup\n",
    "from datetime import datetime\n",
    "import aiohttp\n",
    "import asyncio"
   ]
  },
  {
   "cell_type": "markdown",
   "metadata": {},
   "source": [
    "My connection to DataGrip:"
   ]
  },
  {
   "cell_type": "code",
   "execution_count": 73,
   "metadata": {},
   "outputs": [],
   "source": [
    "db_secret = {\n",
    "    'drivername' : 'postgresql+psycopg2',\n",
    "    'host'      : 'mmai5100postgres.canadacentral.cloudapp.azure.com',\n",
    "    'port'      : '5432',\n",
    "    'username'  : 'supragya',\n",
    "    'password'  : '2023!Schulich',\n",
    "    'database'  : 'supragya_db'\n",
    "}"
   ]
  },
  {
   "cell_type": "code",
   "execution_count": 74,
   "metadata": {},
   "outputs": [],
   "source": [
    "db_connection_url = sa.engine.URL.create(\n",
    "    drivername = db_secret['drivername'],\n",
    "    username   = db_secret['username'],\n",
    "    password   = db_secret['password'],\n",
    "    host       = db_secret['host'],\n",
    "    port       = db_secret['port'],\n",
    "    database   = db_secret['database']\n",
    ")"
   ]
  },
  {
   "cell_type": "code",
   "execution_count": 75,
   "metadata": {},
   "outputs": [],
   "source": [
    "engine = sa.create_engine(db_connection_url)"
   ]
  },
  {
   "cell_type": "markdown",
   "metadata": {},
   "source": [
    "### Current Weather API"
   ]
  },
  {
   "cell_type": "code",
   "execution_count": 76,
   "metadata": {},
   "outputs": [
    {
     "name": "stdout",
     "output_type": "stream",
     "text": [
      "https://api.openweathermap.org/data/2.5/weather?lat=43.6548&lon=-79.3883&units=metric&appid=d4feb9498d07a2d88b6cbd9812484295&limit=10000&offset=0\n"
     ]
    }
   ],
   "source": [
    "appid = 'd4feb9498d07a2d88b6cbd9812484295'\n",
    "lat=43.6548\n",
    "lon= -79.3883\n",
    "units= 'metric'\n",
    "limit = 10000\n",
    "offset = 0\n",
    "\n",
    "current_weather_api_url = 'https://api.openweathermap.org/data/2.5/weather?lat={}&lon={}&units={}&appid={}&limit={}&offset={}'.format(lat, lon, units, appid, limit, offset)\n",
    "\n",
    "print(current_weather_api_url)"
   ]
  },
  {
   "cell_type": "code",
   "execution_count": 77,
   "metadata": {},
   "outputs": [],
   "source": [
    "api_response = requests.get(current_weather_api_url)"
   ]
  },
  {
   "cell_type": "code",
   "execution_count": 78,
   "metadata": {},
   "outputs": [],
   "source": [
    "data = api_response.json()"
   ]
  },
  {
   "cell_type": "code",
   "execution_count": 79,
   "metadata": {},
   "outputs": [],
   "source": [
    "data_list = []\n",
    "\n",
    "dt = pd.to_datetime(data['dt'], unit='s')\n",
    "sys_sunrise = pd.to_datetime(data['sys']['sunrise'], unit='s')\n",
    "sys_sunset = pd.to_datetime(data['sys']['sunset'], unit='s')\n",
    "\n",
    "data_dict = {\n",
    "    'timezone': data['timezone'],\n",
    "    'id': data['id'],\n",
    "    'name': data['name'],\n",
    "    'coord_lon': data['coord']['lon'],\n",
    "    'coord_lat': data['coord']['lat'],\n",
    "    'cod': data['cod'],\n",
    "    'weather_main': data['weather'][0]['main'],\n",
    "    'weather_description': data['weather'][0]['description'],\n",
    "    'weather_icon': data['weather'][0]['icon'],\n",
    "    'base': data['base'],\n",
    "    'main_temp': data['main']['temp'],\n",
    "    'main_feels_like': data['main']['feels_like'],\n",
    "    'main_temp_min': data['main']['temp_min'],\n",
    "    'main_temp_max': data['main']['temp_max'],\n",
    "    'main_pressure': data['main']['pressure'],\n",
    "    'main_humidity': data['main']['humidity'],\n",
    "    'visibility': data['visibility'],\n",
    "    'wind_speed': data['wind']['speed'],\n",
    "    'wind_deg': data['wind']['deg'],\n",
    "    'clouds_all': data['clouds']['all'],\n",
    "    'dt': dt,\n",
    "    'sys_id': data['sys']['id'],\n",
    "    'sys_country': data['sys']['country'],\n",
    "    'sys_sunrise': sys_sunrise,\n",
    "    'sys_sunset': sys_sunset\n",
    "}\n",
    "\n",
    "data_list.append(data_dict)\n",
    "\n",
    "current_weather_df = pd.DataFrame(data_list)\n"
   ]
  },
  {
   "cell_type": "code",
   "execution_count": 80,
   "metadata": {},
   "outputs": [
    {
     "name": "stdout",
     "output_type": "stream",
     "text": [
      "<class 'pandas.core.frame.DataFrame'>\n",
      "RangeIndex: 1 entries, 0 to 0\n",
      "Data columns (total 25 columns):\n",
      " #   Column               Non-Null Count  Dtype         \n",
      "---  ------               --------------  -----         \n",
      " 0   timezone             1 non-null      int64         \n",
      " 1   id                   1 non-null      int64         \n",
      " 2   name                 1 non-null      object        \n",
      " 3   coord_lon            1 non-null      float64       \n",
      " 4   coord_lat            1 non-null      float64       \n",
      " 5   cod                  1 non-null      int64         \n",
      " 6   weather_main         1 non-null      object        \n",
      " 7   weather_description  1 non-null      object        \n",
      " 8   weather_icon         1 non-null      object        \n",
      " 9   base                 1 non-null      object        \n",
      " 10  main_temp            1 non-null      float64       \n",
      " 11  main_feels_like      1 non-null      float64       \n",
      " 12  main_temp_min        1 non-null      float64       \n",
      " 13  main_temp_max        1 non-null      float64       \n",
      " 14  main_pressure        1 non-null      int64         \n",
      " 15  main_humidity        1 non-null      int64         \n",
      " 16  visibility           1 non-null      int64         \n",
      " 17  wind_speed           1 non-null      float64       \n",
      " 18  wind_deg             1 non-null      int64         \n",
      " 19  clouds_all           1 non-null      int64         \n",
      " 20  dt                   1 non-null      datetime64[ns]\n",
      " 21  sys_id               1 non-null      int64         \n",
      " 22  sys_country          1 non-null      object        \n",
      " 23  sys_sunrise          1 non-null      datetime64[ns]\n",
      " 24  sys_sunset           1 non-null      datetime64[ns]\n",
      "dtypes: datetime64[ns](3), float64(7), int64(9), object(6)\n",
      "memory usage: 332.0+ bytes\n"
     ]
    }
   ],
   "source": [
    "current_weather_df.info()"
   ]
  },
  {
   "cell_type": "code",
   "execution_count": 81,
   "metadata": {},
   "outputs": [
    {
     "data": {
      "text/plain": [
       "1"
      ]
     },
     "execution_count": 81,
     "metadata": {},
     "output_type": "execute_result"
    }
   ],
   "source": [
    "current_weather_df.to_sql(\n",
    "    name = 'Current_Weather_Information', \n",
    "    schema = 'complete_weather_data',\n",
    "    con = engine,\n",
    "    if_exists = 'replace',\n",
    "    index = False,\n",
    "    method = 'multi',\n",
    "      dtype = {\n",
    "    'timezone': sa.types.INTEGER,\n",
    "    'id': sa.types.INTEGER,\n",
    "    'name': sa.types.VARCHAR(255),\n",
    "    'coord_lon': sa.types.FLOAT,\n",
    "    'coord_lat': sa.types.FLOAT,\n",
    "    'cod': sa.types.INTEGER,\n",
    "    'weather_main': sa.types.VARCHAR(255),\n",
    "    'weather_description': sa.types.VARCHAR(255),\n",
    "    'weather_icon': sa.types.VARCHAR(255),\n",
    "    'base': sa.types.VARCHAR(255),\n",
    "    'main_temp': sa.types.FLOAT,\n",
    "    'main_feels_like': sa.types.FLOAT,\n",
    "    'main_temp_min': sa.types.FLOAT,\n",
    "    'main_temp_max': sa.types.FLOAT,\n",
    "    'main_pressure': sa.types.INTEGER,\n",
    "    'main_humidity': sa.types.INTEGER,\n",
    "    'visibility': sa.types.INTEGER,\n",
    "    'wind_speed': sa.types.FLOAT,\n",
    "    'wind_deg': sa.types.INTEGER,\n",
    "    'clouds_all': sa.types.INTEGER,\n",
    "    'dt': sa.types.TIMESTAMP,\n",
    "    'sys_id': sa.types.INTEGER,\n",
    "    'sys_country': sa.types.VARCHAR(255),\n",
    "    'sys_sunrise': sa.types.TIMESTAMP,  # Change this to TIMESTAMP\n",
    "    'sys_sunset': sa.types.TIMESTAMP   # Change this to TIMESTAMP\n",
    "\n",
    "})"
   ]
  },
  {
   "cell_type": "markdown",
   "metadata": {},
   "source": [
    "### Forecast Weather API"
   ]
  },
  {
   "cell_type": "code",
   "execution_count": 82,
   "metadata": {},
   "outputs": [
    {
     "name": "stdout",
     "output_type": "stream",
     "text": [
      "https://api.openweathermap.org/data/2.5/forecast?lat=43.6548&lon=-79.3883&appid=d4feb9498d07a2d88b6cbd9812484295&limit=10000&offset=0\n"
     ]
    }
   ],
   "source": [
    "# I have used the same AppID mentioned above\n",
    "lat=43.6548\n",
    "lon= -79.3883\n",
    "limit = 10000\n",
    "offset = 0\n",
    "\n",
    "forecast_weather_api_url = 'https://api.openweathermap.org/data/2.5/forecast?lat={}&lon={}&appid={}&limit={}&offset={}'.format(lat, lon, appid, limit, offset)\n",
    "\n",
    "print(forecast_weather_api_url)"
   ]
  },
  {
   "cell_type": "code",
   "execution_count": 83,
   "metadata": {},
   "outputs": [
    {
     "data": {
      "text/plain": [
       "<Response [200]>"
      ]
     },
     "execution_count": 83,
     "metadata": {},
     "output_type": "execute_result"
    }
   ],
   "source": [
    "api_response_forecast = requests.get(forecast_weather_api_url)\n",
    "\n",
    "api_response_forecast"
   ]
  },
  {
   "cell_type": "code",
   "execution_count": 84,
   "metadata": {},
   "outputs": [],
   "source": [
    "forecast_data = api_response_forecast.json()\n"
   ]
  },
  {
   "cell_type": "code",
   "execution_count": 85,
   "metadata": {},
   "outputs": [],
   "source": [
    "data_list_forecast = []\n",
    "\n",
    "for item in forecast_data['list']:\n",
    "    dt = pd.to_datetime(item['dt'], unit='s')\n",
    "    main_temp = item['main']['temp']\n",
    "    main_feels_like = item['main']['feels_like']\n",
    "    temp_min = item['main']['temp_min']\n",
    "    temp_max = item['main']['temp_max']\n",
    "    pressure = item['main']['pressure']\n",
    "    humidity = item['main']['humidity']\n",
    "    \n",
    "    weather_id = item['weather'][0]['id']\n",
    "    weather_main = item['weather'][0]['main']\n",
    "    weather_description = item['weather'][0]['description']\n",
    "    weather_icon = item['weather'][0]['icon']\n",
    "    \n",
    "    data_list_forecast.append({\n",
    "        'dt': dt,\n",
    "        'main_temp': main_temp,\n",
    "        'main_feels_like': main_feels_like,\n",
    "        'temp_min': temp_min,\n",
    "        'temp_max': temp_max,\n",
    "        'pressure': pressure,\n",
    "        'humidity': humidity,\n",
    "        'weather_id': weather_id,\n",
    "        'weather_main': weather_main,\n",
    "        'weather_description': weather_description,\n",
    "        'weather_icon': weather_icon\n",
    "    })\n",
    "\n",
    "forecast_df = pd.DataFrame(data_list_forecast)"
   ]
  },
  {
   "cell_type": "code",
   "execution_count": 86,
   "metadata": {},
   "outputs": [
    {
     "name": "stdout",
     "output_type": "stream",
     "text": [
      "<class 'pandas.core.frame.DataFrame'>\n",
      "RangeIndex: 40 entries, 0 to 39\n",
      "Data columns (total 11 columns):\n",
      " #   Column               Non-Null Count  Dtype         \n",
      "---  ------               --------------  -----         \n",
      " 0   dt                   40 non-null     datetime64[ns]\n",
      " 1   main_temp            40 non-null     float64       \n",
      " 2   main_feels_like      40 non-null     float64       \n",
      " 3   temp_min             40 non-null     float64       \n",
      " 4   temp_max             40 non-null     float64       \n",
      " 5   pressure             40 non-null     int64         \n",
      " 6   humidity             40 non-null     int64         \n",
      " 7   weather_id           40 non-null     int64         \n",
      " 8   weather_main         40 non-null     object        \n",
      " 9   weather_description  40 non-null     object        \n",
      " 10  weather_icon         40 non-null     object        \n",
      "dtypes: datetime64[ns](1), float64(4), int64(3), object(3)\n",
      "memory usage: 3.6+ KB\n"
     ]
    }
   ],
   "source": [
    "forecast_df.info()"
   ]
  },
  {
   "cell_type": "code",
   "execution_count": 87,
   "metadata": {},
   "outputs": [
    {
     "data": {
      "text/plain": [
       "40"
      ]
     },
     "execution_count": 87,
     "metadata": {},
     "output_type": "execute_result"
    }
   ],
   "source": [
    "forecast_df.to_sql(\n",
    "    name = 'Forecast_Weather_Information', \n",
    "    schema = 'complete_weather_data',\n",
    "    con = engine,\n",
    "    if_exists = 'replace',\n",
    "    index = False,\n",
    "    method = 'multi',\n",
    "      dtype = {\n",
    "          'dt' : sa.types.TIMESTAMP,\n",
    "          'main_temp' : sa.types.FLOAT,\n",
    "          'main_feels_like': sa.types.FLOAT,\n",
    "          'temp_min': sa.types.FLOAT,\n",
    "          'temp_max': sa.types.FLOAT,\n",
    "          'pressure': sa.types.INTEGER,\n",
    "          'humidity': sa.types.INTEGER,\n",
    "          'weather_id': sa.types.INTEGER,\n",
    "          'weather_main': sa.types.VARCHAR(255),\n",
    "          'weather_description': sa.types.VARCHAR(255),\n",
    "          'weather_icon': sa.types.VARCHAR(255)\n",
    "})"
   ]
  },
  {
   "cell_type": "markdown",
   "metadata": {},
   "source": [
    "### Historical Weather API"
   ]
  },
  {
   "cell_type": "code",
   "execution_count": 88,
   "metadata": {},
   "outputs": [
    {
     "name": "stdout",
     "output_type": "stream",
     "text": [
      "https://archive-api.open-meteo.com/v1/archive?latitude=43.6548&longitude=-79.3883&start_date=2023-07-24&end_date=2023-08-07&daily=weathercode,temperature_2m_max,temperature_2m_min,temperature_2m_mean,apparent_temperature_max,apparent_temperature_min,apparent_temperature_mean,sunrise,sunset,precipitation_sum,rain_sum,snowfall_sum,precipitation_hours,windspeed_10m_max,windgusts_10m_max,winddirection_10m_dominant,shortwave_radiation_sum,et0_fao_evapotranspiration&timeformat=unixtime&timezone=America%2FNew_York\n"
     ]
    }
   ],
   "source": [
    "key = '6fe878d1ff8d425185816caa82e1e9b8'\n",
    "latitude= 43.6548\n",
    "longitude= -79.3883\n",
    "start_date = '2023-07-24'\n",
    "end_date = '2023-08-07'\n",
    "hourly = 'temperature_2m'\n",
    "limit = 10000\n",
    "offset = 0\n",
    "\n",
    "history_weather_api_url = 'https://archive-api.open-meteo.com/v1/archive?latitude=43.6548&longitude=-79.3883&start_date=2023-07-24&end_date=2023-08-07&daily=weathercode,temperature_2m_max,temperature_2m_min,temperature_2m_mean,apparent_temperature_max,apparent_temperature_min,apparent_temperature_mean,sunrise,sunset,precipitation_sum,rain_sum,snowfall_sum,precipitation_hours,windspeed_10m_max,windgusts_10m_max,winddirection_10m_dominant,shortwave_radiation_sum,et0_fao_evapotranspiration&timeformat=unixtime&timezone=America%2FNew_York'\n",
    "\n",
    "print(history_weather_api_url)"
   ]
  },
  {
   "cell_type": "code",
   "execution_count": 89,
   "metadata": {},
   "outputs": [
    {
     "data": {
      "text/plain": [
       "<Response [200]>"
      ]
     },
     "execution_count": 89,
     "metadata": {},
     "output_type": "execute_result"
    }
   ],
   "source": [
    "history_api_response = requests.get(history_weather_api_url)\n",
    "\n",
    "history_api_response"
   ]
  },
  {
   "cell_type": "code",
   "execution_count": 90,
   "metadata": {},
   "outputs": [],
   "source": [
    "history_data = history_api_response.json()\n"
   ]
  },
  {
   "cell_type": "code",
   "execution_count": 91,
   "metadata": {},
   "outputs": [
    {
     "data": {
      "text/html": [
       "<div>\n",
       "<style scoped>\n",
       "    .dataframe tbody tr th:only-of-type {\n",
       "        vertical-align: middle;\n",
       "    }\n",
       "\n",
       "    .dataframe tbody tr th {\n",
       "        vertical-align: top;\n",
       "    }\n",
       "\n",
       "    .dataframe thead th {\n",
       "        text-align: right;\n",
       "    }\n",
       "</style>\n",
       "<table border=\"1\" class=\"dataframe\">\n",
       "  <thead>\n",
       "    <tr style=\"text-align: right;\">\n",
       "      <th></th>\n",
       "      <th>time</th>\n",
       "      <th>weathercode</th>\n",
       "      <th>temperature_2m_max</th>\n",
       "      <th>temperature_2m_min</th>\n",
       "      <th>temperature_2m_mean</th>\n",
       "      <th>apparent_temperature_max</th>\n",
       "      <th>apparent_temperature_min</th>\n",
       "      <th>apparent_temperature_mean</th>\n",
       "      <th>sunrise</th>\n",
       "      <th>sunset</th>\n",
       "      <th>precipitation_sum</th>\n",
       "      <th>rain_sum</th>\n",
       "      <th>snowfall_sum</th>\n",
       "      <th>precipitation_hours</th>\n",
       "      <th>windspeed_10m_max</th>\n",
       "      <th>windgusts_10m_max</th>\n",
       "      <th>winddirection_10m_dominant</th>\n",
       "      <th>shortwave_radiation_sum</th>\n",
       "      <th>et0_fao_evapotranspiration</th>\n",
       "    </tr>\n",
       "  </thead>\n",
       "  <tbody>\n",
       "    <tr>\n",
       "      <th>0</th>\n",
       "      <td>1690171200</td>\n",
       "      <td>63</td>\n",
       "      <td>25.3</td>\n",
       "      <td>18.1</td>\n",
       "      <td>21.9</td>\n",
       "      <td>27.0</td>\n",
       "      <td>19.7</td>\n",
       "      <td>23.9</td>\n",
       "      <td>1690192703</td>\n",
       "      <td>1690246182</td>\n",
       "      <td>4.5</td>\n",
       "      <td>4.5</td>\n",
       "      <td>0.0</td>\n",
       "      <td>6.0</td>\n",
       "      <td>15.3</td>\n",
       "      <td>37.1</td>\n",
       "      <td>239.0</td>\n",
       "      <td>21.46</td>\n",
       "      <td>3.89</td>\n",
       "    </tr>\n",
       "    <tr>\n",
       "      <th>1</th>\n",
       "      <td>1690257600</td>\n",
       "      <td>51</td>\n",
       "      <td>25.3</td>\n",
       "      <td>17.8</td>\n",
       "      <td>22.0</td>\n",
       "      <td>28.7</td>\n",
       "      <td>19.3</td>\n",
       "      <td>24.5</td>\n",
       "      <td>1690279164</td>\n",
       "      <td>1690332522</td>\n",
       "      <td>0.3</td>\n",
       "      <td>0.3</td>\n",
       "      <td>0.0</td>\n",
       "      <td>3.0</td>\n",
       "      <td>11.8</td>\n",
       "      <td>23.4</td>\n",
       "      <td>231.0</td>\n",
       "      <td>21.98</td>\n",
       "      <td>4.11</td>\n",
       "    </tr>\n",
       "    <tr>\n",
       "      <th>2</th>\n",
       "      <td>1690344000</td>\n",
       "      <td>63</td>\n",
       "      <td>27.8</td>\n",
       "      <td>20.7</td>\n",
       "      <td>24.2</td>\n",
       "      <td>29.5</td>\n",
       "      <td>21.8</td>\n",
       "      <td>25.7</td>\n",
       "      <td>1690365626</td>\n",
       "      <td>1690418860</td>\n",
       "      <td>6.4</td>\n",
       "      <td>6.4</td>\n",
       "      <td>0.0</td>\n",
       "      <td>4.0</td>\n",
       "      <td>22.1</td>\n",
       "      <td>47.2</td>\n",
       "      <td>213.0</td>\n",
       "      <td>23.19</td>\n",
       "      <td>4.89</td>\n",
       "    </tr>\n",
       "    <tr>\n",
       "      <th>3</th>\n",
       "      <td>1690430400</td>\n",
       "      <td>63</td>\n",
       "      <td>27.6</td>\n",
       "      <td>21.7</td>\n",
       "      <td>24.3</td>\n",
       "      <td>30.1</td>\n",
       "      <td>23.5</td>\n",
       "      <td>27.2</td>\n",
       "      <td>1690452089</td>\n",
       "      <td>1690505197</td>\n",
       "      <td>23.8</td>\n",
       "      <td>23.8</td>\n",
       "      <td>0.0</td>\n",
       "      <td>11.0</td>\n",
       "      <td>20.7</td>\n",
       "      <td>49.3</td>\n",
       "      <td>279.0</td>\n",
       "      <td>19.91</td>\n",
       "      <td>3.96</td>\n",
       "    </tr>\n",
       "    <tr>\n",
       "      <th>4</th>\n",
       "      <td>1690516800</td>\n",
       "      <td>51</td>\n",
       "      <td>28.6</td>\n",
       "      <td>19.3</td>\n",
       "      <td>24.4</td>\n",
       "      <td>32.5</td>\n",
       "      <td>21.2</td>\n",
       "      <td>27.3</td>\n",
       "      <td>1690538552</td>\n",
       "      <td>1690591532</td>\n",
       "      <td>0.2</td>\n",
       "      <td>0.2</td>\n",
       "      <td>0.0</td>\n",
       "      <td>1.0</td>\n",
       "      <td>14.5</td>\n",
       "      <td>32.0</td>\n",
       "      <td>239.0</td>\n",
       "      <td>23.22</td>\n",
       "      <td>4.58</td>\n",
       "    </tr>\n",
       "  </tbody>\n",
       "</table>\n",
       "</div>"
      ],
      "text/plain": [
       "         time  weathercode  temperature_2m_max  temperature_2m_min   \n",
       "0  1690171200           63                25.3                18.1  \\\n",
       "1  1690257600           51                25.3                17.8   \n",
       "2  1690344000           63                27.8                20.7   \n",
       "3  1690430400           63                27.6                21.7   \n",
       "4  1690516800           51                28.6                19.3   \n",
       "\n",
       "   temperature_2m_mean  apparent_temperature_max  apparent_temperature_min   \n",
       "0                 21.9                      27.0                      19.7  \\\n",
       "1                 22.0                      28.7                      19.3   \n",
       "2                 24.2                      29.5                      21.8   \n",
       "3                 24.3                      30.1                      23.5   \n",
       "4                 24.4                      32.5                      21.2   \n",
       "\n",
       "   apparent_temperature_mean     sunrise      sunset  precipitation_sum   \n",
       "0                       23.9  1690192703  1690246182                4.5  \\\n",
       "1                       24.5  1690279164  1690332522                0.3   \n",
       "2                       25.7  1690365626  1690418860                6.4   \n",
       "3                       27.2  1690452089  1690505197               23.8   \n",
       "4                       27.3  1690538552  1690591532                0.2   \n",
       "\n",
       "   rain_sum  snowfall_sum  precipitation_hours  windspeed_10m_max   \n",
       "0       4.5           0.0                  6.0               15.3  \\\n",
       "1       0.3           0.0                  3.0               11.8   \n",
       "2       6.4           0.0                  4.0               22.1   \n",
       "3      23.8           0.0                 11.0               20.7   \n",
       "4       0.2           0.0                  1.0               14.5   \n",
       "\n",
       "   windgusts_10m_max  winddirection_10m_dominant  shortwave_radiation_sum   \n",
       "0               37.1                       239.0                    21.46  \\\n",
       "1               23.4                       231.0                    21.98   \n",
       "2               47.2                       213.0                    23.19   \n",
       "3               49.3                       279.0                    19.91   \n",
       "4               32.0                       239.0                    23.22   \n",
       "\n",
       "   et0_fao_evapotranspiration  \n",
       "0                        3.89  \n",
       "1                        4.11  \n",
       "2                        4.89  \n",
       "3                        3.96  \n",
       "4                        4.58  "
      ]
     },
     "execution_count": 91,
     "metadata": {},
     "output_type": "execute_result"
    }
   ],
   "source": [
    "columns_to_extract = [\n",
    "    'time',\n",
    "    'weathercode',\n",
    "    'temperature_2m_max',\n",
    "    'temperature_2m_min',\n",
    "    'temperature_2m_mean',\n",
    "    'apparent_temperature_max',\n",
    "    'apparent_temperature_min',\n",
    "    'apparent_temperature_mean',\n",
    "    'sunrise',\n",
    "    'sunset',\n",
    "    'precipitation_sum',\n",
    "    'rain_sum',\n",
    "    'snowfall_sum',\n",
    "    'precipitation_hours',\n",
    "    'windspeed_10m_max',\n",
    "    'windgusts_10m_max',\n",
    "    'winddirection_10m_dominant',\n",
    "    'shortwave_radiation_sum',\n",
    "    'et0_fao_evapotranspiration'\n",
    "]\n",
    "\n",
    "daily_data = {column: [] for column in columns_to_extract}\n",
    "\n",
    "for column in columns_to_extract:\n",
    "    daily_data[column] = history_data['daily'][column]\n",
    "\n",
    "history_df = pd.DataFrame(daily_data)\n",
    "history_df.head()"
   ]
  },
  {
   "cell_type": "code",
   "execution_count": 92,
   "metadata": {},
   "outputs": [
    {
     "name": "stdout",
     "output_type": "stream",
     "text": [
      "<class 'pandas.core.frame.DataFrame'>\n",
      "RangeIndex: 15 entries, 0 to 14\n",
      "Data columns (total 19 columns):\n",
      " #   Column                      Non-Null Count  Dtype  \n",
      "---  ------                      --------------  -----  \n",
      " 0   time                        15 non-null     int64  \n",
      " 1   weathercode                 15 non-null     int64  \n",
      " 2   temperature_2m_max          15 non-null     float64\n",
      " 3   temperature_2m_min          15 non-null     float64\n",
      " 4   temperature_2m_mean         14 non-null     float64\n",
      " 5   apparent_temperature_max    15 non-null     float64\n",
      " 6   apparent_temperature_min    15 non-null     float64\n",
      " 7   apparent_temperature_mean   14 non-null     float64\n",
      " 8   sunrise                     15 non-null     int64  \n",
      " 9   sunset                      15 non-null     int64  \n",
      " 10  precipitation_sum           14 non-null     float64\n",
      " 11  rain_sum                    14 non-null     float64\n",
      " 12  snowfall_sum                14 non-null     float64\n",
      " 13  precipitation_hours         15 non-null     float64\n",
      " 14  windspeed_10m_max           15 non-null     float64\n",
      " 15  windgusts_10m_max           15 non-null     float64\n",
      " 16  winddirection_10m_dominant  14 non-null     float64\n",
      " 17  shortwave_radiation_sum     14 non-null     float64\n",
      " 18  et0_fao_evapotranspiration  14 non-null     float64\n",
      "dtypes: float64(15), int64(4)\n",
      "memory usage: 2.4 KB\n"
     ]
    }
   ],
   "source": [
    "history_df.info()"
   ]
  },
  {
   "cell_type": "code",
   "execution_count": 93,
   "metadata": {},
   "outputs": [
    {
     "data": {
      "text/plain": [
       "15"
      ]
     },
     "execution_count": 93,
     "metadata": {},
     "output_type": "execute_result"
    }
   ],
   "source": [
    "history_df['time'] = pd.to_datetime(history_df['time'], unit='s')\n",
    "history_df['sunrise'] = pd.to_datetime(history_df['time'], unit='s')\n",
    "history_df['sunset'] = pd.to_datetime(history_df['time'], unit='s')\n",
    "\n",
    "\n",
    "dtype_dict = {\n",
    "    'time': sa.types.TIMESTAMP(timezone=True),\n",
    "    'weathercode': sa.types.INTEGER,\n",
    "    'temperature_2m_max': sa.types.FLOAT,\n",
    "    'temperature_2m_min': sa.types.FLOAT,\n",
    "    'temperature_2m_mean': sa.types.FLOAT,\n",
    "    'apparent_temperature_max': sa.types.FLOAT,\n",
    "    'apparent_temperature_min': sa.types.FLOAT,\n",
    "    'apparent_temperature_mean': sa.types.FLOAT,\n",
    "    'sunrise': sa.types.TIMESTAMP(timezone=True),\n",
    "    'sunset': sa.types.TIMESTAMP(timezone=True),\n",
    "    'precipitation_sum': sa.types.FLOAT,\n",
    "    'rain_sum': sa.types.FLOAT,\n",
    "    'snowfall_sum': sa.types.FLOAT,\n",
    "    'precipitation_hours': sa.types.FLOAT,\n",
    "    'windspeed_10m_max': sa.types.FLOAT,\n",
    "    'windgusts_10m_max': sa.types.FLOAT,\n",
    "    'winddirection_10m_dominant': sa.types.FLOAT,\n",
    "    'shortwave_radiation_sum': sa.types.FLOAT,\n",
    "    'et0_fao_evapotranspiration': sa.types.FLOAT\n",
    "}\n",
    "\n",
    "history_df.to_sql(\n",
    "    name='History_Weather_Information',\n",
    "    schema='complete_weather_data',\n",
    "    con=engine,\n",
    "    if_exists='replace',\n",
    "    index=False,\n",
    "    method='multi',\n",
    "    dtype=dtype_dict\n",
    ")"
   ]
  },
  {
   "cell_type": "markdown",
   "metadata": {},
   "source": [
    "### Alert Weather API"
   ]
  },
  {
   "cell_type": "markdown",
   "metadata": {},
   "source": [
    " With the help of AsyncHTML session we can perform asynchronous web requests, enabling concurrent handling of multiple requests without blocking the main execution."
   ]
  },
  {
   "cell_type": "code",
   "execution_count": 94,
   "metadata": {},
   "outputs": [],
   "source": [
    "nest_asyncio.apply()\n",
    "asession = AsyncHTMLSession()"
   ]
  },
  {
   "cell_type": "code",
   "execution_count": 95,
   "metadata": {},
   "outputs": [],
   "source": [
    "async def fetch_website(weburl):\n",
    "    url = weburl\n",
    "    r = await asession.get(url)\n",
    "    \n",
    "    if r.status_code == 200:\n",
    "        print(f\"Successfully fetched data from {url}\")\n",
    "    else:\n",
    "        print(f\"Failed to fetch data from {url}, status code: {r.status_code}\")\n",
    "\n",
    "    await r.html.arender(sleep=1)\n",
    "    \n",
    "    href_list = r.html.find('pre a[href]')\n",
    "    href_values = [link.attrs['href'] for link in href_list]\n",
    "\n",
    "    return href_values\n"
   ]
  },
  {
   "cell_type": "code",
   "execution_count": 96,
   "metadata": {},
   "outputs": [
    {
     "data": {
      "text/plain": [
       "'\\nweburl = \\'https://dd.weather.gc.ca/alerts/cap/\\' #website \\nhref_values_list = asession.loop.run_until_complete(fetch_website(weburl))\\nToday = href_values_list[-1]\\nprint(\"----------------------\")\\nprint(\"Today\\'s Date : \",Today[0:4],\"-\",Today[4:6],\"-\",Today[6:8])\\nprint(\"----------------------\")\\nnew_web_url = weburl+Today+\\'CWTO/\\'\\nprint(new_web_url) # I appended \"CWTO\" at the end of the URL because this specific folder encompasses weather alerts for Toronto.\\nprint(\"----------------------\")\\nnew_href_values_list = asession.loop.run_until_complete(fetch_website(new_web_url))\\ntoday_folder = new_href_values_list[-1]\\nprint(\"----------------------\")\\nprint(\"Today\\'s folder number: \",today_folder)\\nprint(\"----------------------\")\\ntarget_url = new_web_url+today_folder\\nprint(\"Target URL\",target_url)\\nprint(\"----------------------\")\\nnew_href_values_list = asession.loop.run_until_complete(fetch_website(target_url))\\nprint(\"----------------------\")\\nfile_name = new_href_values_list[-1]\\nprint(\"XML file containg data: \", file_name)\\nprint(\"----------------------\")\\nlatest_file = target_url+file_name\\nprint(\"Target File:\", latest_file) '"
      ]
     },
     "execution_count": 96,
     "metadata": {},
     "output_type": "execute_result"
    }
   ],
   "source": [
    "weburl = 'https://dd.weather.gc.ca/alerts/cap/' #website \n",
    "href_values_list = asession.loop.run_until_complete(fetch_website(weburl))\n",
    "Today = href_values_list[-1]\n",
    "print(\"----------------------\")\n",
    "print(\"Today's Date : \",Today[0:4],\"-\",Today[4:6],\"-\",Today[6:8])\n",
    "print(\"----------------------\")\n",
    "new_web_url = weburl+Today+'CWTO/'\n",
    "print(new_web_url) # I appended \"CWTO\" at the end of the URL because this specific folder encompasses weather alerts for Toronto.\n",
    "print(\"----------------------\")\n",
    "new_href_values_list = asession.loop.run_until_complete(fetch_website(new_web_url))\n",
    "today_folder = new_href_values_list[-1]\n",
    "print(\"----------------------\")\n",
    "print(\"Today's folder number: \",today_folder)\n",
    "print(\"----------------------\")\n",
    "target_url = new_web_url+today_folder\n",
    "print(\"Target URL\",target_url)\n",
    "print(\"----------------------\")\n",
    "new_href_values_list = asession.loop.run_until_complete(fetch_website(target_url))\n",
    "print(\"----------------------\")\n",
    "file_name = new_href_values_list[-1]\n",
    "print(\"XML file containg data: \", file_name)\n",
    "print(\"----------------------\")\n",
    "latest_file = target_url+file_name\n",
    "print(\"Target File:\", latest_file) "
   ]
  },
  {
   "cell_type": "markdown",
   "metadata": {},
   "source": [
    "\n",
    "I am planning to download this file and save it locally on my computer for future parsing purposes."
   ]
  },
  {
   "cell_type": "code",
   "execution_count": 97,
   "metadata": {},
   "outputs": [],
   "source": [
    "directory_path = (r\"C:\\Users\\supra\\OneDrive\\Desktop\\Schulich MBAN\\Sem- 1\\Database fundamentals\\WeatherAPI_file\") # replace the file path\n",
    "alert = \"example_file.xml\" \n",
    "full_path = os.path.join(directory_path, alert)"
   ]
  },
  {
   "cell_type": "markdown",
   "metadata": {},
   "source": [
    "I am storing the file in the 'req' variable and subsequently reading it."
   ]
  },
  {
   "cell_type": "code",
   "execution_count": null,
   "metadata": {},
   "outputs": [],
   "source": [
    "req = requests.get(latest_file)\n",
    "with open(full_path, 'wb') as f:\n",
    "    for chunk in req.iter_content(chunk_size=8192):\n",
    "        if chunk:\n",
    "            f.write(chunk)"
   ]
  },
  {
   "cell_type": "markdown",
   "metadata": {},
   "source": [
    "Now that we have the XML file downloaded locally, I will utilize the XMLDict library to read the file:\n",
    "\n",
    "Reference: https://www.askpython.com/python-modules/xmltodict-module"
   ]
  },
  {
   "cell_type": "code",
   "execution_count": 98,
   "metadata": {},
   "outputs": [],
   "source": [
    "with open(full_path, 'r') as xml_file:\n",
    "    xml_data = xml_file.read()\n",
    "data_dict = xmltodict.parse(xml_data)"
   ]
  },
  {
   "cell_type": "code",
   "execution_count": 99,
   "metadata": {},
   "outputs": [
    {
     "name": "stdout",
     "output_type": "stream",
     "text": [
      "Language: en-CA\n",
      "Category: Met\n",
      "Event: squall\n",
      "Response Type: Monitor\n",
      "Urgency: Immediate\n",
      "Severity: Severe\n",
      "Certainty: Likely\n",
      "Audience: general public\n",
      "Effective: 2023-08-12T16:47:57-00:00\n",
      "Expires: 2023-08-12T20:15:06-00:00\n",
      "Sender Name: Environment Canada\n",
      "Headline: squall warning in effect\n",
      "Description: Squalls with wind gusts up to 45 knots, frequent lightning, waterspout activity and poor to very poor visibility in showers heavy at times are expected or occurring in the area.\n",
      "\n",
      "A cluster of thunderstorms over eastern Lake Ontario may give gusts near 45 knots early this afternoon and then clear out in the middle of the afternoon.\n",
      "\n",
      "###\n",
      "\n",
      "Poor to very poor visibility may contribute to voyage delays and make marine navigation hazardous.\n",
      "\n",
      "Please continue to monitor alerts and forecasts issued by Environment Canada. For more information monitor Canadian Coast Guard radio or Weatheradio stations.\n",
      "Polygon Points: [(44.0963, -76.5159), (44.0862, -76.4895), (44.0731, -76.455), (43.6311, -76.7966), (43.6361, -77.8418), (43.6548, -77.8417), (43.9912, -77.8409), (44.0509, -77.8441), (44.0845, -77.729), (44.0745, -77.6392), (44.1434, -77.6138), (44.2078, -77.4108), (44.2296, -77.0582), (44.2175, -76.8926), (44.1537, -76.8717), (44.243, -76.7176), (44.2558, -76.5919), (44.2131, -76.6037), (44.1816, -76.5882), (44.162, -76.5796), (44.0963, -76.5159)]\n",
      "Language: en-CA\n",
      "Category: Met\n",
      "Event: squall\n",
      "Response Type: AllClear\n",
      "Urgency: Past\n",
      "Severity: Minor\n",
      "Certainty: Observed\n",
      "Audience: general public\n",
      "Effective: 2023-08-12T16:47:57-00:00\n",
      "Expires: 2023-08-12T17:46:06-00:00\n",
      "Sender Name: Environment Canada\n",
      "Headline: squall warning ended\n",
      "Description: ###\n",
      "Polygon Points: [(43.1293, -79.322), (43.1723, -79.7776), (43.3464, -79.8894), (43.4925, -79.7153), (43.6838, -79.5584), (43.8743, -79.1002), (43.9453, -78.8315), (43.9796, -78.5026), (44.0441, -78.1201), (44.0509, -77.8441), (43.9912, -77.8409), (43.6548, -77.8417), (43.6361, -77.8418), (43.6311, -78.6903), (43.4504, -79.2006), (43.2627, -79.0681), (43.217, -79.0451), (43.1293, -79.322)]\n"
     ]
    }
   ],
   "source": [
    "# I implemented a try-catch block to ensure that errors are properly handled.\n",
    "# I am also displaying the information that we obtain from the XML file.\n",
    "try:\n",
    "    data_dict = xmltodict.parse(xml_data)\n",
    "    \n",
    "    info_list = data_dict['alert']['info']\n",
    "    if not isinstance(info_list, list):\n",
    "        info_list = [info_list]  \n",
    "    \n",
    "    for info in info_list:\n",
    "        if info.get('language') == 'en-CA': # I only require information presented in the English language.\n",
    "            language = info.get('language')\n",
    "            category = info.get('category')\n",
    "            event = info.get('event')\n",
    "            responseType = info.get('responseType')\n",
    "            urgency = info.get('urgency')\n",
    "            severity = info.get('severity')\n",
    "            certainty = info.get('certainty')\n",
    "            audience = info.get('audience')\n",
    "            effective = info.get('effective')\n",
    "            expires = info.get('expires')\n",
    "            senderName = info.get('senderName')\n",
    "            headline = info.get('headline')\n",
    "            description = info.get('description')\n",
    "            \n",
    "            print(\"Language:\", language)\n",
    "            print(\"Category:\", category)\n",
    "            print(\"Event:\", event)\n",
    "            print(\"Response Type:\", responseType)\n",
    "            print(\"Urgency:\", urgency)\n",
    "            print(\"Severity:\", severity)\n",
    "            print(\"Certainty:\", certainty)\n",
    "            print(\"Audience:\", audience)\n",
    "            print(\"Effective:\", effective)\n",
    "            print(\"Expires:\", expires)\n",
    "            print(\"Sender Name:\", senderName)\n",
    "            print(\"Headline:\", headline)\n",
    "            print(\"Description:\", description)\n",
    "            \n",
    "            area_list = info['area']\n",
    "            if not isinstance(area_list, list):\n",
    "                area_list = [area_list] \n",
    "            \n",
    "            polygon_list = []\n",
    "            first_polygon = None\n",
    "            for area in area_list:\n",
    "                polygon = area.get('polygon')\n",
    "                if polygon and not first_polygon:\n",
    "                    first_polygon = polygon\n",
    "                    polygon_coordinates = polygon.split()\n",
    "                    \n",
    "            if first_polygon: # I'm aiming to extract values from the initial occurrence of the polygon.\n",
    "                points_str = first_polygon.split()\n",
    "                polygon_points = []\n",
    "\n",
    "                for point_str in points_str:\n",
    "                    lat, lon = map(float, point_str.split(','))\n",
    "                    polygon_points.append((lat, lon))\n",
    "\n",
    "                print(\"Polygon Points:\", polygon_points)\n",
    "            \n",
    "except Exception as e:\n",
    "    print(\"An error occurred:\", e)"
   ]
  },
  {
   "cell_type": "markdown",
   "metadata": {},
   "source": [
    "By utilizing this function \"point_inside_polygon\", we can determine whether a provided latitude and longitude value lies within the confines of a polygon or not."
   ]
  },
  {
   "cell_type": "code",
   "execution_count": 100,
   "metadata": {},
   "outputs": [],
   "source": [
    "def point_inside_polygon(x, y, poly):\n",
    "    n = len(poly)\n",
    "    inside = False\n",
    "    p1x, p1y = poly[0]\n",
    "    for i in range(n + 1):\n",
    "        p2x, p2y = poly[i % n]\n",
    "        if y > min(p1y, p2y):\n",
    "            if y <= max(p1y, p2y):\n",
    "                if x <= max(p1x, p2x):\n",
    "                    if p1y != p2y:\n",
    "                        xints = (y - p1y) * (p2x - p1x) / (p2y - p1y) + p1x\n",
    "                    if p1x == p2x or x <= xints:\n",
    "                        inside = not inside\n",
    "        p1x, p1y = p2x, p2y\n",
    "    return inside"
   ]
  },
  {
   "cell_type": "markdown",
   "metadata": {},
   "source": [
    "I am in the process of creating a dataframe that will contain latitude and longitude values for various areas within Toronto. To achieve this, I downloaded a CSV file from Kaggle and extracted additional data from a website. This compilation will result in the formation of my final dataframe."
   ]
  },
  {
   "cell_type": "code",
   "execution_count": 101,
   "metadata": {},
   "outputs": [
    {
     "data": {
      "text/html": [
       "<div>\n",
       "<style scoped>\n",
       "    .dataframe tbody tr th:only-of-type {\n",
       "        vertical-align: middle;\n",
       "    }\n",
       "\n",
       "    .dataframe tbody tr th {\n",
       "        vertical-align: top;\n",
       "    }\n",
       "\n",
       "    .dataframe thead th {\n",
       "        text-align: right;\n",
       "    }\n",
       "</style>\n",
       "<table border=\"1\" class=\"dataframe\">\n",
       "  <thead>\n",
       "    <tr style=\"text-align: right;\">\n",
       "      <th></th>\n",
       "      <th>Postal Code</th>\n",
       "      <th>Latitude</th>\n",
       "      <th>Longitude</th>\n",
       "    </tr>\n",
       "  </thead>\n",
       "  <tbody>\n",
       "    <tr>\n",
       "      <th>0</th>\n",
       "      <td>M1B</td>\n",
       "      <td>43.806686</td>\n",
       "      <td>-79.194353</td>\n",
       "    </tr>\n",
       "    <tr>\n",
       "      <th>1</th>\n",
       "      <td>M1C</td>\n",
       "      <td>43.784535</td>\n",
       "      <td>-79.160497</td>\n",
       "    </tr>\n",
       "  </tbody>\n",
       "</table>\n",
       "</div>"
      ],
      "text/plain": [
       "  Postal Code   Latitude  Longitude\n",
       "0         M1B  43.806686 -79.194353\n",
       "1         M1C  43.784535 -79.160497"
      ]
     },
     "execution_count": 101,
     "metadata": {},
     "output_type": "execute_result"
    },
    {
     "data": {
      "image/png": "[encoded data removed]",
      "text/plain": [
       "<Figure size 640x480 with 1 Axes>"
      ]
     },
     "metadata": {},
     "output_type": "display_data"
    }
   ],
   "source": [
    "location_df = pd.read_csv(\"https://raw.githubusercontent.com/supragyabajpai/SchulichJourney_DataScience/main/DataBase/Geospatial_Coordinates.csv\")\n",
    "sns.scatterplot(data = location_df, x = \"Latitude\", y = \"Longitude\")\n",
    "location_df.head(2)"
   ]
  },
  {
   "cell_type": "markdown",
   "metadata": {},
   "source": [
    "Web Scrapping"
   ]
  },
  {
   "cell_type": "code",
   "execution_count": 102,
   "metadata": {},
   "outputs": [
    {
     "data": {
      "text/html": [
       "<div>\n",
       "<style scoped>\n",
       "    .dataframe tbody tr th:only-of-type {\n",
       "        vertical-align: middle;\n",
       "    }\n",
       "\n",
       "    .dataframe tbody tr th {\n",
       "        vertical-align: top;\n",
       "    }\n",
       "\n",
       "    .dataframe thead th {\n",
       "        text-align: right;\n",
       "    }\n",
       "</style>\n",
       "<table border=\"1\" class=\"dataframe\">\n",
       "  <thead>\n",
       "    <tr style=\"text-align: right;\">\n",
       "      <th></th>\n",
       "      <th>District</th>\n",
       "      <th>Neighborhood</th>\n",
       "    </tr>\n",
       "  </thead>\n",
       "  <tbody>\n",
       "    <tr>\n",
       "      <th>0</th>\n",
       "      <td>Adelaide</td>\n",
       "      <td>M5H</td>\n",
       "    </tr>\n",
       "    <tr>\n",
       "      <th>1</th>\n",
       "      <td>Agincourt North</td>\n",
       "      <td>M1V</td>\n",
       "    </tr>\n",
       "  </tbody>\n",
       "</table>\n",
       "</div>"
      ],
      "text/plain": [
       "          District Neighborhood\n",
       "0         Adelaide          M5H\n",
       "1  Agincourt North          M1V"
      ]
     },
     "execution_count": 102,
     "metadata": {},
     "output_type": "execute_result"
    }
   ],
   "source": [
    "\n",
    "url = \"https://www.genguide.com.ng/toronto-postal-code/\"\n",
    "response = requests.get(url)\n",
    "html_content = response.text\n",
    "soup = BeautifulSoup(html_content, \"html.parser\")\n",
    "figure = soup.find(\"figure\", class_=\"wp-block-table\")\n",
    "table = figure.find(\"table\")\n",
    "\n",
    "if table is not None:\n",
    "    neighborhoods = []\n",
    "    districts = []\n",
    "\n",
    "    for row in table.find_all(\"tr\")[1:]:\n",
    "        columns = row.find_all(\"td\")\n",
    "        district = columns[1].text\n",
    "        neighborhood = columns[2].text.strip()\n",
    "\n",
    "        if district != \"Not assigned\":\n",
    "            districts.append(district)\n",
    "            neighborhoods.append(neighborhood)\n",
    "\n",
    "    data = {\n",
    "        \"District\": districts,\n",
    "        \"Neighborhood\": neighborhoods\n",
    "    }\n",
    "\n",
    "    neighborhood_df = pd.DataFrame(data) \n",
    "else:\n",
    "    print(\"Table not found on the page.\")\n",
    "\n",
    "neighborhood_df.head(2)\n"
   ]
  },
  {
   "cell_type": "markdown",
   "metadata": {},
   "source": [
    "I will now perform a join operation to combine the two dataframes I possess.\n",
    "\n",
    "\n",
    "\n",
    "\n"
   ]
  },
  {
   "cell_type": "code",
   "execution_count": 103,
   "metadata": {},
   "outputs": [
    {
     "data": {
      "text/html": [
       "<div>\n",
       "<style scoped>\n",
       "    .dataframe tbody tr th:only-of-type {\n",
       "        vertical-align: middle;\n",
       "    }\n",
       "\n",
       "    .dataframe tbody tr th {\n",
       "        vertical-align: top;\n",
       "    }\n",
       "\n",
       "    .dataframe thead th {\n",
       "        text-align: right;\n",
       "    }\n",
       "</style>\n",
       "<table border=\"1\" class=\"dataframe\">\n",
       "  <thead>\n",
       "    <tr style=\"text-align: right;\">\n",
       "      <th></th>\n",
       "      <th>District</th>\n",
       "      <th>Neighborhood</th>\n",
       "      <th>Postal Code</th>\n",
       "      <th>Latitude</th>\n",
       "      <th>Longitude</th>\n",
       "    </tr>\n",
       "  </thead>\n",
       "  <tbody>\n",
       "    <tr>\n",
       "      <th>0</th>\n",
       "      <td>Malvern</td>\n",
       "      <td>M1B</td>\n",
       "      <td>M1B</td>\n",
       "      <td>43.806686</td>\n",
       "      <td>-79.194353</td>\n",
       "    </tr>\n",
       "    <tr>\n",
       "      <th>1</th>\n",
       "      <td>Rouge</td>\n",
       "      <td>M1B</td>\n",
       "      <td>M1B</td>\n",
       "      <td>43.806686</td>\n",
       "      <td>-79.194353</td>\n",
       "    </tr>\n",
       "    <tr>\n",
       "      <th>2</th>\n",
       "      <td>Highland Creek</td>\n",
       "      <td>M1C</td>\n",
       "      <td>M1C</td>\n",
       "      <td>43.784535</td>\n",
       "      <td>-79.160497</td>\n",
       "    </tr>\n",
       "  </tbody>\n",
       "</table>\n",
       "</div>"
      ],
      "text/plain": [
       "         District Neighborhood Postal Code   Latitude  Longitude\n",
       "0         Malvern          M1B         M1B  43.806686 -79.194353\n",
       "1           Rouge          M1B         M1B  43.806686 -79.194353\n",
       "2  Highland Creek          M1C         M1C  43.784535 -79.160497"
      ]
     },
     "execution_count": 103,
     "metadata": {},
     "output_type": "execute_result"
    }
   ],
   "source": [
    "merged_df = pd.merge(neighborhood_df, location_df, left_on='Neighborhood', right_on='Postal Code', how='right')\n",
    "merged_df.head(3)"
   ]
  },
  {
   "cell_type": "markdown",
   "metadata": {},
   "source": [
    "With our table ready, we can proceed to provide it as an input to our function \"point_inside_polygon.\" This function will help determine whether the given latitude and longitude fall within the alert area."
   ]
  },
  {
   "cell_type": "code",
   "execution_count": 104,
   "metadata": {},
   "outputs": [],
   "source": [
    "merged_df['InsidePolygon'] = merged_df.apply(lambda row: point_inside_polygon(row['Longitude'], row['Latitude'], polygon_points), axis=1)"
   ]
  },
  {
   "cell_type": "code",
   "execution_count": 105,
   "metadata": {},
   "outputs": [
    {
     "data": {
      "text/html": [
       "<div>\n",
       "<style scoped>\n",
       "    .dataframe tbody tr th:only-of-type {\n",
       "        vertical-align: middle;\n",
       "    }\n",
       "\n",
       "    .dataframe tbody tr th {\n",
       "        vertical-align: top;\n",
       "    }\n",
       "\n",
       "    .dataframe thead th {\n",
       "        text-align: right;\n",
       "    }\n",
       "</style>\n",
       "<table border=\"1\" class=\"dataframe\">\n",
       "  <thead>\n",
       "    <tr style=\"text-align: right;\">\n",
       "      <th></th>\n",
       "      <th>District</th>\n",
       "      <th>Neighborhood</th>\n",
       "      <th>Postal Code</th>\n",
       "      <th>Latitude</th>\n",
       "      <th>Longitude</th>\n",
       "      <th>InsidePolygon</th>\n",
       "    </tr>\n",
       "  </thead>\n",
       "  <tbody>\n",
       "    <tr>\n",
       "      <th>0</th>\n",
       "      <td>Malvern</td>\n",
       "      <td>M1B</td>\n",
       "      <td>M1B</td>\n",
       "      <td>43.806686</td>\n",
       "      <td>-79.194353</td>\n",
       "      <td>False</td>\n",
       "    </tr>\n",
       "    <tr>\n",
       "      <th>1</th>\n",
       "      <td>Rouge</td>\n",
       "      <td>M1B</td>\n",
       "      <td>M1B</td>\n",
       "      <td>43.806686</td>\n",
       "      <td>-79.194353</td>\n",
       "      <td>False</td>\n",
       "    </tr>\n",
       "    <tr>\n",
       "      <th>2</th>\n",
       "      <td>Highland Creek</td>\n",
       "      <td>M1C</td>\n",
       "      <td>M1C</td>\n",
       "      <td>43.784535</td>\n",
       "      <td>-79.160497</td>\n",
       "      <td>False</td>\n",
       "    </tr>\n",
       "    <tr>\n",
       "      <th>3</th>\n",
       "      <td>Port Union</td>\n",
       "      <td>M1C</td>\n",
       "      <td>M1C</td>\n",
       "      <td>43.784535</td>\n",
       "      <td>-79.160497</td>\n",
       "      <td>False</td>\n",
       "    </tr>\n",
       "    <tr>\n",
       "      <th>4</th>\n",
       "      <td>Rouge Hill</td>\n",
       "      <td>M1C</td>\n",
       "      <td>M1C</td>\n",
       "      <td>43.784535</td>\n",
       "      <td>-79.160497</td>\n",
       "      <td>False</td>\n",
       "    </tr>\n",
       "    <tr>\n",
       "      <th>5</th>\n",
       "      <td>Guildwood</td>\n",
       "      <td>M1E</td>\n",
       "      <td>M1E</td>\n",
       "      <td>43.763573</td>\n",
       "      <td>-79.188711</td>\n",
       "      <td>False</td>\n",
       "    </tr>\n",
       "    <tr>\n",
       "      <th>6</th>\n",
       "      <td>Morningside</td>\n",
       "      <td>M1E</td>\n",
       "      <td>M1E</td>\n",
       "      <td>43.763573</td>\n",
       "      <td>-79.188711</td>\n",
       "      <td>False</td>\n",
       "    </tr>\n",
       "    <tr>\n",
       "      <th>7</th>\n",
       "      <td>West Hill</td>\n",
       "      <td>M1E</td>\n",
       "      <td>M1E</td>\n",
       "      <td>43.763573</td>\n",
       "      <td>-79.188711</td>\n",
       "      <td>False</td>\n",
       "    </tr>\n",
       "    <tr>\n",
       "      <th>8</th>\n",
       "      <td>Woburn</td>\n",
       "      <td>M1G</td>\n",
       "      <td>M1G</td>\n",
       "      <td>43.770992</td>\n",
       "      <td>-79.216917</td>\n",
       "      <td>False</td>\n",
       "    </tr>\n",
       "    <tr>\n",
       "      <th>9</th>\n",
       "      <td>Cedarbrae</td>\n",
       "      <td>M1H</td>\n",
       "      <td>M1H</td>\n",
       "      <td>43.773136</td>\n",
       "      <td>-79.239476</td>\n",
       "      <td>False</td>\n",
       "    </tr>\n",
       "  </tbody>\n",
       "</table>\n",
       "</div>"
      ],
      "text/plain": [
       "         District Neighborhood Postal Code   Latitude  Longitude   \n",
       "0         Malvern          M1B         M1B  43.806686 -79.194353  \\\n",
       "1           Rouge          M1B         M1B  43.806686 -79.194353   \n",
       "2  Highland Creek          M1C         M1C  43.784535 -79.160497   \n",
       "3      Port Union          M1C         M1C  43.784535 -79.160497   \n",
       "4      Rouge Hill          M1C         M1C  43.784535 -79.160497   \n",
       "5       Guildwood          M1E         M1E  43.763573 -79.188711   \n",
       "6     Morningside          M1E         M1E  43.763573 -79.188711   \n",
       "7       West Hill          M1E         M1E  43.763573 -79.188711   \n",
       "8          Woburn          M1G         M1G  43.770992 -79.216917   \n",
       "9       Cedarbrae          M1H         M1H  43.773136 -79.239476   \n",
       "\n",
       "   InsidePolygon  \n",
       "0          False  \n",
       "1          False  \n",
       "2          False  \n",
       "3          False  \n",
       "4          False  \n",
       "5          False  \n",
       "6          False  \n",
       "7          False  \n",
       "8          False  \n",
       "9          False  "
      ]
     },
     "execution_count": 105,
     "metadata": {},
     "output_type": "execute_result"
    }
   ],
   "source": [
    "merged_df.head(10)"
   ]
  },
  {
   "cell_type": "markdown",
   "metadata": {},
   "source": [
    "An observation can be made from the table above: there are no True values present in the InsidePolygon column. This indicates the absence of any current alerts in Toronto."
   ]
  },
  {
   "cell_type": "markdown",
   "metadata": {},
   "source": [
    "Let's incorporate details regarding the alerts into our dataframe. If the value in the InsidePolygon column is False, we can label it as \"No alert.\"\n"
   ]
  },
  {
   "cell_type": "code",
   "execution_count": 106,
   "metadata": {},
   "outputs": [],
   "source": [
    "for i in merged_df['InsidePolygon']:\n",
    "    if i == True:\n",
    "        merged_df['Event'] = event\n",
    "        merged_df['Effective'] = effective\n",
    "        merged_df['Expires'] = expires\n",
    "        merged_df['Headline'] = headline\n",
    "        merged_df['Description'] = description\n",
    "    else:\n",
    "        merged_df['Event'] = \"No Alert\"\n",
    "        merged_df['Effective'] = \"No Alert\"\n",
    "        merged_df['Expires'] = \"No Alert\"\n",
    "        merged_df['Headline'] = \"No Alert\"\n",
    "        merged_df['Description'] = \"No Alert\"\n",
    "        "
   ]
  },
  {
   "cell_type": "code",
   "execution_count": 107,
   "metadata": {},
   "outputs": [
    {
     "data": {
      "text/html": [
       "<div>\n",
       "<style scoped>\n",
       "    .dataframe tbody tr th:only-of-type {\n",
       "        vertical-align: middle;\n",
       "    }\n",
       "\n",
       "    .dataframe tbody tr th {\n",
       "        vertical-align: top;\n",
       "    }\n",
       "\n",
       "    .dataframe thead th {\n",
       "        text-align: right;\n",
       "    }\n",
       "</style>\n",
       "<table border=\"1\" class=\"dataframe\">\n",
       "  <thead>\n",
       "    <tr style=\"text-align: right;\">\n",
       "      <th></th>\n",
       "      <th>District</th>\n",
       "      <th>Neighborhood</th>\n",
       "      <th>Postal Code</th>\n",
       "      <th>Latitude</th>\n",
       "      <th>Longitude</th>\n",
       "      <th>InsidePolygon</th>\n",
       "      <th>Event</th>\n",
       "      <th>Effective</th>\n",
       "      <th>Expires</th>\n",
       "      <th>Headline</th>\n",
       "      <th>Description</th>\n",
       "    </tr>\n",
       "  </thead>\n",
       "  <tbody>\n",
       "    <tr>\n",
       "      <th>0</th>\n",
       "      <td>Malvern</td>\n",
       "      <td>M1B</td>\n",
       "      <td>M1B</td>\n",
       "      <td>43.806686</td>\n",
       "      <td>-79.194353</td>\n",
       "      <td>False</td>\n",
       "      <td>No Alert</td>\n",
       "      <td>No Alert</td>\n",
       "      <td>No Alert</td>\n",
       "      <td>No Alert</td>\n",
       "      <td>No Alert</td>\n",
       "    </tr>\n",
       "    <tr>\n",
       "      <th>1</th>\n",
       "      <td>Rouge</td>\n",
       "      <td>M1B</td>\n",
       "      <td>M1B</td>\n",
       "      <td>43.806686</td>\n",
       "      <td>-79.194353</td>\n",
       "      <td>False</td>\n",
       "      <td>No Alert</td>\n",
       "      <td>No Alert</td>\n",
       "      <td>No Alert</td>\n",
       "      <td>No Alert</td>\n",
       "      <td>No Alert</td>\n",
       "    </tr>\n",
       "    <tr>\n",
       "      <th>2</th>\n",
       "      <td>Highland Creek</td>\n",
       "      <td>M1C</td>\n",
       "      <td>M1C</td>\n",
       "      <td>43.784535</td>\n",
       "      <td>-79.160497</td>\n",
       "      <td>False</td>\n",
       "      <td>No Alert</td>\n",
       "      <td>No Alert</td>\n",
       "      <td>No Alert</td>\n",
       "      <td>No Alert</td>\n",
       "      <td>No Alert</td>\n",
       "    </tr>\n",
       "    <tr>\n",
       "      <th>3</th>\n",
       "      <td>Port Union</td>\n",
       "      <td>M1C</td>\n",
       "      <td>M1C</td>\n",
       "      <td>43.784535</td>\n",
       "      <td>-79.160497</td>\n",
       "      <td>False</td>\n",
       "      <td>No Alert</td>\n",
       "      <td>No Alert</td>\n",
       "      <td>No Alert</td>\n",
       "      <td>No Alert</td>\n",
       "      <td>No Alert</td>\n",
       "    </tr>\n",
       "    <tr>\n",
       "      <th>4</th>\n",
       "      <td>Rouge Hill</td>\n",
       "      <td>M1C</td>\n",
       "      <td>M1C</td>\n",
       "      <td>43.784535</td>\n",
       "      <td>-79.160497</td>\n",
       "      <td>False</td>\n",
       "      <td>No Alert</td>\n",
       "      <td>No Alert</td>\n",
       "      <td>No Alert</td>\n",
       "      <td>No Alert</td>\n",
       "      <td>No Alert</td>\n",
       "    </tr>\n",
       "  </tbody>\n",
       "</table>\n",
       "</div>"
      ],
      "text/plain": [
       "         District Neighborhood Postal Code   Latitude  Longitude   \n",
       "0         Malvern          M1B         M1B  43.806686 -79.194353  \\\n",
       "1           Rouge          M1B         M1B  43.806686 -79.194353   \n",
       "2  Highland Creek          M1C         M1C  43.784535 -79.160497   \n",
       "3      Port Union          M1C         M1C  43.784535 -79.160497   \n",
       "4      Rouge Hill          M1C         M1C  43.784535 -79.160497   \n",
       "\n",
       "   InsidePolygon     Event Effective   Expires  Headline Description  \n",
       "0          False  No Alert  No Alert  No Alert  No Alert    No Alert  \n",
       "1          False  No Alert  No Alert  No Alert  No Alert    No Alert  \n",
       "2          False  No Alert  No Alert  No Alert  No Alert    No Alert  \n",
       "3          False  No Alert  No Alert  No Alert  No Alert    No Alert  \n",
       "4          False  No Alert  No Alert  No Alert  No Alert    No Alert  "
      ]
     },
     "execution_count": 107,
     "metadata": {},
     "output_type": "execute_result"
    }
   ],
   "source": [
    "merged_df.head()"
   ]
  },
  {
   "cell_type": "code",
   "execution_count": 108,
   "metadata": {},
   "outputs": [
    {
     "name": "stdout",
     "output_type": "stream",
     "text": [
      "<class 'pandas.core.frame.DataFrame'>\n",
      "RangeIndex: 208 entries, 0 to 207\n",
      "Data columns (total 11 columns):\n",
      " #   Column         Non-Null Count  Dtype  \n",
      "---  ------         --------------  -----  \n",
      " 0   District       202 non-null    object \n",
      " 1   Neighborhood   202 non-null    object \n",
      " 2   Postal Code    208 non-null    object \n",
      " 3   Latitude       208 non-null    float64\n",
      " 4   Longitude      208 non-null    float64\n",
      " 5   InsidePolygon  208 non-null    bool   \n",
      " 6   Event          208 non-null    object \n",
      " 7   Effective      208 non-null    object \n",
      " 8   Expires        208 non-null    object \n",
      " 9   Headline       208 non-null    object \n",
      " 10  Description    208 non-null    object \n",
      "dtypes: bool(1), float64(2), object(8)\n",
      "memory usage: 16.6+ KB\n"
     ]
    }
   ],
   "source": [
    "merged_df.info()"
   ]
  },
  {
   "cell_type": "code",
   "execution_count": 109,
   "metadata": {},
   "outputs": [
    {
     "data": {
      "text/plain": [
       "208"
      ]
     },
     "execution_count": 109,
     "metadata": {},
     "output_type": "execute_result"
    }
   ],
   "source": [
    "dtype_mapping = {\n",
    "    'District': sa.types.VARCHAR(50),  \n",
    "    'Neighborhood': sa.types.VARCHAR(50),\n",
    "    'Postal Code': sa.types.VARCHAR(15),  \n",
    "    'Latitude': sa.types.FLOAT,\n",
    "    'Longitude': sa.types.FLOAT,\n",
    "    'InsidePolygon': sa.types.BOOLEAN,\n",
    "    'Event': sa.types.VARCHAR(50),\n",
    "    'Effective': sa.types.VARCHAR(50),\n",
    "    'Expires': sa.types.VARCHAR(50),\n",
    "    'Headline': sa.types.VARCHAR(50),\n",
    "    'Description': sa.types.VARCHAR(100)  \n",
    "}\n",
    "\n",
    "merged_df.to_sql(\n",
    "    name='Alert_Weather_Information',\n",
    "    schema='complete_weather_data',\n",
    "    con=engine,\n",
    "    if_exists='replace',\n",
    "    index=False,\n",
    "    method='multi',\n",
    "    dtype=dtype_mapping\n",
    ")\n"
   ]
  }
 ],
 "metadata": {
  "kernelspec": {
   "display_name": "Python 3",
   "language": "python",
   "name": "python3"
  },
  "language_info": {
   "codemirror_mode": {
    "name": "ipython",
    "version": 3
   },
   "file_extension": ".py",
   "mimetype": "text/x-python",
   "name": "python",
   "nbconvert_exporter": "python",
   "pygments_lexer": "ipython3",
   "version": "3.11.3"
  },
  "orig_nbformat": 4
 },
 "nbformat": 4,
 "nbformat_minor": 2
}
