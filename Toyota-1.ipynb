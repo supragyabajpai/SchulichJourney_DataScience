{
 "cells": [
  {
   "cell_type": "code",
   "execution_count": 35,
   "metadata": {},
   "outputs": [],
   "source": [
    "from pathlib import Path\n",
    "\n",
    "import pandas as pd\n",
    "import numpy as np\n",
    "from sklearn.tree import DecisionTreeClassifier, DecisionTreeRegressor\n",
    "from sklearn.ensemble import RandomForestClassifier, GradientBoostingClassifier\n",
    "from sklearn.model_selection import train_test_split, cross_val_score, GridSearchCV\n",
    "import matplotlib.pylab as plt\n",
    "import dmba\n",
    "from dmba import plotDecisionTree, classificationSummary, regressionSummary\n",
    "\n",
    "%matplotlib inline\n"
   ]
  },
  {
   "cell_type": "code",
   "execution_count": 36,
   "metadata": {},
   "outputs": [],
   "source": [
    "df  = pd.read_csv(r'C:\\Users\\supra\\Downloads\\ToyotaCorolla.csv')\n"
   ]
  },
  {
   "cell_type": "code",
   "execution_count": 37,
   "metadata": {},
   "outputs": [],
   "source": [
    "df.drop(['Model'], axis=1, inplace=True)"
   ]
  },
  {
   "cell_type": "code",
   "execution_count": 38,
   "metadata": {},
   "outputs": [],
   "source": [
    "data = pd.get_dummies(df, columns=['Fuel_Type'], drop_first=True)\n"
   ]
  },
  {
   "cell_type": "code",
   "execution_count": 39,
   "metadata": {},
   "outputs": [],
   "source": [
    "data.drop(['Color'], axis=1, inplace=True)"
   ]
  },
  {
   "cell_type": "code",
   "execution_count": 40,
   "metadata": {},
   "outputs": [],
   "source": [
    "data.drop(['Id'], axis=1, inplace=True)"
   ]
  },
  {
   "cell_type": "code",
   "execution_count": 26,
   "metadata": {},
   "outputs": [
    {
     "name": "stdout",
     "output_type": "stream",
     "text": [
      "<class 'pandas.core.frame.DataFrame'>\n",
      "RangeIndex: 1436 entries, 0 to 1435\n",
      "Data columns (total 37 columns):\n",
      " #   Column             Non-Null Count  Dtype\n",
      "---  ------             --------------  -----\n",
      " 0   Price              1436 non-null   int64\n",
      " 1   Age_08_04          1436 non-null   int64\n",
      " 2   Mfg_Month          1436 non-null   int64\n",
      " 3   Mfg_Year           1436 non-null   int64\n",
      " 4   KM                 1436 non-null   int64\n",
      " 5   HP                 1436 non-null   int64\n",
      " 6   Met_Color          1436 non-null   int64\n",
      " 7   Automatic          1436 non-null   int64\n",
      " 8   CC                 1436 non-null   int64\n",
      " 9   Doors              1436 non-null   int64\n",
      " 10  Cylinders          1436 non-null   int64\n",
      " 11  Gears              1436 non-null   int64\n",
      " 12  Quarterly_Tax      1436 non-null   int64\n",
      " 13  Weight             1436 non-null   int64\n",
      " 14  Mfr_Guarantee      1436 non-null   int64\n",
      " 15  BOVAG_Guarantee    1436 non-null   int64\n",
      " 16  Guarantee_Period   1436 non-null   int64\n",
      " 17  ABS                1436 non-null   int64\n",
      " 18  Airbag_1           1436 non-null   int64\n",
      " 19  Airbag_2           1436 non-null   int64\n",
      " 20  Airco              1436 non-null   int64\n",
      " 21  Automatic_airco    1436 non-null   int64\n",
      " 22  Boardcomputer      1436 non-null   int64\n",
      " 23  CD_Player          1436 non-null   int64\n",
      " 24  Central_Lock       1436 non-null   int64\n",
      " 25  Powered_Windows    1436 non-null   int64\n",
      " 26  Power_Steering     1436 non-null   int64\n",
      " 27  Radio              1436 non-null   int64\n",
      " 28  Mistlamps          1436 non-null   int64\n",
      " 29  Sport_Model        1436 non-null   int64\n",
      " 30  Backseat_Divider   1436 non-null   int64\n",
      " 31  Metallic_Rim       1436 non-null   int64\n",
      " 32  Radio_cassette     1436 non-null   int64\n",
      " 33  Parking_Assistant  1436 non-null   int64\n",
      " 34  Tow_Bar            1436 non-null   int64\n",
      " 35  Fuel_Type_Diesel   1436 non-null   bool \n",
      " 36  Fuel_Type_Petrol   1436 non-null   bool \n",
      "dtypes: bool(2), int64(35)\n",
      "memory usage: 395.6 KB\n"
     ]
    }
   ],
   "source": [
    "data.info()"
   ]
  },
  {
   "cell_type": "code",
   "execution_count": 41,
   "metadata": {},
   "outputs": [],
   "source": [
    "Y = data.iloc[:, data.columns.get_loc('Price')]\n",
    "\n",
    "X = data.iloc[:, data.columns != 'Price']\n"
   ]
  },
  {
   "cell_type": "code",
   "execution_count": 43,
   "metadata": {},
   "outputs": [],
   "source": [
    "#splitting the dataset into training set and test set\n",
    "from sklearn.model_selection import train_test_split\n",
    "X_train,X_test,y_train,y_test=train_test_split(X,Y,test_size=0.25,random_state=0)"
   ]
  },
  {
   "cell_type": "code",
   "execution_count": 44,
   "metadata": {},
   "outputs": [],
   "source": [
    "#feature scaling to be performed on the independent variable \n",
    "from sklearn.preprocessing import StandardScaler\n",
    "sc_X =StandardScaler()\n",
    "X_train=sc_X.fit_transform(X_train)\n",
    "X_test=sc_X.transform(X_test)"
   ]
  },
  {
   "cell_type": "code",
   "execution_count": 53,
   "metadata": {},
   "outputs": [
    {
     "name": "stdout",
     "output_type": "stream",
     "text": [
      "Initial parameters:  {'max_depth': 10, 'min_impurity_decrease': 0, 'min_samples_split': 10}\n",
      "Improved parameters:  {'max_depth': 6, 'min_impurity_decrease': 0.006, 'min_samples_split': 15}\n"
     ]
    }
   ],
   "source": [
    "# user grid search to find optimized tree\n",
    "param_grid = {\n",
    "    'max_depth': [5, 10, 15, 20, 25], \n",
    "    'min_impurity_decrease': [0, 0.001, 0.005, 0.01], \n",
    "    'min_samples_split': [10, 20, 30, 40, 50], \n",
    "}\n",
    "gridSearch = GridSearchCV(DecisionTreeRegressor(), param_grid, cv=5, n_jobs=-1)\n",
    "gridSearch.fit(X_train, y_train)\n",
    "print('Initial parameters: ', gridSearch.best_params_)\n",
    "\n",
    "param_grid = {\n",
    "    'max_depth': [3, 4, 5, 6, 7, 8, 9, 10, 11, 12], \n",
    "    'min_impurity_decrease': [0, 0.001, 0.002, 0.003, 0.005, 0.006, 0.007, 0.008], \n",
    "    'min_samples_split': [14, 15, 16, 18, 20, ], \n",
    "}\n",
    "gridSearch = GridSearchCV(DecisionTreeRegressor(), param_grid, cv=5, n_jobs=-1)\n",
    "gridSearch.fit(X_train, y_train)\n",
    "print('Improved parameters: ', gridSearch.best_params_)\n",
    "\n",
    "regTree = gridSearch.best_estimator_"
   ]
  },
  {
   "cell_type": "code",
   "execution_count": 54,
   "metadata": {},
   "outputs": [
    {
     "name": "stdout",
     "output_type": "stream",
     "text": [
      "\n",
      "Regression statistics\n",
      "\n",
      "                      Mean Error (ME) : 0.0000\n",
      "       Root Mean Squared Error (RMSE) : 1009.8453\n",
      "            Mean Absolute Error (MAE) : 735.1250\n",
      "          Mean Percentage Error (MPE) : -0.9537\n",
      "Mean Absolute Percentage Error (MAPE) : 7.3119\n",
      "\n",
      "Regression statistics\n",
      "\n",
      "                      Mean Error (ME) : -79.1905\n",
      "       Root Mean Squared Error (RMSE) : 1310.5604\n",
      "            Mean Absolute Error (MAE) : 934.7660\n",
      "          Mean Percentage Error (MPE) : -2.0454\n",
      "Mean Absolute Percentage Error (MAPE) : 9.3875\n"
     ]
    }
   ],
   "source": [
    "regressionSummary(y_train, regTree.predict(X_train))\n",
    "regressionSummary(y_test, regTree.predict(X_test))"
   ]
  },
  {
   "cell_type": "code",
   "execution_count": 55,
   "metadata": {},
   "outputs": [
    {
     "ename": "AttributeError",
     "evalue": "'numpy.ndarray' object has no attribute 'columns'",
     "output_type": "error",
     "traceback": [
      "\u001b[1;31m---------------------------------------------------------------------------\u001b[0m",
      "\u001b[1;31mAttributeError\u001b[0m                            Traceback (most recent call last)",
      "Cell \u001b[1;32mIn[55], line 1\u001b[0m\n\u001b[1;32m----> 1\u001b[0m plotDecisionTree(regTree, feature_names\u001b[39m=\u001b[39mX_train\u001b[39m.\u001b[39;49mcolumns)\n\u001b[0;32m      2\u001b[0m plotDecisionTree(regTree, feature_names\u001b[39m=\u001b[39mX_train\u001b[39m.\u001b[39mcolumns, rotate\u001b[39m=\u001b[39m\u001b[39mTrue\u001b[39;00m)\n",
      "\u001b[1;31mAttributeError\u001b[0m: 'numpy.ndarray' object has no attribute 'columns'"
     ]
    }
   ],
   "source": [
    "plotDecisionTree(regTree, feature_names=X_train.columns)\n",
    "plotDecisionTree(regTree, feature_names=X_train.columns, rotate=True)"
   ]
  }
 ],
 "metadata": {
  "kernelspec": {
   "display_name": "Python 3",
   "language": "python",
   "name": "python3"
  },
  "language_info": {
   "codemirror_mode": {
    "name": "ipython",
    "version": 3
   },
   "file_extension": ".py",
   "mimetype": "text/x-python",
   "name": "python",
   "nbconvert_exporter": "python",
   "pygments_lexer": "ipython3",
   "version": "3.11.3"
  },
  "orig_nbformat": 4
 },
 "nbformat": 4,
 "nbformat_minor": 2
}
