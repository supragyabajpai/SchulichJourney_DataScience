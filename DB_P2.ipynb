{
 "cells": [
  {
   "cell_type": "code",
   "execution_count": 1,
   "metadata": {},
   "outputs": [],
   "source": [
    "import sqlalchemy\n",
    "import requests\n",
    "import nest_asyncio\n",
    "from requests_html import AsyncHTMLSession"
   ]
  },
  {
   "cell_type": "code",
   "execution_count": 2,
   "metadata": {},
   "outputs": [],
   "source": [
    "nest_asyncio.apply()\n",
    "asession = AsyncHTMLSession()"
   ]
  },
  {
   "cell_type": "code",
   "execution_count": 3,
   "metadata": {},
   "outputs": [],
   "source": [
    "async def fetch_website(weburl):\n",
    "    url = weburl\n",
    "    r = await asession.get(url)\n",
    "    \n",
    "    if r.status_code == 200:\n",
    "        print(f\"Successfully fetched data from {url}\")\n",
    "    else:\n",
    "        print(f\"Failed to fetch data from {url}, status code: {r.status_code}\")\n",
    "\n",
    "    await r.html.arender(sleep=1)\n",
    "    \n",
    "    href_list = r.html.find('pre a[href]')\n",
    "    href_values = [link.attrs['href'] for link in href_list]\n",
    "\n",
    "    return href_values\n"
   ]
  },
  {
   "cell_type": "code",
   "execution_count": 4,
   "metadata": {},
   "outputs": [
    {
     "name": "stdout",
     "output_type": "stream",
     "text": [
      "Successfully fetched data from https://dd.weather.gc.ca/alerts/cap/\n"
     ]
    }
   ],
   "source": [
    "weburl = 'https://dd.weather.gc.ca/alerts/cap/'\n",
    "href_values_list = asession.loop.run_until_complete(fetch_website(weburl))\n",
    "latest_date = href_values_list[-1]"
   ]
  },
  {
   "cell_type": "code",
   "execution_count": 5,
   "metadata": {},
   "outputs": [
    {
     "name": "stdout",
     "output_type": "stream",
     "text": [
      "----------------------\n",
      "Today's Date :  2023 - 08 - 06\n",
      "----------------------\n",
      "https://dd.weather.gc.ca/alerts/cap/20230806/CWTO/\n"
     ]
    }
   ],
   "source": [
    "print(\"----------------------\")\n",
    "print(\"Today's Date : \",latest_date[0:4],\"-\",latest_date[4:6],\"-\",latest_date[6:8])\n",
    "print(\"----------------------\")\n",
    "new_url = weburl+latest_date+'CWTO/'\n",
    "print(new_url)"
   ]
  },
  {
   "cell_type": "code",
   "execution_count": 6,
   "metadata": {},
   "outputs": [
    {
     "name": "stdout",
     "output_type": "stream",
     "text": [
      "Successfully fetched data from https://dd.weather.gc.ca/alerts/cap/20230806/CWTO/\n"
     ]
    }
   ],
   "source": [
    "new_href_values_list = asession.loop.run_until_complete(fetch_website(new_url))\n",
    "latest_file = new_href_values_list[-1]\n"
   ]
  },
  {
   "cell_type": "code",
   "execution_count": 7,
   "metadata": {},
   "outputs": [
    {
     "name": "stdout",
     "output_type": "stream",
     "text": [
      "22/\n"
     ]
    }
   ],
   "source": [
    "latest_file = new_href_values_list[-1]\n",
    "print(latest_file)"
   ]
  },
  {
   "cell_type": "code",
   "execution_count": 8,
   "metadata": {},
   "outputs": [
    {
     "name": "stdout",
     "output_type": "stream",
     "text": [
      "https://dd.weather.gc.ca/alerts/cap/20230806/CWTO/22/\n"
     ]
    }
   ],
   "source": [
    "newz_url = new_url+latest_file\n",
    "print(newz_url)"
   ]
  },
  {
   "cell_type": "code",
   "execution_count": null,
   "metadata": {},
   "outputs": [],
   "source": [
    "new_href_values_list = asession.loop.run_until_complete(fetch_website(new_url))"
   ]
  },
  {
   "cell_type": "code",
   "execution_count": null,
   "metadata": {},
   "outputs": [],
   "source": []
  },
  {
   "cell_type": "code",
   "execution_count": null,
   "metadata": {},
   "outputs": [],
   "source": []
  },
  {
   "cell_type": "code",
   "execution_count": null,
   "metadata": {},
   "outputs": [],
   "source": []
  }
 ],
 "metadata": {
  "kernelspec": {
   "display_name": "Python 3",
   "language": "python",
   "name": "python3"
  },
  "language_info": {
   "codemirror_mode": {
    "name": "ipython",
    "version": 3
   },
   "file_extension": ".py",
   "mimetype": "text/x-python",
   "name": "python",
   "nbconvert_exporter": "python",
   "pygments_lexer": "ipython3",
   "version": "3.11.3"
  },
  "orig_nbformat": 4
 },
 "nbformat": 4,
 "nbformat_minor": 2
}
