{
 "cells": [
  {
   "cell_type": "markdown",
   "metadata": {},
   "source": [
    "## Importing libraries"
   ]
  },
  {
   "cell_type": "code",
   "execution_count": 419,
   "metadata": {},
   "outputs": [],
   "source": [
    "\n",
    "import pandas as pd\n",
    "import numpy as np\n",
    "import seaborn as sns\n",
    "import matplotlib.pyplot as plt\n",
    "import scipy.stats as stats\n",
    "from statsmodels.formula.api import ols\n",
    "import statsmodels.api as sm\n",
    "from sklearn.model_selection import train_test_split, cross_val_score, GridSearchCV, RandomizedSearchCV\n",
    "from sklearn.linear_model import LinearRegression, ElasticNet, Ridge, Lasso\n",
    "from sklearn.preprocessing import StandardScaler, OneHotEncoder, MinMaxScaler\n",
    "from sklearn.compose import ColumnTransformer\n",
    "from sklearn.naive_bayes import GaussianNB\n",
    "from sklearn.neighbors import KNeighborsClassifier\n",
    "from sklearn.linear_model import LogisticRegression\n",
    "from sklearn.ensemble import RandomForestClassifier\n",
    "from sklearn.tree import DecisionTreeClassifier\n",
    "from sklearn.svm import SVC\n",
    "from sklearn.metrics import confusion_matrix, accuracy_score, precision_score, recall_score, f1_score, roc_curve, auc, precision_recall_curve, mean_squared_error, mean_absolute_error, r2_score\n",
    "from sklearn.pipeline import Pipeline\n",
    "import warnings\n",
    "warnings.filterwarnings('ignore')\n",
    "from sklearn.cluster import KMeans\n",
    "from sklearn.tree import plot_tree\n",
    "from sklearn import datasets, linear_model, metrics\n",
    "from sklearn.model_selection import GridSearchCV\n",
    "from sklearn.linear_model import LogisticRegression\n",
    "from sklearn.metrics import confusion_matrix, classification_report\n",
    "from sklearn.model_selection import train_test_split, RandomizedSearchCV\n",
    "from sklearn.tree import DecisionTreeClassifier\n"
   ]
  },
  {
   "cell_type": "code",
   "execution_count": 420,
   "metadata": {},
   "outputs": [],
   "source": [
    "df = pd.read_csv(\"https://raw.githubusercontent.com/supragyabajpai/SchulichJourney_DataScience/main/Practice/conversion_data.csv\")"
   ]
  },
  {
   "cell_type": "markdown",
   "metadata": {},
   "source": [
    "## Data Overview"
   ]
  },
  {
   "cell_type": "code",
   "execution_count": 421,
   "metadata": {},
   "outputs": [
    {
     "data": {
      "text/html": [
       "<div>\n",
       "<style scoped>\n",
       "    .dataframe tbody tr th:only-of-type {\n",
       "        vertical-align: middle;\n",
       "    }\n",
       "\n",
       "    .dataframe tbody tr th {\n",
       "        vertical-align: top;\n",
       "    }\n",
       "\n",
       "    .dataframe thead th {\n",
       "        text-align: right;\n",
       "    }\n",
       "</style>\n",
       "<table border=\"1\" class=\"dataframe\">\n",
       "  <thead>\n",
       "    <tr style=\"text-align: right;\">\n",
       "      <th></th>\n",
       "      <th>Unnamed: 0</th>\n",
       "      <th>visitor_id</th>\n",
       "      <th>visitor_location</th>\n",
       "      <th>marketing_channel</th>\n",
       "      <th>gender</th>\n",
       "      <th>product_views_Mon</th>\n",
       "      <th>product_views_Tue</th>\n",
       "      <th>product_views_Wed</th>\n",
       "      <th>product_views_Thu</th>\n",
       "      <th>product_views_Fri</th>\n",
       "      <th>...</th>\n",
       "      <th>time_on_site_Tue</th>\n",
       "      <th>time_on_site_Wed</th>\n",
       "      <th>time_on_site_Thu</th>\n",
       "      <th>time_on_site_Fri</th>\n",
       "      <th>pages_visited_Mon</th>\n",
       "      <th>pages_visited_Tue</th>\n",
       "      <th>pages_visited_Wed</th>\n",
       "      <th>pages_visited_Thu</th>\n",
       "      <th>pages_visited_Fri</th>\n",
       "      <th>converted_Fri</th>\n",
       "    </tr>\n",
       "  </thead>\n",
       "  <tbody>\n",
       "    <tr>\n",
       "      <th>0</th>\n",
       "      <td>0</td>\n",
       "      <td>1</td>\n",
       "      <td>North America</td>\n",
       "      <td>youtube</td>\n",
       "      <td>M</td>\n",
       "      <td>4</td>\n",
       "      <td>5</td>\n",
       "      <td>2</td>\n",
       "      <td>1</td>\n",
       "      <td>2</td>\n",
       "      <td>...</td>\n",
       "      <td>33</td>\n",
       "      <td>23</td>\n",
       "      <td>46</td>\n",
       "      <td>57</td>\n",
       "      <td>4</td>\n",
       "      <td>5</td>\n",
       "      <td>5</td>\n",
       "      <td>4</td>\n",
       "      <td>6</td>\n",
       "      <td>1</td>\n",
       "    </tr>\n",
       "    <tr>\n",
       "      <th>1</th>\n",
       "      <td>1</td>\n",
       "      <td>2</td>\n",
       "      <td>South America</td>\n",
       "      <td>organic</td>\n",
       "      <td>F</td>\n",
       "      <td>2</td>\n",
       "      <td>5</td>\n",
       "      <td>0</td>\n",
       "      <td>1</td>\n",
       "      <td>5</td>\n",
       "      <td>...</td>\n",
       "      <td>28</td>\n",
       "      <td>39</td>\n",
       "      <td>24</td>\n",
       "      <td>51</td>\n",
       "      <td>5</td>\n",
       "      <td>6</td>\n",
       "      <td>7</td>\n",
       "      <td>6</td>\n",
       "      <td>2</td>\n",
       "      <td>0</td>\n",
       "    </tr>\n",
       "    <tr>\n",
       "      <th>2</th>\n",
       "      <td>2</td>\n",
       "      <td>3</td>\n",
       "      <td>Australia</td>\n",
       "      <td>instagram</td>\n",
       "      <td>M</td>\n",
       "      <td>3</td>\n",
       "      <td>4</td>\n",
       "      <td>0</td>\n",
       "      <td>-3</td>\n",
       "      <td>5</td>\n",
       "      <td>...</td>\n",
       "      <td>34</td>\n",
       "      <td>22</td>\n",
       "      <td>34</td>\n",
       "      <td>31</td>\n",
       "      <td>1</td>\n",
       "      <td>3</td>\n",
       "      <td>3</td>\n",
       "      <td>2</td>\n",
       "      <td>3</td>\n",
       "      <td>1</td>\n",
       "    </tr>\n",
       "    <tr>\n",
       "      <th>3</th>\n",
       "      <td>3</td>\n",
       "      <td>4</td>\n",
       "      <td>North America</td>\n",
       "      <td>facebook</td>\n",
       "      <td>M</td>\n",
       "      <td>1</td>\n",
       "      <td>0</td>\n",
       "      <td>0</td>\n",
       "      <td>5</td>\n",
       "      <td>0</td>\n",
       "      <td>...</td>\n",
       "      <td>26</td>\n",
       "      <td>43</td>\n",
       "      <td>22</td>\n",
       "      <td>39</td>\n",
       "      <td>3</td>\n",
       "      <td>4</td>\n",
       "      <td>7</td>\n",
       "      <td>7</td>\n",
       "      <td>1</td>\n",
       "      <td>0</td>\n",
       "    </tr>\n",
       "    <tr>\n",
       "      <th>4</th>\n",
       "      <td>4</td>\n",
       "      <td>5</td>\n",
       "      <td>Asia</td>\n",
       "      <td>instagram</td>\n",
       "      <td>F</td>\n",
       "      <td>1</td>\n",
       "      <td>5</td>\n",
       "      <td>2</td>\n",
       "      <td>2</td>\n",
       "      <td>3</td>\n",
       "      <td>...</td>\n",
       "      <td>54</td>\n",
       "      <td>30</td>\n",
       "      <td>47</td>\n",
       "      <td>57</td>\n",
       "      <td>6</td>\n",
       "      <td>6</td>\n",
       "      <td>5</td>\n",
       "      <td>2</td>\n",
       "      <td>4</td>\n",
       "      <td>1</td>\n",
       "    </tr>\n",
       "  </tbody>\n",
       "</table>\n",
       "<p>5 rows × 31 columns</p>\n",
       "</div>"
      ],
      "text/plain": [
       "   Unnamed: 0  visitor_id visitor_location marketing_channel gender   \n",
       "0           0           1    North America           youtube      M  \\\n",
       "1           1           2    South America           organic      F   \n",
       "2           2           3        Australia         instagram      M   \n",
       "3           3           4    North America          facebook      M   \n",
       "4           4           5             Asia         instagram      F   \n",
       "\n",
       "   product_views_Mon  product_views_Tue  product_views_Wed  product_views_Thu   \n",
       "0                  4                  5                  2                  1  \\\n",
       "1                  2                  5                  0                  1   \n",
       "2                  3                  4                  0                 -3   \n",
       "3                  1                  0                  0                  5   \n",
       "4                  1                  5                  2                  2   \n",
       "\n",
       "   product_views_Fri  ...  time_on_site_Tue  time_on_site_Wed   \n",
       "0                  2  ...                33                23  \\\n",
       "1                  5  ...                28                39   \n",
       "2                  5  ...                34                22   \n",
       "3                  0  ...                26                43   \n",
       "4                  3  ...                54                30   \n",
       "\n",
       "   time_on_site_Thu  time_on_site_Fri  pages_visited_Mon  pages_visited_Tue   \n",
       "0                46                57                  4                  5  \\\n",
       "1                24                51                  5                  6   \n",
       "2                34                31                  1                  3   \n",
       "3                22                39                  3                  4   \n",
       "4                47                57                  6                  6   \n",
       "\n",
       "   pages_visited_Wed  pages_visited_Thu  pages_visited_Fri  converted_Fri  \n",
       "0                  5                  4                  6              1  \n",
       "1                  7                  6                  2              0  \n",
       "2                  3                  2                  3              1  \n",
       "3                  7                  7                  1              0  \n",
       "4                  5                  2                  4              1  \n",
       "\n",
       "[5 rows x 31 columns]"
      ]
     },
     "execution_count": 421,
     "metadata": {},
     "output_type": "execute_result"
    }
   ],
   "source": [
    "df.head()"
   ]
  },
  {
   "cell_type": "code",
   "execution_count": 422,
   "metadata": {},
   "outputs": [
    {
     "name": "stdout",
     "output_type": "stream",
     "text": [
      "<class 'pandas.core.frame.DataFrame'>\n",
      "RangeIndex: 2000 entries, 0 to 1999\n",
      "Data columns (total 31 columns):\n",
      " #   Column             Non-Null Count  Dtype  \n",
      "---  ------             --------------  -----  \n",
      " 0   Unnamed: 0         2000 non-null   int64  \n",
      " 1   visitor_id         2000 non-null   int64  \n",
      " 2   visitor_location   2000 non-null   object \n",
      " 3   marketing_channel  2000 non-null   object \n",
      " 4   gender             2000 non-null   object \n",
      " 5   product_views_Mon  2000 non-null   int64  \n",
      " 6   product_views_Tue  2000 non-null   int64  \n",
      " 7   product_views_Wed  2000 non-null   int64  \n",
      " 8   product_views_Thu  2000 non-null   int64  \n",
      " 9   product_views_Fri  2000 non-null   int64  \n",
      " 10  avg_rating_Mon     2000 non-null   float64\n",
      " 11  avg_rating_Tue     2000 non-null   float64\n",
      " 12  avg_rating_Wed     2000 non-null   float64\n",
      " 13  avg_rating_Thu     2000 non-null   float64\n",
      " 14  avg_rating_Fri     2000 non-null   float64\n",
      " 15  avg_price_Mon      2000 non-null   float64\n",
      " 16  avg_price_Tue      2000 non-null   float64\n",
      " 17  avg_price_Wed      2000 non-null   float64\n",
      " 18  avg_price_Thu      2000 non-null   float64\n",
      " 19  avg_price_Fri      2000 non-null   float64\n",
      " 20  time_on_site_Mon   2000 non-null   int64  \n",
      " 21  time_on_site_Tue   2000 non-null   int64  \n",
      " 22  time_on_site_Wed   2000 non-null   int64  \n",
      " 23  time_on_site_Thu   2000 non-null   int64  \n",
      " 24  time_on_site_Fri   2000 non-null   int64  \n",
      " 25  pages_visited_Mon  2000 non-null   int64  \n",
      " 26  pages_visited_Tue  2000 non-null   int64  \n",
      " 27  pages_visited_Wed  2000 non-null   int64  \n",
      " 28  pages_visited_Thu  2000 non-null   int64  \n",
      " 29  pages_visited_Fri  2000 non-null   int64  \n",
      " 30  converted_Fri      2000 non-null   int64  \n",
      "dtypes: float64(10), int64(18), object(3)\n",
      "memory usage: 484.5+ KB\n"
     ]
    }
   ],
   "source": [
    "df.info()"
   ]
  },
  {
   "cell_type": "code",
   "execution_count": 423,
   "metadata": {},
   "outputs": [
    {
     "data": {
      "text/html": [
       "<div>\n",
       "<style scoped>\n",
       "    .dataframe tbody tr th:only-of-type {\n",
       "        vertical-align: middle;\n",
       "    }\n",
       "\n",
       "    .dataframe tbody tr th {\n",
       "        vertical-align: top;\n",
       "    }\n",
       "\n",
       "    .dataframe thead th {\n",
       "        text-align: right;\n",
       "    }\n",
       "</style>\n",
       "<table border=\"1\" class=\"dataframe\">\n",
       "  <thead>\n",
       "    <tr style=\"text-align: right;\">\n",
       "      <th></th>\n",
       "      <th>Unnamed: 0</th>\n",
       "      <th>visitor_id</th>\n",
       "      <th>visitor_location</th>\n",
       "      <th>marketing_channel</th>\n",
       "      <th>gender</th>\n",
       "      <th>product_views_Mon</th>\n",
       "      <th>product_views_Tue</th>\n",
       "      <th>product_views_Wed</th>\n",
       "      <th>product_views_Thu</th>\n",
       "      <th>product_views_Fri</th>\n",
       "      <th>...</th>\n",
       "      <th>time_on_site_Tue</th>\n",
       "      <th>time_on_site_Wed</th>\n",
       "      <th>time_on_site_Thu</th>\n",
       "      <th>time_on_site_Fri</th>\n",
       "      <th>pages_visited_Mon</th>\n",
       "      <th>pages_visited_Tue</th>\n",
       "      <th>pages_visited_Wed</th>\n",
       "      <th>pages_visited_Thu</th>\n",
       "      <th>pages_visited_Fri</th>\n",
       "      <th>converted_Fri</th>\n",
       "    </tr>\n",
       "  </thead>\n",
       "  <tbody>\n",
       "    <tr>\n",
       "      <th>count</th>\n",
       "      <td>2000.000000</td>\n",
       "      <td>2000.000000</td>\n",
       "      <td>2000</td>\n",
       "      <td>2000</td>\n",
       "      <td>2000</td>\n",
       "      <td>2000.000000</td>\n",
       "      <td>2000.000000</td>\n",
       "      <td>2000.000000</td>\n",
       "      <td>2000.000000</td>\n",
       "      <td>2000.000000</td>\n",
       "      <td>...</td>\n",
       "      <td>2000.000000</td>\n",
       "      <td>2000.000000</td>\n",
       "      <td>2000.000000</td>\n",
       "      <td>2000.000000</td>\n",
       "      <td>2000.000000</td>\n",
       "      <td>2000.000000</td>\n",
       "      <td>2000.000000</td>\n",
       "      <td>2000.000000</td>\n",
       "      <td>2000.000000</td>\n",
       "      <td>2000.000000</td>\n",
       "    </tr>\n",
       "    <tr>\n",
       "      <th>unique</th>\n",
       "      <td>NaN</td>\n",
       "      <td>NaN</td>\n",
       "      <td>5</td>\n",
       "      <td>5</td>\n",
       "      <td>2</td>\n",
       "      <td>NaN</td>\n",
       "      <td>NaN</td>\n",
       "      <td>NaN</td>\n",
       "      <td>NaN</td>\n",
       "      <td>NaN</td>\n",
       "      <td>...</td>\n",
       "      <td>NaN</td>\n",
       "      <td>NaN</td>\n",
       "      <td>NaN</td>\n",
       "      <td>NaN</td>\n",
       "      <td>NaN</td>\n",
       "      <td>NaN</td>\n",
       "      <td>NaN</td>\n",
       "      <td>NaN</td>\n",
       "      <td>NaN</td>\n",
       "      <td>NaN</td>\n",
       "    </tr>\n",
       "    <tr>\n",
       "      <th>top</th>\n",
       "      <td>NaN</td>\n",
       "      <td>NaN</td>\n",
       "      <td>South America</td>\n",
       "      <td>instagram</td>\n",
       "      <td>F</td>\n",
       "      <td>NaN</td>\n",
       "      <td>NaN</td>\n",
       "      <td>NaN</td>\n",
       "      <td>NaN</td>\n",
       "      <td>NaN</td>\n",
       "      <td>...</td>\n",
       "      <td>NaN</td>\n",
       "      <td>NaN</td>\n",
       "      <td>NaN</td>\n",
       "      <td>NaN</td>\n",
       "      <td>NaN</td>\n",
       "      <td>NaN</td>\n",
       "      <td>NaN</td>\n",
       "      <td>NaN</td>\n",
       "      <td>NaN</td>\n",
       "      <td>NaN</td>\n",
       "    </tr>\n",
       "    <tr>\n",
       "      <th>freq</th>\n",
       "      <td>NaN</td>\n",
       "      <td>NaN</td>\n",
       "      <td>433</td>\n",
       "      <td>431</td>\n",
       "      <td>1093</td>\n",
       "      <td>NaN</td>\n",
       "      <td>NaN</td>\n",
       "      <td>NaN</td>\n",
       "      <td>NaN</td>\n",
       "      <td>NaN</td>\n",
       "      <td>...</td>\n",
       "      <td>NaN</td>\n",
       "      <td>NaN</td>\n",
       "      <td>NaN</td>\n",
       "      <td>NaN</td>\n",
       "      <td>NaN</td>\n",
       "      <td>NaN</td>\n",
       "      <td>NaN</td>\n",
       "      <td>NaN</td>\n",
       "      <td>NaN</td>\n",
       "      <td>NaN</td>\n",
       "    </tr>\n",
       "    <tr>\n",
       "      <th>mean</th>\n",
       "      <td>999.500000</td>\n",
       "      <td>1000.500000</td>\n",
       "      <td>NaN</td>\n",
       "      <td>NaN</td>\n",
       "      <td>NaN</td>\n",
       "      <td>2.541500</td>\n",
       "      <td>2.440500</td>\n",
       "      <td>2.441000</td>\n",
       "      <td>2.256500</td>\n",
       "      <td>2.354000</td>\n",
       "      <td>...</td>\n",
       "      <td>39.776500</td>\n",
       "      <td>40.155500</td>\n",
       "      <td>40.417000</td>\n",
       "      <td>40.028500</td>\n",
       "      <td>3.946000</td>\n",
       "      <td>4.071000</td>\n",
       "      <td>4.092500</td>\n",
       "      <td>3.921000</td>\n",
       "      <td>4.089500</td>\n",
       "      <td>0.372000</td>\n",
       "    </tr>\n",
       "    <tr>\n",
       "      <th>std</th>\n",
       "      <td>577.494589</td>\n",
       "      <td>577.494589</td>\n",
       "      <td>NaN</td>\n",
       "      <td>NaN</td>\n",
       "      <td>NaN</td>\n",
       "      <td>1.704914</td>\n",
       "      <td>1.715206</td>\n",
       "      <td>2.343345</td>\n",
       "      <td>2.370974</td>\n",
       "      <td>2.335682</td>\n",
       "      <td>...</td>\n",
       "      <td>11.855624</td>\n",
       "      <td>11.757399</td>\n",
       "      <td>11.892638</td>\n",
       "      <td>11.664207</td>\n",
       "      <td>2.010001</td>\n",
       "      <td>2.012209</td>\n",
       "      <td>2.002985</td>\n",
       "      <td>2.023316</td>\n",
       "      <td>2.026954</td>\n",
       "      <td>0.483459</td>\n",
       "    </tr>\n",
       "    <tr>\n",
       "      <th>min</th>\n",
       "      <td>0.000000</td>\n",
       "      <td>1.000000</td>\n",
       "      <td>NaN</td>\n",
       "      <td>NaN</td>\n",
       "      <td>NaN</td>\n",
       "      <td>0.000000</td>\n",
       "      <td>0.000000</td>\n",
       "      <td>0.000000</td>\n",
       "      <td>-4.000000</td>\n",
       "      <td>-3.000000</td>\n",
       "      <td>...</td>\n",
       "      <td>20.000000</td>\n",
       "      <td>20.000000</td>\n",
       "      <td>20.000000</td>\n",
       "      <td>20.000000</td>\n",
       "      <td>1.000000</td>\n",
       "      <td>1.000000</td>\n",
       "      <td>1.000000</td>\n",
       "      <td>1.000000</td>\n",
       "      <td>1.000000</td>\n",
       "      <td>0.000000</td>\n",
       "    </tr>\n",
       "    <tr>\n",
       "      <th>25%</th>\n",
       "      <td>499.750000</td>\n",
       "      <td>500.750000</td>\n",
       "      <td>NaN</td>\n",
       "      <td>NaN</td>\n",
       "      <td>NaN</td>\n",
       "      <td>1.000000</td>\n",
       "      <td>1.000000</td>\n",
       "      <td>0.000000</td>\n",
       "      <td>0.000000</td>\n",
       "      <td>0.000000</td>\n",
       "      <td>...</td>\n",
       "      <td>29.000000</td>\n",
       "      <td>30.000000</td>\n",
       "      <td>30.000000</td>\n",
       "      <td>30.000000</td>\n",
       "      <td>2.000000</td>\n",
       "      <td>2.000000</td>\n",
       "      <td>2.000000</td>\n",
       "      <td>2.000000</td>\n",
       "      <td>2.000000</td>\n",
       "      <td>0.000000</td>\n",
       "    </tr>\n",
       "    <tr>\n",
       "      <th>50%</th>\n",
       "      <td>999.500000</td>\n",
       "      <td>1000.500000</td>\n",
       "      <td>NaN</td>\n",
       "      <td>NaN</td>\n",
       "      <td>NaN</td>\n",
       "      <td>3.000000</td>\n",
       "      <td>2.000000</td>\n",
       "      <td>2.000000</td>\n",
       "      <td>2.000000</td>\n",
       "      <td>2.000000</td>\n",
       "      <td>...</td>\n",
       "      <td>40.000000</td>\n",
       "      <td>40.000000</td>\n",
       "      <td>40.500000</td>\n",
       "      <td>40.000000</td>\n",
       "      <td>4.000000</td>\n",
       "      <td>4.000000</td>\n",
       "      <td>4.000000</td>\n",
       "      <td>4.000000</td>\n",
       "      <td>4.000000</td>\n",
       "      <td>0.000000</td>\n",
       "    </tr>\n",
       "    <tr>\n",
       "      <th>75%</th>\n",
       "      <td>1499.250000</td>\n",
       "      <td>1500.250000</td>\n",
       "      <td>NaN</td>\n",
       "      <td>NaN</td>\n",
       "      <td>NaN</td>\n",
       "      <td>4.000000</td>\n",
       "      <td>4.000000</td>\n",
       "      <td>4.000000</td>\n",
       "      <td>5.000000</td>\n",
       "      <td>5.000000</td>\n",
       "      <td>...</td>\n",
       "      <td>50.000000</td>\n",
       "      <td>50.000000</td>\n",
       "      <td>51.000000</td>\n",
       "      <td>50.000000</td>\n",
       "      <td>6.000000</td>\n",
       "      <td>6.000000</td>\n",
       "      <td>6.000000</td>\n",
       "      <td>6.000000</td>\n",
       "      <td>6.000000</td>\n",
       "      <td>1.000000</td>\n",
       "    </tr>\n",
       "    <tr>\n",
       "      <th>max</th>\n",
       "      <td>1999.000000</td>\n",
       "      <td>2000.000000</td>\n",
       "      <td>NaN</td>\n",
       "      <td>NaN</td>\n",
       "      <td>NaN</td>\n",
       "      <td>5.000000</td>\n",
       "      <td>5.000000</td>\n",
       "      <td>9.000000</td>\n",
       "      <td>8.000000</td>\n",
       "      <td>8.000000</td>\n",
       "      <td>...</td>\n",
       "      <td>60.000000</td>\n",
       "      <td>60.000000</td>\n",
       "      <td>60.000000</td>\n",
       "      <td>60.000000</td>\n",
       "      <td>7.000000</td>\n",
       "      <td>7.000000</td>\n",
       "      <td>7.000000</td>\n",
       "      <td>7.000000</td>\n",
       "      <td>7.000000</td>\n",
       "      <td>1.000000</td>\n",
       "    </tr>\n",
       "  </tbody>\n",
       "</table>\n",
       "<p>11 rows × 31 columns</p>\n",
       "</div>"
      ],
      "text/plain": [
       "         Unnamed: 0   visitor_id visitor_location marketing_channel gender   \n",
       "count   2000.000000  2000.000000             2000              2000   2000  \\\n",
       "unique          NaN          NaN                5                 5      2   \n",
       "top             NaN          NaN    South America         instagram      F   \n",
       "freq            NaN          NaN              433               431   1093   \n",
       "mean     999.500000  1000.500000              NaN               NaN    NaN   \n",
       "std      577.494589   577.494589              NaN               NaN    NaN   \n",
       "min        0.000000     1.000000              NaN               NaN    NaN   \n",
       "25%      499.750000   500.750000              NaN               NaN    NaN   \n",
       "50%      999.500000  1000.500000              NaN               NaN    NaN   \n",
       "75%     1499.250000  1500.250000              NaN               NaN    NaN   \n",
       "max     1999.000000  2000.000000              NaN               NaN    NaN   \n",
       "\n",
       "        product_views_Mon  product_views_Tue  product_views_Wed   \n",
       "count         2000.000000        2000.000000        2000.000000  \\\n",
       "unique                NaN                NaN                NaN   \n",
       "top                   NaN                NaN                NaN   \n",
       "freq                  NaN                NaN                NaN   \n",
       "mean             2.541500           2.440500           2.441000   \n",
       "std              1.704914           1.715206           2.343345   \n",
       "min              0.000000           0.000000           0.000000   \n",
       "25%              1.000000           1.000000           0.000000   \n",
       "50%              3.000000           2.000000           2.000000   \n",
       "75%              4.000000           4.000000           4.000000   \n",
       "max              5.000000           5.000000           9.000000   \n",
       "\n",
       "        product_views_Thu  product_views_Fri  ...  time_on_site_Tue   \n",
       "count         2000.000000        2000.000000  ...       2000.000000  \\\n",
       "unique                NaN                NaN  ...               NaN   \n",
       "top                   NaN                NaN  ...               NaN   \n",
       "freq                  NaN                NaN  ...               NaN   \n",
       "mean             2.256500           2.354000  ...         39.776500   \n",
       "std              2.370974           2.335682  ...         11.855624   \n",
       "min             -4.000000          -3.000000  ...         20.000000   \n",
       "25%              0.000000           0.000000  ...         29.000000   \n",
       "50%              2.000000           2.000000  ...         40.000000   \n",
       "75%              5.000000           5.000000  ...         50.000000   \n",
       "max              8.000000           8.000000  ...         60.000000   \n",
       "\n",
       "        time_on_site_Wed  time_on_site_Thu  time_on_site_Fri   \n",
       "count        2000.000000       2000.000000       2000.000000  \\\n",
       "unique               NaN               NaN               NaN   \n",
       "top                  NaN               NaN               NaN   \n",
       "freq                 NaN               NaN               NaN   \n",
       "mean           40.155500         40.417000         40.028500   \n",
       "std            11.757399         11.892638         11.664207   \n",
       "min            20.000000         20.000000         20.000000   \n",
       "25%            30.000000         30.000000         30.000000   \n",
       "50%            40.000000         40.500000         40.000000   \n",
       "75%            50.000000         51.000000         50.000000   \n",
       "max            60.000000         60.000000         60.000000   \n",
       "\n",
       "        pages_visited_Mon  pages_visited_Tue  pages_visited_Wed   \n",
       "count         2000.000000        2000.000000        2000.000000  \\\n",
       "unique                NaN                NaN                NaN   \n",
       "top                   NaN                NaN                NaN   \n",
       "freq                  NaN                NaN                NaN   \n",
       "mean             3.946000           4.071000           4.092500   \n",
       "std              2.010001           2.012209           2.002985   \n",
       "min              1.000000           1.000000           1.000000   \n",
       "25%              2.000000           2.000000           2.000000   \n",
       "50%              4.000000           4.000000           4.000000   \n",
       "75%              6.000000           6.000000           6.000000   \n",
       "max              7.000000           7.000000           7.000000   \n",
       "\n",
       "        pages_visited_Thu  pages_visited_Fri  converted_Fri  \n",
       "count         2000.000000        2000.000000    2000.000000  \n",
       "unique                NaN                NaN            NaN  \n",
       "top                   NaN                NaN            NaN  \n",
       "freq                  NaN                NaN            NaN  \n",
       "mean             3.921000           4.089500       0.372000  \n",
       "std              2.023316           2.026954       0.483459  \n",
       "min              1.000000           1.000000       0.000000  \n",
       "25%              2.000000           2.000000       0.000000  \n",
       "50%              4.000000           4.000000       0.000000  \n",
       "75%              6.000000           6.000000       1.000000  \n",
       "max              7.000000           7.000000       1.000000  \n",
       "\n",
       "[11 rows x 31 columns]"
      ]
     },
     "execution_count": 423,
     "metadata": {},
     "output_type": "execute_result"
    }
   ],
   "source": [
    "df.describe(include = 'all')"
   ]
  },
  {
   "cell_type": "code",
   "execution_count": 424,
   "metadata": {},
   "outputs": [
    {
     "data": {
      "text/html": [
       "<div>\n",
       "<style scoped>\n",
       "    .dataframe tbody tr th:only-of-type {\n",
       "        vertical-align: middle;\n",
       "    }\n",
       "\n",
       "    .dataframe tbody tr th {\n",
       "        vertical-align: top;\n",
       "    }\n",
       "\n",
       "    .dataframe thead th {\n",
       "        text-align: right;\n",
       "    }\n",
       "</style>\n",
       "<table border=\"1\" class=\"dataframe\">\n",
       "  <thead>\n",
       "    <tr style=\"text-align: right;\">\n",
       "      <th></th>\n",
       "      <th>Unnamed: 0</th>\n",
       "      <th>visitor_id</th>\n",
       "      <th>visitor_location</th>\n",
       "      <th>marketing_channel</th>\n",
       "      <th>gender</th>\n",
       "      <th>product_views_Mon</th>\n",
       "      <th>product_views_Tue</th>\n",
       "      <th>product_views_Wed</th>\n",
       "      <th>product_views_Thu</th>\n",
       "      <th>product_views_Fri</th>\n",
       "      <th>...</th>\n",
       "      <th>time_on_site_Tue</th>\n",
       "      <th>time_on_site_Wed</th>\n",
       "      <th>time_on_site_Thu</th>\n",
       "      <th>time_on_site_Fri</th>\n",
       "      <th>pages_visited_Mon</th>\n",
       "      <th>pages_visited_Tue</th>\n",
       "      <th>pages_visited_Wed</th>\n",
       "      <th>pages_visited_Thu</th>\n",
       "      <th>pages_visited_Fri</th>\n",
       "      <th>converted_Fri</th>\n",
       "    </tr>\n",
       "  </thead>\n",
       "  <tbody>\n",
       "    <tr>\n",
       "      <th>0</th>\n",
       "      <td>0</td>\n",
       "      <td>1</td>\n",
       "      <td>North America</td>\n",
       "      <td>youtube</td>\n",
       "      <td>M</td>\n",
       "      <td>4</td>\n",
       "      <td>5</td>\n",
       "      <td>2</td>\n",
       "      <td>1</td>\n",
       "      <td>2</td>\n",
       "      <td>...</td>\n",
       "      <td>33</td>\n",
       "      <td>23</td>\n",
       "      <td>46</td>\n",
       "      <td>57</td>\n",
       "      <td>4</td>\n",
       "      <td>5</td>\n",
       "      <td>5</td>\n",
       "      <td>4</td>\n",
       "      <td>6</td>\n",
       "      <td>1</td>\n",
       "    </tr>\n",
       "    <tr>\n",
       "      <th>1</th>\n",
       "      <td>1</td>\n",
       "      <td>2</td>\n",
       "      <td>South America</td>\n",
       "      <td>organic</td>\n",
       "      <td>F</td>\n",
       "      <td>2</td>\n",
       "      <td>5</td>\n",
       "      <td>0</td>\n",
       "      <td>1</td>\n",
       "      <td>5</td>\n",
       "      <td>...</td>\n",
       "      <td>28</td>\n",
       "      <td>39</td>\n",
       "      <td>24</td>\n",
       "      <td>51</td>\n",
       "      <td>5</td>\n",
       "      <td>6</td>\n",
       "      <td>7</td>\n",
       "      <td>6</td>\n",
       "      <td>2</td>\n",
       "      <td>0</td>\n",
       "    </tr>\n",
       "    <tr>\n",
       "      <th>2</th>\n",
       "      <td>2</td>\n",
       "      <td>3</td>\n",
       "      <td>Australia</td>\n",
       "      <td>instagram</td>\n",
       "      <td>M</td>\n",
       "      <td>3</td>\n",
       "      <td>4</td>\n",
       "      <td>0</td>\n",
       "      <td>-3</td>\n",
       "      <td>5</td>\n",
       "      <td>...</td>\n",
       "      <td>34</td>\n",
       "      <td>22</td>\n",
       "      <td>34</td>\n",
       "      <td>31</td>\n",
       "      <td>1</td>\n",
       "      <td>3</td>\n",
       "      <td>3</td>\n",
       "      <td>2</td>\n",
       "      <td>3</td>\n",
       "      <td>1</td>\n",
       "    </tr>\n",
       "    <tr>\n",
       "      <th>3</th>\n",
       "      <td>3</td>\n",
       "      <td>4</td>\n",
       "      <td>North America</td>\n",
       "      <td>facebook</td>\n",
       "      <td>M</td>\n",
       "      <td>1</td>\n",
       "      <td>0</td>\n",
       "      <td>0</td>\n",
       "      <td>5</td>\n",
       "      <td>0</td>\n",
       "      <td>...</td>\n",
       "      <td>26</td>\n",
       "      <td>43</td>\n",
       "      <td>22</td>\n",
       "      <td>39</td>\n",
       "      <td>3</td>\n",
       "      <td>4</td>\n",
       "      <td>7</td>\n",
       "      <td>7</td>\n",
       "      <td>1</td>\n",
       "      <td>0</td>\n",
       "    </tr>\n",
       "    <tr>\n",
       "      <th>4</th>\n",
       "      <td>4</td>\n",
       "      <td>5</td>\n",
       "      <td>Asia</td>\n",
       "      <td>instagram</td>\n",
       "      <td>F</td>\n",
       "      <td>1</td>\n",
       "      <td>5</td>\n",
       "      <td>2</td>\n",
       "      <td>2</td>\n",
       "      <td>3</td>\n",
       "      <td>...</td>\n",
       "      <td>54</td>\n",
       "      <td>30</td>\n",
       "      <td>47</td>\n",
       "      <td>57</td>\n",
       "      <td>6</td>\n",
       "      <td>6</td>\n",
       "      <td>5</td>\n",
       "      <td>2</td>\n",
       "      <td>4</td>\n",
       "      <td>1</td>\n",
       "    </tr>\n",
       "  </tbody>\n",
       "</table>\n",
       "<p>5 rows × 31 columns</p>\n",
       "</div>"
      ],
      "text/plain": [
       "   Unnamed: 0  visitor_id visitor_location marketing_channel gender   \n",
       "0           0           1    North America           youtube      M  \\\n",
       "1           1           2    South America           organic      F   \n",
       "2           2           3        Australia         instagram      M   \n",
       "3           3           4    North America          facebook      M   \n",
       "4           4           5             Asia         instagram      F   \n",
       "\n",
       "   product_views_Mon  product_views_Tue  product_views_Wed  product_views_Thu   \n",
       "0                  4                  5                  2                  1  \\\n",
       "1                  2                  5                  0                  1   \n",
       "2                  3                  4                  0                 -3   \n",
       "3                  1                  0                  0                  5   \n",
       "4                  1                  5                  2                  2   \n",
       "\n",
       "   product_views_Fri  ...  time_on_site_Tue  time_on_site_Wed   \n",
       "0                  2  ...                33                23  \\\n",
       "1                  5  ...                28                39   \n",
       "2                  5  ...                34                22   \n",
       "3                  0  ...                26                43   \n",
       "4                  3  ...                54                30   \n",
       "\n",
       "   time_on_site_Thu  time_on_site_Fri  pages_visited_Mon  pages_visited_Tue   \n",
       "0                46                57                  4                  5  \\\n",
       "1                24                51                  5                  6   \n",
       "2                34                31                  1                  3   \n",
       "3                22                39                  3                  4   \n",
       "4                47                57                  6                  6   \n",
       "\n",
       "   pages_visited_Wed  pages_visited_Thu  pages_visited_Fri  converted_Fri  \n",
       "0                  5                  4                  6              1  \n",
       "1                  7                  6                  2              0  \n",
       "2                  3                  2                  3              1  \n",
       "3                  7                  7                  1              0  \n",
       "4                  5                  2                  4              1  \n",
       "\n",
       "[5 rows x 31 columns]"
      ]
     },
     "execution_count": 424,
     "metadata": {},
     "output_type": "execute_result"
    }
   ],
   "source": [
    "df.head()"
   ]
  },
  {
   "cell_type": "code",
   "execution_count": 425,
   "metadata": {},
   "outputs": [
    {
     "data": {
      "text/plain": [
       "Index(['Unnamed: 0', 'visitor_id', 'visitor_location', 'marketing_channel',\n",
       "       'gender', 'product_views_Mon', 'product_views_Tue', 'product_views_Wed',\n",
       "       'product_views_Thu', 'product_views_Fri', 'avg_rating_Mon',\n",
       "       'avg_rating_Tue', 'avg_rating_Wed', 'avg_rating_Thu', 'avg_rating_Fri',\n",
       "       'avg_price_Mon', 'avg_price_Tue', 'avg_price_Wed', 'avg_price_Thu',\n",
       "       'avg_price_Fri', 'time_on_site_Mon', 'time_on_site_Tue',\n",
       "       'time_on_site_Wed', 'time_on_site_Thu', 'time_on_site_Fri',\n",
       "       'pages_visited_Mon', 'pages_visited_Tue', 'pages_visited_Wed',\n",
       "       'pages_visited_Thu', 'pages_visited_Fri', 'converted_Fri'],\n",
       "      dtype='object')"
      ]
     },
     "execution_count": 425,
     "metadata": {},
     "output_type": "execute_result"
    }
   ],
   "source": [
    "df.columns"
   ]
  },
  {
   "cell_type": "code",
   "execution_count": 426,
   "metadata": {},
   "outputs": [
    {
     "data": {
      "text/html": [
       "<div>\n",
       "<style scoped>\n",
       "    .dataframe tbody tr th:only-of-type {\n",
       "        vertical-align: middle;\n",
       "    }\n",
       "\n",
       "    .dataframe tbody tr th {\n",
       "        vertical-align: top;\n",
       "    }\n",
       "\n",
       "    .dataframe thead th {\n",
       "        text-align: right;\n",
       "    }\n",
       "</style>\n",
       "<table border=\"1\" class=\"dataframe\">\n",
       "  <thead>\n",
       "    <tr style=\"text-align: right;\">\n",
       "      <th></th>\n",
       "      <th>Unnamed: 0</th>\n",
       "      <th>visitor_id</th>\n",
       "      <th>visitor_location</th>\n",
       "      <th>marketing_channel</th>\n",
       "      <th>gender</th>\n",
       "      <th>product_views_Mon</th>\n",
       "      <th>product_views_Tue</th>\n",
       "      <th>product_views_Wed</th>\n",
       "      <th>product_views_Thu</th>\n",
       "      <th>product_views_Fri</th>\n",
       "      <th>...</th>\n",
       "      <th>time_on_site_Mon</th>\n",
       "      <th>time_on_site_Tue</th>\n",
       "      <th>time_on_site_Wed</th>\n",
       "      <th>time_on_site_Thu</th>\n",
       "      <th>time_on_site_Fri</th>\n",
       "      <th>pages_visited_Mon</th>\n",
       "      <th>pages_visited_Tue</th>\n",
       "      <th>pages_visited_Wed</th>\n",
       "      <th>pages_visited_Thu</th>\n",
       "      <th>pages_visited_Fri</th>\n",
       "    </tr>\n",
       "    <tr>\n",
       "      <th>converted_Fri</th>\n",
       "      <th></th>\n",
       "      <th></th>\n",
       "      <th></th>\n",
       "      <th></th>\n",
       "      <th></th>\n",
       "      <th></th>\n",
       "      <th></th>\n",
       "      <th></th>\n",
       "      <th></th>\n",
       "      <th></th>\n",
       "      <th></th>\n",
       "      <th></th>\n",
       "      <th></th>\n",
       "      <th></th>\n",
       "      <th></th>\n",
       "      <th></th>\n",
       "      <th></th>\n",
       "      <th></th>\n",
       "      <th></th>\n",
       "      <th></th>\n",
       "      <th></th>\n",
       "    </tr>\n",
       "  </thead>\n",
       "  <tbody>\n",
       "    <tr>\n",
       "      <th>0</th>\n",
       "      <td>1256</td>\n",
       "      <td>1256</td>\n",
       "      <td>1256</td>\n",
       "      <td>1256</td>\n",
       "      <td>1256</td>\n",
       "      <td>1256</td>\n",
       "      <td>1256</td>\n",
       "      <td>1256</td>\n",
       "      <td>1256</td>\n",
       "      <td>1256</td>\n",
       "      <td>...</td>\n",
       "      <td>1256</td>\n",
       "      <td>1256</td>\n",
       "      <td>1256</td>\n",
       "      <td>1256</td>\n",
       "      <td>1256</td>\n",
       "      <td>1256</td>\n",
       "      <td>1256</td>\n",
       "      <td>1256</td>\n",
       "      <td>1256</td>\n",
       "      <td>1256</td>\n",
       "    </tr>\n",
       "    <tr>\n",
       "      <th>1</th>\n",
       "      <td>744</td>\n",
       "      <td>744</td>\n",
       "      <td>744</td>\n",
       "      <td>744</td>\n",
       "      <td>744</td>\n",
       "      <td>744</td>\n",
       "      <td>744</td>\n",
       "      <td>744</td>\n",
       "      <td>744</td>\n",
       "      <td>744</td>\n",
       "      <td>...</td>\n",
       "      <td>744</td>\n",
       "      <td>744</td>\n",
       "      <td>744</td>\n",
       "      <td>744</td>\n",
       "      <td>744</td>\n",
       "      <td>744</td>\n",
       "      <td>744</td>\n",
       "      <td>744</td>\n",
       "      <td>744</td>\n",
       "      <td>744</td>\n",
       "    </tr>\n",
       "  </tbody>\n",
       "</table>\n",
       "<p>2 rows × 30 columns</p>\n",
       "</div>"
      ],
      "text/plain": [
       "               Unnamed: 0  visitor_id  visitor_location  marketing_channel   \n",
       "converted_Fri                                                                \n",
       "0                    1256        1256              1256               1256  \\\n",
       "1                     744         744               744                744   \n",
       "\n",
       "               gender  product_views_Mon  product_views_Tue   \n",
       "converted_Fri                                                 \n",
       "0                1256               1256               1256  \\\n",
       "1                 744                744                744   \n",
       "\n",
       "               product_views_Wed  product_views_Thu  product_views_Fri  ...   \n",
       "converted_Fri                                                           ...   \n",
       "0                           1256               1256               1256  ...  \\\n",
       "1                            744                744                744  ...   \n",
       "\n",
       "               time_on_site_Mon  time_on_site_Tue  time_on_site_Wed   \n",
       "converted_Fri                                                         \n",
       "0                          1256              1256              1256  \\\n",
       "1                           744               744               744   \n",
       "\n",
       "               time_on_site_Thu  time_on_site_Fri  pages_visited_Mon   \n",
       "converted_Fri                                                          \n",
       "0                          1256              1256               1256  \\\n",
       "1                           744               744                744   \n",
       "\n",
       "               pages_visited_Tue  pages_visited_Wed  pages_visited_Thu   \n",
       "converted_Fri                                                            \n",
       "0                           1256               1256               1256  \\\n",
       "1                            744                744                744   \n",
       "\n",
       "               pages_visited_Fri  \n",
       "converted_Fri                     \n",
       "0                           1256  \n",
       "1                            744  \n",
       "\n",
       "[2 rows x 30 columns]"
      ]
     },
     "execution_count": 426,
     "metadata": {},
     "output_type": "execute_result"
    }
   ],
   "source": [
    "df.groupby('converted_Fri').count()"
   ]
  },
  {
   "cell_type": "code",
   "execution_count": 427,
   "metadata": {},
   "outputs": [],
   "source": [
    "# Univaritae Analysis : "
   ]
  },
  {
   "cell_type": "code",
   "execution_count": 428,
   "metadata": {},
   "outputs": [
    {
     "data": {
      "text/plain": [
       "array([   1,    2,    3, ..., 1998, 1999, 2000], dtype=int64)"
      ]
     },
     "execution_count": 428,
     "metadata": {},
     "output_type": "execute_result"
    }
   ],
   "source": [
    "df['visitor_id'].unique()"
   ]
  },
  {
   "cell_type": "code",
   "execution_count": 429,
   "metadata": {},
   "outputs": [
    {
     "data": {
      "image/png": "[encoded data removed]",
      "text/plain": [
       "<Figure size 2000x1500 with 6 Axes>"
      ]
     },
     "metadata": {},
     "output_type": "display_data"
    }
   ],
   "source": [
    "fig, ((ax1, ax2, ax3), (ax4, ax5, _)) = plt.subplots(2, 3, figsize=(20, 15))  # Adjusted grid size\n",
    "sns.histplot(df['avg_price_Mon'], ax=ax1)\n",
    "sns.histplot(df['avg_price_Tue'], ax=ax2)\n",
    "sns.histplot(df['avg_price_Wed'], ax=ax3)\n",
    "sns.histplot(df['avg_price_Thu'], ax=ax4)\n",
    "sns.histplot(df['avg_price_Fri'], ax=ax5)\n",
    "plt.tight_layout()  \n",
    "plt.show()"
   ]
  },
  {
   "cell_type": "code",
   "execution_count": 430,
   "metadata": {},
   "outputs": [
    {
     "data": {
      "image/png": "[encoded data removed]",
      "text/plain": [
       "<Figure size 2000x1500 with 6 Axes>"
      ]
     },
     "metadata": {},
     "output_type": "display_data"
    }
   ],
   "source": [
    "fig, ((ax1, ax2, ax3), (ax4, ax5, _)) = plt.subplots(2, 3, figsize=(20, 15))  # Adjusted grid size\n",
    "sns.histplot(df['time_on_site_Mon'], ax=ax1)\n",
    "sns.histplot(df['time_on_site_Tue'], ax=ax2)\n",
    "sns.histplot(df['time_on_site_Wed'], ax=ax3)\n",
    "sns.histplot(df['time_on_site_Thu'], ax=ax4)\n",
    "sns.histplot(df['time_on_site_Fri'], ax=ax5)\n",
    "plt.tight_layout()  \n",
    "plt.show()"
   ]
  },
  {
   "cell_type": "markdown",
   "metadata": {},
   "source": [
    "Let's compare them to target variable now:"
   ]
  },
  {
   "cell_type": "code",
   "execution_count": 431,
   "metadata": {},
   "outputs": [
    {
     "data": {
      "image/png": "[encoded data removed]",
      "text/plain": [
       "<Figure size 1500x800 with 10 Axes>"
      ]
     },
     "metadata": {},
     "output_type": "display_data"
    }
   ],
   "source": [
    "fig, ((ax1, ax2, ax3, ax4, ax5), (ax6, ax7, ax8, ax9, ax10)) = plt.subplots(2, 5, figsize=(15, 8))\n",
    "\n",
    "sns.boxplot(x='converted_Fri', y='avg_price_Mon', data=df, ax=ax1)\n",
    "sns.boxplot(x='converted_Fri', y='avg_price_Tue', data=df, ax=ax2)\n",
    "sns.boxplot(x='converted_Fri', y='avg_price_Wed', data=df, ax=ax3)\n",
    "sns.boxplot(x='converted_Fri', y='avg_price_Thu', data=df, ax=ax4)\n",
    "sns.boxplot(x='converted_Fri', y='avg_price_Fri', data=df, ax=ax5)\n",
    "\n",
    "sns.boxplot(x='converted_Fri', y='time_on_site_Mon', data=df, ax=ax6)\n",
    "sns.boxplot(x='converted_Fri', y='time_on_site_Tue', data=df, ax=ax7)\n",
    "sns.boxplot(x='converted_Fri', y='time_on_site_Wed', data=df, ax=ax8)\n",
    "sns.boxplot(x='converted_Fri', y='time_on_site_Thu', data=df, ax=ax9)\n",
    "sns.boxplot(x='converted_Fri', y='time_on_site_Fri', data=df, ax=ax10)\n",
    "\n",
    "plt.tight_layout()\n",
    "plt.show()\n"
   ]
  },
  {
   "cell_type": "markdown",
   "metadata": {},
   "source": [
    "From the above distribution we can see that the data is very evenly spread in comparision to the target variable, this could also mean that the target variable has no impact from this variables. We will do some bivariate analysis now."
   ]
  },
  {
   "cell_type": "code",
   "execution_count": 432,
   "metadata": {},
   "outputs": [
    {
     "data": {
      "text/plain": [
       "Index(['Unnamed: 0', 'visitor_id', 'visitor_location', 'marketing_channel',\n",
       "       'gender', 'product_views_Mon', 'product_views_Tue', 'product_views_Wed',\n",
       "       'product_views_Thu', 'product_views_Fri', 'avg_rating_Mon',\n",
       "       'avg_rating_Tue', 'avg_rating_Wed', 'avg_rating_Thu', 'avg_rating_Fri',\n",
       "       'avg_price_Mon', 'avg_price_Tue', 'avg_price_Wed', 'avg_price_Thu',\n",
       "       'avg_price_Fri', 'time_on_site_Mon', 'time_on_site_Tue',\n",
       "       'time_on_site_Wed', 'time_on_site_Thu', 'time_on_site_Fri',\n",
       "       'pages_visited_Mon', 'pages_visited_Tue', 'pages_visited_Wed',\n",
       "       'pages_visited_Thu', 'pages_visited_Fri', 'converted_Fri'],\n",
       "      dtype='object')"
      ]
     },
     "execution_count": 432,
     "metadata": {},
     "output_type": "execute_result"
    }
   ],
   "source": [
    "df.columns"
   ]
  },
  {
   "cell_type": "code",
   "execution_count": 433,
   "metadata": {},
   "outputs": [
    {
     "data": {
      "text/plain": [
       "(2000, 31)"
      ]
     },
     "execution_count": 433,
     "metadata": {},
     "output_type": "execute_result"
    }
   ],
   "source": [
    "df.shape"
   ]
  },
  {
   "cell_type": "code",
   "execution_count": 434,
   "metadata": {},
   "outputs": [
    {
     "name": "stdout",
     "output_type": "stream",
     "text": [
      "converted_Fri       0    1\n",
      "visitor_location          \n",
      "Asia              231  138\n",
      "Australia         268  135\n",
      "Europe            235  148\n",
      "North America     267  145\n",
      "South America     255  178\n",
      "---------------------------------------------\n",
      "converted_Fri        0    1\n",
      "marketing_channel          \n",
      "facebook           238  156\n",
      "google             234  165\n",
      "instagram          257  174\n",
      "organic            311   96\n",
      "youtube            216  153\n",
      "---------------------------------------------\n",
      "converted_Fri    0    1\n",
      "gender                 \n",
      "F              602  491\n",
      "M              654  253\n",
      "---------------------------------------------\n"
     ]
    }
   ],
   "source": [
    "for i in ['visitor_location', 'marketing_channel', 'gender']:\n",
    "    print(df.groupby([i,'converted_Fri'])['visitor_id'].count().unstack())\n",
    "    print('---------------------------------------------')"
   ]
  },
  {
   "cell_type": "markdown",
   "metadata": {},
   "source": [
    "#### We can draw few conclusion from above tables: \n",
    "1.  Location wise highest conversion was in South America and Europe.\n",
    "2.  Location wise lowest conversion was in Australia and North America.\n",
    "3.  Most of the traffic coming from Instagram (431) and organic (407).\n",
    "4.  Less trafic is coming from facebook and google and least from youtube"
   ]
  },
  {
   "cell_type": "code",
   "execution_count": 435,
   "metadata": {},
   "outputs": [
    {
     "name": "stdout",
     "output_type": "stream",
     "text": [
      "converted_Fri        0    1\n",
      "product_views_Mon          \n",
      "0                  210  116\n",
      "1                  195  123\n",
      "2                  191  134\n",
      "3                  224  124\n",
      "4                  221  123\n",
      "5                  215  124\n",
      "---------------------------------------------\n",
      "converted_Fri        0    1\n",
      "product_views_Tue          \n",
      "0                  226  124\n",
      "1                  220  133\n",
      "2                  213  117\n",
      "3                  207  117\n",
      "4                  194  125\n",
      "5                  196  128\n",
      "---------------------------------------------\n",
      "converted_Fri          0      1\n",
      "product_views_Wed              \n",
      "0                  515.0  112.0\n",
      "1                   99.0  151.0\n",
      "2                  115.0  126.0\n",
      "3                  108.0  115.0\n",
      "4                  116.0  121.0\n",
      "5                   99.0  119.0\n",
      "6                   81.0    NaN\n",
      "7                   51.0    NaN\n",
      "8                   48.0    NaN\n",
      "9                   24.0    NaN\n",
      "---------------------------------------------\n"
     ]
    }
   ],
   "source": [
    "for i in ['product_views_Mon', 'product_views_Tue', 'product_views_Wed']:\n",
    "    print(df.groupby([i,'converted_Fri'])['visitor_id'].count().unstack())\n",
    "    print('---------------------------------------------')"
   ]
  },
  {
   "cell_type": "code",
   "execution_count": 436,
   "metadata": {},
   "outputs": [
    {
     "name": "stdout",
     "output_type": "stream",
     "text": [
      "converted_Fri          0      1\n",
      "product_views_Thu              \n",
      "-4                   NaN    4.0\n",
      "-3                   NaN   16.0\n",
      "-2                   NaN   37.0\n",
      "-1                   NaN   31.0\n",
      " 0                 597.0   46.0\n",
      " 1                 137.0   56.0\n",
      " 2                 120.0   59.0\n",
      " 3                 120.0   63.0\n",
      " 4                  97.0   62.0\n",
      " 5                  84.0  370.0\n",
      " 6                  50.0    NaN\n",
      " 7                  32.0    NaN\n",
      " 8                  19.0    NaN\n",
      "---------------------------------------------\n",
      "converted_Fri          0      1\n",
      "product_views_Fri              \n",
      "-3                   NaN   13.0\n",
      "-2                   NaN   11.0\n",
      "-1                   NaN   36.0\n",
      " 0                 640.0   32.0\n",
      " 1                 116.0   54.0\n",
      " 2                 123.0   52.0\n",
      " 3                 120.0   52.0\n",
      " 4                  91.0   54.0\n",
      " 5                  71.0  440.0\n",
      " 6                  44.0    NaN\n",
      " 7                  38.0    NaN\n",
      " 8                  13.0    NaN\n",
      "---------------------------------------------\n"
     ]
    }
   ],
   "source": [
    "for i in ['product_views_Thu', 'product_views_Fri']:\n",
    "    print(df.groupby([i,'converted_Fri'])['visitor_id'].count().unstack())\n",
    "    print('---------------------------------------------')"
   ]
  },
  {
   "cell_type": "markdown",
   "metadata": {},
   "source": [
    "Before moving on we see that there is some negative values in or data for Thurs and Fri, we need to handel that."
   ]
  },
  {
   "cell_type": "code",
   "execution_count": 437,
   "metadata": {},
   "outputs": [
    {
     "name": "stdout",
     "output_type": "stream",
     "text": [
      "No. of product on thursday 88\n",
      "No. of product on Frisday 60\n",
      "% of data:  7.3999999999999995\n"
     ]
    }
   ],
   "source": [
    "print(\"No. of product on thursday\",df[df['product_views_Thu'] < 0].shape[0])\n",
    "print(\"No. of product on Frisday\",df[df['product_views_Fri'] < 0].shape[0])\n",
    "print(\"% of data: \", ((88+60)/2000)*100)"
   ]
  },
  {
   "cell_type": "markdown",
   "metadata": {},
   "source": [
    "this is less than ten percent so we can wither handel them or remove them, I will check for rest of the variables first and then drop these if the total is less than 10 percent."
   ]
  },
  {
   "cell_type": "markdown",
   "metadata": {},
   "source": [
    "---------------------------------------------------------------------------------"
   ]
  },
  {
   "cell_type": "markdown",
   "metadata": {},
   "source": [
    "So from above data we can say that the number of products visited on wed to Fri are more, but this could be because of addition of a new product."
   ]
  },
  {
   "cell_type": "code",
   "execution_count": 438,
   "metadata": {},
   "outputs": [
    {
     "name": "stdout",
     "output_type": "stream",
     "text": [
      "converted_Fri        0    1\n",
      "pages_visited_Mon          \n",
      "1                  177  123\n",
      "2                  196  111\n",
      "3                  168  109\n",
      "4                  156  108\n",
      "5                  181  106\n",
      "6                  196  103\n",
      "7                  182   84\n",
      "---------------------------------------------\n",
      "converted_Fri        0    1\n",
      "pages_visited_Tue          \n",
      "1                  183   97\n",
      "2                  170  100\n",
      "3                  184   93\n",
      "4                  178  111\n",
      "5                  152  116\n",
      "6                  192  125\n",
      "7                  197  102\n",
      "---------------------------------------------\n",
      "converted_Fri        0    1\n",
      "pages_visited_Wed          \n",
      "1                  172   86\n",
      "2                  182  102\n",
      "3                  180  116\n",
      "4                  154   98\n",
      "5                  208  106\n",
      "6                  161  118\n",
      "7                  199  118\n",
      "---------------------------------------------\n"
     ]
    }
   ],
   "source": [
    "for i in ['pages_visited_Mon', 'pages_visited_Tue', 'pages_visited_Wed']:\n",
    "    print(df.groupby([i,'converted_Fri'])['visitor_id'].count().unstack())\n",
    "    print('---------------------------------------------')"
   ]
  },
  {
   "cell_type": "code",
   "execution_count": 439,
   "metadata": {},
   "outputs": [
    {
     "name": "stdout",
     "output_type": "stream",
     "text": [
      "converted_Fri        0    1\n",
      "pages_visited_Thu          \n",
      "1                  190  120\n",
      "2                  185  111\n",
      "3                  194   95\n",
      "4                  191  105\n",
      "5                  155  106\n",
      "6                  158   94\n",
      "7                  183  113\n",
      "---------------------------------------------\n",
      "converted_Fri        0    1\n",
      "pages_visited_Fri          \n",
      "1                  169  102\n",
      "2                  172  100\n",
      "3                  180  113\n",
      "4                  166  124\n",
      "5                  164   90\n",
      "6                  183  102\n",
      "7                  222  113\n",
      "---------------------------------------------\n"
     ]
    }
   ],
   "source": [
    "for i in ['pages_visited_Thu', 'pages_visited_Fri']:\n",
    "    print(df.groupby([i,'converted_Fri'])['visitor_id'].count().unstack())\n",
    "    print('---------------------------------------------')"
   ]
  },
  {
   "cell_type": "markdown",
   "metadata": {},
   "source": [
    "From the above analysis we can conclude that the maximum number pages which are seven are visited on Wednesday and Friday."
   ]
  },
  {
   "cell_type": "code",
   "execution_count": 440,
   "metadata": {},
   "outputs": [
    {
     "data": {
      "text/plain": [
       "count    2000.000000\n",
       "mean        3.023990\n",
       "std         1.151037\n",
       "min         1.000000\n",
       "25%         2.017500\n",
       "50%         3.055000\n",
       "75%         4.022500\n",
       "max         5.000000\n",
       "Name: avg_rating_Mon, dtype: float64"
      ]
     },
     "execution_count": 440,
     "metadata": {},
     "output_type": "execute_result"
    }
   ],
   "source": [
    "df['avg_rating_Mon'].describe()"
   ]
  },
  {
   "cell_type": "code",
   "execution_count": 441,
   "metadata": {},
   "outputs": [],
   "source": [
    "def rating_bins(rate):\n",
    "    if rate >= 1 and rate <= 2:\n",
    "        return 'Worst'\n",
    "    elif rate >= 2 and rate <= 3:\n",
    "        return 'Bad'\n",
    "    elif rate >= 3 and rate <= 4:\n",
    "        return 'Good'\n",
    "    elif rate >= 4 and rate <= 5:\n",
    "        return 'Great'\n",
    "    else:\n",
    "        return 'No Rating'"
   ]
  },
  {
   "cell_type": "code",
   "execution_count": 442,
   "metadata": {},
   "outputs": [],
   "source": [
    "df['avg_rating_Mon'] = df.apply(lambda x: rating_bins(x['avg_rating_Mon']), axis=1)\n",
    "df['avg_rating_Tue'] = df.apply(lambda x: rating_bins(x['avg_rating_Tue']), axis=1)\n",
    "df['avg_rating_Wed'] = df.apply(lambda x: rating_bins(x['avg_rating_Wed']), axis=1)\n",
    "df['avg_rating_Thu'] = df.apply(lambda x: rating_bins(x['avg_rating_Thu']), axis=1)\n",
    "df['avg_rating_Fri'] = df.apply(lambda x: rating_bins(x['avg_rating_Fri']), axis=1)"
   ]
  },
  {
   "cell_type": "code",
   "execution_count": 443,
   "metadata": {},
   "outputs": [
    {
     "name": "stdout",
     "output_type": "stream",
     "text": [
      "See if there are any points with no rating:  ['Good' 'Worst' 'Bad' 'Great']\n",
      "See if there are any points with no rating:  ['Bad' 'Great' 'Good' 'Worst']\n",
      "See if there are any points with no rating:  ['Great' 'Worst' 'Good' 'Bad']\n",
      "See if there are any points with no rating:  ['Good' 'Bad' 'Worst' 'Great']\n",
      "See if there are any points with no rating:  ['Worst' 'Great' 'Good' 'Bad']\n"
     ]
    }
   ],
   "source": [
    "print(\"See if there are any points with no rating: \",df['avg_rating_Mon'].unique())\n",
    "print(\"See if there are any points with no rating: \",df['avg_rating_Tue'].unique())\n",
    "print(\"See if there are any points with no rating: \",df['avg_rating_Wed'].unique())\n",
    "print(\"See if there are any points with no rating: \",df['avg_rating_Thu'].unique())\n",
    "print(\"See if there are any points with no rating: \",df['avg_rating_Fri'].unique())"
   ]
  },
  {
   "cell_type": "code",
   "execution_count": 444,
   "metadata": {},
   "outputs": [
    {
     "name": "stdout",
     "output_type": "stream",
     "text": [
      "converted_Fri     0    1\n",
      "avg_rating_Mon          \n",
      "Bad             309  175\n",
      "Good            326  191\n",
      "Great           301  206\n",
      "Worst           320  172\n",
      "---------------------------------------------\n",
      "converted_Fri     0    1\n",
      "avg_rating_Tue          \n",
      "Bad             299  186\n",
      "Good            335  188\n",
      "Great           321  194\n",
      "Worst           301  176\n",
      "---------------------------------------------\n",
      "converted_Fri     0    1\n",
      "avg_rating_Wed          \n",
      "Bad             305  197\n",
      "Good            320  189\n",
      "Great           303  165\n",
      "Worst           328  193\n",
      "---------------------------------------------\n",
      "converted_Fri     0    1\n",
      "avg_rating_Thu          \n",
      "Bad             287  197\n",
      "Good            336  196\n",
      "Great           329  165\n",
      "Worst           304  186\n",
      "---------------------------------------------\n",
      "converted_Fri     0    1\n",
      "avg_rating_Fri          \n",
      "Bad             322  185\n",
      "Good            317  190\n",
      "Great           302  177\n",
      "Worst           315  192\n",
      "---------------------------------------------\n"
     ]
    }
   ],
   "source": [
    "for i in ['avg_rating_Mon',\n",
    "       'avg_rating_Tue', 'avg_rating_Wed', 'avg_rating_Thu', 'avg_rating_Fri']:\n",
    "    print(df.groupby([i,'converted_Fri'])['visitor_id'].count().unstack())\n",
    "    print('---------------------------------------------')"
   ]
  },
  {
   "cell_type": "markdown",
   "metadata": {},
   "source": [
    "### Takeaways from this above analysis:\n",
    "\n",
    "1. People gave worst rating in total( who converted and also who didn't)  to prodcts on wed and Fri, intrestingly there were new addition on number of products also.\n",
    "2. People gave best rating on Monday and Tuesday, even though the number of products were less.\n",
    "\n",
    "3. On Monday we can see a lot of happy converted customers as they gave good rating and also bought the product.\n",
    "\n",
    "4. On the other hand, we see a lot of unhappy customers who gave bad rating on Friday and also didn't buy anything. Intrestingly a lot of converted customers were unahappy and gave bad rating on Wednesday and Thursday."
   ]
  },
  {
   "cell_type": "markdown",
   "metadata": {},
   "source": [
    "----------------------------------------------------------------------------"
   ]
  },
  {
   "cell_type": "markdown",
   "metadata": {},
   "source": [
    "## Data Cleaning"
   ]
  },
  {
   "cell_type": "markdown",
   "metadata": {},
   "source": [
    "Now we know that we have only few row which have incorrect data and since the percentage is less than ten so we will drop them."
   ]
  },
  {
   "cell_type": "code",
   "execution_count": 445,
   "metadata": {},
   "outputs": [],
   "source": [
    "df.drop(df[df['product_views_Thu'] < 0].index, axis=0, inplace=True)\n",
    "df.drop(df[df['product_views_Fri'] < 0].index, axis=0, inplace=True)"
   ]
  },
  {
   "cell_type": "code",
   "execution_count": 446,
   "metadata": {},
   "outputs": [],
   "source": [
    "df.drop(columns=['Unnamed: 0'], inplace=True)\n",
    "df.drop(columns=['visitor_id'], inplace=True)"
   ]
  },
  {
   "cell_type": "code",
   "execution_count": 447,
   "metadata": {},
   "outputs": [
    {
     "name": "stdout",
     "output_type": "stream",
     "text": [
      "<class 'pandas.core.frame.DataFrame'>\n",
      "Index: 1859 entries, 0 to 1999\n",
      "Data columns (total 29 columns):\n",
      " #   Column             Non-Null Count  Dtype  \n",
      "---  ------             --------------  -----  \n",
      " 0   visitor_location   1859 non-null   object \n",
      " 1   marketing_channel  1859 non-null   object \n",
      " 2   gender             1859 non-null   object \n",
      " 3   product_views_Mon  1859 non-null   int64  \n",
      " 4   product_views_Tue  1859 non-null   int64  \n",
      " 5   product_views_Wed  1859 non-null   int64  \n",
      " 6   product_views_Thu  1859 non-null   int64  \n",
      " 7   product_views_Fri  1859 non-null   int64  \n",
      " 8   avg_rating_Mon     1859 non-null   object \n",
      " 9   avg_rating_Tue     1859 non-null   object \n",
      " 10  avg_rating_Wed     1859 non-null   object \n",
      " 11  avg_rating_Thu     1859 non-null   object \n",
      " 12  avg_rating_Fri     1859 non-null   object \n",
      " 13  avg_price_Mon      1859 non-null   float64\n",
      " 14  avg_price_Tue      1859 non-null   float64\n",
      " 15  avg_price_Wed      1859 non-null   float64\n",
      " 16  avg_price_Thu      1859 non-null   float64\n",
      " 17  avg_price_Fri      1859 non-null   float64\n",
      " 18  time_on_site_Mon   1859 non-null   int64  \n",
      " 19  time_on_site_Tue   1859 non-null   int64  \n",
      " 20  time_on_site_Wed   1859 non-null   int64  \n",
      " 21  time_on_site_Thu   1859 non-null   int64  \n",
      " 22  time_on_site_Fri   1859 non-null   int64  \n",
      " 23  pages_visited_Mon  1859 non-null   int64  \n",
      " 24  pages_visited_Tue  1859 non-null   int64  \n",
      " 25  pages_visited_Wed  1859 non-null   int64  \n",
      " 26  pages_visited_Thu  1859 non-null   int64  \n",
      " 27  pages_visited_Fri  1859 non-null   int64  \n",
      " 28  converted_Fri      1859 non-null   int64  \n",
      "dtypes: float64(5), int64(16), object(8)\n",
      "memory usage: 435.7+ KB\n"
     ]
    }
   ],
   "source": [
    "df.info()"
   ]
  },
  {
   "cell_type": "code",
   "execution_count": 448,
   "metadata": {},
   "outputs": [],
   "source": [
    "df.drop_duplicates(inplace=True)"
   ]
  },
  {
   "cell_type": "code",
   "execution_count": 449,
   "metadata": {},
   "outputs": [
    {
     "data": {
      "text/plain": [
       "(1859, 29)"
      ]
     },
     "execution_count": 449,
     "metadata": {},
     "output_type": "execute_result"
    }
   ],
   "source": [
    "df.shape"
   ]
  },
  {
   "cell_type": "markdown",
   "metadata": {},
   "source": [
    "## Feature Engineering"
   ]
  },
  {
   "cell_type": "markdown",
   "metadata": {},
   "source": [
    "1. We converted avg rating into bins above which is also part of feature engineering."
   ]
  },
  {
   "cell_type": "code",
   "execution_count": 450,
   "metadata": {},
   "outputs": [],
   "source": [
    "df['avg_rating_Mon'] = df['avg_rating_Mon'].map({'Bad':2, 'Worst': 1,'Good':3, 'Great' : 4}).astype(int)\n",
    "df['avg_rating_Tue'] = df['avg_rating_Tue'].map({'Bad':2, 'Worst': 1,'Good':3, 'Great' : 4}).astype(int)\n",
    "df['avg_rating_Wed'] = df['avg_rating_Wed'].map({'Bad':2, 'Worst': 1,'Good':3, 'Great' : 4}).astype(int)\n",
    "df['avg_rating_Thu'] = df['avg_rating_Thu'].map({'Bad':2, 'Worst': 1,'Good':3, 'Great' : 4}).astype(int)\n",
    "df['avg_rating_Fri'] = df['avg_rating_Fri'].map({'Bad':2, 'Worst': 1,'Good':3, 'Great' : 4}).astype(int)"
   ]
  },
  {
   "cell_type": "code",
   "execution_count": 451,
   "metadata": {},
   "outputs": [],
   "source": [
    "df['gender'] = df['gender'].map({'M':0, 'F': 1}).astype(int)"
   ]
  },
  {
   "cell_type": "code",
   "execution_count": 452,
   "metadata": {},
   "outputs": [],
   "source": [
    "df['visitor_location'] = df['visitor_location'].map({'North America':0, 'South America': 1,'Australia':2, 'Asia' : 3, 'Europe' : 4}).astype(int)"
   ]
  },
  {
   "cell_type": "code",
   "execution_count": 453,
   "metadata": {},
   "outputs": [
    {
     "data": {
      "text/plain": [
       "array(['youtube', 'organic', 'facebook', 'instagram', 'google'],\n",
       "      dtype=object)"
      ]
     },
     "execution_count": 453,
     "metadata": {},
     "output_type": "execute_result"
    }
   ],
   "source": [
    "df['marketing_channel'].unique()"
   ]
  },
  {
   "cell_type": "code",
   "execution_count": 454,
   "metadata": {},
   "outputs": [],
   "source": [
    "df['marketing_channel'] = df['marketing_channel'].map({'youtube':0, 'organic': 1,'facebook':2, 'instagram' : 3, 'google' : 4}).astype(int)"
   ]
  },
  {
   "cell_type": "code",
   "execution_count": 455,
   "metadata": {},
   "outputs": [
    {
     "name": "stdout",
     "output_type": "stream",
     "text": [
      "<class 'pandas.core.frame.DataFrame'>\n",
      "Index: 1859 entries, 0 to 1999\n",
      "Data columns (total 29 columns):\n",
      " #   Column             Non-Null Count  Dtype  \n",
      "---  ------             --------------  -----  \n",
      " 0   visitor_location   1859 non-null   int32  \n",
      " 1   marketing_channel  1859 non-null   int32  \n",
      " 2   gender             1859 non-null   int32  \n",
      " 3   product_views_Mon  1859 non-null   int64  \n",
      " 4   product_views_Tue  1859 non-null   int64  \n",
      " 5   product_views_Wed  1859 non-null   int64  \n",
      " 6   product_views_Thu  1859 non-null   int64  \n",
      " 7   product_views_Fri  1859 non-null   int64  \n",
      " 8   avg_rating_Mon     1859 non-null   int32  \n",
      " 9   avg_rating_Tue     1859 non-null   int32  \n",
      " 10  avg_rating_Wed     1859 non-null   int32  \n",
      " 11  avg_rating_Thu     1859 non-null   int32  \n",
      " 12  avg_rating_Fri     1859 non-null   int32  \n",
      " 13  avg_price_Mon      1859 non-null   float64\n",
      " 14  avg_price_Tue      1859 non-null   float64\n",
      " 15  avg_price_Wed      1859 non-null   float64\n",
      " 16  avg_price_Thu      1859 non-null   float64\n",
      " 17  avg_price_Fri      1859 non-null   float64\n",
      " 18  time_on_site_Mon   1859 non-null   int64  \n",
      " 19  time_on_site_Tue   1859 non-null   int64  \n",
      " 20  time_on_site_Wed   1859 non-null   int64  \n",
      " 21  time_on_site_Thu   1859 non-null   int64  \n",
      " 22  time_on_site_Fri   1859 non-null   int64  \n",
      " 23  pages_visited_Mon  1859 non-null   int64  \n",
      " 24  pages_visited_Tue  1859 non-null   int64  \n",
      " 25  pages_visited_Wed  1859 non-null   int64  \n",
      " 26  pages_visited_Thu  1859 non-null   int64  \n",
      " 27  pages_visited_Fri  1859 non-null   int64  \n",
      " 28  converted_Fri      1859 non-null   int64  \n",
      "dtypes: float64(5), int32(8), int64(16)\n",
      "memory usage: 377.6 KB\n"
     ]
    }
   ],
   "source": [
    "df.info()"
   ]
  },
  {
   "cell_type": "markdown",
   "metadata": {},
   "source": [
    "## Model Building"
   ]
  },
  {
   "cell_type": "markdown",
   "metadata": {},
   "source": [
    "Classification"
   ]
  },
  {
   "cell_type": "code",
   "execution_count": 456,
   "metadata": {},
   "outputs": [
    {
     "data": {
      "text/plain": [
       "Index(['visitor_location', 'marketing_channel', 'gender', 'product_views_Mon',\n",
       "       'product_views_Tue', 'product_views_Wed', 'product_views_Thu',\n",
       "       'product_views_Fri', 'avg_rating_Mon', 'avg_rating_Tue',\n",
       "       'avg_rating_Wed', 'avg_rating_Thu', 'avg_rating_Fri', 'avg_price_Mon',\n",
       "       'avg_price_Tue', 'avg_price_Wed', 'avg_price_Thu', 'avg_price_Fri',\n",
       "       'time_on_site_Mon', 'time_on_site_Tue', 'time_on_site_Wed',\n",
       "       'time_on_site_Thu', 'time_on_site_Fri', 'pages_visited_Mon',\n",
       "       'pages_visited_Tue', 'pages_visited_Wed', 'pages_visited_Thu',\n",
       "       'pages_visited_Fri', 'converted_Fri'],\n",
       "      dtype='object')"
      ]
     },
     "execution_count": 456,
     "metadata": {},
     "output_type": "execute_result"
    }
   ],
   "source": [
    "df.columns"
   ]
  },
  {
   "cell_type": "code",
   "execution_count": 457,
   "metadata": {},
   "outputs": [],
   "source": [
    "X = df[['visitor_location', 'marketing_channel', 'gender', 'product_views_Mon',\n",
    "       'product_views_Tue', 'product_views_Wed', 'product_views_Thu',\n",
    "       'product_views_Fri', 'avg_rating_Mon', 'avg_rating_Tue',\n",
    "       'avg_rating_Wed', 'avg_rating_Thu', 'avg_rating_Fri', 'avg_price_Mon',\n",
    "       'avg_price_Tue', 'avg_price_Wed', 'avg_price_Thu', 'avg_price_Fri',\n",
    "       'time_on_site_Mon', 'time_on_site_Tue', 'time_on_site_Wed',\n",
    "       'time_on_site_Thu', 'time_on_site_Fri', 'pages_visited_Mon',\n",
    "       'pages_visited_Tue', 'pages_visited_Wed', 'pages_visited_Thu',\n",
    "       'pages_visited_Fri']]\n",
    "y = df['converted_Fri']"
   ]
  },
  {
   "cell_type": "code",
   "execution_count": 458,
   "metadata": {},
   "outputs": [],
   "source": [
    "scaler = StandardScaler()\n",
    "model_X = scaler.fit(X)\n",
    "X_scaled = model_X.transform(X)\n",
    "\n",
    "X_train, X_test, y_train, y_test = train_test_split (X_scaled, y, random_state=42, test_size=0.3, shuffle=True)"
   ]
  },
  {
   "cell_type": "markdown",
   "metadata": {},
   "source": [
    "1.  Logestic Reg"
   ]
  },
  {
   "cell_type": "code",
   "execution_count": 459,
   "metadata": {},
   "outputs": [
    {
     "name": "stdout",
     "output_type": "stream",
     "text": [
      "Fitting 5 folds for each of 36 candidates, totalling 180 fits\n"
     ]
    }
   ],
   "source": [
    "param_grid = {\n",
    "    'solver': ['newton-cg', 'lbfgs', 'liblinear'],\n",
    "    'max_iter': [50, 100, 200],\n",
    "    'C': [0.01, 0.1, 1, 10]\n",
    "}\n",
    "grid_search = GridSearchCV(\n",
    "    estimator=LogisticRegression(),\n",
    "    param_grid=param_grid,\n",
    "    scoring='accuracy',\n",
    "    cv=5,\n",
    "    verbose=1,\n",
    "    n_jobs=-1\n",
    ")\n",
    "grid_search.fit(X_train, y_train)\n",
    "best_params = grid_search.best_params_\n",
    "best_model = grid_search.best_estimator_\n",
    "y_pred = best_model.predict(X_test)"
   ]
  },
  {
   "cell_type": "code",
   "execution_count": 460,
   "metadata": {},
   "outputs": [
    {
     "name": "stdout",
     "output_type": "stream",
     "text": [
      "Logistic Regression Model Accuracy (in %): 81.00358422939068\n"
     ]
    }
   ],
   "source": [
    "print(\"Logistic Regression Model Accuracy (in %):\",\n",
    "metrics.accuracy_score(y_test, y_pred) * 100)"
   ]
  },
  {
   "cell_type": "code",
   "execution_count": 461,
   "metadata": {},
   "outputs": [
    {
     "name": "stdout",
     "output_type": "stream",
     "text": [
      "Classification Report:\n",
      "              precision    recall  f1-score   support\n",
      "\n",
      "           0       0.83      0.90      0.86       367\n",
      "           1       0.77      0.64      0.70       191\n",
      "\n",
      "    accuracy                           0.81       558\n",
      "   macro avg       0.80      0.77      0.78       558\n",
      "weighted avg       0.81      0.81      0.81       558\n",
      "\n"
     ]
    }
   ],
   "source": [
    "print(\"Classification Report:\")\n",
    "print(classification_report(y_test, y_pred))"
   ]
  },
  {
   "cell_type": "markdown",
   "metadata": {},
   "source": [
    "2. K Nearest Neighbours"
   ]
  },
  {
   "cell_type": "code",
   "execution_count": 462,
   "metadata": {},
   "outputs": [
    {
     "name": "stdout",
     "output_type": "stream",
     "text": [
      "Best parameters from RandomSearch:  {'weights': 'distance', 'n_neighbors': 23, 'metric': 'manhattan'}\n"
     ]
    }
   ],
   "source": [
    "params_knn = {'n_neighbors': list(range(1,500)), 'weights': ['uniform', 'distance'], 'metric': ['l1', 'euclidean', 'manhattan', 'sokalsneath', 'hamming', 'sokalmichener', 'rogerstanimoto', 'braycurtis', 'dice', 'jaccard', 'pyfunc', 'haversine', 'matching', 'cityblock', 'correlation', 'l2', 'nan_euclidean', 'chebyshev', 'p', 'wminkowski', 'minkowski', 'cosine', 'infinity', 'russellrao', 'seuclidean', 'canberra', 'kulsinski', 'sqeuclidean', 'yule', 'mahalanobis'] }\n",
    "randomsearch_knn = RandomizedSearchCV(knn, params_knn, cv=10, n_iter=100, scoring='accuracy')\n",
    "\n",
    "randomsearch_knn.fit(X_train, y_train)\n",
    "\n",
    "print(\"Best parameters from RandomSearch: \", randomsearch_knn.best_params_)\n",
    "\n",
    "# Best parameters from RandomSearch:  {'weights': 'distance', 'n_neighbors': 151, 'metric': 'manhattan'}"
   ]
  },
  {
   "cell_type": "code",
   "execution_count": 463,
   "metadata": {},
   "outputs": [],
   "source": [
    "knn_best = KNeighborsClassifier(**randomsearch_knn.best_params_)\n",
    "cv_scores_knn = cross_val_score(knn_best, X_train, y_train, cv=5, scoring='accuracy')\n",
    "knn_best.fit(X_train, y_train)\n",
    "y_pred_knn = knn_best.predict(X_test)"
   ]
  },
  {
   "cell_type": "code",
   "execution_count": 464,
   "metadata": {},
   "outputs": [
    {
     "name": "stdout",
     "output_type": "stream",
     "text": [
      "[0.76245211 0.80769231 0.79230769 0.84615385 0.80769231]\n",
      "\n",
      "K-Nearest Neighbors Metrics: \n",
      "Accuracy:  0.8136200716845878\n"
     ]
    }
   ],
   "source": [
    "print(cv_scores_knn)\n",
    "print(\"\\nK-Nearest Neighbors Metrics: \")\n",
    "print(\"Accuracy: \", accuracy_score(y_test, y_pred_knn))"
   ]
  },
  {
   "cell_type": "markdown",
   "metadata": {},
   "source": [
    "3. Decision Tree"
   ]
  },
  {
   "cell_type": "code",
   "execution_count": 465,
   "metadata": {},
   "outputs": [],
   "source": [
    "d_tree = DecisionTreeClassifier(random_state=42, max_depth=7)\n",
    "d_tree.fit(X_train, y_train)\n",
    "y_pred = d_tree.predict(X_test)"
   ]
  },
  {
   "cell_type": "code",
   "execution_count": 466,
   "metadata": {},
   "outputs": [
    {
     "name": "stdout",
     "output_type": "stream",
     "text": [
      "Decsision Tree Model Accuracy (in %): 89.42652329749103\n"
     ]
    }
   ],
   "source": [
    "print(\"Decsision Tree Model Accuracy (in %):\",\n",
    "metrics.accuracy_score(y_test, y_pred) * 100)"
   ]
  },
  {
   "cell_type": "code",
   "execution_count": 467,
   "metadata": {},
   "outputs": [
    {
     "name": "stdout",
     "output_type": "stream",
     "text": [
      "Classification Report:\n",
      "              precision    recall  f1-score   support\n",
      "\n",
      "           0       0.91      0.93      0.92       367\n",
      "           1       0.87      0.82      0.84       191\n",
      "\n",
      "    accuracy                           0.89       558\n",
      "   macro avg       0.89      0.88      0.88       558\n",
      "weighted avg       0.89      0.89      0.89       558\n",
      "\n"
     ]
    }
   ],
   "source": [
    "print(\"Classification Report:\")\n",
    "print(classification_report(y_test, y_pred))"
   ]
  },
  {
   "cell_type": "markdown",
   "metadata": {},
   "source": [
    "4. Random Forest"
   ]
  },
  {
   "cell_type": "code",
   "execution_count": 468,
   "metadata": {},
   "outputs": [],
   "source": [
    "rforest = RandomForestClassifier(n_estimators = 200)\n",
    "rforest.fit(X_train, y_train)\n",
    "y_pred = rforest.predict(X_test)"
   ]
  },
  {
   "cell_type": "code",
   "execution_count": 469,
   "metadata": {},
   "outputs": [
    {
     "name": "stdout",
     "output_type": "stream",
     "text": [
      "Random Forest Model Accuracy (in %): 89.06810035842294\n"
     ]
    }
   ],
   "source": [
    "print(\"Random Forest Model Accuracy (in %):\",\n",
    "metrics.accuracy_score(y_test, y_pred) * 100)"
   ]
  },
  {
   "cell_type": "code",
   "execution_count": 470,
   "metadata": {},
   "outputs": [
    {
     "name": "stdout",
     "output_type": "stream",
     "text": [
      "Classification Report:\n",
      "              precision    recall  f1-score   support\n",
      "\n",
      "           0       0.88      0.97      0.92       367\n",
      "           1       0.92      0.74      0.82       191\n",
      "\n",
      "    accuracy                           0.89       558\n",
      "   macro avg       0.90      0.86      0.87       558\n",
      "weighted avg       0.89      0.89      0.89       558\n",
      "\n"
     ]
    }
   ],
   "source": [
    "print(\"Classification Report:\")\n",
    "print(classification_report(y_test, y_pred))"
   ]
  },
  {
   "cell_type": "markdown",
   "metadata": {},
   "source": [
    "5. GaussianNB"
   ]
  },
  {
   "cell_type": "code",
   "execution_count": 471,
   "metadata": {},
   "outputs": [
    {
     "name": "stdout",
     "output_type": "stream",
     "text": [
      "Accuracy for Gaussian Naive Bayes:  83.69175627240143\n"
     ]
    }
   ],
   "source": [
    "gnb = GaussianNB()\n",
    "param_grid = {'var_smoothing': [1e-9, 1e-8, 1e-7] }\n",
    "grid_search = GridSearchCV(gnb, param_grid, cv=5, scoring='recall')\n",
    "grid_search.fit(X_train, y_train)\n",
    "best_model = grid_search.best_estimator_\n",
    "y_pred_gnb = best_model.predict(X_test)\n",
    "print(\"Accuracy for Gaussian Naive Bayes: \", metrics.accuracy_score(y_test, y_pred_gnb) * 100)\n"
   ]
  },
  {
   "cell_type": "markdown",
   "metadata": {},
   "source": [
    "Let's  do make some feature importance graph"
   ]
  },
  {
   "cell_type": "code",
   "execution_count": 472,
   "metadata": {},
   "outputs": [
    {
     "data": {
      "text/plain": [
       "Index(['visitor_location', 'marketing_channel', 'gender', 'product_views_Mon',\n",
       "       'product_views_Tue', 'product_views_Wed', 'product_views_Thu',\n",
       "       'product_views_Fri', 'avg_rating_Mon', 'avg_rating_Tue',\n",
       "       'avg_rating_Wed', 'avg_rating_Thu', 'avg_rating_Fri', 'avg_price_Mon',\n",
       "       'avg_price_Tue', 'avg_price_Wed', 'avg_price_Thu', 'avg_price_Fri',\n",
       "       'time_on_site_Mon', 'time_on_site_Tue', 'time_on_site_Wed',\n",
       "       'time_on_site_Thu', 'time_on_site_Fri', 'pages_visited_Mon',\n",
       "       'pages_visited_Tue', 'pages_visited_Wed', 'pages_visited_Thu',\n",
       "       'pages_visited_Fri', 'converted_Fri'],\n",
       "      dtype='object')"
      ]
     },
     "execution_count": 472,
     "metadata": {},
     "output_type": "execute_result"
    }
   ],
   "source": [
    "df.columns"
   ]
  },
  {
   "cell_type": "code",
   "execution_count": 475,
   "metadata": {},
   "outputs": [
    {
     "data": {
      "image/png": "[encoded data removed]",
      "text/plain": [
       "<Figure size 1000x600 with 1 Axes>"
      ]
     },
     "metadata": {},
     "output_type": "display_data"
    }
   ],
   "source": [
    "param_dist = {\n",
    "    'max_depth': [None, 5, 10, 15],\n",
    "    'min_samples_split': [2, 5, 10],\n",
    "    'min_samples_leaf': [1, 2, 5]\n",
    "}\n",
    "\n",
    "model = DecisionTreeClassifier(random_state=42)\n",
    "grid_search = RandomizedSearchCV(model, param_distributions=param_dist, n_iter=10, cv=5, random_state=42)\n",
    "grid_search.fit(X_train, y_train)\n",
    "\n",
    "best_model = grid_search.best_estimator_\n",
    "feature_importances = best_model.feature_importances_\n",
    "plt.figure(figsize=(10, 6))\n",
    "plt.bar(X.columns, feature_importances)\n",
    "plt.xlabel('Features ON count_bin')\n",
    "plt.ylabel('Importance Score')\n",
    "plt.title('Feature Importances')\n",
    "plt.xticks(rotation=90)\n",
    "plt.show()"
   ]
  }
 ],
 "metadata": {
  "kernelspec": {
   "display_name": "Python 3",
   "language": "python",
   "name": "python3"
  },
  "language_info": {
   "codemirror_mode": {
    "name": "ipython",
    "version": 3
   },
   "file_extension": ".py",
   "mimetype": "text/x-python",
   "name": "python",
   "nbconvert_exporter": "python",
   "pygments_lexer": "ipython3",
   "version": "3.11.3"
  },
  "orig_nbformat": 4
 },
 "nbformat": 4,
 "nbformat_minor": 2
}
