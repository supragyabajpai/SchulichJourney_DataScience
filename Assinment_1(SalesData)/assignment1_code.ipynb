{
 "cells": [
  {
   "attachments": {},
   "cell_type": "markdown",
   "metadata": {},
   "source": []
  },
  {
   "cell_type": "code",
   "execution_count": 220,
   "metadata": {},
   "outputs": [],
   "source": [
    "#importing all the necessary libraries\n",
    "import pandas as pd\n",
    "import seaborn as sns\n",
    "import numpy as np"
   ]
  },
  {
   "cell_type": "code",
   "execution_count": 221,
   "metadata": {},
   "outputs": [],
   "source": [
    "#importing dataset\n",
    "df = pd.read_csv(\"https://raw.githubusercontent.com/supragyabajpai/SchulichJourney_DataScience/main/Assinment_1(SalesData)/sales_data.csv\")"
   ]
  },
  {
   "cell_type": "code",
   "execution_count": 222,
   "metadata": {},
   "outputs": [
    {
     "data": {
      "text/html": [
       "<div>\n",
       "<style scoped>\n",
       "    .dataframe tbody tr th:only-of-type {\n",
       "        vertical-align: middle;\n",
       "    }\n",
       "\n",
       "    .dataframe tbody tr th {\n",
       "        vertical-align: top;\n",
       "    }\n",
       "\n",
       "    .dataframe thead th {\n",
       "        text-align: right;\n",
       "    }\n",
       "</style>\n",
       "<table border=\"1\" class=\"dataframe\">\n",
       "  <thead>\n",
       "    <tr style=\"text-align: right;\">\n",
       "      <th></th>\n",
       "      <th>Product</th>\n",
       "      <th>Region</th>\n",
       "      <th>Price</th>\n",
       "      <th>Units Sold</th>\n",
       "      <th>Sale Date</th>\n",
       "    </tr>\n",
       "  </thead>\n",
       "  <tbody>\n",
       "    <tr>\n",
       "      <th>0</th>\n",
       "      <td>NaN</td>\n",
       "      <td>Region_6</td>\n",
       "      <td>75.96</td>\n",
       "      <td>10.0</td>\n",
       "      <td>2022-01-01</td>\n",
       "    </tr>\n",
       "    <tr>\n",
       "      <th>1</th>\n",
       "      <td>NaN</td>\n",
       "      <td>Region_1</td>\n",
       "      <td>175.78</td>\n",
       "      <td>8.0</td>\n",
       "      <td>2022-01-02</td>\n",
       "    </tr>\n",
       "    <tr>\n",
       "      <th>2</th>\n",
       "      <td>Product_46</td>\n",
       "      <td>Region_3</td>\n",
       "      <td>20.43</td>\n",
       "      <td>12.0</td>\n",
       "      <td>2022-01-03</td>\n",
       "    </tr>\n",
       "    <tr>\n",
       "      <th>3</th>\n",
       "      <td>Product_36</td>\n",
       "      <td>Region_1</td>\n",
       "      <td>12.77</td>\n",
       "      <td>10.0</td>\n",
       "      <td>2022-01-04</td>\n",
       "    </tr>\n",
       "    <tr>\n",
       "      <th>4</th>\n",
       "      <td>Product_17</td>\n",
       "      <td>Region_6</td>\n",
       "      <td>125.69</td>\n",
       "      <td>6.0</td>\n",
       "      <td>2022-01-05</td>\n",
       "    </tr>\n",
       "  </tbody>\n",
       "</table>\n",
       "</div>"
      ],
      "text/plain": [
       "      Product    Region   Price  Units Sold   Sale Date\n",
       "0         NaN  Region_6   75.96        10.0  2022-01-01\n",
       "1         NaN  Region_1  175.78         8.0  2022-01-02\n",
       "2  Product_46  Region_3   20.43        12.0  2022-01-03\n",
       "3  Product_36  Region_1   12.77        10.0  2022-01-04\n",
       "4  Product_17  Region_6  125.69         6.0  2022-01-05"
      ]
     },
     "execution_count": 222,
     "metadata": {},
     "output_type": "execute_result"
    }
   ],
   "source": [
    "df.head() # taking an overview of the data"
   ]
  },
  {
   "cell_type": "code",
   "execution_count": 223,
   "metadata": {},
   "outputs": [
    {
     "name": "stdout",
     "output_type": "stream",
     "text": [
      "<class 'pandas.core.frame.DataFrame'>\n",
      "RangeIndex: 1050 entries, 0 to 1049\n",
      "Data columns (total 5 columns):\n",
      " #   Column      Non-Null Count  Dtype  \n",
      "---  ------      --------------  -----  \n",
      " 0   Product     947 non-null    object \n",
      " 1   Region      946 non-null    object \n",
      " 2   Price       945 non-null    float64\n",
      " 3   Units Sold  946 non-null    float64\n",
      " 4   Sale Date   1050 non-null   object \n",
      "dtypes: float64(2), object(3)\n",
      "memory usage: 41.1+ KB\n"
     ]
    }
   ],
   "source": [
    "df.info()"
   ]
  },
  {
   "cell_type": "code",
   "execution_count": 224,
   "metadata": {},
   "outputs": [],
   "source": [
    "top_products = df['Product'].value_counts().nlargest(5).index.tolist() # exracting top five most frequent products with count\n",
    "\n",
    "def fill_missing_product(product):                          # function to fill in empty cells in products randomly with top five values \n",
    "    if pd.isnull(product):\n",
    "        return np.random.choice(top_products)\n",
    "    else:\n",
    "        return product\n",
    "\n",
    "df['Product'] = df['Product'].apply(fill_missing_product)\n"
   ]
  },
  {
   "cell_type": "code",
   "execution_count": 225,
   "metadata": {},
   "outputs": [],
   "source": [
    "top_regions = df['Region'].value_counts().nlargest(5).index.tolist() # now extracting top 5 regions to fill in empty region cells\n",
    "\n",
    "def fill_missing_region(region):    # function to fill in empty cells in regions randomly with top five values \n",
    "    if pd.isnull(region):\n",
    "        return np.random.choice(top_regions)\n",
    "    else:\n",
    "        return region\n",
    "\n",
    "df['Region'] = df['Region'].apply(fill_missing_region)"
   ]
  },
  {
   "cell_type": "code",
   "execution_count": 226,
   "metadata": {},
   "outputs": [],
   "source": [
    "newdf1 = df.copy() # making a copy of the dataframe to avoid any error in the main dataset"
   ]
  },
  {
   "cell_type": "code",
   "execution_count": 227,
   "metadata": {},
   "outputs": [
    {
     "name": "stdout",
     "output_type": "stream",
     "text": [
      "<class 'pandas.core.frame.DataFrame'>\n",
      "RangeIndex: 1050 entries, 0 to 1049\n",
      "Data columns (total 5 columns):\n",
      " #   Column      Non-Null Count  Dtype  \n",
      "---  ------      --------------  -----  \n",
      " 0   Product     1050 non-null   object \n",
      " 1   Region      1050 non-null   object \n",
      " 2   Price       945 non-null    float64\n",
      " 3   Units Sold  946 non-null    float64\n",
      " 4   Sale Date   1050 non-null   object \n",
      "dtypes: float64(2), object(3)\n",
      "memory usage: 41.1+ KB\n"
     ]
    }
   ],
   "source": [
    "newdf1.info()"
   ]
  },
  {
   "cell_type": "code",
   "execution_count": 228,
   "metadata": {},
   "outputs": [],
   "source": [
    "price_grouped_mean = newdf1.groupby('Product')['Price'].transform('mean')\n",
    "newdf1['Price'].fillna(price_grouped_mean, inplace=True)\n",
    "# filled Price column empty cells with mean value of corresponding Product "
   ]
  },
  {
   "cell_type": "code",
   "execution_count": 229,
   "metadata": {},
   "outputs": [],
   "source": [
    "units_sold_grouped_mean = newdf1.groupby('Region')['Units Sold'].transform('mean')\n",
    "newdf1['Units Sold'].fillna(units_sold_grouped_mean, inplace=True)\n",
    "# filled Units Sold column empty cells with mean value of corresponding Region"
   ]
  },
  {
   "cell_type": "code",
   "execution_count": 230,
   "metadata": {},
   "outputs": [
    {
     "name": "stdout",
     "output_type": "stream",
     "text": [
      "<class 'pandas.core.frame.DataFrame'>\n",
      "RangeIndex: 1050 entries, 0 to 1049\n",
      "Data columns (total 5 columns):\n",
      " #   Column      Non-Null Count  Dtype  \n",
      "---  ------      --------------  -----  \n",
      " 0   Product     1050 non-null   object \n",
      " 1   Region      1050 non-null   object \n",
      " 2   Price       1050 non-null   float64\n",
      " 3   Units Sold  1050 non-null   float64\n",
      " 4   Sale Date   1050 non-null   object \n",
      "dtypes: float64(2), object(3)\n",
      "memory usage: 41.1+ KB\n"
     ]
    }
   ],
   "source": [
    "newdf1.info()"
   ]
  },
  {
   "cell_type": "code",
   "execution_count": 231,
   "metadata": {},
   "outputs": [],
   "source": [
    "newdf2= newdf1.copy()\n",
    "newdf1.drop_duplicates(inplace=True) # droping any possible duplicates"
   ]
  },
  {
   "cell_type": "code",
   "execution_count": 232,
   "metadata": {},
   "outputs": [
    {
     "name": "stdout",
     "output_type": "stream",
     "text": [
      "<class 'pandas.core.frame.DataFrame'>\n",
      "Index: 1003 entries, 0 to 1048\n",
      "Data columns (total 5 columns):\n",
      " #   Column      Non-Null Count  Dtype  \n",
      "---  ------      --------------  -----  \n",
      " 0   Product     1003 non-null   object \n",
      " 1   Region      1003 non-null   object \n",
      " 2   Price       1003 non-null   float64\n",
      " 3   Units Sold  1003 non-null   float64\n",
      " 4   Sale Date   1003 non-null   object \n",
      "dtypes: float64(2), object(3)\n",
      "memory usage: 47.0+ KB\n"
     ]
    }
   ],
   "source": [
    "newdf1.info()"
   ]
  },
  {
   "attachments": {},
   "cell_type": "markdown",
   "metadata": {},
   "source": [
    "Genrated a few graphs to see if we can predict something from the individual columns"
   ]
  },
  {
   "cell_type": "code",
   "execution_count": 233,
   "metadata": {},
   "outputs": [
    {
     "name": "stderr",
     "output_type": "stream",
     "text": [
      "C:\\Users\\supra\\AppData\\Local\\Temp\\ipykernel_25564\\2260283868.py:2: UserWarning: FixedFormatter should only be used together with FixedLocator\n",
      "  ax.set_xticklabels(ax.get_xticklabels(), rotation=90)\n"
     ]
    },
    {
     "data": {
      "image/png": "[encoded data removed]",
      "text/plain": [
       "<Figure size 640x480 with 1 Axes>"
      ]
     },
     "execution_count": 233,
     "metadata": {},
     "output_type": "execute_result"
    },
    {
     "data": {
      "image/png": "[encoded data removed]",
      "text/plain": [
       "<Figure size 640x480 with 1 Axes>"
      ]
     },
     "metadata": {},
     "output_type": "display_data"
    }
   ],
   "source": [
    "ax=sns.histplot(newdf1[\"Product\"])\n",
    "ax.set_xticklabels(ax.get_xticklabels(), rotation=90)\n",
    "ax.figure"
   ]
  },
  {
   "attachments": {},
   "cell_type": "markdown",
   "metadata": {},
   "source": [
    "The above graph shows the frequency of particular products in the dataset."
   ]
  },
  {
   "cell_type": "code",
   "execution_count": 234,
   "metadata": {},
   "outputs": [
    {
     "name": "stderr",
     "output_type": "stream",
     "text": [
      "C:\\Users\\supra\\AppData\\Local\\Temp\\ipykernel_25564\\4092988947.py:2: UserWarning: FixedFormatter should only be used together with FixedLocator\n",
      "  ax.set_xticklabels(ax.get_xticklabels(), rotation=90)\n"
     ]
    },
    {
     "data": {
      "image/png": "[encoded data removed]",
      "text/plain": [
       "<Figure size 640x480 with 1 Axes>"
      ]
     },
     "execution_count": 234,
     "metadata": {},
     "output_type": "execute_result"
    },
    {
     "data": {
      "image/png": "[encoded data removed]",
      "text/plain": [
       "<Figure size 640x480 with 1 Axes>"
      ]
     },
     "metadata": {},
     "output_type": "display_data"
    }
   ],
   "source": [
    "ax=sns.histplot(newdf1[\"Region\"])\n",
    "ax.set_xticklabels(ax.get_xticklabels(), rotation=90)\n",
    "ax.figure"
   ]
  },
  {
   "attachments": {},
   "cell_type": "markdown",
   "metadata": {},
   "source": [
    "The above grapgh shows the frequency of a particular regions in the dataset."
   ]
  },
  {
   "cell_type": "code",
   "execution_count": 235,
   "metadata": {},
   "outputs": [
    {
     "data": {
      "text/plain": [
       "<Axes: >"
      ]
     },
     "execution_count": 235,
     "metadata": {},
     "output_type": "execute_result"
    },
    {
     "data": {
      "image/png": "[encoded data removed]",
      "text/plain": [
       "<Figure size 640x480 with 1 Axes>"
      ]
     },
     "metadata": {},
     "output_type": "display_data"
    }
   ],
   "source": [
    "sns.boxplot(newdf1[\"Price\"])"
   ]
  },
  {
   "cell_type": "code",
   "execution_count": 236,
   "metadata": {},
   "outputs": [
    {
     "data": {
      "text/html": [
       "<div>\n",
       "<style scoped>\n",
       "    .dataframe tbody tr th:only-of-type {\n",
       "        vertical-align: middle;\n",
       "    }\n",
       "\n",
       "    .dataframe tbody tr th {\n",
       "        vertical-align: top;\n",
       "    }\n",
       "\n",
       "    .dataframe thead th {\n",
       "        text-align: right;\n",
       "    }\n",
       "</style>\n",
       "<table border=\"1\" class=\"dataframe\">\n",
       "  <thead>\n",
       "    <tr style=\"text-align: right;\">\n",
       "      <th></th>\n",
       "      <th>Product</th>\n",
       "      <th>Region</th>\n",
       "      <th>Price</th>\n",
       "      <th>Units Sold</th>\n",
       "      <th>Sale Date</th>\n",
       "    </tr>\n",
       "  </thead>\n",
       "  <tbody>\n",
       "    <tr>\n",
       "      <th>969</th>\n",
       "      <td>Product_15</td>\n",
       "      <td>Region_8</td>\n",
       "      <td>2143.3</td>\n",
       "      <td>5.0</td>\n",
       "      <td>2024-08-27</td>\n",
       "    </tr>\n",
       "  </tbody>\n",
       "</table>\n",
       "</div>"
      ],
      "text/plain": [
       "        Product    Region   Price  Units Sold   Sale Date\n",
       "969  Product_15  Region_8  2143.3         5.0  2024-08-27"
      ]
     },
     "execution_count": 236,
     "metadata": {},
     "output_type": "execute_result"
    }
   ],
   "source": [
    "newdf1[newdf1['Price']>2000] "
   ]
  },
  {
   "attachments": {},
   "cell_type": "markdown",
   "metadata": {},
   "source": [
    "we found one outlier so we will drop it"
   ]
  },
  {
   "cell_type": "code",
   "execution_count": 237,
   "metadata": {},
   "outputs": [],
   "source": [
    "newdf1.drop(969,axis=0,inplace=True)"
   ]
  },
  {
   "cell_type": "code",
   "execution_count": 238,
   "metadata": {},
   "outputs": [
    {
     "data": {
      "text/plain": [
       "<Axes: >"
      ]
     },
     "execution_count": 238,
     "metadata": {},
     "output_type": "execute_result"
    },
    {
     "data": {
      "image/png": "[encoded data removed]",
      "text/plain": [
       "<Figure size 640x480 with 1 Axes>"
      ]
     },
     "metadata": {},
     "output_type": "display_data"
    }
   ],
   "source": [
    "sns.boxplot(newdf1[\"Price\"])"
   ]
  },
  {
   "cell_type": "code",
   "execution_count": 239,
   "metadata": {},
   "outputs": [
    {
     "data": {
      "text/plain": [
       "<Axes: >"
      ]
     },
     "execution_count": 239,
     "metadata": {},
     "output_type": "execute_result"
    },
    {
     "data": {
      "image/png": "[encoded data removed]",
      "text/plain": [
       "<Figure size 640x480 with 1 Axes>"
      ]
     },
     "metadata": {},
     "output_type": "display_data"
    }
   ],
   "source": [
    "sns.boxplot(newdf1[\"Units Sold\"])"
   ]
  },
  {
   "cell_type": "code",
   "execution_count": 240,
   "metadata": {},
   "outputs": [
    {
     "data": {
      "text/html": [
       "<div>\n",
       "<style scoped>\n",
       "    .dataframe tbody tr th:only-of-type {\n",
       "        vertical-align: middle;\n",
       "    }\n",
       "\n",
       "    .dataframe tbody tr th {\n",
       "        vertical-align: top;\n",
       "    }\n",
       "\n",
       "    .dataframe thead th {\n",
       "        text-align: right;\n",
       "    }\n",
       "</style>\n",
       "<table border=\"1\" class=\"dataframe\">\n",
       "  <thead>\n",
       "    <tr style=\"text-align: right;\">\n",
       "      <th></th>\n",
       "      <th>Product</th>\n",
       "      <th>Region</th>\n",
       "      <th>Price</th>\n",
       "      <th>Units Sold</th>\n",
       "      <th>Sale Date</th>\n",
       "    </tr>\n",
       "  </thead>\n",
       "  <tbody>\n",
       "    <tr>\n",
       "      <th>167</th>\n",
       "      <td>Product_28</td>\n",
       "      <td>Region_6</td>\n",
       "      <td>81.148750</td>\n",
       "      <td>18.0</td>\n",
       "      <td>2022-06-17</td>\n",
       "    </tr>\n",
       "    <tr>\n",
       "      <th>221</th>\n",
       "      <td>Product_5</td>\n",
       "      <td>Region_5</td>\n",
       "      <td>50.360000</td>\n",
       "      <td>20.0</td>\n",
       "      <td>2022-08-10</td>\n",
       "    </tr>\n",
       "    <tr>\n",
       "      <th>232</th>\n",
       "      <td>Product_14</td>\n",
       "      <td>Region_3</td>\n",
       "      <td>104.270000</td>\n",
       "      <td>19.0</td>\n",
       "      <td>2022-08-21</td>\n",
       "    </tr>\n",
       "    <tr>\n",
       "      <th>390</th>\n",
       "      <td>Product_41</td>\n",
       "      <td>Region_3</td>\n",
       "      <td>146.960000</td>\n",
       "      <td>18.0</td>\n",
       "      <td>2023-01-26</td>\n",
       "    </tr>\n",
       "    <tr>\n",
       "      <th>568</th>\n",
       "      <td>Product_42</td>\n",
       "      <td>Region_1</td>\n",
       "      <td>9.720000</td>\n",
       "      <td>18.0</td>\n",
       "      <td>2023-07-23</td>\n",
       "    </tr>\n",
       "    <tr>\n",
       "      <th>678</th>\n",
       "      <td>Product_9</td>\n",
       "      <td>Region_3</td>\n",
       "      <td>79.339286</td>\n",
       "      <td>18.0</td>\n",
       "      <td>2023-11-10</td>\n",
       "    </tr>\n",
       "    <tr>\n",
       "      <th>719</th>\n",
       "      <td>Product_50</td>\n",
       "      <td>Region_4</td>\n",
       "      <td>86.730000</td>\n",
       "      <td>22.0</td>\n",
       "      <td>2023-12-21</td>\n",
       "    </tr>\n",
       "    <tr>\n",
       "      <th>796</th>\n",
       "      <td>Product_16</td>\n",
       "      <td>Region_2</td>\n",
       "      <td>272.830000</td>\n",
       "      <td>18.0</td>\n",
       "      <td>2024-03-07</td>\n",
       "    </tr>\n",
       "    <tr>\n",
       "      <th>912</th>\n",
       "      <td>Product_22</td>\n",
       "      <td>Region_8</td>\n",
       "      <td>116.490000</td>\n",
       "      <td>19.0</td>\n",
       "      <td>2024-07-01</td>\n",
       "    </tr>\n",
       "    <tr>\n",
       "      <th>962</th>\n",
       "      <td>Product_13</td>\n",
       "      <td>Region_7</td>\n",
       "      <td>0.610000</td>\n",
       "      <td>19.0</td>\n",
       "      <td>2024-08-20</td>\n",
       "    </tr>\n",
       "  </tbody>\n",
       "</table>\n",
       "</div>"
      ],
      "text/plain": [
       "        Product    Region       Price  Units Sold   Sale Date\n",
       "167  Product_28  Region_6   81.148750        18.0  2022-06-17\n",
       "221   Product_5  Region_5   50.360000        20.0  2022-08-10\n",
       "232  Product_14  Region_3  104.270000        19.0  2022-08-21\n",
       "390  Product_41  Region_3  146.960000        18.0  2023-01-26\n",
       "568  Product_42  Region_1    9.720000        18.0  2023-07-23\n",
       "678   Product_9  Region_3   79.339286        18.0  2023-11-10\n",
       "719  Product_50  Region_4   86.730000        22.0  2023-12-21\n",
       "796  Product_16  Region_2  272.830000        18.0  2024-03-07\n",
       "912  Product_22  Region_8  116.490000        19.0  2024-07-01\n",
       "962  Product_13  Region_7    0.610000        19.0  2024-08-20"
      ]
     },
     "execution_count": 240,
     "metadata": {},
     "output_type": "execute_result"
    }
   ],
   "source": [
    "newdf1[newdf1['Units Sold']>17.5] "
   ]
  },
  {
   "cell_type": "code",
   "execution_count": 241,
   "metadata": {},
   "outputs": [],
   "source": [
    "newdf1.drop(newdf1[newdf1['Units Sold']>17.5].index, axis = 0,inplace=True) "
   ]
  },
  {
   "attachments": {},
   "cell_type": "markdown",
   "metadata": {},
   "source": [
    "even for units sold we can drop outliers (anything above 17.5)"
   ]
  },
  {
   "cell_type": "code",
   "execution_count": 242,
   "metadata": {},
   "outputs": [
    {
     "name": "stdout",
     "output_type": "stream",
     "text": [
      "<class 'pandas.core.frame.DataFrame'>\n",
      "Index: 992 entries, 0 to 1048\n",
      "Data columns (total 5 columns):\n",
      " #   Column      Non-Null Count  Dtype  \n",
      "---  ------      --------------  -----  \n",
      " 0   Product     992 non-null    object \n",
      " 1   Region      992 non-null    object \n",
      " 2   Price       992 non-null    float64\n",
      " 3   Units Sold  992 non-null    float64\n",
      " 4   Sale Date   992 non-null    object \n",
      "dtypes: float64(2), object(3)\n",
      "memory usage: 46.5+ KB\n"
     ]
    }
   ],
   "source": [
    "newdf1.info()"
   ]
  },
  {
   "cell_type": "code",
   "execution_count": 243,
   "metadata": {},
   "outputs": [
    {
     "data": {
      "text/plain": [
       "<Axes: >"
      ]
     },
     "execution_count": 243,
     "metadata": {},
     "output_type": "execute_result"
    },
    {
     "data": {
      "image/png": "[encoded data removed]",
      "text/plain": [
       "<Figure size 640x480 with 1 Axes>"
      ]
     },
     "metadata": {},
     "output_type": "display_data"
    }
   ],
   "source": [
    "sns.boxplot(newdf1[\"Units Sold\"])"
   ]
  },
  {
   "cell_type": "code",
   "execution_count": 244,
   "metadata": {},
   "outputs": [],
   "source": [
    "newdf1['Sale Date'] = newdf1['Sale Date'].str[5:7] "
   ]
  },
  {
   "attachments": {},
   "cell_type": "markdown",
   "metadata": {},
   "source": [
    "we can use the month from the dates to see if we can find any relation with any other columns"
   ]
  },
  {
   "cell_type": "code",
   "execution_count": 253,
   "metadata": {},
   "outputs": [
    {
     "data": {
      "text/plain": [
       "Product       Product_38\n",
       "Region          Region_8\n",
       "Price              33.85\n",
       "Units Sold       9.85567\n",
       "Sale Date             06\n",
       "Name: 171, dtype: object"
      ]
     },
     "execution_count": 253,
     "metadata": {},
     "output_type": "execute_result"
    }
   ],
   "source": [
    "newdf1.iloc[170] #testing"
   ]
  },
  {
   "cell_type": "code",
   "execution_count": 246,
   "metadata": {},
   "outputs": [],
   "source": [
    "#newdf1.to_csv('C:/Users/supra/OneDrive/Desktop/finalcopy.csv', index=False)\n",
    "# was exporting the dataset to csv to analyse the dataset manually.\n"
   ]
  },
  {
   "cell_type": "code",
   "execution_count": 247,
   "metadata": {},
   "outputs": [
    {
     "data": {
      "text/plain": [
       "<Axes: xlabel='Sale Date', ylabel='Units Sold'>"
      ]
     },
     "execution_count": 247,
     "metadata": {},
     "output_type": "execute_result"
    },
    {
     "data": {
      "image/png": "[encoded data removed]",
      "text/plain": [
       "<Figure size 640x480 with 1 Axes>"
      ]
     },
     "metadata": {},
     "output_type": "display_data"
    }
   ],
   "source": [
    "sns.boxplot(data = newdf1, y = 'Units Sold', x= 'Sale Date')"
   ]
  },
  {
   "attachments": {},
   "cell_type": "markdown",
   "metadata": {},
   "source": [
    "Based on this data, we can infer that, apart from January when sales are low and October when they are slightly higher, the number of units sold remains relatively consistent throughout the entire year."
   ]
  },
  {
   "cell_type": "code",
   "execution_count": 248,
   "metadata": {},
   "outputs": [
    {
     "data": {
      "text/plain": [
       "Region\n",
       "Region_9     1408.935484\n",
       "Region_10    1301.101695\n",
       "Region_3     1205.364486\n",
       "Region_4     1171.114286\n",
       "Region_8     1103.835052\n",
       "Region_5      948.952381\n",
       "Region_6      940.941176\n",
       "Region_1      872.900000\n",
       "Region_2      830.307692\n",
       "Region_7      766.235294\n",
       "Name: Units Sold, dtype: float64"
      ]
     },
     "execution_count": 248,
     "metadata": {},
     "output_type": "execute_result"
    }
   ],
   "source": [
    "newdf2.groupby('Region')['Units Sold'].sum().sort_values(ascending=False)\n"
   ]
  },
  {
   "attachments": {},
   "cell_type": "markdown",
   "metadata": {},
   "source": [
    "\n",
    "Based on this data, it is evident that regions 10, 9, and 3 are the top performers in terms of the number of units sold. We can create a chart to visually represent this information."
   ]
  },
  {
   "cell_type": "code",
   "execution_count": 249,
   "metadata": {},
   "outputs": [
    {
     "data": {
      "image/png": "[encoded data removed]",
      "text/plain": [
       "<Figure size 640x480 with 1 Axes>"
      ]
     },
     "metadata": {},
     "output_type": "display_data"
    }
   ],
   "source": [
    "plot = newdf2.groupby('Region')['Units Sold'].sum().plot(kind='bar')"
   ]
  },
  {
   "cell_type": "code",
   "execution_count": 250,
   "metadata": {},
   "outputs": [
    {
     "data": {
      "image/png": "[encoded data removed]",
      "text/plain": [
       "<Figure size 640x480 with 1 Axes>"
      ]
     },
     "metadata": {},
     "output_type": "display_data"
    }
   ],
   "source": [
    "plot = newdf2.groupby('Region')['Price'].sum().plot(kind='bar')"
   ]
  },
  {
   "attachments": {},
   "cell_type": "markdown",
   "metadata": {},
   "source": [
    "The analysis of the last two graphs leads to the following conclusions:\n",
    "\n",
    "1.Regions 10 and 9 demonstrate higher unit sales; however, their profitability appears to be comparatively lower.\n",
    "\n",
    "2.Region 8 stands out as a top performer in both unit sales and overall profitability."
   ]
  },
  {
   "cell_type": "code",
   "execution_count": 251,
   "metadata": {},
   "outputs": [
    {
     "data": {
      "text/plain": [
       "Product\n",
       "Product_1     492.224477\n",
       "Product_33    468.708145\n",
       "Product_5     442.061956\n",
       "Product_13    399.217610\n",
       "Product_45    377.880009\n",
       "Product_30    246.867682\n",
       "Product_43    245.117647\n",
       "Product_4     243.095238\n",
       "Product_50    218.950908\n",
       "Product_48    218.000000\n",
       "Product_23    215.918768\n",
       "Product_31    209.000000\n",
       "Product_2     201.017998\n",
       "Product_19    200.000000\n",
       "Product_15    197.019048\n",
       "Product_29    196.222409\n",
       "Product_7     187.419355\n",
       "Product_46    187.209677\n",
       "Product_35    186.150000\n",
       "Product_40    183.973317\n",
       "Product_37    183.209677\n",
       "Product_14    182.918768\n",
       "Product_10    179.209677\n",
       "Product_17    177.095238\n",
       "Product_34    174.214953\n",
       "Product_44    173.102767\n",
       "Product_27    171.973529\n",
       "Product_21    168.165861\n",
       "Product_16    167.000000\n",
       "Product_39    163.126122\n",
       "Product_42    163.083346\n",
       "Product_24    163.070623\n",
       "Product_25    160.009524\n",
       "Product_41    158.000000\n",
       "Product_11    153.230884\n",
       "Product_20    153.094293\n",
       "Product_8     152.864145\n",
       "Product_28    148.214953\n",
       "Product_6     148.015194\n",
       "Product_9     145.126122\n",
       "Product_32    145.000000\n",
       "Product_18    142.309246\n",
       "Product_12    139.000000\n",
       "Product_22    129.244293\n",
       "Product_3     128.000000\n",
       "Product_49    127.000000\n",
       "Product_47    124.679200\n",
       "Product_38    122.080147\n",
       "Product_26    119.000000\n",
       "Product_36    117.310191\n",
       "Name: Units Sold, dtype: float64"
      ]
     },
     "execution_count": 251,
     "metadata": {},
     "output_type": "execute_result"
    }
   ],
   "source": [
    "newdf1.groupby('Product')['Units Sold'].sum().sort_values(ascending=False)"
   ]
  },
  {
   "cell_type": "code",
   "execution_count": 252,
   "metadata": {},
   "outputs": [
    {
     "data": {
      "text/plain": [
       "Product\n",
       "Product_1     5316.844884\n",
       "Product_45    4663.857143\n",
       "Product_5     4283.369167\n",
       "Product_33    4061.318205\n",
       "Product_13    3643.836000\n",
       "Product_31    3047.510000\n",
       "Product_40    3015.940000\n",
       "Product_30    2861.660000\n",
       "Product_29    2719.785455\n",
       "Product_35    2624.018750\n",
       "Product_2     2531.310625\n",
       "Product_19    2474.800000\n",
       "Product_41    2467.190000\n",
       "Product_7     2368.008000\n",
       "Product_26    2337.782500\n",
       "Product_14    2319.537895\n",
       "Product_50    2297.680000\n",
       "Product_34    2275.705000\n",
       "Product_23    2248.100952\n",
       "Product_20    2146.166000\n",
       "Product_39    2093.800000\n",
       "Product_48    2079.040000\n",
       "Product_15    2063.027500\n",
       "Product_49    2016.090000\n",
       "Product_4     1909.157368\n",
       "Product_25    1874.250000\n",
       "Product_46    1764.942353\n",
       "Product_24    1753.070769\n",
       "Product_17    1742.902632\n",
       "Product_44    1728.377500\n",
       "Product_22    1605.820000\n",
       "Product_16    1597.786316\n",
       "Product_37    1583.704000\n",
       "Product_47    1462.619167\n",
       "Product_32    1447.600000\n",
       "Product_43    1447.022000\n",
       "Product_42    1435.550625\n",
       "Product_21    1375.930000\n",
       "Product_6     1279.477059\n",
       "Product_8     1271.150000\n",
       "Product_27    1254.548571\n",
       "Product_28    1250.930000\n",
       "Product_12    1204.580000\n",
       "Product_9     1110.750000\n",
       "Product_11    1056.935385\n",
       "Product_36    1040.866667\n",
       "Product_10     993.689412\n",
       "Product_38     958.000000\n",
       "Product_18     951.806154\n",
       "Product_3      657.272000\n",
       "Name: Price, dtype: float64"
      ]
     },
     "execution_count": 252,
     "metadata": {},
     "output_type": "execute_result"
    }
   ],
   "source": [
    "newdf1.groupby('Product')['Price'].sum().sort_values(ascending=False)"
   ]
  },
  {
   "attachments": {},
   "cell_type": "markdown",
   "metadata": {},
   "source": [
    "\n",
    "Based on the analysis of the last two \"group by\" operations, it can be inferred that Product 13 is generating the highest revenue and also has the highest sales volume. Therefore, it can be considered as the most desirable product based on its strong performance in terms of both revenue generation and popularity."
   ]
  },
  {
   "attachments": {},
   "cell_type": "markdown",
   "metadata": {},
   "source": [
    "# Conclusion"
   ]
  },
  {
   "attachments": {},
   "cell_type": "markdown",
   "metadata": {},
   "source": [
    "## 1) What conclusions can you draw about sales performance of various products and regions?\n",
    "\n",
    "The sales performance of various products and regions can be summarized as follows:\n",
    "\n",
    "The number of units sold remains relatively consistent throughout the year, except for lower sales in January and slightly higher sales in October.\n",
    "\n",
    "Regions 10, 9, and 3 stand out as top performers in terms of unit sales, with a visually represented chart showcasing their performance.\n",
    "\n",
    "While regions 10 and 9 demonstrate higher unit sales, their profitability is comparatively lower.\n",
    "\n",
    "Region 8 emerges as a top performer, excelling in both unit sales and overall profitability.\n",
    "\n",
    "Product 13 stands out as the most desirable product, generating the highest revenue and having the highest sales volume.\n",
    "\n",
    "\n",
    "## 2) What recommendations do you have for the business?\n",
    "\n",
    "Concentrate on increasing profitability in regions 10 and 9: While some regions have larger unit sales, their profitability is lower. The company should look into the reasons for this and devise strategies.\n",
    "\n",
    "Leverage the success of region 8: Region 8 has demonstrated exceptional performance in both unit sales and profitability. \n",
    "\n",
    "Profit from Product 13's popularity: Due to its high revenue creation and sales volume, Product 13 has proven to be a desirable product. The company should capitalise on its success by investing in marketing.\n",
    "\n",
    "## 3) Describe your data cleaning approach. How and why did you decide on which cleaning techniques to use?\n",
    "\n",
    "1)After reviewing the info() of the data, I identified empty cells in the Product and Region columns.\n",
    "\n",
    "2)To address this, I filled in the empty cells with the top five most frequent values for each respective column.\n",
    "\n",
    "3)Next, I utilized the Products field to calculate the mean price for each product.\n",
    "\n",
    "4)I then filled the corresponding empty cells in the Price column with the mean value of the product's price.\n",
    "Similarly, I repeated the process for the Regions and Units Sold columns.\n",
    "\n",
    "5)The decision to use the Product column for calculating Price is based on the understanding that only a product can have a price, while unit sales can be influenced by various factors such as marketing efforts, inventory, and product demand in different regions.\n",
    "\n",
    "6)To ensure data integrity, I removed any duplicate entries from the dataset.\n",
    "\n",
    "7)Once the data preprocessing was completed, I proceeded with data visualization techniques.\n",
    "\n",
    "8)Additionally, I identified and removed any outliers in the data to ensure accurate analysis and visual representation.\n",
    "\n",
    "\n"
   ]
  }
 ],
 "metadata": {
  "kernelspec": {
   "display_name": "Python 3",
   "language": "python",
   "name": "python3"
  },
  "language_info": {
   "codemirror_mode": {
    "name": "ipython",
    "version": 3
   },
   "file_extension": ".py",
   "mimetype": "text/x-python",
   "name": "python",
   "nbconvert_exporter": "python",
   "pygments_lexer": "ipython3",
   "version": "3.11.3"
  },
  "orig_nbformat": 4
 },
 "nbformat": 4,
 "nbformat_minor": 2
}
