{
 "cells": [
  {
   "attachments": {},
   "cell_type": "markdown",
   "metadata": {},
   "source": [
    "Sales Assignment Analysis"
   ]
  },
  {
   "cell_type": "code",
   "execution_count": 243,
   "metadata": {},
   "outputs": [],
   "source": [
    "#importing all the necessary libraries\n",
    "import pandas as pd\n",
    "import seaborn as sns\n",
    "import numpy as np\n"
   ]
  },
  {
   "cell_type": "code",
   "execution_count": 244,
   "metadata": {},
   "outputs": [],
   "source": [
    "#importing dataset\n",
    "df = pd.read_csv(\"https://raw.githubusercontent.com/supragyabajpai/SchulichJourney_DataScience/main/Assinment_1(SalesData)/sales_data.csv\")"
   ]
  },
  {
   "cell_type": "code",
   "execution_count": 245,
   "metadata": {},
   "outputs": [
    {
     "data": {
      "text/html": [
       "<div>\n",
       "<style scoped>\n",
       "    .dataframe tbody tr th:only-of-type {\n",
       "        vertical-align: middle;\n",
       "    }\n",
       "\n",
       "    .dataframe tbody tr th {\n",
       "        vertical-align: top;\n",
       "    }\n",
       "\n",
       "    .dataframe thead th {\n",
       "        text-align: right;\n",
       "    }\n",
       "</style>\n",
       "<table border=\"1\" class=\"dataframe\">\n",
       "  <thead>\n",
       "    <tr style=\"text-align: right;\">\n",
       "      <th></th>\n",
       "      <th>Product</th>\n",
       "      <th>Region</th>\n",
       "      <th>Price</th>\n",
       "      <th>Units Sold</th>\n",
       "      <th>Sale Date</th>\n",
       "    </tr>\n",
       "  </thead>\n",
       "  <tbody>\n",
       "    <tr>\n",
       "      <th>0</th>\n",
       "      <td>NaN</td>\n",
       "      <td>Region_6</td>\n",
       "      <td>75.96</td>\n",
       "      <td>10.0</td>\n",
       "      <td>2022-01-01</td>\n",
       "    </tr>\n",
       "    <tr>\n",
       "      <th>1</th>\n",
       "      <td>NaN</td>\n",
       "      <td>Region_1</td>\n",
       "      <td>175.78</td>\n",
       "      <td>8.0</td>\n",
       "      <td>2022-01-02</td>\n",
       "    </tr>\n",
       "    <tr>\n",
       "      <th>2</th>\n",
       "      <td>Product_46</td>\n",
       "      <td>Region_3</td>\n",
       "      <td>20.43</td>\n",
       "      <td>12.0</td>\n",
       "      <td>2022-01-03</td>\n",
       "    </tr>\n",
       "    <tr>\n",
       "      <th>3</th>\n",
       "      <td>Product_36</td>\n",
       "      <td>Region_1</td>\n",
       "      <td>12.77</td>\n",
       "      <td>10.0</td>\n",
       "      <td>2022-01-04</td>\n",
       "    </tr>\n",
       "    <tr>\n",
       "      <th>4</th>\n",
       "      <td>Product_17</td>\n",
       "      <td>Region_6</td>\n",
       "      <td>125.69</td>\n",
       "      <td>6.0</td>\n",
       "      <td>2022-01-05</td>\n",
       "    </tr>\n",
       "  </tbody>\n",
       "</table>\n",
       "</div>"
      ],
      "text/plain": [
       "      Product    Region   Price  Units Sold   Sale Date\n",
       "0         NaN  Region_6   75.96        10.0  2022-01-01\n",
       "1         NaN  Region_1  175.78         8.0  2022-01-02\n",
       "2  Product_46  Region_3   20.43        12.0  2022-01-03\n",
       "3  Product_36  Region_1   12.77        10.0  2022-01-04\n",
       "4  Product_17  Region_6  125.69         6.0  2022-01-05"
      ]
     },
     "execution_count": 245,
     "metadata": {},
     "output_type": "execute_result"
    }
   ],
   "source": [
    "df.head() # taking an overview of the data"
   ]
  },
  {
   "cell_type": "code",
   "execution_count": 246,
   "metadata": {},
   "outputs": [
    {
     "name": "stdout",
     "output_type": "stream",
     "text": [
      "<class 'pandas.core.frame.DataFrame'>\n",
      "RangeIndex: 1050 entries, 0 to 1049\n",
      "Data columns (total 5 columns):\n",
      " #   Column      Non-Null Count  Dtype  \n",
      "---  ------      --------------  -----  \n",
      " 0   Product     947 non-null    object \n",
      " 1   Region      946 non-null    object \n",
      " 2   Price       945 non-null    float64\n",
      " 3   Units Sold  946 non-null    float64\n",
      " 4   Sale Date   1050 non-null   object \n",
      "dtypes: float64(2), object(3)\n",
      "memory usage: 41.1+ KB\n"
     ]
    }
   ],
   "source": [
    "df.info()"
   ]
  },
  {
   "cell_type": "code",
   "execution_count": 247,
   "metadata": {},
   "outputs": [],
   "source": [
    "top_products = df['Product'].value_counts().nlargest(5).index.tolist() # exracting top five most frequent products with count"
   ]
  },
  {
   "cell_type": "code",
   "execution_count": 248,
   "metadata": {},
   "outputs": [
    {
     "data": {
      "text/plain": [
       "['Product_45', 'Product_5', 'Product_33', 'Product_1', 'Product_13']"
      ]
     },
     "execution_count": 248,
     "metadata": {},
     "output_type": "execute_result"
    }
   ],
   "source": [
    "top_products"
   ]
  },
  {
   "cell_type": "code",
   "execution_count": 249,
   "metadata": {},
   "outputs": [],
   "source": [
    "# Filling in empty cells randomly with top five products\n",
    "df['Product'] = df['Product'].apply(lambda x: np.random.choice(top_products) if pd.isnull(x) else x)"
   ]
  },
  {
   "cell_type": "code",
   "execution_count": 250,
   "metadata": {},
   "outputs": [
    {
     "name": "stdout",
     "output_type": "stream",
     "text": [
      "<class 'pandas.core.frame.DataFrame'>\n",
      "RangeIndex: 1050 entries, 0 to 1049\n",
      "Data columns (total 5 columns):\n",
      " #   Column      Non-Null Count  Dtype  \n",
      "---  ------      --------------  -----  \n",
      " 0   Product     1050 non-null   object \n",
      " 1   Region      946 non-null    object \n",
      " 2   Price       945 non-null    float64\n",
      " 3   Units Sold  946 non-null    float64\n",
      " 4   Sale Date   1050 non-null   object \n",
      "dtypes: float64(2), object(3)\n",
      "memory usage: 41.1+ KB\n"
     ]
    }
   ],
   "source": [
    "df.info()"
   ]
  },
  {
   "cell_type": "code",
   "execution_count": 251,
   "metadata": {},
   "outputs": [
    {
     "data": {
      "text/plain": [
       "['Region_9', 'Region_10', 'Region_4', 'Region_8', 'Region_3']"
      ]
     },
     "execution_count": 251,
     "metadata": {},
     "output_type": "execute_result"
    }
   ],
   "source": [
    "top_regions = df['Region'].value_counts().nlargest(5).index.tolist() # now extracting top 5 regions to fill in empty region cells\n",
    "top_regions"
   ]
  },
  {
   "cell_type": "code",
   "execution_count": 254,
   "metadata": {},
   "outputs": [],
   "source": [
    "df['Region'] = df['Region'].apply(lambda x: np.random.choice(top_products) if pd.isnull(x) else x)"
   ]
  },
  {
   "cell_type": "code",
   "execution_count": 255,
   "metadata": {},
   "outputs": [
    {
     "name": "stdout",
     "output_type": "stream",
     "text": [
      "<class 'pandas.core.frame.DataFrame'>\n",
      "RangeIndex: 1050 entries, 0 to 1049\n",
      "Data columns (total 5 columns):\n",
      " #   Column      Non-Null Count  Dtype  \n",
      "---  ------      --------------  -----  \n",
      " 0   Product     1050 non-null   object \n",
      " 1   Region      1050 non-null   object \n",
      " 2   Price       945 non-null    float64\n",
      " 3   Units Sold  946 non-null    float64\n",
      " 4   Sale Date   1050 non-null   object \n",
      "dtypes: float64(2), object(3)\n",
      "memory usage: 41.1+ KB\n"
     ]
    }
   ],
   "source": [
    "df.info()"
   ]
  },
  {
   "cell_type": "code",
   "execution_count": 256,
   "metadata": {},
   "outputs": [],
   "source": [
    "newdf1 = df.copy() # making a copy of the dataframe to avoid new error in the main dataset\n",
    "newdf2= df.copy()"
   ]
  },
  {
   "cell_type": "code",
   "execution_count": 257,
   "metadata": {},
   "outputs": [
    {
     "name": "stdout",
     "output_type": "stream",
     "text": [
      "<class 'pandas.core.frame.DataFrame'>\n",
      "RangeIndex: 1050 entries, 0 to 1049\n",
      "Data columns (total 5 columns):\n",
      " #   Column      Non-Null Count  Dtype  \n",
      "---  ------      --------------  -----  \n",
      " 0   Product     1050 non-null   object \n",
      " 1   Region      1050 non-null   object \n",
      " 2   Price       945 non-null    float64\n",
      " 3   Units Sold  946 non-null    float64\n",
      " 4   Sale Date   1050 non-null   object \n",
      "dtypes: float64(2), object(3)\n",
      "memory usage: 41.1+ KB\n"
     ]
    }
   ],
   "source": [
    "newdf1.info()"
   ]
  },
  {
   "cell_type": "code",
   "execution_count": 261,
   "metadata": {},
   "outputs": [],
   "source": [
    "newdf1['Price'].fillna(newdf1.groupby('Product')['Price'].transform('mean'), inplace=True) # filling in empty price cells with the mean of corresponding product "
   ]
  },
  {
   "cell_type": "code",
   "execution_count": 262,
   "metadata": {},
   "outputs": [
    {
     "name": "stdout",
     "output_type": "stream",
     "text": [
      "<class 'pandas.core.frame.DataFrame'>\n",
      "RangeIndex: 1050 entries, 0 to 1049\n",
      "Data columns (total 5 columns):\n",
      " #   Column      Non-Null Count  Dtype  \n",
      "---  ------      --------------  -----  \n",
      " 0   Product     1050 non-null   object \n",
      " 1   Region      1050 non-null   object \n",
      " 2   Price       945 non-null    float64\n",
      " 3   Units Sold  946 non-null    float64\n",
      " 4   Sale Date   1050 non-null   object \n",
      "dtypes: float64(2), object(3)\n",
      "memory usage: 41.1+ KB\n"
     ]
    }
   ],
   "source": [
    "df.info()"
   ]
  },
  {
   "cell_type": "code",
   "execution_count": 263,
   "metadata": {},
   "outputs": [
    {
     "name": "stdout",
     "output_type": "stream",
     "text": [
      "<class 'pandas.core.frame.DataFrame'>\n",
      "RangeIndex: 1050 entries, 0 to 1049\n",
      "Data columns (total 5 columns):\n",
      " #   Column      Non-Null Count  Dtype  \n",
      "---  ------      --------------  -----  \n",
      " 0   Product     1050 non-null   object \n",
      " 1   Region      1050 non-null   object \n",
      " 2   Price       1050 non-null   float64\n",
      " 3   Units Sold  946 non-null    float64\n",
      " 4   Sale Date   1050 non-null   object \n",
      "dtypes: float64(2), object(3)\n",
      "memory usage: 41.1+ KB\n"
     ]
    }
   ],
   "source": [
    "newdf1.info()"
   ]
  },
  {
   "cell_type": "code",
   "execution_count": 264,
   "metadata": {},
   "outputs": [],
   "source": [
    "newdf1['Units Sold'].fillna(newdf1.groupby('Product')['Units Sold'].transform('mean'), inplace=True) # filling in empty Units Sold cells with the mean of corresponding product"
   ]
  },
  {
   "cell_type": "code",
   "execution_count": 265,
   "metadata": {},
   "outputs": [
    {
     "name": "stdout",
     "output_type": "stream",
     "text": [
      "<class 'pandas.core.frame.DataFrame'>\n",
      "RangeIndex: 1050 entries, 0 to 1049\n",
      "Data columns (total 5 columns):\n",
      " #   Column      Non-Null Count  Dtype  \n",
      "---  ------      --------------  -----  \n",
      " 0   Product     1050 non-null   object \n",
      " 1   Region      1050 non-null   object \n",
      " 2   Price       1050 non-null   float64\n",
      " 3   Units Sold  1050 non-null   float64\n",
      " 4   Sale Date   1050 non-null   object \n",
      "dtypes: float64(2), object(3)\n",
      "memory usage: 41.1+ KB\n"
     ]
    }
   ],
   "source": [
    "newdf1.info()"
   ]
  },
  {
   "cell_type": "code",
   "execution_count": 266,
   "metadata": {},
   "outputs": [
    {
     "data": {
      "text/html": [
       "<div>\n",
       "<style scoped>\n",
       "    .dataframe tbody tr th:only-of-type {\n",
       "        vertical-align: middle;\n",
       "    }\n",
       "\n",
       "    .dataframe tbody tr th {\n",
       "        vertical-align: top;\n",
       "    }\n",
       "\n",
       "    .dataframe thead th {\n",
       "        text-align: right;\n",
       "    }\n",
       "</style>\n",
       "<table border=\"1\" class=\"dataframe\">\n",
       "  <thead>\n",
       "    <tr style=\"text-align: right;\">\n",
       "      <th></th>\n",
       "      <th>Product</th>\n",
       "      <th>Region</th>\n",
       "      <th>Price</th>\n",
       "      <th>Units Sold</th>\n",
       "      <th>Sale Date</th>\n",
       "      <th>Revenue</th>\n",
       "    </tr>\n",
       "  </thead>\n",
       "  <tbody>\n",
       "    <tr>\n",
       "      <th>0</th>\n",
       "      <td>Product_45</td>\n",
       "      <td>Region_6</td>\n",
       "      <td>75.96</td>\n",
       "      <td>10.0</td>\n",
       "      <td>2022-01-01</td>\n",
       "      <td>759.60</td>\n",
       "    </tr>\n",
       "    <tr>\n",
       "      <th>1</th>\n",
       "      <td>Product_13</td>\n",
       "      <td>Region_1</td>\n",
       "      <td>175.78</td>\n",
       "      <td>8.0</td>\n",
       "      <td>2022-01-02</td>\n",
       "      <td>1406.24</td>\n",
       "    </tr>\n",
       "    <tr>\n",
       "      <th>2</th>\n",
       "      <td>Product_46</td>\n",
       "      <td>Region_3</td>\n",
       "      <td>20.43</td>\n",
       "      <td>12.0</td>\n",
       "      <td>2022-01-03</td>\n",
       "      <td>245.16</td>\n",
       "    </tr>\n",
       "    <tr>\n",
       "      <th>3</th>\n",
       "      <td>Product_36</td>\n",
       "      <td>Region_1</td>\n",
       "      <td>12.77</td>\n",
       "      <td>10.0</td>\n",
       "      <td>2022-01-04</td>\n",
       "      <td>127.70</td>\n",
       "    </tr>\n",
       "    <tr>\n",
       "      <th>4</th>\n",
       "      <td>Product_17</td>\n",
       "      <td>Region_6</td>\n",
       "      <td>125.69</td>\n",
       "      <td>6.0</td>\n",
       "      <td>2022-01-05</td>\n",
       "      <td>754.14</td>\n",
       "    </tr>\n",
       "  </tbody>\n",
       "</table>\n",
       "</div>"
      ],
      "text/plain": [
       "      Product    Region   Price  Units Sold   Sale Date  Revenue\n",
       "0  Product_45  Region_6   75.96        10.0  2022-01-01   759.60\n",
       "1  Product_13  Region_1  175.78         8.0  2022-01-02  1406.24\n",
       "2  Product_46  Region_3   20.43        12.0  2022-01-03   245.16\n",
       "3  Product_36  Region_1   12.77        10.0  2022-01-04   127.70\n",
       "4  Product_17  Region_6  125.69         6.0  2022-01-05   754.14"
      ]
     },
     "execution_count": 266,
     "metadata": {},
     "output_type": "execute_result"
    }
   ],
   "source": [
    "newdf1['Revenue'] = newdf1['Price'] * newdf1['Units Sold'] # adding a new coluumn called 'Revenue' to analyse the sales\n",
    "newdf1.head()"
   ]
  },
  {
   "cell_type": "code",
   "execution_count": 267,
   "metadata": {},
   "outputs": [
    {
     "name": "stdout",
     "output_type": "stream",
     "text": [
      "<class 'pandas.core.frame.DataFrame'>\n",
      "RangeIndex: 1050 entries, 0 to 1049\n",
      "Data columns (total 6 columns):\n",
      " #   Column      Non-Null Count  Dtype  \n",
      "---  ------      --------------  -----  \n",
      " 0   Product     1050 non-null   object \n",
      " 1   Region      1050 non-null   object \n",
      " 2   Price       1050 non-null   float64\n",
      " 3   Units Sold  1050 non-null   float64\n",
      " 4   Sale Date   1050 non-null   object \n",
      " 5   Revenue     1050 non-null   float64\n",
      "dtypes: float64(3), object(3)\n",
      "memory usage: 49.3+ KB\n"
     ]
    }
   ],
   "source": [
    "newdf1.info()"
   ]
  },
  {
   "cell_type": "code",
   "execution_count": 151,
   "metadata": {},
   "outputs": [],
   "source": [
    "df.to_csv('C:/Users/supra/OneDrive/Desktop/export.csv', index=False) # exporting the dataset to csv to analyse the dataset manually.\n"
   ]
  },
  {
   "cell_type": "code",
   "execution_count": null,
   "metadata": {},
   "outputs": [],
   "source": []
  },
  {
   "cell_type": "code",
   "execution_count": null,
   "metadata": {},
   "outputs": [],
   "source": []
  }
 ],
 "metadata": {
  "kernelspec": {
   "display_name": "Python 3",
   "language": "python",
   "name": "python3"
  },
  "language_info": {
   "codemirror_mode": {
    "name": "ipython",
    "version": 3
   },
   "file_extension": ".py",
   "mimetype": "text/x-python",
   "name": "python",
   "nbconvert_exporter": "python",
   "pygments_lexer": "ipython3",
   "version": "3.11.3"
  },
  "orig_nbformat": 4
 },
 "nbformat": 4,
 "nbformat_minor": 2
}
