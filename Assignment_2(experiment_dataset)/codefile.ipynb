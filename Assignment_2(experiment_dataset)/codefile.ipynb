{
 "cells": [
  {
   "cell_type": "code",
   "execution_count": 41,
   "metadata": {},
   "outputs": [],
   "source": [
    "#importing all the necessary libraries\n",
    "import pandas as pd\n",
    "import matplotlib.pyplot as plt\n",
    "import seaborn as sns\n",
    "from scipy import stats"
   ]
  },
  {
   "cell_type": "code",
   "execution_count": 42,
   "metadata": {},
   "outputs": [],
   "source": [
    "#importing dataset\n",
    "df = pd.read_csv('https://raw.githubusercontent.com/supragyabajpai/SchulichJourney_DataScience/main/Assignment_2(experiment_dataset)/experiment_dataset.csv')"
   ]
  },
  {
   "cell_type": "code",
   "execution_count": 43,
   "metadata": {},
   "outputs": [
    {
     "name": "stdout",
     "output_type": "stream",
     "text": [
      "<class 'pandas.core.frame.DataFrame'>\n",
      "RangeIndex: 1000 entries, 0 to 999\n",
      "Data columns (total 7 columns):\n",
      " #   Column      Non-Null Count  Dtype  \n",
      "---  ------      --------------  -----  \n",
      " 0   Unnamed: 0  1000 non-null   int64  \n",
      " 1   Age         1000 non-null   int64  \n",
      " 2   Location    1000 non-null   object \n",
      " 3   Device      1000 non-null   object \n",
      " 4   Variant     1000 non-null   object \n",
      " 5   Time Spent  1000 non-null   float64\n",
      " 6   CTR         1000 non-null   float64\n",
      "dtypes: float64(2), int64(2), object(3)\n",
      "memory usage: 54.8+ KB\n"
     ]
    }
   ],
   "source": [
    "# taking an overview of the data\n",
    "df.info()  "
   ]
  },
  {
   "cell_type": "code",
   "execution_count": 44,
   "metadata": {},
   "outputs": [
    {
     "data": {
      "text/html": [
       "<div>\n",
       "<style scoped>\n",
       "    .dataframe tbody tr th:only-of-type {\n",
       "        vertical-align: middle;\n",
       "    }\n",
       "\n",
       "    .dataframe tbody tr th {\n",
       "        vertical-align: top;\n",
       "    }\n",
       "\n",
       "    .dataframe thead th {\n",
       "        text-align: right;\n",
       "    }\n",
       "</style>\n",
       "<table border=\"1\" class=\"dataframe\">\n",
       "  <thead>\n",
       "    <tr style=\"text-align: right;\">\n",
       "      <th></th>\n",
       "      <th>Unnamed: 0</th>\n",
       "      <th>Age</th>\n",
       "      <th>Location</th>\n",
       "      <th>Device</th>\n",
       "      <th>Variant</th>\n",
       "      <th>Time Spent</th>\n",
       "      <th>CTR</th>\n",
       "    </tr>\n",
       "  </thead>\n",
       "  <tbody>\n",
       "    <tr>\n",
       "      <th>0</th>\n",
       "      <td>0</td>\n",
       "      <td>62</td>\n",
       "      <td>Location2</td>\n",
       "      <td>Device2</td>\n",
       "      <td>Control</td>\n",
       "      <td>13.928669</td>\n",
       "      <td>0.084776</td>\n",
       "    </tr>\n",
       "    <tr>\n",
       "      <th>1</th>\n",
       "      <td>1</td>\n",
       "      <td>18</td>\n",
       "      <td>Location1</td>\n",
       "      <td>Device1</td>\n",
       "      <td>Variant B</td>\n",
       "      <td>11.310518</td>\n",
       "      <td>0.096859</td>\n",
       "    </tr>\n",
       "    <tr>\n",
       "      <th>2</th>\n",
       "      <td>2</td>\n",
       "      <td>21</td>\n",
       "      <td>Location2</td>\n",
       "      <td>Device1</td>\n",
       "      <td>Variant B</td>\n",
       "      <td>24.842100</td>\n",
       "      <td>0.097630</td>\n",
       "    </tr>\n",
       "    <tr>\n",
       "      <th>3</th>\n",
       "      <td>3</td>\n",
       "      <td>21</td>\n",
       "      <td>Location1</td>\n",
       "      <td>Device3</td>\n",
       "      <td>Variant B</td>\n",
       "      <td>20.061300</td>\n",
       "      <td>0.109783</td>\n",
       "    </tr>\n",
       "    <tr>\n",
       "      <th>4</th>\n",
       "      <td>4</td>\n",
       "      <td>57</td>\n",
       "      <td>Location1</td>\n",
       "      <td>Device2</td>\n",
       "      <td>Variant B</td>\n",
       "      <td>34.495503</td>\n",
       "      <td>0.068579</td>\n",
       "    </tr>\n",
       "    <tr>\n",
       "      <th>5</th>\n",
       "      <td>5</td>\n",
       "      <td>27</td>\n",
       "      <td>Location3</td>\n",
       "      <td>Device1</td>\n",
       "      <td>Variant B</td>\n",
       "      <td>26.129246</td>\n",
       "      <td>0.149341</td>\n",
       "    </tr>\n",
       "    <tr>\n",
       "      <th>6</th>\n",
       "      <td>6</td>\n",
       "      <td>37</td>\n",
       "      <td>Location3</td>\n",
       "      <td>Device3</td>\n",
       "      <td>Variant B</td>\n",
       "      <td>20.525362</td>\n",
       "      <td>0.095788</td>\n",
       "    </tr>\n",
       "    <tr>\n",
       "      <th>7</th>\n",
       "      <td>7</td>\n",
       "      <td>39</td>\n",
       "      <td>Location2</td>\n",
       "      <td>Device1</td>\n",
       "      <td>Variant A</td>\n",
       "      <td>21.525217</td>\n",
       "      <td>0.149985</td>\n",
       "    </tr>\n",
       "    <tr>\n",
       "      <th>8</th>\n",
       "      <td>8</td>\n",
       "      <td>54</td>\n",
       "      <td>Location3</td>\n",
       "      <td>Device2</td>\n",
       "      <td>Control</td>\n",
       "      <td>21.910608</td>\n",
       "      <td>0.135535</td>\n",
       "    </tr>\n",
       "    <tr>\n",
       "      <th>9</th>\n",
       "      <td>9</td>\n",
       "      <td>41</td>\n",
       "      <td>Location1</td>\n",
       "      <td>Device2</td>\n",
       "      <td>Variant A</td>\n",
       "      <td>27.642788</td>\n",
       "      <td>0.137266</td>\n",
       "    </tr>\n",
       "  </tbody>\n",
       "</table>\n",
       "</div>"
      ],
      "text/plain": [
       "   Unnamed: 0  Age   Location   Device    Variant  Time Spent       CTR\n",
       "0           0   62  Location2  Device2    Control   13.928669  0.084776\n",
       "1           1   18  Location1  Device1  Variant B   11.310518  0.096859\n",
       "2           2   21  Location2  Device1  Variant B   24.842100  0.097630\n",
       "3           3   21  Location1  Device3  Variant B   20.061300  0.109783\n",
       "4           4   57  Location1  Device2  Variant B   34.495503  0.068579\n",
       "5           5   27  Location3  Device1  Variant B   26.129246  0.149341\n",
       "6           6   37  Location3  Device3  Variant B   20.525362  0.095788\n",
       "7           7   39  Location2  Device1  Variant A   21.525217  0.149985\n",
       "8           8   54  Location3  Device2    Control   21.910608  0.135535\n",
       "9           9   41  Location1  Device2  Variant A   27.642788  0.137266"
      ]
     },
     "execution_count": 44,
     "metadata": {},
     "output_type": "execute_result"
    }
   ],
   "source": [
    "# taking an overview of the data\n",
    "df.head(10) "
   ]
  },
  {
   "cell_type": "code",
   "execution_count": 45,
   "metadata": {},
   "outputs": [],
   "source": [
    "# I will remove the unnamed column \n",
    "df.drop('Unnamed: 0', axis=1, inplace = True)"
   ]
  },
  {
   "cell_type": "code",
   "execution_count": 46,
   "metadata": {},
   "outputs": [
    {
     "data": {
      "text/html": [
       "<div>\n",
       "<style scoped>\n",
       "    .dataframe tbody tr th:only-of-type {\n",
       "        vertical-align: middle;\n",
       "    }\n",
       "\n",
       "    .dataframe tbody tr th {\n",
       "        vertical-align: top;\n",
       "    }\n",
       "\n",
       "    .dataframe thead th {\n",
       "        text-align: right;\n",
       "    }\n",
       "</style>\n",
       "<table border=\"1\" class=\"dataframe\">\n",
       "  <thead>\n",
       "    <tr style=\"text-align: right;\">\n",
       "      <th></th>\n",
       "      <th>Age</th>\n",
       "      <th>Location</th>\n",
       "      <th>Device</th>\n",
       "      <th>Variant</th>\n",
       "      <th>Time Spent</th>\n",
       "      <th>CTR</th>\n",
       "    </tr>\n",
       "  </thead>\n",
       "  <tbody>\n",
       "    <tr>\n",
       "      <th>0</th>\n",
       "      <td>62</td>\n",
       "      <td>Location2</td>\n",
       "      <td>Device2</td>\n",
       "      <td>Control</td>\n",
       "      <td>13.928669</td>\n",
       "      <td>0.084776</td>\n",
       "    </tr>\n",
       "    <tr>\n",
       "      <th>1</th>\n",
       "      <td>18</td>\n",
       "      <td>Location1</td>\n",
       "      <td>Device1</td>\n",
       "      <td>Variant B</td>\n",
       "      <td>11.310518</td>\n",
       "      <td>0.096859</td>\n",
       "    </tr>\n",
       "    <tr>\n",
       "      <th>2</th>\n",
       "      <td>21</td>\n",
       "      <td>Location2</td>\n",
       "      <td>Device1</td>\n",
       "      <td>Variant B</td>\n",
       "      <td>24.842100</td>\n",
       "      <td>0.097630</td>\n",
       "    </tr>\n",
       "  </tbody>\n",
       "</table>\n",
       "</div>"
      ],
      "text/plain": [
       "   Age   Location   Device    Variant  Time Spent       CTR\n",
       "0   62  Location2  Device2    Control   13.928669  0.084776\n",
       "1   18  Location1  Device1  Variant B   11.310518  0.096859\n",
       "2   21  Location2  Device1  Variant B   24.842100  0.097630"
      ]
     },
     "execution_count": 46,
     "metadata": {},
     "output_type": "execute_result"
    }
   ],
   "source": [
    "df.head(3) "
   ]
  },
  {
   "attachments": {},
   "cell_type": "markdown",
   "metadata": {},
   "source": [
    "I would like to examine the distribution of each column separately in order to detect any outliers."
   ]
  },
  {
   "cell_type": "code",
   "execution_count": 33,
   "metadata": {},
   "outputs": [
    {
     "data": {
      "image/png": "[encoded data removed]",
      "text/plain": [
       "<Figure size 1200x1200 with 6 Axes>"
      ]
     },
     "metadata": {},
     "output_type": "display_data"
    }
   ],
   "source": [
    "# Extract the columns from the data\n",
    "age = df['Age']\n",
    "location = df['Location']\n",
    "device = df['Device']\n",
    "variant = df['Variant']\n",
    "time_spent = df['Time Spent']\n",
    "ctr = df['CTR']\n",
    "\n",
    "# Create subplots for each column\n",
    "fig, axs = plt.subplots(3, 2, figsize=(12, 12))\n",
    "\n",
    "# Plot histograms for numerical columns (Age, Time Spent, CTR)\n",
    "axs[0, 0].hist(age, bins=10, color='skyblue')\n",
    "axs[0, 0].set_title('Age')\n",
    "\n",
    "axs[0, 1].hist(time_spent, bins=10, color='lightgreen')\n",
    "axs[0, 1].set_title('Time Spent')\n",
    "\n",
    "axs[1, 0].hist(ctr, bins=10, color='salmon')\n",
    "axs[1, 0].set_title('CTR')\n",
    "\n",
    "# Plot bar plots for categorical columns (Location, Device, Variant)\n",
    "axs[1, 1].bar(location.value_counts().index, location.value_counts().values, color='orchid')\n",
    "axs[1, 1].set_title('Location')\n",
    "\n",
    "axs[2, 0].bar(device.value_counts().index, device.value_counts().values, color='gold')\n",
    "axs[2, 0].set_title('Device')\n",
    "\n",
    "axs[2, 1].bar(variant.value_counts().index, variant.value_counts().values, color='lightblue')\n",
    "axs[2, 1].set_title('Variant')\n",
    "\n",
    "# Adjust the layout and spacing\n",
    "plt.tight_layout()\n",
    "\n",
    "# Display the plots\n",
    "plt.show()\n"
   ]
  },
  {
   "attachments": {},
   "cell_type": "markdown",
   "metadata": {},
   "source": [
    "The provided graphs indicate that the data is evenly distributed across the dataset."
   ]
  },
  {
   "attachments": {},
   "cell_type": "markdown",
   "metadata": {},
   "source": [
    "I will now conduct a statistical analysis to ensure that the variables exhibit similar behavior."
   ]
  },
  {
   "cell_type": "code",
   "execution_count": 47,
   "metadata": {},
   "outputs": [
    {
     "data": {
      "text/html": [
       "<div>\n",
       "<style scoped>\n",
       "    .dataframe tbody tr th:only-of-type {\n",
       "        vertical-align: middle;\n",
       "    }\n",
       "\n",
       "    .dataframe tbody tr th {\n",
       "        vertical-align: top;\n",
       "    }\n",
       "\n",
       "    .dataframe thead th {\n",
       "        text-align: right;\n",
       "    }\n",
       "</style>\n",
       "<table border=\"1\" class=\"dataframe\">\n",
       "  <thead>\n",
       "    <tr style=\"text-align: right;\">\n",
       "      <th></th>\n",
       "      <th>CTR</th>\n",
       "      <th>Time Spent</th>\n",
       "    </tr>\n",
       "    <tr>\n",
       "      <th>Location</th>\n",
       "      <th></th>\n",
       "      <th></th>\n",
       "    </tr>\n",
       "  </thead>\n",
       "  <tbody>\n",
       "    <tr>\n",
       "      <th>Location1</th>\n",
       "      <td>0.110217</td>\n",
       "      <td>22.707286</td>\n",
       "    </tr>\n",
       "    <tr>\n",
       "      <th>Location2</th>\n",
       "      <td>0.108517</td>\n",
       "      <td>22.648998</td>\n",
       "    </tr>\n",
       "    <tr>\n",
       "      <th>Location3</th>\n",
       "      <td>0.108708</td>\n",
       "      <td>22.787691</td>\n",
       "    </tr>\n",
       "  </tbody>\n",
       "</table>\n",
       "</div>"
      ],
      "text/plain": [
       "                CTR  Time Spent\n",
       "Location                       \n",
       "Location1  0.110217   22.707286\n",
       "Location2  0.108517   22.648998\n",
       "Location3  0.108708   22.787691"
      ]
     },
     "execution_count": 47,
     "metadata": {},
     "output_type": "execute_result"
    }
   ],
   "source": [
    "# By location\n",
    "df.groupby('Location')[['CTR', 'Time Spent']].mean()"
   ]
  },
  {
   "cell_type": "code",
   "execution_count": 49,
   "metadata": {},
   "outputs": [
    {
     "name": "stdout",
     "output_type": "stream",
     "text": [
      "F_onewayResult(statistic=0.5792245145655729, pvalue=0.5605211716238133)\n"
     ]
    }
   ],
   "source": [
    "# This looks mostly the same. \n",
    "#Let's use an ANOVA test to validate each metric. If they are statistically the same, they should have a HIGH p-value\n",
    "loc_1 = df[df['Location'] == 'Location1']['CTR']\n",
    "loc_2 = df[df['Location'] == 'Location2']['CTR']\n",
    "loc_3 = df[df['Location'] == 'Location3']['CTR']\n",
    "\n",
    "p_val = stats.f_oneway(loc_1, loc_2, loc_3)\n",
    "print(p_val)"
   ]
  },
  {
   "cell_type": "code",
   "execution_count": 50,
   "metadata": {},
   "outputs": [
    {
     "name": "stdout",
     "output_type": "stream",
     "text": [
      "F_onewayResult(statistic=0.053578839670573676, pvalue=0.9478339402848069)\n"
     ]
    }
   ],
   "source": [
    "#same for Time spent \n",
    "loc_1 = df[df['Location'] == 'Location1']['Time Spent']\n",
    "loc_2 = df[df['Location'] == 'Location2']['Time Spent']\n",
    "loc_3 = df[df['Location'] == 'Location3']['Time Spent']\n",
    "\n",
    "p_val = stats.f_oneway(loc_1, loc_2, loc_3)\n",
    "print(p_val)"
   ]
  },
  {
   "attachments": {},
   "cell_type": "markdown",
   "metadata": {},
   "source": [
    "For all 3 locations, it seems that the users behave the same. There is no statistically significant difference between them."
   ]
  },
  {
   "attachments": {},
   "cell_type": "markdown",
   "metadata": {},
   "source": [
    "Let's check the same for device type.\n",
    "\n"
   ]
  },
  {
   "cell_type": "code",
   "execution_count": 53,
   "metadata": {},
   "outputs": [
    {
     "name": "stdout",
     "output_type": "stream",
     "text": [
      "F_onewayResult(statistic=0.7105872492654717, pvalue=0.4916042399968955)\n"
     ]
    }
   ],
   "source": [
    "loc_1 = df[df['Device'] == 'Device1']['CTR']\n",
    "loc_2 = df[df['Device'] == 'Device2']['CTR']\n",
    "loc_3 = df[df['Device'] == 'Device3']['CTR']\n",
    "\n",
    "p_val = stats.f_oneway(loc_1, loc_2, loc_3)\n",
    "print(p_val)"
   ]
  },
  {
   "cell_type": "code",
   "execution_count": 55,
   "metadata": {},
   "outputs": [
    {
     "name": "stdout",
     "output_type": "stream",
     "text": [
      "F_onewayResult(statistic=0.26645371811833884, pvalue=0.7661459958744103)\n"
     ]
    }
   ],
   "source": [
    "loc_1 = df[df['Device'] == 'Device1']['Time Spent']\n",
    "loc_2 = df[df['Device'] == 'Device2']['Time Spent']\n",
    "loc_3 = df[df['Device'] == 'Device3']['Time Spent']\n",
    "\n",
    "p_val = stats.f_oneway(loc_1, loc_2, loc_3)\n",
    "print(p_val)"
   ]
  },
  {
   "attachments": {},
   "cell_type": "markdown",
   "metadata": {},
   "source": [
    "Similar to the Location analysis, it appears that even with different devices, the user behavior remains consistent. There is no statistically significant difference observed between the devices."
   ]
  },
  {
   "cell_type": "code",
   "execution_count": 8,
   "metadata": {},
   "outputs": [
    {
     "name": "stdout",
     "output_type": "stream",
     "text": [
      "                CTR  Time Spent\n",
      "Variant                        \n",
      "Control    0.098554   20.070781\n",
      "Variant A  0.120269   24.805547\n",
      "Variant B  0.108933   23.343783\n"
     ]
    }
   ],
   "source": [
    "grouped_df = df.groupby('Variant')[['CTR', 'Time Spent']].mean()\n",
    "print(grouped_df)"
   ]
  },
  {
   "attachments": {},
   "cell_type": "markdown",
   "metadata": {},
   "source": [
    "--------------------------------------------------------------------------------------------------------------------------------"
   ]
  },
  {
   "attachments": {},
   "cell_type": "markdown",
   "metadata": {},
   "source": [
    "### Question 1 : Analyze the results to determine which feature (if any) results in CTR or Time Spent lift?\n",
    "\n"
   ]
  },
  {
   "cell_type": "code",
   "execution_count": 35,
   "metadata": {},
   "outputs": [
    {
     "name": "stdout",
     "output_type": "stream",
     "text": [
      "Variant A Lift in CTR: 0.021715340138027575\n",
      "Variant B Lift in CTR: 0.010378887088416625\n"
     ]
    }
   ],
   "source": [
    "df_CTR_lift = df.groupby(by = 'Variant')['CTR'].mean() \n",
    "lift_Variant_A = df_CTR_lift['Variant A'] - df_CTR_lift['Control']\n",
    "lift_Variant_B = df_CTR_lift['Variant B'] - df_CTR_lift['Control']\n",
    "print('Variant A Lift in CTR:', lift_Variant_A)\n",
    "print('Variant B Lift in CTR:', lift_Variant_B)"
   ]
  },
  {
   "attachments": {},
   "cell_type": "markdown",
   "metadata": {},
   "source": [
    "Variant A and Variant B exhibit a lift in CTR compared to the Control group. This suggests that implementing either Variant A or Variant B would likely lead to an increase in CTR, with Variant A showing a larger lift than Variant B."
   ]
  },
  {
   "cell_type": "code",
   "execution_count": 36,
   "metadata": {},
   "outputs": [
    {
     "name": "stdout",
     "output_type": "stream",
     "text": [
      "Variant A Lift in Time Spent: 4.734766375399197\n",
      "Variant B Lift in Time Spent: 3.2730019680577236\n"
     ]
    }
   ],
   "source": [
    "df_TimeSpent_lift = df.groupby(by = 'Variant')['Time Spent'].mean() \n",
    "TS_lift_Variant_A = df_TimeSpent_lift['Variant A'] - df_TimeSpent_lift['Control']\n",
    "TS_lift_Variant_B = df_TimeSpent_lift['Variant B'] - df_TimeSpent_lift['Control']\n",
    "print('Variant A Lift in Time Spent:', TS_lift_Variant_A)\n",
    "print('Variant B Lift in Time Spent:', TS_lift_Variant_B)"
   ]
  },
  {
   "attachments": {},
   "cell_type": "markdown",
   "metadata": {},
   "source": [
    "Variant A and Variant B exhibit a lift in Time Spent compared to the Control group. This suggests that implementing either Variant A or Variant B would likely result in an increase in average Time Spent. Variant A shows a larger lift in Time Spent compared to Variant B.\n",
    "\n",
    "--------------------------------------------------------------------------------------------------------------------------------"
   ]
  },
  {
   "attachments": {},
   "cell_type": "markdown",
   "metadata": {},
   "source": [
    "### Q2 : Conduct statistical testing to determine if there is a statistically significant difference between the features and the control group."
   ]
  },
  {
   "attachments": {},
   "cell_type": "markdown",
   "metadata": {},
   "source": [
    "-We have the option to utilize an ANOVA test to compare all three groups (Variant A, Variant B, and Control) and employ t-tests to compare individual variants against the Control group, as well as to compare the two variants with each other."
   ]
  },
  {
   "cell_type": "code",
   "execution_count": 19,
   "metadata": {},
   "outputs": [
    {
     "name": "stdout",
     "output_type": "stream",
     "text": [
      "F_onewayResult(statistic=93.58891593622702, pvalue=5.638952705781554e-38)\n"
     ]
    }
   ],
   "source": [
    "# checking CTR\n",
    "var1 = df[df['Variant']=='Variant A']['CTR']\n",
    "var2 = df[df['Variant']=='Variant B']['CTR']\n",
    "control = df[df['Variant']=='Control']['CTR']\n",
    "\n",
    "p_val = stats.f_oneway(var1, var2, control)\n",
    "print(p_val)"
   ]
  },
  {
   "cell_type": "code",
   "execution_count": 20,
   "metadata": {},
   "outputs": [
    {
     "name": "stdout",
     "output_type": "stream",
     "text": [
      "F_onewayResult(statistic=75.60840947416146, pvalue=2.676826588910432e-31)\n"
     ]
    }
   ],
   "source": [
    "# checking Time Spent\n",
    "var1 = df[df['Variant']=='Variant A']['Time Spent']\n",
    "var2 = df[df['Variant']=='Variant B']['Time Spent']\n",
    "control = df[df['Variant']=='Control']['Time Spent']\n",
    "\n",
    "p_val = stats.f_oneway(var1, var2, control)\n",
    "print(p_val)"
   ]
  },
  {
   "attachments": {},
   "cell_type": "markdown",
   "metadata": {},
   "source": [
    "Based on the ANOVA, we see that both the CTR and time Spent have statistically significant results! This means that the variants and the control group have completely different behaviours in their CTR and Time Spent, based on the Varient used."
   ]
  },
  {
   "attachments": {},
   "cell_type": "markdown",
   "metadata": {},
   "source": [
    "Now we will do individuall t test"
   ]
  },
  {
   "cell_type": "code",
   "execution_count": 25,
   "metadata": {},
   "outputs": [
    {
     "name": "stdout",
     "output_type": "stream",
     "text": [
      "CTR - Variant A vs Control:\n",
      "t-statistic: 13.829424737499187\n",
      "p-value: 1.9602781373243157e-38\n",
      "\n",
      "\n",
      "CTR - Variant B vs Control:\n",
      "t-statistic: 6.4718143491783255\n",
      "p-value: 1.8743198199982106e-10\n",
      "\n",
      "\n",
      "CTR - Variant A vs Variant B:\n",
      "t-statistic: 7.08499696316128\n",
      "p-value: 3.587180487986577e-12\n"
     ]
    }
   ],
   "source": [
    "var1 = df[df['Variant']=='Variant A']['CTR']\n",
    "var2 = df[df['Variant']=='Variant B']['CTR']\n",
    "control = df[df['Variant']=='Control']['CTR']\n",
    "\n",
    "tstat_ctr_a, pvalue_ctr_a  = stats.ttest_ind(var1, control)\n",
    "tstat_ctr_b, pvalue_ctr_b  = stats.ttest_ind(var2, control)\n",
    "tstat_ctr_ab, pvalue_ctr_ab  = stats.ttest_ind(var1, var2)\n",
    "\n",
    "print('CTR - Variant A vs Control:')\n",
    "print('t-statistic:', tstat_ctr_a)\n",
    "print('p-value:', pvalue_ctr_a)\n",
    "\n",
    "print('\\n')\n",
    "\n",
    "print('CTR - Variant B vs Control:')\n",
    "print('t-statistic:', tstat_ctr_b)\n",
    "print('p-value:', pvalue_ctr_b)\n",
    "\n",
    "print('\\n')\n",
    "\n",
    "print('CTR - Variant A vs Variant B:')\n",
    "print('t-statistic:', tstat_ctr_ab)\n",
    "print('p-value:', pvalue_ctr_ab)"
   ]
  },
  {
   "attachments": {},
   "cell_type": "markdown",
   "metadata": {},
   "source": [
    "The statistical analysis indicates that both Variant A and Variant B show a significant increase in CTR compared to the Control group. Moreover, it seems that Variant A has a higher CTR than Variant B. These findings hold importance in evaluating the effectiveness of various variants and can provide valuable insights for decision-making related to the CTR metric."
   ]
  },
  {
   "cell_type": "code",
   "execution_count": 27,
   "metadata": {},
   "outputs": [
    {
     "name": "stdout",
     "output_type": "stream",
     "text": [
      "Time Spent - Variant A vs Control:\n",
      "t-statistic: 12.142363487472364\n",
      "p-value: 8.488565644996449e-31\n",
      "\n",
      "\n",
      "Time Spent - Variant B vs Control:\n",
      "t-statistic: 8.174237395991806\n",
      "p-value: 1.496358076285182e-15\n",
      "\n",
      "\n",
      "Time Spent - Variant A vs Variant B:\n",
      "t-statistic: 3.6788175394209075\n",
      "p-value: 0.0002534771014765265\n"
     ]
    }
   ],
   "source": [
    "var1 = df[df['Variant']=='Variant A']['Time Spent']\n",
    "var2 = df[df['Variant']=='Variant B']['Time Spent']\n",
    "control = df[df['Variant']=='Control']['Time Spent']\n",
    "\n",
    "tstat_TS_a, pvalue_TS_a  = stats.ttest_ind(var1, control)\n",
    "tstat_TS_b, pvalue_TS_b  = stats.ttest_ind(var2, control)\n",
    "tstat_TS_ab, pvalue_TS_ab  = stats.ttest_ind(var1, var2)\n",
    "\n",
    "print('Time Spent - Variant A vs Control:')\n",
    "print('t-statistic:', tstat_TS_a)\n",
    "print('p-value:', pvalue_TS_a)\n",
    "\n",
    "print('\\n')\n",
    "\n",
    "print('Time Spent - Variant B vs Control:')\n",
    "print('t-statistic:', tstat_TS_b)\n",
    "print('p-value:', pvalue_TS_b)\n",
    "\n",
    "print('\\n')\n",
    "\n",
    "print('Time Spent - Variant A vs Variant B:')\n",
    "print('t-statistic:', tstat_TS_ab)\n",
    "print('p-value:', pvalue_TS_ab)"
   ]
  },
  {
   "attachments": {},
   "cell_type": "markdown",
   "metadata": {},
   "source": [
    "Variant A and Variant B exhibit significantly higher time spent compared to the Control group. Additionally, Variant A has a higher time spent than Variant B. These findings can be valuable in assessing the impact of different variants on the time spent metric and informing decision-making in the context of maximizing user engagement.\n",
    "\n",
    "--------------------------------------------------------------------------------------------------------------------------------"
   ]
  },
  {
   "attachments": {},
   "cell_type": "markdown",
   "metadata": {},
   "source": [
    "### Q3. Summarize your results. Make a recommendation to the engineering team about which feature to deploy. \n",
    "\n",
    "-- After examining the results and analysis, here is a summary and recommendation for the engineering team:\n",
    "\n",
    "Click-Through Rate (CTR): Both Variant A and Variant B demonstrate a notable increase in CTR compared to the Control group. Variant A shows a greater CTR boost than Variant B, indicating that implementing either of them would likely result in an increased CTR. However, Variant A has a more significant impact on CTR. Thus, if the main goal is to maximize CTR, it is advisable to implement Variant A.\n",
    "\n",
    "Time Spent: Both Variant A and Variant B show a substantial increase in average Time Spent compared to the Control group. Variant A exhibits a larger increase in Time Spent than Variant B, suggesting that implementing either Variant A or Variant B would likely lead to enhanced user engagement and increased Time Spent. If the objective is to maximize user engagement and Time Spent, Variant A is recommended due to its higher increase.\n",
    "\n",
    "In conclusion, Both result are statistically significant against the null-hypothesis, with p-values far below 0.05. This means that the Variants are very likely to perform better than the control when more samples are taken.Based on the analysis of CTR and Time Spent, it is recommended to implement Variant A. It shows a higher increase in both CTR and Time Spent compared to Variant B and the Control group. Implementing Variant A is likely to yield better outcomes in terms of CTR and user engagement. However, it is very important to consider additional factors such as implementation feasibility, cost, and other relevant considerations before making a final decision.\n",
    "\n",
    "--------------------------------------------------------------------------------------------------------------------------------"
   ]
  },
  {
   "attachments": {},
   "cell_type": "markdown",
   "metadata": {},
   "source": [
    "### Q4. Create a roll-out plan. How quickly will you introduce the feature to your audience?\n",
    "\n",
    "--Developing a roll-out plan for introducing the feature to your audience requires careful consideration of various factors, such as user impact, technical feasibility, and risk management. Here is a suggested approach for the roll-out plan:\n",
    "\n",
    "1. Transition Variant B users to Variant A: To ensure a seamless transition, it is advisable to promptly move users from Variant B to Variant A. This prevents users from developing strong attachments to Variant B and reduces the likelihood of resistance or dissatisfaction. Additionally, with the control group still in place we can continue monitoring the performance of Variant A with a larger user base.\n",
    "\n",
    "2. Gradual Expansion: Expand the release gradually to a wider user base while closely monitoring the feature's performance and stability. This step helps identify any potential issues that may arise with increased usage.\n",
    "\n",
    "3. Communicate the transition to users: Provide clear and transparent communication to users throughout the transition process. Explain the reasons for the change, highlight the benefits of Variant A, and address any concerns or questions they may have. This approach builds trust and helps mitigate potential resistance.\n",
    "\n",
    "In addition to the mentioned steps, it is important to take into account several factors such as careful planning and preparation, conducting pilot testing, and ensuring continuous monitoring and support.\n",
    "\n",
    "*The speed at which you introduce the feature to your audience will depend on factors such as the complexity of the feature, its potential impact, and the available resources for monitoring and support. It is generally recommended to proceed cautiously, ensuring thorough testing and validation at each stage of the roll-out. This enables you to mitigate risks and make informed decisions based on data as you gradually introduce the feature to a wider audience.*\n",
    "\n",
    "From a business perspective, I recommend introducing Variant A promptly, considering that the testing has demonstrated its superior performance in both Time Spent and CTR. However, it is essential to proceed cautiously by conducting thorough testing and validation at each stage of the roll-out. This approach will help mitigate potential risks and ensure the success of the introduction of Variant A.\n",
    "\n",
    "--------------------------------------------------------------------------------------------------------------------------------\n"
   ]
  }
 ],
 "metadata": {
  "kernelspec": {
   "display_name": "Python 3",
   "language": "python",
   "name": "python3"
  },
  "language_info": {
   "codemirror_mode": {
    "name": "ipython",
    "version": 3
   },
   "file_extension": ".py",
   "mimetype": "text/x-python",
   "name": "python",
   "nbconvert_exporter": "python",
   "pygments_lexer": "ipython3",
   "version": "3.11.3"
  },
  "orig_nbformat": 4
 },
 "nbformat": 4,
 "nbformat_minor": 2
}
