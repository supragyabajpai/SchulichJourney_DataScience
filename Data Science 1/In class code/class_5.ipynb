{
 "cells": [
  {
   "cell_type": "code",
   "execution_count": 1,
   "metadata": {},
   "outputs": [],
   "source": [
    "import pandas as pd"
   ]
  },
  {
   "cell_type": "code",
   "execution_count": 4,
   "metadata": {},
   "outputs": [],
   "source": [
    "df = pd.read_csv(\"https://raw.githubusercontent.com/delinai/schulich_ds1/main/Datasets/module_5_feature_engineering_inclass.csv\")"
   ]
  },
  {
   "cell_type": "code",
   "execution_count": 5,
   "metadata": {},
   "outputs": [
    {
     "data": {
      "text/html": [
       "<div>\n",
       "<style scoped>\n",
       "    .dataframe tbody tr th:only-of-type {\n",
       "        vertical-align: middle;\n",
       "    }\n",
       "\n",
       "    .dataframe tbody tr th {\n",
       "        vertical-align: top;\n",
       "    }\n",
       "\n",
       "    .dataframe thead th {\n",
       "        text-align: right;\n",
       "    }\n",
       "</style>\n",
       "<table border=\"1\" class=\"dataframe\">\n",
       "  <thead>\n",
       "    <tr style=\"text-align: right;\">\n",
       "      <th></th>\n",
       "      <th>user_id</th>\n",
       "      <th>age</th>\n",
       "      <th>signup_date</th>\n",
       "      <th>last_purchase_date</th>\n",
       "      <th>total_purchases</th>\n",
       "      <th>total_spent</th>\n",
       "      <th>favorite_product_category</th>\n",
       "      <th>location</th>\n",
       "      <th>gender</th>\n",
       "      <th>email_domain</th>\n",
       "    </tr>\n",
       "  </thead>\n",
       "  <tbody>\n",
       "    <tr>\n",
       "      <th>0</th>\n",
       "      <td>1</td>\n",
       "      <td>33</td>\n",
       "      <td>1978-11-01 17:03</td>\n",
       "      <td>2020-05-11 4:13</td>\n",
       "      <td>10</td>\n",
       "      <td>840.954993</td>\n",
       "      <td>books</td>\n",
       "      <td>Lake Gerald</td>\n",
       "      <td>female</td>\n",
       "      <td>gmail.com</td>\n",
       "    </tr>\n",
       "    <tr>\n",
       "      <th>1</th>\n",
       "      <td>2</td>\n",
       "      <td>32</td>\n",
       "      <td>2016-04-08 14:19</td>\n",
       "      <td>1959-01-07 5:45</td>\n",
       "      <td>2</td>\n",
       "      <td>1147.412095</td>\n",
       "      <td>books</td>\n",
       "      <td>North Justinburgh</td>\n",
       "      <td>male</td>\n",
       "      <td>yahoo.com</td>\n",
       "    </tr>\n",
       "    <tr>\n",
       "      <th>2</th>\n",
       "      <td>3</td>\n",
       "      <td>19</td>\n",
       "      <td>2021-03-08 7:01</td>\n",
       "      <td>2006-10-29 16:56</td>\n",
       "      <td>6</td>\n",
       "      <td>1301.284835</td>\n",
       "      <td>books</td>\n",
       "      <td>West Alec</td>\n",
       "      <td>female</td>\n",
       "      <td>yahoo.com</td>\n",
       "    </tr>\n",
       "    <tr>\n",
       "      <th>3</th>\n",
       "      <td>4</td>\n",
       "      <td>48</td>\n",
       "      <td>2006-01-11 11:04</td>\n",
       "      <td>1966-07-01 20:22</td>\n",
       "      <td>8</td>\n",
       "      <td>1404.261405</td>\n",
       "      <td>books</td>\n",
       "      <td>Annaton</td>\n",
       "      <td>male</td>\n",
       "      <td>hotmail.com</td>\n",
       "    </tr>\n",
       "    <tr>\n",
       "      <th>4</th>\n",
       "      <td>5</td>\n",
       "      <td>75</td>\n",
       "      <td>1985-06-16 1:41</td>\n",
       "      <td>2013-05-14 12:44</td>\n",
       "      <td>3</td>\n",
       "      <td>1968.752964</td>\n",
       "      <td>books</td>\n",
       "      <td>East Markburgh</td>\n",
       "      <td>female</td>\n",
       "      <td>yahoo.com</td>\n",
       "    </tr>\n",
       "  </tbody>\n",
       "</table>\n",
       "</div>"
      ],
      "text/plain": [
       "   user_id  age       signup_date last_purchase_date  total_purchases   \n",
       "0        1   33  1978-11-01 17:03    2020-05-11 4:13               10  \\\n",
       "1        2   32  2016-04-08 14:19    1959-01-07 5:45                2   \n",
       "2        3   19   2021-03-08 7:01   2006-10-29 16:56                6   \n",
       "3        4   48  2006-01-11 11:04   1966-07-01 20:22                8   \n",
       "4        5   75   1985-06-16 1:41   2013-05-14 12:44                3   \n",
       "\n",
       "   total_spent favorite_product_category           location  gender   \n",
       "0   840.954993                     books        Lake Gerald  female  \\\n",
       "1  1147.412095                     books  North Justinburgh    male   \n",
       "2  1301.284835                     books          West Alec  female   \n",
       "3  1404.261405                     books            Annaton    male   \n",
       "4  1968.752964                     books     East Markburgh  female   \n",
       "\n",
       "  email_domain  \n",
       "0    gmail.com  \n",
       "1    yahoo.com  \n",
       "2    yahoo.com  \n",
       "3  hotmail.com  \n",
       "4    yahoo.com  "
      ]
     },
     "execution_count": 5,
     "metadata": {},
     "output_type": "execute_result"
    }
   ],
   "source": [
    "df.head()"
   ]
  },
  {
   "cell_type": "code",
   "execution_count": 6,
   "metadata": {},
   "outputs": [
    {
     "name": "stdout",
     "output_type": "stream",
     "text": [
      "<class 'pandas.core.frame.DataFrame'>\n",
      "RangeIndex: 1000 entries, 0 to 999\n",
      "Data columns (total 10 columns):\n",
      " #   Column                     Non-Null Count  Dtype  \n",
      "---  ------                     --------------  -----  \n",
      " 0   user_id                    1000 non-null   int64  \n",
      " 1   age                        1000 non-null   int64  \n",
      " 2   signup_date                1000 non-null   object \n",
      " 3   last_purchase_date         1000 non-null   object \n",
      " 4   total_purchases            1000 non-null   int64  \n",
      " 5   total_spent                1000 non-null   float64\n",
      " 6   favorite_product_category  1000 non-null   object \n",
      " 7   location                   1000 non-null   object \n",
      " 8   gender                     1000 non-null   object \n",
      " 9   email_domain               1000 non-null   object \n",
      "dtypes: float64(1), int64(3), object(6)\n",
      "memory usage: 78.3+ KB\n"
     ]
    }
   ],
   "source": [
    "df.info()"
   ]
  },
  {
   "cell_type": "code",
   "execution_count": null,
   "metadata": {},
   "outputs": [],
   "source": []
  }
 ],
 "metadata": {
  "kernelspec": {
   "display_name": "Python 3",
   "language": "python",
   "name": "python3"
  },
  "language_info": {
   "codemirror_mode": {
    "name": "ipython",
    "version": 3
   },
   "file_extension": ".py",
   "mimetype": "text/x-python",
   "name": "python",
   "nbconvert_exporter": "python",
   "pygments_lexer": "ipython3",
   "version": "3.11.3"
  },
  "orig_nbformat": 4
 },
 "nbformat": 4,
 "nbformat_minor": 2
}
